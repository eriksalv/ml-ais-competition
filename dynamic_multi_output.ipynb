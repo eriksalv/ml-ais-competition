{
 "cells": [
  {
   "cell_type": "code",
   "execution_count": 1,
   "metadata": {},
   "outputs": [],
   "source": [
    "import pandas as pd\n",
    "import matplotlib.pyplot as plt\n",
    "import numpy as np\n",
    "import geopandas as gpd\n",
    "from geopy.distance import geodesic as geopy_geodesic"
   ]
  },
  {
   "cell_type": "code",
   "execution_count": 2,
   "metadata": {},
   "outputs": [],
   "source": [
    "def mean_geodetic_distance(y_true_lat, y_true_long, y_pred_lat, y_pred_long):\n",
    "    distances = [\n",
    "        geopy_geodesic((true_lat, true_long), (pred_lat, pred_long)).km\n",
    "        for true_lat, true_long, pred_lat, pred_long in zip(\n",
    "            y_true_lat, y_true_long, y_pred_lat, y_pred_long\n",
    "        )\n",
    "    ]\n",
    "    return np.mean(distances)"
   ]
  },
  {
   "cell_type": "markdown",
   "metadata": {},
   "source": [
    "## Load data"
   ]
  },
  {
   "cell_type": "code",
   "execution_count": 3,
   "metadata": {},
   "outputs": [
    {
     "data": {
      "text/html": [
       "<div>\n",
       "<style scoped>\n",
       "    .dataframe tbody tr th:only-of-type {\n",
       "        vertical-align: middle;\n",
       "    }\n",
       "\n",
       "    .dataframe tbody tr th {\n",
       "        vertical-align: top;\n",
       "    }\n",
       "\n",
       "    .dataframe thead th {\n",
       "        text-align: right;\n",
       "    }\n",
       "</style>\n",
       "<table border=\"1\" class=\"dataframe\">\n",
       "  <thead>\n",
       "    <tr style=\"text-align: right;\">\n",
       "      <th></th>\n",
       "      <th>time</th>\n",
       "      <th>cog</th>\n",
       "      <th>sog</th>\n",
       "      <th>rot</th>\n",
       "      <th>heading</th>\n",
       "      <th>navstat</th>\n",
       "      <th>etaRaw</th>\n",
       "      <th>latitude</th>\n",
       "      <th>longitude</th>\n",
       "      <th>vesselId</th>\n",
       "      <th>portId</th>\n",
       "    </tr>\n",
       "  </thead>\n",
       "  <tbody>\n",
       "    <tr>\n",
       "      <th>1522060</th>\n",
       "      <td>2024-05-07 23:59:07</td>\n",
       "      <td>359.1</td>\n",
       "      <td>13.4</td>\n",
       "      <td>0</td>\n",
       "      <td>1</td>\n",
       "      <td>0</td>\n",
       "      <td>05-08 05:00</td>\n",
       "      <td>52.19131</td>\n",
       "      <td>-5.82223</td>\n",
       "      <td>clh6aqawa0002gh0zypfa5dut</td>\n",
       "      <td>634c4de270937fc01c3a7417</td>\n",
       "    </tr>\n",
       "    <tr>\n",
       "      <th>1522061</th>\n",
       "      <td>2024-05-07 23:59:08</td>\n",
       "      <td>12.3</td>\n",
       "      <td>17.1</td>\n",
       "      <td>0</td>\n",
       "      <td>13</td>\n",
       "      <td>0</td>\n",
       "      <td>05-10 03:00</td>\n",
       "      <td>38.96142</td>\n",
       "      <td>-12.00502</td>\n",
       "      <td>61e9f3aeb937134a3c4bfe43</td>\n",
       "      <td>634c4de270937fc01c3a76a1</td>\n",
       "    </tr>\n",
       "    <tr>\n",
       "      <th>1522062</th>\n",
       "      <td>2024-05-07 23:59:08</td>\n",
       "      <td>269.8</td>\n",
       "      <td>14.9</td>\n",
       "      <td>-1</td>\n",
       "      <td>270</td>\n",
       "      <td>0</td>\n",
       "      <td>05-15 23:00</td>\n",
       "      <td>49.71372</td>\n",
       "      <td>-5.22042</td>\n",
       "      <td>61e9f43db937134a3c4c0169</td>\n",
       "      <td>634c4de270937fc01c3a787b</td>\n",
       "    </tr>\n",
       "    <tr>\n",
       "      <th>1522063</th>\n",
       "      <td>2024-05-07 23:59:08</td>\n",
       "      <td>8.0</td>\n",
       "      <td>18.7</td>\n",
       "      <td>0</td>\n",
       "      <td>6</td>\n",
       "      <td>0</td>\n",
       "      <td>05-08 12:45</td>\n",
       "      <td>38.27895</td>\n",
       "      <td>10.78280</td>\n",
       "      <td>61e9f469b937134a3c4c029b</td>\n",
       "      <td>61d3781293c6feb83e5eb73b</td>\n",
       "    </tr>\n",
       "    <tr>\n",
       "      <th>1522064</th>\n",
       "      <td>2024-05-07 23:59:08</td>\n",
       "      <td>336.0</td>\n",
       "      <td>14.3</td>\n",
       "      <td>5</td>\n",
       "      <td>337</td>\n",
       "      <td>0</td>\n",
       "      <td>05-07 23:00</td>\n",
       "      <td>38.98635</td>\n",
       "      <td>-75.13275</td>\n",
       "      <td>62080cff66fc0a8e43c6123a</td>\n",
       "      <td>61d38528b7b7526e1adf3e6f</td>\n",
       "    </tr>\n",
       "  </tbody>\n",
       "</table>\n",
       "</div>"
      ],
      "text/plain": [
       "                       time    cog   sog  rot  heading  navstat       etaRaw  \\\n",
       "1522060 2024-05-07 23:59:07  359.1  13.4    0        1        0  05-08 05:00   \n",
       "1522061 2024-05-07 23:59:08   12.3  17.1    0       13        0  05-10 03:00   \n",
       "1522062 2024-05-07 23:59:08  269.8  14.9   -1      270        0  05-15 23:00   \n",
       "1522063 2024-05-07 23:59:08    8.0  18.7    0        6        0  05-08 12:45   \n",
       "1522064 2024-05-07 23:59:08  336.0  14.3    5      337        0  05-07 23:00   \n",
       "\n",
       "         latitude  longitude                   vesselId  \\\n",
       "1522060  52.19131   -5.82223  clh6aqawa0002gh0zypfa5dut   \n",
       "1522061  38.96142  -12.00502   61e9f3aeb937134a3c4bfe43   \n",
       "1522062  49.71372   -5.22042   61e9f43db937134a3c4c0169   \n",
       "1522063  38.27895   10.78280   61e9f469b937134a3c4c029b   \n",
       "1522064  38.98635  -75.13275   62080cff66fc0a8e43c6123a   \n",
       "\n",
       "                           portId  \n",
       "1522060  634c4de270937fc01c3a7417  \n",
       "1522061  634c4de270937fc01c3a76a1  \n",
       "1522062  634c4de270937fc01c3a787b  \n",
       "1522063  61d3781293c6feb83e5eb73b  \n",
       "1522064  61d38528b7b7526e1adf3e6f  "
      ]
     },
     "execution_count": 3,
     "metadata": {},
     "output_type": "execute_result"
    }
   ],
   "source": [
    "train_df = pd.read_csv(\"../data/ais_train.csv\", sep=\"|\")\n",
    "train_df[\"time\"] = pd.to_datetime(train_df[\"time\"])\n",
    "test_df = pd.read_csv(\"../data/ais_test.csv\")\n",
    "test_df[\"time\"] = pd.to_datetime(test_df[\"time\"])\n",
    "\n",
    "# ports_df = pd.read_csv(\"../data/ports.csv\", sep=\"|\")\n",
    "# schedules_df = pd.read_csv(\"../data/schedules_to_may_2024.csv\", sep=\"|\")\n",
    "vessels_df = pd.read_csv(\"../data/vessels.csv\", sep=\"|\")\n",
    "# train_df[\"etaRaw\"] = pd.to_datetime(train_df[\"etaRaw\"], format=\"%Y/%m/%d %H:%M\")\n",
    "train_df.tail()"
   ]
  },
  {
   "cell_type": "code",
   "execution_count": 4,
   "metadata": {},
   "outputs": [],
   "source": [
    "ais_cols = [\"cog\", \"sog\", \"rot\", \"heading\", \"latitude\", \"longitude\"]\n",
    "test_start = \"2024-05-08 00:00:00\""
   ]
  },
  {
   "cell_type": "markdown",
   "metadata": {},
   "source": [
    "## Preprocessing and feature engineering"
   ]
  },
  {
   "cell_type": "markdown",
   "metadata": {},
   "source": [
    "#### Drop vessels with very few rows"
   ]
  },
  {
   "cell_type": "code",
   "execution_count": 5,
   "metadata": {},
   "outputs": [],
   "source": [
    "train_df = train_df[\n",
    "    ~train_df[\"vesselId\"].isin([\"61e9f3adb937134a3c4bfe37\", \"61e9f3cbb937134a3c4bff09\"])\n",
    "]"
   ]
  },
  {
   "cell_type": "markdown",
   "metadata": {},
   "source": [
    "#### Remove duplicated vessel"
   ]
  },
  {
   "cell_type": "code",
   "execution_count": 6,
   "metadata": {},
   "outputs": [],
   "source": [
    "duplicated_vessel = \"clh6aqawa0001gh0zmijpuho1\"\n",
    "duplicated_from = \"63d27587e3fba838ce820405\"\n",
    "train_df = train_df[train_df[\"vesselId\"] != duplicated_vessel]\n",
    "# test_df.loc[test_df[\"vesselId\"] == duplicated_vessel, \"vesselId\"] = duplicated_from"
   ]
  },
  {
   "cell_type": "markdown",
   "metadata": {},
   "source": [
    "#### Set default/missing values to nan"
   ]
  },
  {
   "cell_type": "code",
   "execution_count": 7,
   "metadata": {},
   "outputs": [],
   "source": [
    "train_df.loc[train_df[\"cog\"] >= 360, \"cog\"] = np.nan\n",
    "train_df.loc[train_df[\"sog\"] >= 102.3, \"sog\"] = np.nan\n",
    "train_df.loc[abs(train_df[\"rot\"]) >= 128, \"rot\"] = np.nan\n",
    "train_df.loc[train_df[\"heading\"] > 360, \"heading\"] = np.nan\n",
    "train_df.loc[train_df[\"navstat\"] >= 9, \"navstat\"] = np.nan"
   ]
  },
  {
   "cell_type": "markdown",
   "metadata": {},
   "source": [
    "#### Aggregate vessel stats and cluster"
   ]
  },
  {
   "cell_type": "code",
   "execution_count": 8,
   "metadata": {},
   "outputs": [],
   "source": [
    "# Calculate statistics for each vessel\n",
    "vessel_stats = (\n",
    "    train_df.groupby(\"vesselId\")\n",
    "    .agg(\n",
    "        mean_latitude=(\"latitude\", \"mean\"),\n",
    "        mean_longitude=(\"longitude\", \"mean\"),\n",
    "        mean_speed=(\"sog\", \"mean\"),\n",
    "        median_speed=(\"sog\", \"median\"),\n",
    "        std_speed=(\"sog\", \"std\"),\n",
    "        count_entries=(\"vesselId\", \"size\"),\n",
    "        pct_navstat_0=(\"navstat\", lambda x: ((x == 0) | (x == 8)).mean() * 100),\n",
    "        pct_navstat_1=(\"navstat\", lambda x: (x == 1).mean() * 100),\n",
    "        pct_navstat_5=(\"navstat\", lambda x: (x == 5).mean() * 100),\n",
    "    )\n",
    "    .reset_index()\n",
    ")\n",
    "vessel_stats_cols = [col for col in vessel_stats.columns.to_list() if col != \"vesselId\"]\n",
    "vessels_df = vessels_df.merge(vessel_stats, on=\"vesselId\", how=\"left\")"
   ]
  },
  {
   "cell_type": "code",
   "execution_count": 9,
   "metadata": {},
   "outputs": [],
   "source": [
    "train_df[\"scaling_factor\"] = np.nan\n",
    "train_df[\"ID\"] = -1\n",
    "full_df = pd.concat([train_df, test_df]).sort_values([\"vesselId\", \"time\"]).reset_index()"
   ]
  },
  {
   "cell_type": "markdown",
   "metadata": {},
   "source": [
    "#### Time diff"
   ]
  },
  {
   "cell_type": "code",
   "execution_count": 10,
   "metadata": {},
   "outputs": [],
   "source": [
    "full_df[\"time_diff\"] = full_df.groupby(\"vesselId\")[\"time\"].diff().astype(int) // 10**9\n",
    "\n",
    "# Assume time diff before first msg was 20 min\n",
    "full_df.loc[full_df[\"time_diff\"] < 0, \"time_diff\"] = 60 * 20\n",
    "\n",
    "# full_df = full_df[full_df[\"time_diff\"] >= 60].reset_index(drop=True)"
   ]
  },
  {
   "cell_type": "code",
   "execution_count": 11,
   "metadata": {},
   "outputs": [],
   "source": [
    "train_mask = full_df[\"ID\"] == -1\n",
    "full_df[\"etaRaw\"] = pd.to_datetime(\"2024-\" + full_df[\"etaRaw\"], errors=\"coerce\")"
   ]
  },
  {
   "cell_type": "markdown",
   "metadata": {},
   "source": [
    "#### Add prev position, distance, fwd_azimuth, computed sog"
   ]
  },
  {
   "cell_type": "code",
   "execution_count": 12,
   "metadata": {},
   "outputs": [],
   "source": [
    "from pyproj import Geod"
   ]
  },
  {
   "cell_type": "code",
   "execution_count": 13,
   "metadata": {},
   "outputs": [],
   "source": [
    "full_df[[\"prev_lat\", \"prev_lng\"]] = full_df.groupby(\"vesselId\")[\n",
    "    [\"latitude\", \"longitude\"]\n",
    "].shift()"
   ]
  },
  {
   "cell_type": "code",
   "execution_count": 14,
   "metadata": {},
   "outputs": [],
   "source": [
    "geodesic = Geod(ellps=\"WGS84\")\n",
    "fwd_azimuth, back_azimuth, distance = geodesic.inv(\n",
    "    full_df[\"prev_lng\"],\n",
    "    full_df[\"prev_lat\"],\n",
    "    full_df[\"longitude\"],\n",
    "    full_df[\"latitude\"],\n",
    ")\n",
    "\n",
    "full_df[\"distance\"] = distance / (1000 * 1.852)\n",
    "full_df[\"fwd_azimuth\"] = fwd_azimuth\n",
    "full_df[\"dx\"] = (full_df.groupby(\"vesselId\")[\"longitude\"].diff() + 180) % 360 - 180\n",
    "full_df[\"dy\"] = full_df.groupby(\"vesselId\")[\"latitude\"].diff()"
   ]
  },
  {
   "cell_type": "code",
   "execution_count": 15,
   "metadata": {},
   "outputs": [],
   "source": [
    "full_df[\"computed_sog\"] = full_df[\"distance\"] / (full_df[\"time_diff\"] / 3600)"
   ]
  },
  {
   "cell_type": "markdown",
   "metadata": {},
   "source": [
    "#### Merge vessels df"
   ]
  },
  {
   "cell_type": "code",
   "execution_count": 16,
   "metadata": {},
   "outputs": [],
   "source": [
    "vessel_cols = [\n",
    "    \"shippingLineId\",\n",
    "    \"vesselId\",\n",
    "    \"CEU\",\n",
    "    \"DWT\",\n",
    "    \"GT\",\n",
    "    \"breadth\",\n",
    "    \"length\",\n",
    "    \"yearBuilt\",\n",
    "]\n",
    "\n",
    "full_df = full_df.merge(\n",
    "    vessels_df[vessel_cols + vessel_stats_cols],\n",
    "    on=\"vesselId\",\n",
    "    how=\"left\",\n",
    ")"
   ]
  },
  {
   "cell_type": "markdown",
   "metadata": {},
   "source": [
    "#### Merge ports df (calculate distance to closest port)"
   ]
  },
  {
   "cell_type": "code",
   "execution_count": 17,
   "metadata": {},
   "outputs": [],
   "source": [
    "def df_to_gdf(\n",
    "    df: pd.DataFrame, longitude_col=\"longitude\", latitude_col=\"latitude\"\n",
    ") -> gpd.GeoDataFrame:\n",
    "    return gpd.GeoDataFrame(\n",
    "        df,\n",
    "        geometry=gpd.points_from_xy(df[longitude_col], df[latitude_col]),\n",
    "        crs=\"EPSG:4326\",\n",
    "    )"
   ]
  },
  {
   "cell_type": "code",
   "execution_count": 18,
   "metadata": {},
   "outputs": [],
   "source": [
    "closest_ports = pd.read_csv(\"../data/ports.csv\", sep=\"|\").rename(\n",
    "    {\n",
    "        \"portId\": \"closest_port\",\n",
    "        \"latitude\": \"latitude_port\",\n",
    "        \"longitude\": \"longitude_port\",\n",
    "    },\n",
    "    axis=1,\n",
    ")"
   ]
  },
  {
   "cell_type": "code",
   "execution_count": 19,
   "metadata": {},
   "outputs": [],
   "source": [
    "orig_cols = full_df.columns.to_list()\n",
    "distance_col = \"dist_to_port\"\n",
    "\n",
    "ports_gdf = df_to_gdf(\n",
    "    closest_ports, longitude_col=\"longitude_port\", latitude_col=\"latitude_port\"\n",
    ").to_crs(epsg=\"3857\")\n",
    "\n",
    "full_gdf = df_to_gdf(\n",
    "    full_df, longitude_col=\"longitude\", latitude_col=\"latitude\"\n",
    ").to_crs(epsg=\"3857\")\n",
    "\n",
    "full_gdf = full_gdf.sjoin_nearest(ports_gdf, how=\"left\", distance_col=distance_col)\n",
    "full_df[[distance_col, \"closest_port\", \"latitude_port\", \"longitude_port\"]] = full_gdf[\n",
    "    [distance_col, \"closest_port\", \"latitude_port\", \"longitude_port\"]\n",
    "]\n",
    "\n",
    "closest_port_cols = [distance_col, \"latitude_port\", \"longitude_port\"]"
   ]
  },
  {
   "cell_type": "markdown",
   "metadata": {},
   "source": [
    "#### Distance to land"
   ]
  },
  {
   "cell_type": "code",
   "execution_count": 20,
   "metadata": {},
   "outputs": [],
   "source": [
    "land_world = gpd.read_file(\"../data/land_and_ocean/ne_110m_land.zip\")\n",
    "land_world = land_world.to_crs(epsg=3857)"
   ]
  },
  {
   "cell_type": "code",
   "execution_count": 21,
   "metadata": {},
   "outputs": [],
   "source": [
    "orig_cols = full_df.columns.to_list()\n",
    "df_gdf = df_to_gdf(full_df).to_crs(epsg=\"3857\")\n",
    "\n",
    "df_with_land = df_gdf.sjoin_nearest(\n",
    "    land_world, how=\"left\", distance_col=\"distance_to_land\"\n",
    ")\n",
    "\n",
    "full_df = pd.DataFrame(df_with_land)[orig_cols + [\"distance_to_land\"]]"
   ]
  },
  {
   "cell_type": "markdown",
   "metadata": {},
   "source": [
    "#### Add temporal features"
   ]
  },
  {
   "cell_type": "code",
   "execution_count": 22,
   "metadata": {},
   "outputs": [],
   "source": [
    "def add_temporal_cols_discrete(df: pd.DataFrame, time_col: str) -> pd.DataFrame:\n",
    "    df[f\"{time_col}_minute\"] = df[time_col].dt.minute\n",
    "    df[f\"{time_col}_hour\"] = df[time_col].dt.hour\n",
    "    df[f\"{time_col}_day_of_week\"] = df[time_col].dt.dayofweek\n",
    "    df[f\"{time_col}_day_of_month\"] = df[time_col].dt.day\n",
    "    df[f\"{time_col}_month\"] = df[time_col].dt.month\n",
    "    df[f\"{time_col}_day_of_year\"] = df[time_col].dt.dayofyear\n",
    "    cols = [\n",
    "        f\"{time_col}_minute\",\n",
    "        f\"{time_col}_hour\",\n",
    "        f\"{time_col}_day_of_week\",\n",
    "        f\"{time_col}_day_of_month\",\n",
    "        f\"{time_col}_month\",\n",
    "        f\"{time_col}_day_of_year\",\n",
    "    ]\n",
    "    return df, cols"
   ]
  },
  {
   "cell_type": "code",
   "execution_count": 23,
   "metadata": {},
   "outputs": [],
   "source": [
    "def add_temporal_cols_continuous(df: pd.DataFrame) -> pd.DataFrame:\n",
    "    day_s = 24 * 60 * 60\n",
    "    year_s = (366) * day_s\n",
    "    month_s = year_s // 12\n",
    "    timestamp_s = (df[\"time\"] - pd.Timestamp(\"2024-01-01\")) // pd.Timedelta(\"1s\")\n",
    "\n",
    "    df[\"time_day_sin\"] = np.sin(timestamp_s * (2 * np.pi / day_s))\n",
    "    df[\"time_day_cos\"] = np.cos(timestamp_s * (2 * np.pi / day_s))\n",
    "    df[\"time_year_sin\"] = np.sin(timestamp_s * (2 * np.pi / year_s))\n",
    "    df[\"time_year_cos\"] = np.cos(timestamp_s * (2 * np.pi / year_s))\n",
    "    df[\"time_month_sin\"] = np.sin(timestamp_s * (2 * np.pi / month_s))\n",
    "    df[\"time_month_cos\"] = np.cos(timestamp_s * (2 * np.pi / month_s))\n",
    "    cols = [\n",
    "        f\"time_day_sin\",\n",
    "        f\"time_day_cos\",\n",
    "        f\"time_year_sin\",\n",
    "        f\"time_year_cos\",\n",
    "        f\"time_month_sin\",\n",
    "        f\"time_month_cos\",\n",
    "    ]\n",
    "    return df, cols"
   ]
  },
  {
   "cell_type": "code",
   "execution_count": 24,
   "metadata": {},
   "outputs": [],
   "source": [
    "full_df, time_cols = add_temporal_cols_discrete(full_df, \"time\")\n",
    "full_df, eta_cols = add_temporal_cols_discrete(full_df, \"etaRaw\")"
   ]
  },
  {
   "cell_type": "markdown",
   "metadata": {},
   "source": [
    "#### Circular features"
   ]
  },
  {
   "cell_type": "code",
   "execution_count": 25,
   "metadata": {},
   "outputs": [],
   "source": [
    "def add_circular_features(df, lat_col, long_col, azimuth_col):\n",
    "    # Convert degrees to radians\n",
    "    df[\"lat_rad\"] = np.deg2rad(df[lat_col])\n",
    "    df[\"lon_rad\"] = np.deg2rad(df[long_col])\n",
    "    df[\"azimuth_rad\"] = np.deg2rad(df[azimuth_col])\n",
    "\n",
    "    # Sine and Cosine transformations\n",
    "    df[\"sin_lat\"] = np.sin(df[\"lat_rad\"])\n",
    "    df[\"cos_lat\"] = np.cos(df[\"lat_rad\"])\n",
    "    df[\"sin_lon\"] = np.sin(df[\"lon_rad\"])\n",
    "    df[\"cos_lon\"] = np.cos(df[\"lon_rad\"])\n",
    "    df[\"sin_azimuth\"] = np.sin(df[\"azimuth_rad\"])\n",
    "    df[\"cos_azimuth\"] = np.cos(df[\"azimuth_rad\"])\n",
    "    cols = [\"sin_lat\", \"cos_lat\", \"sin_lon\", \"cos_lon\", \"cos_azimuth\", \"sin_azimuth\"]\n",
    "\n",
    "    return df, cols\n",
    "\n",
    "\n",
    "full_df, circular_cols = add_circular_features(\n",
    "    full_df, \"latitude\", \"longitude\", \"fwd_azimuth\"\n",
    ")"
   ]
  },
  {
   "cell_type": "markdown",
   "metadata": {},
   "source": [
    "#### Categorical encoding"
   ]
  },
  {
   "cell_type": "code",
   "execution_count": 26,
   "metadata": {},
   "outputs": [],
   "source": [
    "from category_encoders.count import CountEncoder\n",
    "from category_encoders.one_hot import OneHotEncoder"
   ]
  },
  {
   "cell_type": "code",
   "execution_count": 27,
   "metadata": {},
   "outputs": [],
   "source": [
    "# Counts of ports might be useful for estimating the size / popularity of the port\n",
    "count_ports_encoder = CountEncoder(handle_missing=\"value\", handle_unknown=-1)\n",
    "full_df[\"port_count\"] = count_ports_encoder.fit_transform(\n",
    "    full_df.loc[full_df[\"ID\"] == -1, \"closest_port\"].values\n",
    ")\n",
    "full_df.loc[~full_df[\"closest_port\"].isna(), \"closest_port_count\"] = (\n",
    "    count_ports_encoder.transform(\n",
    "        full_df.loc[~full_df[\"closest_port\"].isna(), \"closest_port\"].values\n",
    "    ).values\n",
    ")\n",
    "\n",
    "port_cols = [\"port_count\", \"closest_port_count\"]"
   ]
  },
  {
   "cell_type": "code",
   "execution_count": 28,
   "metadata": {},
   "outputs": [],
   "source": [
    "shipping_line_encoder = CountEncoder()\n",
    "shipping_line_encoder.fit(full_df[\"shippingLineId\"].values)\n",
    "full_df[\"shipping_line_count\"] = shipping_line_encoder.transform(\n",
    "    full_df[\"shippingLineId\"].values\n",
    ")"
   ]
  },
  {
   "cell_type": "code",
   "execution_count": 29,
   "metadata": {},
   "outputs": [],
   "source": [
    "one_hot_cols = [\n",
    "    \"navstat_1or5\",\n",
    "    \"navstat_0or8\",\n",
    "    \"navstat_2.0\",\n",
    "    \"navstat_nan\",\n",
    "]\n",
    "\n",
    "one_hot = OneHotEncoder(cols=[\"navstat\"], handle_missing=\"value\", use_cat_names=True)\n",
    "encoded = one_hot.fit_transform(full_df[[\"navstat\"]])\n",
    "encoded[\"navstat_0or8\"] = np.logical_or(\n",
    "    encoded[\"navstat_0.0\"], encoded[\"navstat_8.0\"]\n",
    ").astype(int)\n",
    "encoded[\"navstat_1or5\"] = np.logical_or(\n",
    "    encoded[\"navstat_1.0\"], encoded[\"navstat_5.0\"]\n",
    ").astype(int)\n",
    "\n",
    "full_df[one_hot_cols] = encoded[one_hot_cols]"
   ]
  },
  {
   "cell_type": "markdown",
   "metadata": {},
   "source": [
    "#### Lag/rolling features"
   ]
  },
  {
   "cell_type": "code",
   "execution_count": 30,
   "metadata": {},
   "outputs": [],
   "source": [
    "lag_cols = [\n",
    "    \"prev_lat\",\n",
    "    \"prev_lng\",\n",
    "    \"distance\",\n",
    "    \"fwd_azimuth\",\n",
    "    \"time_diff\",\n",
    "    \"dist_to_port\",\n",
    "]\n",
    "\n",
    "rolling_cols = [\"distance\"]\n",
    "\n",
    "lags = [1, 2, 3]\n",
    "windows = [4, 12, 24]\n",
    "for col in lag_cols:\n",
    "    # Add lags\n",
    "    for lag in lags:\n",
    "        full_df[f\"{col}_lag{lag}\"] = full_df.groupby(\"vesselId\")[col].shift(lag)\n",
    "\n",
    "for col in rolling_cols:\n",
    "    for window in windows:\n",
    "        full_df[f\"{col}_rolling_sum_{window}\"] = (\n",
    "            full_df.groupby(\"vesselId\")[col]\n",
    "            .rolling(window=window, min_periods=1)\n",
    "            .sum()\n",
    "            .reset_index(0, drop=True)\n",
    "        )\n",
    "\n",
    "lag_cols = [\n",
    "    f\"{col}_{transform}\" for col in lag_cols for transform in [f\"lag{i}\" for i in lags]\n",
    "]\n",
    "\n",
    "rolling_cols = [\n",
    "    f\"{col}_{transform}\"\n",
    "    for col in rolling_cols\n",
    "    for transform in [f\"rolling_sum_{w}\" for w in windows]\n",
    "]"
   ]
  },
  {
   "cell_type": "markdown",
   "metadata": {},
   "source": [
    "#### Stationary time, and non stationary distance"
   ]
  },
  {
   "cell_type": "code",
   "execution_count": 31,
   "metadata": {},
   "outputs": [],
   "source": [
    "def cumulative_stationary_time(group):\n",
    "    cumulative_time = 0\n",
    "    cumulative_times = []\n",
    "\n",
    "    for stationary, time in zip(group[\"is_stationary\"], group[\"time_diff\"]):\n",
    "        if stationary:\n",
    "            cumulative_time += time\n",
    "        else:\n",
    "            cumulative_time = 0  # Reset cumulative time if not stationary\n",
    "        cumulative_times.append(cumulative_time)\n",
    "\n",
    "    return pd.Series(cumulative_times, index=group.index)\n",
    "\n",
    "\n",
    "def cumulative_distance(group):\n",
    "    cumulative_distance = 0\n",
    "    cumulative_distances = []\n",
    "\n",
    "    for stationary, distance in zip(group[\"is_stationary\"], group[\"distance\"]):\n",
    "        if not stationary:\n",
    "            cumulative_distance += distance\n",
    "        else:\n",
    "            cumulative_distance = 0  # Reset cumulative distance if stationary\n",
    "        cumulative_distances.append(cumulative_distance)\n",
    "\n",
    "    return pd.Series(cumulative_distances, index=group.index)"
   ]
  },
  {
   "cell_type": "code",
   "execution_count": 32,
   "metadata": {},
   "outputs": [
    {
     "name": "stderr",
     "output_type": "stream",
     "text": [
      "/tmp/ipykernel_6598/4208599759.py:4: DeprecationWarning: DataFrameGroupBy.apply operated on the grouping columns. This behavior is deprecated, and in a future version of pandas the grouping columns will be excluded from the operation. Either pass `include_groups=False` to exclude the groupings or explicitly select the grouping columns after groupby to silence this warning.\n",
      "  ).apply(cumulative_stationary_time)\n",
      "/tmp/ipykernel_6598/4208599759.py:6: DeprecationWarning: DataFrameGroupBy.apply operated on the grouping columns. This behavior is deprecated, and in a future version of pandas the grouping columns will be excluded from the operation. Either pass `include_groups=False` to exclude the groupings or explicitly select the grouping columns after groupby to silence this warning.\n",
      "  full_df[\"cumulative_distance\"] = full_df.groupby(\"vesselId\", group_keys=False).apply(\n"
     ]
    }
   ],
   "source": [
    "full_df[\"is_stationary\"] = full_df[\"distance_rolling_sum_4\"] < 0.5\n",
    "full_df[\"cumulative_stationary_time\"] = full_df.groupby(\n",
    "    \"vesselId\", group_keys=False\n",
    ").apply(cumulative_stationary_time)\n",
    "\n",
    "full_df[\"cumulative_distance\"] = full_df.groupby(\"vesselId\", group_keys=False).apply(\n",
    "    cumulative_distance\n",
    ")\n",
    "\n",
    "stationary_cols = [\"is_stationary\", \"cumulative_stationary_time\", \"cumulative_distance\"]"
   ]
  },
  {
   "cell_type": "markdown",
   "metadata": {},
   "source": [
    "#### Finalize dataset"
   ]
  },
  {
   "cell_type": "code",
   "execution_count": 33,
   "metadata": {},
   "outputs": [],
   "source": [
    "features = (\n",
    "    ais_cols\n",
    "    + [\n",
    "        \"time_diff\",\n",
    "        \"prev_lat\",\n",
    "        \"prev_lng\",\n",
    "        \"dx\",\n",
    "        \"dy\",\n",
    "        \"distance\",\n",
    "        \"fwd_azimuth\",\n",
    "        \"computed_sog\",\n",
    "        \"distance_to_land\",\n",
    "        \"shipping_line_count\",\n",
    "        \"cumulative_time_diff\",\n",
    "    ]\n",
    "    + vessel_cols\n",
    "    + vessel_stats_cols\n",
    "    + closest_port_cols\n",
    "    + port_cols\n",
    "    + time_cols\n",
    "    + eta_cols\n",
    "    + circular_cols\n",
    "    + one_hot_cols\n",
    "    + lag_cols\n",
    "    + rolling_cols\n",
    "    + stationary_cols\n",
    ")"
   ]
  },
  {
   "cell_type": "code",
   "execution_count": 34,
   "metadata": {},
   "outputs": [],
   "source": [
    "train_mask = full_df[\"ID\"] == -1\n",
    "# val_df = full_df[(full_df[\"time\"] > val_cutoff) & (full_df[\"time\"] < test_start)]\n",
    "train_df = full_df[full_df[\"time\"] < test_start]\n",
    "test_df = full_df[full_df[\"time\"] >= test_start]\n",
    "# test_df = (\n",
    "#     pd.concat([train_df.groupby(\"vesselId\").tail(24), test_df])\n",
    "#     .sort_values([\"vesselId\", \"time\"])\n",
    "#     .reset_index()\n",
    "# )"
   ]
  },
  {
   "cell_type": "markdown",
   "metadata": {},
   "source": [
    "#### Create five day prediction blocks"
   ]
  },
  {
   "cell_type": "code",
   "execution_count": 35,
   "metadata": {},
   "outputs": [],
   "source": [
    "from tqdm import tqdm"
   ]
  },
  {
   "cell_type": "code",
   "execution_count": 36,
   "metadata": {},
   "outputs": [
    {
     "ename": "",
     "evalue": "",
     "output_type": "error",
     "traceback": [
      "\u001b[1;31mThe Kernel crashed while executing code in the current cell or a previous cell. \n",
      "\u001b[1;31mPlease review the code in the cell(s) to identify a possible cause of the failure. \n",
      "\u001b[1;31mClick <a href='https://aka.ms/vscodeJupyterKernelCrash'>here</a> for more info. \n",
      "\u001b[1;31mView Jupyter <a href='command:jupyter.viewOutput'>log</a> for further details."
     ]
    }
   ],
   "source": [
    "def create_target_blocks(df: pd.DataFrame, stride: int, horizon=5):\n",
    "    min_time = df[\"time\"].min()\n",
    "    max_time = df[\"time\"].max().ceil(\"D\")\n",
    "    start_times = []\n",
    "    results = []\n",
    "\n",
    "    while max_time > min_time:\n",
    "        start_times.append(max_time)\n",
    "        max_time -= pd.Timedelta(f\"{stride}D\")\n",
    "\n",
    "    start_times = start_times[::-1]  # reverse\n",
    "\n",
    "    for i in range(len(start_times) - 1):\n",
    "        start_time = start_times[i]\n",
    "        end_time = start_time + pd.Timedelta(f\"{horizon}D\")\n",
    "\n",
    "        if end_time > df[\"time\"].max() + pd.Timedelta(\"1D\"):\n",
    "            break\n",
    "\n",
    "        block = df[(df[\"time\"] >= start_time) & (df[\"time\"] < end_time)]\n",
    "        prev_vessel_positions = df[df[\"time\"] < start_time].groupby(\"vesselId\").tail(1)\n",
    "\n",
    "        with tqdm(\n",
    "            total=len(block[\"vesselId\"].unique()),\n",
    "            desc=f\"Block {start_time.strftime('%Y-%m-%d')} to {end_time.strftime('%Y-%m-%d')}\",\n",
    "        ) as progress_bar:\n",
    "            for vesselId in block[\"vesselId\"].unique():\n",
    "                prev_row = prev_vessel_positions[\n",
    "                    prev_vessel_positions[\"vesselId\"] == vesselId\n",
    "                ].copy()\n",
    "\n",
    "                if prev_row.empty:\n",
    "                    progress_bar.update()\n",
    "                    continue\n",
    "\n",
    "                vessel_rows = block[block[\"vesselId\"] == vesselId][\n",
    "                    [\"latitude\", \"longitude\", \"time_diff\"]\n",
    "                ].copy()\n",
    "                cumulative_time_diff = vessel_rows[\"time_diff\"].cumsum()\n",
    "                vessel_rows[\"cumulative_time_diff\"] = cumulative_time_diff\n",
    "\n",
    "                targets = pd.concat([prev_row] * len(vessel_rows), ignore_index=True)\n",
    "                targets[\"cumulative_time_diff\"] = vessel_rows[\n",
    "                    \"cumulative_time_diff\"\n",
    "                ].values\n",
    "                targets[\"latitude_target\"] = vessel_rows[\"latitude\"].values\n",
    "                targets[\"longitude_target\"] = vessel_rows[\"longitude\"].values\n",
    "                results.append(targets)\n",
    "                progress_bar.update()\n",
    "\n",
    "    return pd.concat(results)"
   ]
  },
  {
   "cell_type": "code",
   "execution_count": 37,
   "metadata": {},
   "outputs": [
    {
     "name": "stderr",
     "output_type": "stream",
     "text": [
      "Block 2024-01-04 to 2024-01-09: 100%|██████████| 466/466 [00:08<00:00, 58.04it/s]\n",
      "Block 2024-01-09 to 2024-01-14: 100%|██████████| 486/486 [00:09<00:00, 51.91it/s]\n",
      "Block 2024-01-14 to 2024-01-19: 100%|██████████| 490/490 [00:10<00:00, 46.62it/s]\n",
      "Block 2024-01-19 to 2024-01-24: 100%|██████████| 499/499 [00:11<00:00, 44.60it/s]\n",
      "Block 2024-01-24 to 2024-01-29: 100%|██████████| 508/508 [00:11<00:00, 43.02it/s]\n",
      "Block 2024-01-29 to 2024-02-03: 100%|██████████| 491/491 [00:11<00:00, 43.07it/s]\n",
      "Block 2024-02-03 to 2024-02-08: 100%|██████████| 488/488 [00:11<00:00, 42.46it/s]\n",
      "Block 2024-02-08 to 2024-02-13: 100%|██████████| 479/479 [00:12<00:00, 38.70it/s]\n",
      "Block 2024-02-13 to 2024-02-18: 100%|██████████| 499/499 [00:12<00:00, 40.50it/s]\n",
      "Block 2024-02-18 to 2024-02-23: 100%|██████████| 497/497 [00:13<00:00, 37.88it/s]\n",
      "Block 2024-02-23 to 2024-02-28: 100%|██████████| 494/494 [00:11<00:00, 41.84it/s]\n",
      "Block 2024-02-28 to 2024-03-04: 100%|██████████| 495/495 [00:12<00:00, 39.21it/s]\n",
      "Block 2024-03-04 to 2024-03-09: 100%|██████████| 486/486 [00:13<00:00, 36.34it/s]\n",
      "Block 2024-03-09 to 2024-03-14: 100%|██████████| 499/499 [00:13<00:00, 36.28it/s]\n",
      "Block 2024-03-14 to 2024-03-19: 100%|██████████| 492/492 [00:15<00:00, 32.08it/s]\n",
      "Block 2024-03-19 to 2024-03-24: 100%|██████████| 513/513 [00:15<00:00, 34.06it/s]\n",
      "Block 2024-03-24 to 2024-03-29: 100%|██████████| 504/504 [00:15<00:00, 32.66it/s]\n",
      "Block 2024-03-29 to 2024-04-03: 100%|██████████| 511/511 [00:14<00:00, 35.63it/s]\n",
      "Block 2024-04-03 to 2024-04-08: 100%|██████████| 481/481 [00:15<00:00, 30.99it/s]\n",
      "Block 2024-04-08 to 2024-04-13: 100%|██████████| 502/502 [00:15<00:00, 31.91it/s]\n",
      "Block 2024-04-13 to 2024-04-18: 100%|██████████| 530/530 [00:15<00:00, 33.27it/s]\n"
     ]
    }
   ],
   "source": [
    "blocks = create_target_blocks(train_df, 5)"
   ]
  },
  {
   "cell_type": "markdown",
   "metadata": {},
   "source": [
    "## Training"
   ]
  },
  {
   "cell_type": "code",
   "execution_count": 35,
   "metadata": {},
   "outputs": [],
   "source": [
    "import xgboost as xgb\n",
    "from sklearn.multioutput import MultiOutputRegressor\n",
    "from sklearn.compose import TransformedTargetRegressor"
   ]
  },
  {
   "cell_type": "markdown",
   "metadata": {},
   "source": [
    "#### Models"
   ]
  },
  {
   "cell_type": "code",
   "execution_count": 36,
   "metadata": {},
   "outputs": [],
   "source": [
    "model_lat = TransformedTargetRegressor(\n",
    "    regressor=xgb.XGBRegressor(max_depth=12, n_estimators=100, random_state=42),\n",
    "    func=np.deg2rad,\n",
    "    inverse_func=np.rad2deg,\n",
    ")\n",
    "\n",
    "model_lng = TransformedTargetRegressor(\n",
    "    regressor=xgb.XGBRegressor(max_depth=12, n_estimators=100, random_state=42),\n",
    "    func=np.deg2rad,\n",
    "    inverse_func=np.rad2deg,\n",
    ")\n",
    "\n",
    "model_dist = TransformedTargetRegressor(\n",
    "    regressor=xgb.XGBRegressor(max_depth=12, n_estimators=100, random_state=42),\n",
    "    func=lambda x: np.log(x + 0.1),\n",
    "    inverse_func=lambda x: np.exp(x) - 0.1,\n",
    ")"
   ]
  },
  {
   "cell_type": "markdown",
   "metadata": {},
   "source": [
    "#### Training"
   ]
  },
  {
   "cell_type": "code",
   "execution_count": 38,
   "metadata": {},
   "outputs": [
    {
     "data": {
      "text/html": [
       "<style>#sk-container-id-1 {\n",
       "  /* Definition of color scheme common for light and dark mode */\n",
       "  --sklearn-color-text: black;\n",
       "  --sklearn-color-line: gray;\n",
       "  /* Definition of color scheme for unfitted estimators */\n",
       "  --sklearn-color-unfitted-level-0: #fff5e6;\n",
       "  --sklearn-color-unfitted-level-1: #f6e4d2;\n",
       "  --sklearn-color-unfitted-level-2: #ffe0b3;\n",
       "  --sklearn-color-unfitted-level-3: chocolate;\n",
       "  /* Definition of color scheme for fitted estimators */\n",
       "  --sklearn-color-fitted-level-0: #f0f8ff;\n",
       "  --sklearn-color-fitted-level-1: #d4ebff;\n",
       "  --sklearn-color-fitted-level-2: #b3dbfd;\n",
       "  --sklearn-color-fitted-level-3: cornflowerblue;\n",
       "\n",
       "  /* Specific color for light theme */\n",
       "  --sklearn-color-text-on-default-background: var(--sg-text-color, var(--theme-code-foreground, var(--jp-content-font-color1, black)));\n",
       "  --sklearn-color-background: var(--sg-background-color, var(--theme-background, var(--jp-layout-color0, white)));\n",
       "  --sklearn-color-border-box: var(--sg-text-color, var(--theme-code-foreground, var(--jp-content-font-color1, black)));\n",
       "  --sklearn-color-icon: #696969;\n",
       "\n",
       "  @media (prefers-color-scheme: dark) {\n",
       "    /* Redefinition of color scheme for dark theme */\n",
       "    --sklearn-color-text-on-default-background: var(--sg-text-color, var(--theme-code-foreground, var(--jp-content-font-color1, white)));\n",
       "    --sklearn-color-background: var(--sg-background-color, var(--theme-background, var(--jp-layout-color0, #111)));\n",
       "    --sklearn-color-border-box: var(--sg-text-color, var(--theme-code-foreground, var(--jp-content-font-color1, white)));\n",
       "    --sklearn-color-icon: #878787;\n",
       "  }\n",
       "}\n",
       "\n",
       "#sk-container-id-1 {\n",
       "  color: var(--sklearn-color-text);\n",
       "}\n",
       "\n",
       "#sk-container-id-1 pre {\n",
       "  padding: 0;\n",
       "}\n",
       "\n",
       "#sk-container-id-1 input.sk-hidden--visually {\n",
       "  border: 0;\n",
       "  clip: rect(1px 1px 1px 1px);\n",
       "  clip: rect(1px, 1px, 1px, 1px);\n",
       "  height: 1px;\n",
       "  margin: -1px;\n",
       "  overflow: hidden;\n",
       "  padding: 0;\n",
       "  position: absolute;\n",
       "  width: 1px;\n",
       "}\n",
       "\n",
       "#sk-container-id-1 div.sk-dashed-wrapped {\n",
       "  border: 1px dashed var(--sklearn-color-line);\n",
       "  margin: 0 0.4em 0.5em 0.4em;\n",
       "  box-sizing: border-box;\n",
       "  padding-bottom: 0.4em;\n",
       "  background-color: var(--sklearn-color-background);\n",
       "}\n",
       "\n",
       "#sk-container-id-1 div.sk-container {\n",
       "  /* jupyter's `normalize.less` sets `[hidden] { display: none; }`\n",
       "     but bootstrap.min.css set `[hidden] { display: none !important; }`\n",
       "     so we also need the `!important` here to be able to override the\n",
       "     default hidden behavior on the sphinx rendered scikit-learn.org.\n",
       "     See: https://github.com/scikit-learn/scikit-learn/issues/21755 */\n",
       "  display: inline-block !important;\n",
       "  position: relative;\n",
       "}\n",
       "\n",
       "#sk-container-id-1 div.sk-text-repr-fallback {\n",
       "  display: none;\n",
       "}\n",
       "\n",
       "div.sk-parallel-item,\n",
       "div.sk-serial,\n",
       "div.sk-item {\n",
       "  /* draw centered vertical line to link estimators */\n",
       "  background-image: linear-gradient(var(--sklearn-color-text-on-default-background), var(--sklearn-color-text-on-default-background));\n",
       "  background-size: 2px 100%;\n",
       "  background-repeat: no-repeat;\n",
       "  background-position: center center;\n",
       "}\n",
       "\n",
       "/* Parallel-specific style estimator block */\n",
       "\n",
       "#sk-container-id-1 div.sk-parallel-item::after {\n",
       "  content: \"\";\n",
       "  width: 100%;\n",
       "  border-bottom: 2px solid var(--sklearn-color-text-on-default-background);\n",
       "  flex-grow: 1;\n",
       "}\n",
       "\n",
       "#sk-container-id-1 div.sk-parallel {\n",
       "  display: flex;\n",
       "  align-items: stretch;\n",
       "  justify-content: center;\n",
       "  background-color: var(--sklearn-color-background);\n",
       "  position: relative;\n",
       "}\n",
       "\n",
       "#sk-container-id-1 div.sk-parallel-item {\n",
       "  display: flex;\n",
       "  flex-direction: column;\n",
       "}\n",
       "\n",
       "#sk-container-id-1 div.sk-parallel-item:first-child::after {\n",
       "  align-self: flex-end;\n",
       "  width: 50%;\n",
       "}\n",
       "\n",
       "#sk-container-id-1 div.sk-parallel-item:last-child::after {\n",
       "  align-self: flex-start;\n",
       "  width: 50%;\n",
       "}\n",
       "\n",
       "#sk-container-id-1 div.sk-parallel-item:only-child::after {\n",
       "  width: 0;\n",
       "}\n",
       "\n",
       "/* Serial-specific style estimator block */\n",
       "\n",
       "#sk-container-id-1 div.sk-serial {\n",
       "  display: flex;\n",
       "  flex-direction: column;\n",
       "  align-items: center;\n",
       "  background-color: var(--sklearn-color-background);\n",
       "  padding-right: 1em;\n",
       "  padding-left: 1em;\n",
       "}\n",
       "\n",
       "\n",
       "/* Toggleable style: style used for estimator/Pipeline/ColumnTransformer box that is\n",
       "clickable and can be expanded/collapsed.\n",
       "- Pipeline and ColumnTransformer use this feature and define the default style\n",
       "- Estimators will overwrite some part of the style using the `sk-estimator` class\n",
       "*/\n",
       "\n",
       "/* Pipeline and ColumnTransformer style (default) */\n",
       "\n",
       "#sk-container-id-1 div.sk-toggleable {\n",
       "  /* Default theme specific background. It is overwritten whether we have a\n",
       "  specific estimator or a Pipeline/ColumnTransformer */\n",
       "  background-color: var(--sklearn-color-background);\n",
       "}\n",
       "\n",
       "/* Toggleable label */\n",
       "#sk-container-id-1 label.sk-toggleable__label {\n",
       "  cursor: pointer;\n",
       "  display: block;\n",
       "  width: 100%;\n",
       "  margin-bottom: 0;\n",
       "  padding: 0.5em;\n",
       "  box-sizing: border-box;\n",
       "  text-align: center;\n",
       "}\n",
       "\n",
       "#sk-container-id-1 label.sk-toggleable__label-arrow:before {\n",
       "  /* Arrow on the left of the label */\n",
       "  content: \"▸\";\n",
       "  float: left;\n",
       "  margin-right: 0.25em;\n",
       "  color: var(--sklearn-color-icon);\n",
       "}\n",
       "\n",
       "#sk-container-id-1 label.sk-toggleable__label-arrow:hover:before {\n",
       "  color: var(--sklearn-color-text);\n",
       "}\n",
       "\n",
       "/* Toggleable content - dropdown */\n",
       "\n",
       "#sk-container-id-1 div.sk-toggleable__content {\n",
       "  max-height: 0;\n",
       "  max-width: 0;\n",
       "  overflow: hidden;\n",
       "  text-align: left;\n",
       "  /* unfitted */\n",
       "  background-color: var(--sklearn-color-unfitted-level-0);\n",
       "}\n",
       "\n",
       "#sk-container-id-1 div.sk-toggleable__content.fitted {\n",
       "  /* fitted */\n",
       "  background-color: var(--sklearn-color-fitted-level-0);\n",
       "}\n",
       "\n",
       "#sk-container-id-1 div.sk-toggleable__content pre {\n",
       "  margin: 0.2em;\n",
       "  border-radius: 0.25em;\n",
       "  color: var(--sklearn-color-text);\n",
       "  /* unfitted */\n",
       "  background-color: var(--sklearn-color-unfitted-level-0);\n",
       "}\n",
       "\n",
       "#sk-container-id-1 div.sk-toggleable__content.fitted pre {\n",
       "  /* unfitted */\n",
       "  background-color: var(--sklearn-color-fitted-level-0);\n",
       "}\n",
       "\n",
       "#sk-container-id-1 input.sk-toggleable__control:checked~div.sk-toggleable__content {\n",
       "  /* Expand drop-down */\n",
       "  max-height: 200px;\n",
       "  max-width: 100%;\n",
       "  overflow: auto;\n",
       "}\n",
       "\n",
       "#sk-container-id-1 input.sk-toggleable__control:checked~label.sk-toggleable__label-arrow:before {\n",
       "  content: \"▾\";\n",
       "}\n",
       "\n",
       "/* Pipeline/ColumnTransformer-specific style */\n",
       "\n",
       "#sk-container-id-1 div.sk-label input.sk-toggleable__control:checked~label.sk-toggleable__label {\n",
       "  color: var(--sklearn-color-text);\n",
       "  background-color: var(--sklearn-color-unfitted-level-2);\n",
       "}\n",
       "\n",
       "#sk-container-id-1 div.sk-label.fitted input.sk-toggleable__control:checked~label.sk-toggleable__label {\n",
       "  background-color: var(--sklearn-color-fitted-level-2);\n",
       "}\n",
       "\n",
       "/* Estimator-specific style */\n",
       "\n",
       "/* Colorize estimator box */\n",
       "#sk-container-id-1 div.sk-estimator input.sk-toggleable__control:checked~label.sk-toggleable__label {\n",
       "  /* unfitted */\n",
       "  background-color: var(--sklearn-color-unfitted-level-2);\n",
       "}\n",
       "\n",
       "#sk-container-id-1 div.sk-estimator.fitted input.sk-toggleable__control:checked~label.sk-toggleable__label {\n",
       "  /* fitted */\n",
       "  background-color: var(--sklearn-color-fitted-level-2);\n",
       "}\n",
       "\n",
       "#sk-container-id-1 div.sk-label label.sk-toggleable__label,\n",
       "#sk-container-id-1 div.sk-label label {\n",
       "  /* The background is the default theme color */\n",
       "  color: var(--sklearn-color-text-on-default-background);\n",
       "}\n",
       "\n",
       "/* On hover, darken the color of the background */\n",
       "#sk-container-id-1 div.sk-label:hover label.sk-toggleable__label {\n",
       "  color: var(--sklearn-color-text);\n",
       "  background-color: var(--sklearn-color-unfitted-level-2);\n",
       "}\n",
       "\n",
       "/* Label box, darken color on hover, fitted */\n",
       "#sk-container-id-1 div.sk-label.fitted:hover label.sk-toggleable__label.fitted {\n",
       "  color: var(--sklearn-color-text);\n",
       "  background-color: var(--sklearn-color-fitted-level-2);\n",
       "}\n",
       "\n",
       "/* Estimator label */\n",
       "\n",
       "#sk-container-id-1 div.sk-label label {\n",
       "  font-family: monospace;\n",
       "  font-weight: bold;\n",
       "  display: inline-block;\n",
       "  line-height: 1.2em;\n",
       "}\n",
       "\n",
       "#sk-container-id-1 div.sk-label-container {\n",
       "  text-align: center;\n",
       "}\n",
       "\n",
       "/* Estimator-specific */\n",
       "#sk-container-id-1 div.sk-estimator {\n",
       "  font-family: monospace;\n",
       "  border: 1px dotted var(--sklearn-color-border-box);\n",
       "  border-radius: 0.25em;\n",
       "  box-sizing: border-box;\n",
       "  margin-bottom: 0.5em;\n",
       "  /* unfitted */\n",
       "  background-color: var(--sklearn-color-unfitted-level-0);\n",
       "}\n",
       "\n",
       "#sk-container-id-1 div.sk-estimator.fitted {\n",
       "  /* fitted */\n",
       "  background-color: var(--sklearn-color-fitted-level-0);\n",
       "}\n",
       "\n",
       "/* on hover */\n",
       "#sk-container-id-1 div.sk-estimator:hover {\n",
       "  /* unfitted */\n",
       "  background-color: var(--sklearn-color-unfitted-level-2);\n",
       "}\n",
       "\n",
       "#sk-container-id-1 div.sk-estimator.fitted:hover {\n",
       "  /* fitted */\n",
       "  background-color: var(--sklearn-color-fitted-level-2);\n",
       "}\n",
       "\n",
       "/* Specification for estimator info (e.g. \"i\" and \"?\") */\n",
       "\n",
       "/* Common style for \"i\" and \"?\" */\n",
       "\n",
       ".sk-estimator-doc-link,\n",
       "a:link.sk-estimator-doc-link,\n",
       "a:visited.sk-estimator-doc-link {\n",
       "  float: right;\n",
       "  font-size: smaller;\n",
       "  line-height: 1em;\n",
       "  font-family: monospace;\n",
       "  background-color: var(--sklearn-color-background);\n",
       "  border-radius: 1em;\n",
       "  height: 1em;\n",
       "  width: 1em;\n",
       "  text-decoration: none !important;\n",
       "  margin-left: 1ex;\n",
       "  /* unfitted */\n",
       "  border: var(--sklearn-color-unfitted-level-1) 1pt solid;\n",
       "  color: var(--sklearn-color-unfitted-level-1);\n",
       "}\n",
       "\n",
       ".sk-estimator-doc-link.fitted,\n",
       "a:link.sk-estimator-doc-link.fitted,\n",
       "a:visited.sk-estimator-doc-link.fitted {\n",
       "  /* fitted */\n",
       "  border: var(--sklearn-color-fitted-level-1) 1pt solid;\n",
       "  color: var(--sklearn-color-fitted-level-1);\n",
       "}\n",
       "\n",
       "/* On hover */\n",
       "div.sk-estimator:hover .sk-estimator-doc-link:hover,\n",
       ".sk-estimator-doc-link:hover,\n",
       "div.sk-label-container:hover .sk-estimator-doc-link:hover,\n",
       ".sk-estimator-doc-link:hover {\n",
       "  /* unfitted */\n",
       "  background-color: var(--sklearn-color-unfitted-level-3);\n",
       "  color: var(--sklearn-color-background);\n",
       "  text-decoration: none;\n",
       "}\n",
       "\n",
       "div.sk-estimator.fitted:hover .sk-estimator-doc-link.fitted:hover,\n",
       ".sk-estimator-doc-link.fitted:hover,\n",
       "div.sk-label-container:hover .sk-estimator-doc-link.fitted:hover,\n",
       ".sk-estimator-doc-link.fitted:hover {\n",
       "  /* fitted */\n",
       "  background-color: var(--sklearn-color-fitted-level-3);\n",
       "  color: var(--sklearn-color-background);\n",
       "  text-decoration: none;\n",
       "}\n",
       "\n",
       "/* Span, style for the box shown on hovering the info icon */\n",
       ".sk-estimator-doc-link span {\n",
       "  display: none;\n",
       "  z-index: 9999;\n",
       "  position: relative;\n",
       "  font-weight: normal;\n",
       "  right: .2ex;\n",
       "  padding: .5ex;\n",
       "  margin: .5ex;\n",
       "  width: min-content;\n",
       "  min-width: 20ex;\n",
       "  max-width: 50ex;\n",
       "  color: var(--sklearn-color-text);\n",
       "  box-shadow: 2pt 2pt 4pt #999;\n",
       "  /* unfitted */\n",
       "  background: var(--sklearn-color-unfitted-level-0);\n",
       "  border: .5pt solid var(--sklearn-color-unfitted-level-3);\n",
       "}\n",
       "\n",
       ".sk-estimator-doc-link.fitted span {\n",
       "  /* fitted */\n",
       "  background: var(--sklearn-color-fitted-level-0);\n",
       "  border: var(--sklearn-color-fitted-level-3);\n",
       "}\n",
       "\n",
       ".sk-estimator-doc-link:hover span {\n",
       "  display: block;\n",
       "}\n",
       "\n",
       "/* \"?\"-specific style due to the `<a>` HTML tag */\n",
       "\n",
       "#sk-container-id-1 a.estimator_doc_link {\n",
       "  float: right;\n",
       "  font-size: 1rem;\n",
       "  line-height: 1em;\n",
       "  font-family: monospace;\n",
       "  background-color: var(--sklearn-color-background);\n",
       "  border-radius: 1rem;\n",
       "  height: 1rem;\n",
       "  width: 1rem;\n",
       "  text-decoration: none;\n",
       "  /* unfitted */\n",
       "  color: var(--sklearn-color-unfitted-level-1);\n",
       "  border: var(--sklearn-color-unfitted-level-1) 1pt solid;\n",
       "}\n",
       "\n",
       "#sk-container-id-1 a.estimator_doc_link.fitted {\n",
       "  /* fitted */\n",
       "  border: var(--sklearn-color-fitted-level-1) 1pt solid;\n",
       "  color: var(--sklearn-color-fitted-level-1);\n",
       "}\n",
       "\n",
       "/* On hover */\n",
       "#sk-container-id-1 a.estimator_doc_link:hover {\n",
       "  /* unfitted */\n",
       "  background-color: var(--sklearn-color-unfitted-level-3);\n",
       "  color: var(--sklearn-color-background);\n",
       "  text-decoration: none;\n",
       "}\n",
       "\n",
       "#sk-container-id-1 a.estimator_doc_link.fitted:hover {\n",
       "  /* fitted */\n",
       "  background-color: var(--sklearn-color-fitted-level-3);\n",
       "}\n",
       "</style><div id=\"sk-container-id-1\" class=\"sk-top-container\"><div class=\"sk-text-repr-fallback\"><pre>TransformedTargetRegressor(func=&lt;function &lt;lambda&gt; at 0x7fdd75bb5990&gt;,\n",
       "                           inverse_func=&lt;function &lt;lambda&gt; at 0x7fdd75bb5a20&gt;,\n",
       "                           regressor=XGBRegressor(base_score=None, booster=None,\n",
       "                                                  callbacks=None,\n",
       "                                                  colsample_bylevel=None,\n",
       "                                                  colsample_bynode=None,\n",
       "                                                  colsample_bytree=None,\n",
       "                                                  device=None,\n",
       "                                                  early_stopping_rounds=None,\n",
       "                                                  enable_categorical=False,\n",
       "                                                  eval_metric=None,\n",
       "                                                  feature_types=None,\n",
       "                                                  g...ne, grow_policy=None,\n",
       "                                                  importance_type=None,\n",
       "                                                  interaction_constraints=None,\n",
       "                                                  learning_rate=None,\n",
       "                                                  max_bin=None,\n",
       "                                                  max_cat_threshold=None,\n",
       "                                                  max_cat_to_onehot=None,\n",
       "                                                  max_delta_step=None,\n",
       "                                                  max_depth=12, max_leaves=None,\n",
       "                                                  min_child_weight=None,\n",
       "                                                  missing=nan,\n",
       "                                                  monotone_constraints=None,\n",
       "                                                  multi_strategy=None,\n",
       "                                                  n_estimators=100, n_jobs=None,\n",
       "                                                  num_parallel_tree=None,\n",
       "                                                  random_state=42, ...))</pre><b>In a Jupyter environment, please rerun this cell to show the HTML representation or trust the notebook. <br />On GitHub, the HTML representation is unable to render, please try loading this page with nbviewer.org.</b></div><div class=\"sk-container\" hidden><div class=\"sk-item sk-dashed-wrapped\"><div class=\"sk-label-container\"><div class=\"sk-label fitted sk-toggleable\"><input class=\"sk-toggleable__control sk-hidden--visually\" id=\"sk-estimator-id-1\" type=\"checkbox\" ><label for=\"sk-estimator-id-1\" class=\"sk-toggleable__label fitted sk-toggleable__label-arrow fitted\">&nbsp;&nbsp;TransformedTargetRegressor<a class=\"sk-estimator-doc-link fitted\" rel=\"noreferrer\" target=\"_blank\" href=\"https://scikit-learn.org/1.5/modules/generated/sklearn.compose.TransformedTargetRegressor.html\">?<span>Documentation for TransformedTargetRegressor</span></a><span class=\"sk-estimator-doc-link fitted\">i<span>Fitted</span></span></label><div class=\"sk-toggleable__content fitted\"><pre>TransformedTargetRegressor(func=&lt;function &lt;lambda&gt; at 0x7fdd75bb5990&gt;,\n",
       "                           inverse_func=&lt;function &lt;lambda&gt; at 0x7fdd75bb5a20&gt;,\n",
       "                           regressor=XGBRegressor(base_score=None, booster=None,\n",
       "                                                  callbacks=None,\n",
       "                                                  colsample_bylevel=None,\n",
       "                                                  colsample_bynode=None,\n",
       "                                                  colsample_bytree=None,\n",
       "                                                  device=None,\n",
       "                                                  early_stopping_rounds=None,\n",
       "                                                  enable_categorical=False,\n",
       "                                                  eval_metric=None,\n",
       "                                                  feature_types=None,\n",
       "                                                  g...ne, grow_policy=None,\n",
       "                                                  importance_type=None,\n",
       "                                                  interaction_constraints=None,\n",
       "                                                  learning_rate=None,\n",
       "                                                  max_bin=None,\n",
       "                                                  max_cat_threshold=None,\n",
       "                                                  max_cat_to_onehot=None,\n",
       "                                                  max_delta_step=None,\n",
       "                                                  max_depth=12, max_leaves=None,\n",
       "                                                  min_child_weight=None,\n",
       "                                                  missing=nan,\n",
       "                                                  monotone_constraints=None,\n",
       "                                                  multi_strategy=None,\n",
       "                                                  n_estimators=100, n_jobs=None,\n",
       "                                                  num_parallel_tree=None,\n",
       "                                                  random_state=42, ...))</pre></div> </div></div><div class=\"sk-parallel\"><div class=\"sk-parallel-item\"><div class=\"sk-item\"><div class=\"sk-label-container\"><div class=\"sk-label fitted sk-toggleable\"><input class=\"sk-toggleable__control sk-hidden--visually\" id=\"sk-estimator-id-2\" type=\"checkbox\" ><label for=\"sk-estimator-id-2\" class=\"sk-toggleable__label fitted sk-toggleable__label-arrow fitted\">regressor: XGBRegressor</label><div class=\"sk-toggleable__content fitted\"><pre>XGBRegressor(base_score=None, booster=None, callbacks=None,\n",
       "             colsample_bylevel=None, colsample_bynode=None,\n",
       "             colsample_bytree=None, device=None, early_stopping_rounds=None,\n",
       "             enable_categorical=False, eval_metric=None, feature_types=None,\n",
       "             gamma=None, grow_policy=None, importance_type=None,\n",
       "             interaction_constraints=None, learning_rate=None, max_bin=None,\n",
       "             max_cat_threshold=None, max_cat_to_onehot=None,\n",
       "             max_delta_step=None, max_depth=12, max_leaves=None,\n",
       "             min_child_weight=None, missing=nan, monotone_constraints=None,\n",
       "             multi_strategy=None, n_estimators=100, n_jobs=None,\n",
       "             num_parallel_tree=None, random_state=42, ...)</pre></div> </div></div><div class=\"sk-serial\"><div class=\"sk-item\"><div class=\"sk-estimator fitted sk-toggleable\"><input class=\"sk-toggleable__control sk-hidden--visually\" id=\"sk-estimator-id-3\" type=\"checkbox\" ><label for=\"sk-estimator-id-3\" class=\"sk-toggleable__label fitted sk-toggleable__label-arrow fitted\">XGBRegressor</label><div class=\"sk-toggleable__content fitted\"><pre>XGBRegressor(base_score=None, booster=None, callbacks=None,\n",
       "             colsample_bylevel=None, colsample_bynode=None,\n",
       "             colsample_bytree=None, device=None, early_stopping_rounds=None,\n",
       "             enable_categorical=False, eval_metric=None, feature_types=None,\n",
       "             gamma=None, grow_policy=None, importance_type=None,\n",
       "             interaction_constraints=None, learning_rate=None, max_bin=None,\n",
       "             max_cat_threshold=None, max_cat_to_onehot=None,\n",
       "             max_delta_step=None, max_depth=12, max_leaves=None,\n",
       "             min_child_weight=None, missing=nan, monotone_constraints=None,\n",
       "             multi_strategy=None, n_estimators=100, n_jobs=None,\n",
       "             num_parallel_tree=None, random_state=42, ...)</pre></div> </div></div></div></div></div></div></div></div></div>"
      ],
      "text/plain": [
       "TransformedTargetRegressor(func=<function <lambda> at 0x7fdd75bb5990>,\n",
       "                           inverse_func=<function <lambda> at 0x7fdd75bb5a20>,\n",
       "                           regressor=XGBRegressor(base_score=None, booster=None,\n",
       "                                                  callbacks=None,\n",
       "                                                  colsample_bylevel=None,\n",
       "                                                  colsample_bynode=None,\n",
       "                                                  colsample_bytree=None,\n",
       "                                                  device=None,\n",
       "                                                  early_stopping_rounds=None,\n",
       "                                                  enable_categorical=False,\n",
       "                                                  eval_metric=None,\n",
       "                                                  feature_types=None,\n",
       "                                                  g...ne, grow_policy=None,\n",
       "                                                  importance_type=None,\n",
       "                                                  interaction_constraints=None,\n",
       "                                                  learning_rate=None,\n",
       "                                                  max_bin=None,\n",
       "                                                  max_cat_threshold=None,\n",
       "                                                  max_cat_to_onehot=None,\n",
       "                                                  max_delta_step=None,\n",
       "                                                  max_depth=12, max_leaves=None,\n",
       "                                                  min_child_weight=None,\n",
       "                                                  missing=nan,\n",
       "                                                  monotone_constraints=None,\n",
       "                                                  multi_strategy=None,\n",
       "                                                  n_estimators=100, n_jobs=None,\n",
       "                                                  num_parallel_tree=None,\n",
       "                                                  random_state=42, ...))"
      ]
     },
     "execution_count": 38,
     "metadata": {},
     "output_type": "execute_result"
    }
   ],
   "source": [
    "model_lat.fit(train_df[~stationary][features], train_df[~stationary][\"latitude\"])\n",
    "model_lng.fit(train_df[~stationary][features], train_df[~stationary][\"longitude\"])\n",
    "model_dist.fit(train_df[features], train_df[\"distance\"])"
   ]
  },
  {
   "cell_type": "markdown",
   "metadata": {},
   "source": [
    "#### Make predictions autoregressively"
   ]
  },
  {
   "cell_type": "code",
   "execution_count": 39,
   "metadata": {},
   "outputs": [],
   "source": [
    "from tqdm import tqdm\n",
    "import warnings\n",
    "\n",
    "warnings.filterwarnings(\"ignore\")"
   ]
  },
  {
   "cell_type": "code",
   "execution_count": 40,
   "metadata": {},
   "outputs": [],
   "source": [
    "def find_closest_port_for_row(df_row, longitude_col, latitude_col):\n",
    "    row_gdf = df_to_gdf(\n",
    "        df_row, longitude_col=longitude_col, latitude_col=latitude_col\n",
    "    ).to_crs(epsg=\"3857\")\n",
    "\n",
    "    row_with_nearest_port = row_gdf.sjoin_nearest(\n",
    "        ports_gdf, how=\"left\", distance_col=\"dist_to_port\"\n",
    "    )\n",
    "\n",
    "    # Extract the closest port info\n",
    "    closest_port = row_with_nearest_port[\"closest_port\"].values[0]\n",
    "    dist_to_port = row_with_nearest_port[\"dist_to_port\"].values[0]\n",
    "    latitude_port = row_with_nearest_port[\"latitude_port\"].values[0]\n",
    "    longitude_port = row_with_nearest_port[\"longitude_port\"].values[0]\n",
    "\n",
    "    return closest_port, dist_to_port, latitude_port, longitude_port"
   ]
  },
  {
   "cell_type": "code",
   "execution_count": 43,
   "metadata": {
    "tags": []
   },
   "outputs": [
    {
     "data": {
      "text/html": [
       "<div>\n",
       "<style scoped>\n",
       "    .dataframe tbody tr th:only-of-type {\n",
       "        vertical-align: middle;\n",
       "    }\n",
       "\n",
       "    .dataframe tbody tr th {\n",
       "        vertical-align: top;\n",
       "    }\n",
       "\n",
       "    .dataframe thead th {\n",
       "        text-align: right;\n",
       "    }\n",
       "</style>\n",
       "<table border=\"1\" class=\"dataframe\">\n",
       "  <thead>\n",
       "    <tr style=\"text-align: right;\">\n",
       "      <th></th>\n",
       "      <th>level_0</th>\n",
       "      <th>index</th>\n",
       "      <th>time</th>\n",
       "      <th>cog</th>\n",
       "      <th>sog</th>\n",
       "      <th>rot</th>\n",
       "      <th>heading</th>\n",
       "      <th>navstat</th>\n",
       "      <th>etaRaw</th>\n",
       "      <th>latitude</th>\n",
       "      <th>...</th>\n",
       "      <th>prev_distance_rolling_sum_24</th>\n",
       "      <th>lat_rad</th>\n",
       "      <th>lon_rad</th>\n",
       "      <th>azimuth_rad</th>\n",
       "      <th>sin_lat</th>\n",
       "      <th>cos_lat</th>\n",
       "      <th>sin_lon</th>\n",
       "      <th>cos_lon</th>\n",
       "      <th>sin_azimuth</th>\n",
       "      <th>cos_azimuth</th>\n",
       "    </tr>\n",
       "  </thead>\n",
       "  <tbody>\n",
       "    <tr>\n",
       "      <th>0</th>\n",
       "      <td>375</td>\n",
       "      <td>1480819</td>\n",
       "      <td>2024-05-04 13:31:37</td>\n",
       "      <td>149.5</td>\n",
       "      <td>16.7</td>\n",
       "      <td>0.0</td>\n",
       "      <td>150.0</td>\n",
       "      <td>0.0</td>\n",
       "      <td>2024-05-04 23:59:00</td>\n",
       "      <td>38.77871</td>\n",
       "      <td>...</td>\n",
       "      <td>183.779288</td>\n",
       "      <td>0.678010</td>\n",
       "      <td>0.077388</td>\n",
       "      <td>2.551119</td>\n",
       "      <td>0.627244</td>\n",
       "      <td>0.778823</td>\n",
       "      <td>0.077311</td>\n",
       "      <td>0.997007</td>\n",
       "      <td>0.556755</td>\n",
       "      <td>-0.830677</td>\n",
       "    </tr>\n",
       "    <tr>\n",
       "      <th>1</th>\n",
       "      <td>376</td>\n",
       "      <td>1481022</td>\n",
       "      <td>2024-05-04 13:56:24</td>\n",
       "      <td>146.5</td>\n",
       "      <td>17.1</td>\n",
       "      <td>0.0</td>\n",
       "      <td>148.0</td>\n",
       "      <td>0.0</td>\n",
       "      <td>2024-05-04 23:59:00</td>\n",
       "      <td>38.68037</td>\n",
       "      <td>...</td>\n",
       "      <td>188.526252</td>\n",
       "      <td>0.676816</td>\n",
       "      <td>0.078280</td>\n",
       "      <td>2.612070</td>\n",
       "      <td>0.626314</td>\n",
       "      <td>0.779571</td>\n",
       "      <td>0.078201</td>\n",
       "      <td>0.996938</td>\n",
       "      <td>0.505122</td>\n",
       "      <td>-0.863048</td>\n",
       "    </tr>\n",
       "    <tr>\n",
       "      <th>2</th>\n",
       "      <td>377</td>\n",
       "      <td>1481199</td>\n",
       "      <td>2024-05-04 14:18:00</td>\n",
       "      <td>148.0</td>\n",
       "      <td>17.3</td>\n",
       "      <td>1.0</td>\n",
       "      <td>149.0</td>\n",
       "      <td>0.0</td>\n",
       "      <td>2024-05-04 23:59:00</td>\n",
       "      <td>38.59375</td>\n",
       "      <td>...</td>\n",
       "      <td>195.494231</td>\n",
       "      <td>0.675100</td>\n",
       "      <td>0.079664</td>\n",
       "      <td>2.578022</td>\n",
       "      <td>0.624975</td>\n",
       "      <td>0.780645</td>\n",
       "      <td>0.079580</td>\n",
       "      <td>0.996829</td>\n",
       "      <td>0.534208</td>\n",
       "      <td>-0.845353</td>\n",
       "    </tr>\n",
       "    <tr>\n",
       "      <th>3</th>\n",
       "      <td>378</td>\n",
       "      <td>1482177</td>\n",
       "      <td>2024-05-04 16:15:36</td>\n",
       "      <td>148.4</td>\n",
       "      <td>17.2</td>\n",
       "      <td>0.0</td>\n",
       "      <td>146.0</td>\n",
       "      <td>0.0</td>\n",
       "      <td>2024-05-04 23:59:00</td>\n",
       "      <td>38.10319</td>\n",
       "      <td>...</td>\n",
       "      <td>418.864668</td>\n",
       "      <td>0.666463</td>\n",
       "      <td>0.085966</td>\n",
       "      <td>2.528942</td>\n",
       "      <td>0.618209</td>\n",
       "      <td>0.786013</td>\n",
       "      <td>0.085861</td>\n",
       "      <td>0.996307</td>\n",
       "      <td>0.575038</td>\n",
       "      <td>-0.818127</td>\n",
       "    </tr>\n",
       "    <tr>\n",
       "      <th>4</th>\n",
       "      <td>379</td>\n",
       "      <td>1482279</td>\n",
       "      <td>2024-05-04 16:33:24</td>\n",
       "      <td>148.2</td>\n",
       "      <td>16.9</td>\n",
       "      <td>-1.0</td>\n",
       "      <td>146.0</td>\n",
       "      <td>0.0</td>\n",
       "      <td>2024-05-04 23:59:00</td>\n",
       "      <td>38.03150</td>\n",
       "      <td>...</td>\n",
       "      <td>424.679060</td>\n",
       "      <td>0.665026</td>\n",
       "      <td>0.087102</td>\n",
       "      <td>2.583005</td>\n",
       "      <td>0.617080</td>\n",
       "      <td>0.786901</td>\n",
       "      <td>0.086992</td>\n",
       "      <td>0.996209</td>\n",
       "      <td>0.529989</td>\n",
       "      <td>-0.848005</td>\n",
       "    </tr>\n",
       "    <tr>\n",
       "      <th>...</th>\n",
       "      <td>...</td>\n",
       "      <td>...</td>\n",
       "      <td>...</td>\n",
       "      <td>...</td>\n",
       "      <td>...</td>\n",
       "      <td>...</td>\n",
       "      <td>...</td>\n",
       "      <td>...</td>\n",
       "      <td>...</td>\n",
       "      <td>...</td>\n",
       "      <td>...</td>\n",
       "      <td>...</td>\n",
       "      <td>...</td>\n",
       "      <td>...</td>\n",
       "      <td>...</td>\n",
       "      <td>...</td>\n",
       "      <td>...</td>\n",
       "      <td>...</td>\n",
       "      <td>...</td>\n",
       "      <td>...</td>\n",
       "      <td>...</td>\n",
       "    </tr>\n",
       "    <tr>\n",
       "      <th>68174</th>\n",
       "      <td>1566024</td>\n",
       "      <td>51161</td>\n",
       "      <td>2024-05-12 22:37:33</td>\n",
       "      <td>NaN</td>\n",
       "      <td>NaN</td>\n",
       "      <td>NaN</td>\n",
       "      <td>NaN</td>\n",
       "      <td>NaN</td>\n",
       "      <td>NaN</td>\n",
       "      <td>NaN</td>\n",
       "      <td>...</td>\n",
       "      <td>NaN</td>\n",
       "      <td>NaN</td>\n",
       "      <td>NaN</td>\n",
       "      <td>NaN</td>\n",
       "      <td>NaN</td>\n",
       "      <td>NaN</td>\n",
       "      <td>NaN</td>\n",
       "      <td>NaN</td>\n",
       "      <td>NaN</td>\n",
       "      <td>NaN</td>\n",
       "    </tr>\n",
       "    <tr>\n",
       "      <th>68175</th>\n",
       "      <td>1566025</td>\n",
       "      <td>51302</td>\n",
       "      <td>2024-05-12 22:58:05</td>\n",
       "      <td>NaN</td>\n",
       "      <td>NaN</td>\n",
       "      <td>NaN</td>\n",
       "      <td>NaN</td>\n",
       "      <td>NaN</td>\n",
       "      <td>NaN</td>\n",
       "      <td>NaN</td>\n",
       "      <td>...</td>\n",
       "      <td>NaN</td>\n",
       "      <td>NaN</td>\n",
       "      <td>NaN</td>\n",
       "      <td>NaN</td>\n",
       "      <td>NaN</td>\n",
       "      <td>NaN</td>\n",
       "      <td>NaN</td>\n",
       "      <td>NaN</td>\n",
       "      <td>NaN</td>\n",
       "      <td>NaN</td>\n",
       "    </tr>\n",
       "    <tr>\n",
       "      <th>68176</th>\n",
       "      <td>1566026</td>\n",
       "      <td>51444</td>\n",
       "      <td>2024-05-12 23:18:20</td>\n",
       "      <td>NaN</td>\n",
       "      <td>NaN</td>\n",
       "      <td>NaN</td>\n",
       "      <td>NaN</td>\n",
       "      <td>NaN</td>\n",
       "      <td>NaN</td>\n",
       "      <td>NaN</td>\n",
       "      <td>...</td>\n",
       "      <td>NaN</td>\n",
       "      <td>NaN</td>\n",
       "      <td>NaN</td>\n",
       "      <td>NaN</td>\n",
       "      <td>NaN</td>\n",
       "      <td>NaN</td>\n",
       "      <td>NaN</td>\n",
       "      <td>NaN</td>\n",
       "      <td>NaN</td>\n",
       "      <td>NaN</td>\n",
       "    </tr>\n",
       "    <tr>\n",
       "      <th>68177</th>\n",
       "      <td>1566027</td>\n",
       "      <td>51595</td>\n",
       "      <td>2024-05-12 23:39:21</td>\n",
       "      <td>NaN</td>\n",
       "      <td>NaN</td>\n",
       "      <td>NaN</td>\n",
       "      <td>NaN</td>\n",
       "      <td>NaN</td>\n",
       "      <td>NaN</td>\n",
       "      <td>NaN</td>\n",
       "      <td>...</td>\n",
       "      <td>NaN</td>\n",
       "      <td>NaN</td>\n",
       "      <td>NaN</td>\n",
       "      <td>NaN</td>\n",
       "      <td>NaN</td>\n",
       "      <td>NaN</td>\n",
       "      <td>NaN</td>\n",
       "      <td>NaN</td>\n",
       "      <td>NaN</td>\n",
       "      <td>NaN</td>\n",
       "    </tr>\n",
       "    <tr>\n",
       "      <th>68178</th>\n",
       "      <td>1566028</td>\n",
       "      <td>51654</td>\n",
       "      <td>2024-05-12 23:59:03</td>\n",
       "      <td>NaN</td>\n",
       "      <td>NaN</td>\n",
       "      <td>NaN</td>\n",
       "      <td>NaN</td>\n",
       "      <td>NaN</td>\n",
       "      <td>NaN</td>\n",
       "      <td>NaN</td>\n",
       "      <td>...</td>\n",
       "      <td>NaN</td>\n",
       "      <td>NaN</td>\n",
       "      <td>NaN</td>\n",
       "      <td>NaN</td>\n",
       "      <td>NaN</td>\n",
       "      <td>NaN</td>\n",
       "      <td>NaN</td>\n",
       "      <td>NaN</td>\n",
       "      <td>NaN</td>\n",
       "      <td>NaN</td>\n",
       "    </tr>\n",
       "  </tbody>\n",
       "</table>\n",
       "<p>68179 rows × 116 columns</p>\n",
       "</div>"
      ],
      "text/plain": [
       "       level_0    index                time    cog   sog  rot  heading  \\\n",
       "0          375  1480819 2024-05-04 13:31:37  149.5  16.7  0.0    150.0   \n",
       "1          376  1481022 2024-05-04 13:56:24  146.5  17.1  0.0    148.0   \n",
       "2          377  1481199 2024-05-04 14:18:00  148.0  17.3  1.0    149.0   \n",
       "3          378  1482177 2024-05-04 16:15:36  148.4  17.2  0.0    146.0   \n",
       "4          379  1482279 2024-05-04 16:33:24  148.2  16.9 -1.0    146.0   \n",
       "...        ...      ...                 ...    ...   ...  ...      ...   \n",
       "68174  1566024    51161 2024-05-12 22:37:33    NaN   NaN  NaN      NaN   \n",
       "68175  1566025    51302 2024-05-12 22:58:05    NaN   NaN  NaN      NaN   \n",
       "68176  1566026    51444 2024-05-12 23:18:20    NaN   NaN  NaN      NaN   \n",
       "68177  1566027    51595 2024-05-12 23:39:21    NaN   NaN  NaN      NaN   \n",
       "68178  1566028    51654 2024-05-12 23:59:03    NaN   NaN  NaN      NaN   \n",
       "\n",
       "       navstat               etaRaw  latitude  ...  \\\n",
       "0          0.0  2024-05-04 23:59:00  38.77871  ...   \n",
       "1          0.0  2024-05-04 23:59:00  38.68037  ...   \n",
       "2          0.0  2024-05-04 23:59:00  38.59375  ...   \n",
       "3          0.0  2024-05-04 23:59:00  38.10319  ...   \n",
       "4          0.0  2024-05-04 23:59:00  38.03150  ...   \n",
       "...        ...                  ...       ...  ...   \n",
       "68174      NaN                  NaN       NaN  ...   \n",
       "68175      NaN                  NaN       NaN  ...   \n",
       "68176      NaN                  NaN       NaN  ...   \n",
       "68177      NaN                  NaN       NaN  ...   \n",
       "68178      NaN                  NaN       NaN  ...   \n",
       "\n",
       "       prev_distance_rolling_sum_24   lat_rad   lon_rad  azimuth_rad  \\\n",
       "0                        183.779288  0.678010  0.077388     2.551119   \n",
       "1                        188.526252  0.676816  0.078280     2.612070   \n",
       "2                        195.494231  0.675100  0.079664     2.578022   \n",
       "3                        418.864668  0.666463  0.085966     2.528942   \n",
       "4                        424.679060  0.665026  0.087102     2.583005   \n",
       "...                             ...       ...       ...          ...   \n",
       "68174                           NaN       NaN       NaN          NaN   \n",
       "68175                           NaN       NaN       NaN          NaN   \n",
       "68176                           NaN       NaN       NaN          NaN   \n",
       "68177                           NaN       NaN       NaN          NaN   \n",
       "68178                           NaN       NaN       NaN          NaN   \n",
       "\n",
       "        sin_lat   cos_lat   sin_lon   cos_lon  sin_azimuth  cos_azimuth  \n",
       "0      0.627244  0.778823  0.077311  0.997007     0.556755    -0.830677  \n",
       "1      0.626314  0.779571  0.078201  0.996938     0.505122    -0.863048  \n",
       "2      0.624975  0.780645  0.079580  0.996829     0.534208    -0.845353  \n",
       "3      0.618209  0.786013  0.085861  0.996307     0.575038    -0.818127  \n",
       "4      0.617080  0.786901  0.086992  0.996209     0.529989    -0.848005  \n",
       "...         ...       ...       ...       ...          ...          ...  \n",
       "68174       NaN       NaN       NaN       NaN          NaN          NaN  \n",
       "68175       NaN       NaN       NaN       NaN          NaN          NaN  \n",
       "68176       NaN       NaN       NaN       NaN          NaN          NaN  \n",
       "68177       NaN       NaN       NaN       NaN          NaN          NaN  \n",
       "68178       NaN       NaN       NaN       NaN          NaN          NaN  \n",
       "\n",
       "[68179 rows x 116 columns]"
      ]
     },
     "execution_count": 43,
     "metadata": {},
     "output_type": "execute_result"
    }
   ],
   "source": [
    "test_df"
   ]
  },
  {
   "cell_type": "code",
   "execution_count": 45,
   "metadata": {
    "tags": []
   },
   "outputs": [
    {
     "name": "stderr",
     "output_type": "stream",
     "text": [
      "100%|██████████| 68179/68179 [1:00:47<00:00, 18.69it/s] \n"
     ]
    }
   ],
   "source": [
    "def time_series_prediction(test_df: pd.DataFrame):\n",
    "    lng_pred = []\n",
    "    lat_pred = []\n",
    "    total_steps = test_df.shape[0]\n",
    "\n",
    "    with tqdm(total=total_steps) as progress_bar:\n",
    "        for vesselId in test_df[\"vesselId\"].unique():\n",
    "            vessel_rows = test_df[test_df[\"vesselId\"] == vesselId].copy()\n",
    "\n",
    "            steps = vessel_rows.shape[0]\n",
    "            vessel_rows[\"step\"] = np.arange(steps)\n",
    "\n",
    "            for i in range(steps):\n",
    "                row = vessel_rows.loc[vessel_rows[\"step\"] == i]\n",
    "                if row[\"time\"].item() < pd.Timestamp(test_start):\n",
    "                    progress_bar.update()\n",
    "                    continue\n",
    "\n",
    "                distance_pred = model_dist.predict(row[features]).item()\n",
    "\n",
    "                if (distance_pred < 0.1 and row[\"time_diff\"].item() > 60) and (\n",
    "                    row[\"dist_to_port\"].item() < 10000 and row[\"prev_sog\"].item() < 0.1\n",
    "                ):\n",
    "                    latitude = row[\"prev_lat\"].item()\n",
    "                    longitude = row[\"prev_lng\"].item()\n",
    "                    distance = distance_pred\n",
    "                else:\n",
    "                    latitude = model_lat.predict(row[features]).item()\n",
    "                    longitude = model_lng.predict(row[features]).item()\n",
    "                    fwd_azimuth, back_azimuth, distance_calc = geodesic.inv(\n",
    "                        row[\"prev_lng\"].item(),\n",
    "                        row[\"prev_lat\"].item(),\n",
    "                        longitude,\n",
    "                        latitude,\n",
    "                    )\n",
    "                    distance = (distance_calc / (1.852 * 1000) + distance_pred) / 2\n",
    "\n",
    "                lng_pred.append(longitude)\n",
    "                lat_pred.append(latitude)\n",
    "\n",
    "                sog = distance / (row[\"time_diff\"].item() / 3600)\n",
    "                closest_port, dist_to_port, latitude_port, longitude_port = (\n",
    "                    find_closest_port_for_row(\n",
    "                        row[[\"prev_lat\", \"prev_lng\"]],\n",
    "                        latitude_col=\"prev_lat\",\n",
    "                        longitude_col=\"prev_lng\",\n",
    "                    )\n",
    "                )\n",
    "                closest_port_count = count_ports_encoder.transform(\n",
    "                    [closest_port]\n",
    "                ).values.item()\n",
    "\n",
    "                if i < steps - 1:\n",
    "                    vessel_rows.loc[\n",
    "                        vessel_rows[\"step\"] == i + 1,\n",
    "                        [\n",
    "                            \"prev_distance\",\n",
    "                            \"prev_fwd_azimuth\",\n",
    "                            \"prev_lat\",\n",
    "                            \"prev_lng\",\n",
    "                            \"cos_lat\",\n",
    "                            \"sin_lat\",\n",
    "                            \"cos_lon\",\n",
    "                            \"sin_lon\",\n",
    "                            \"cos_azimuth\",\n",
    "                            \"sin_azimuth\",\n",
    "                            \"prev_sog\",\n",
    "                            \"closest_port_count\",\n",
    "                            \"dist_to_port\",\n",
    "                            \"latitude_port\",\n",
    "                            \"longitude_port\",\n",
    "                        ],\n",
    "                    ] = [\n",
    "                        distance,\n",
    "                        fwd_azimuth,\n",
    "                        latitude,\n",
    "                        longitude,\n",
    "                        np.cos(np.deg2rad(latitude)),\n",
    "                        np.sin(np.deg2rad(latitude)),\n",
    "                        np.cos(np.deg2rad(longitude)),\n",
    "                        np.sin(np.deg2rad(longitude)),\n",
    "                        np.cos(np.deg2rad(fwd_azimuth)),\n",
    "                        np.sin(np.deg2rad(fwd_azimuth)),\n",
    "                        sog,\n",
    "                        closest_port_count,\n",
    "                        dist_to_port.item(),\n",
    "                        latitude_port.item(),\n",
    "                        longitude_port.item(),\n",
    "                    ]\n",
    "\n",
    "                    for col in [col for col in lag_cols if col != \"time_diff\"]:\n",
    "                        vessel_rows.loc[vessel_rows[\"step\"] == i + 1, f\"{col}_lag1\"] = (\n",
    "                            vessel_rows.loc[vessel_rows[\"step\"] == i, col].item()\n",
    "                        )\n",
    "                        for lag in range(2, 5):\n",
    "                            vessel_rows.loc[\n",
    "                                vessel_rows[\"step\"] == i + 1, f\"{col}_lag{lag}\"\n",
    "                            ] = vessel_rows.loc[\n",
    "                                vessel_rows[\"step\"] == i, f\"{col}_lag{lag-1}\"\n",
    "                            ].item()\n",
    "\n",
    "                        for window in [4, 12, 24]:\n",
    "                            vessel_rows.loc[\n",
    "                                vessel_rows[\"step\"] == i + 1,\n",
    "                                f\"{col}_rolling_mean_{window}\",\n",
    "                            ] = (\n",
    "                                vessel_rows.loc[vessel_rows[\"step\"] <= i + 1, col]\n",
    "                                .tail(window)\n",
    "                                .mean()\n",
    "                            )\n",
    "\n",
    "                    for window in [4, 12, 24]:\n",
    "                        vessel_rows.loc[\n",
    "                            vessel_rows[\"step\"] == i + 1,\n",
    "                            f\"prev_distance_rolling_sum_{window}\",\n",
    "                        ] = (\n",
    "                            vessel_rows.loc[\n",
    "                                vessel_rows[\"step\"] <= i + 1, \"prev_distance\"\n",
    "                            ]\n",
    "                            .tail(window)\n",
    "                            .sum()\n",
    "                        )\n",
    "\n",
    "                progress_bar.update()\n",
    "\n",
    "    return lat_pred, lng_pred\n",
    "\n",
    "\n",
    "lat_pred, lng_pred = time_series_prediction(test_df)"
   ]
  },
  {
   "cell_type": "code",
   "execution_count": 47,
   "metadata": {
    "tags": []
   },
   "outputs": [],
   "source": [
    "test_df = test_df[test_df[\"time\"] > test_start]\n",
    "test_df[\"latitude_predicted\"] = lat_pred\n",
    "test_df[\"longitude_predicted\"] = lng_pred\n",
    "test_df.loc[\n",
    "    test_df[\"vesselId\"] == duplicated_vessel,\n",
    "    [\"longitude_predicted\", \"latitude_predicted\"],\n",
    "] = test_df[test_df[\"vesselId\"] == duplicated_from][\n",
    "    [\"longitude_predicted\", \"latitude_predicted\"]\n",
    "].values"
   ]
  },
  {
   "cell_type": "code",
   "execution_count": 48,
   "metadata": {
    "tags": []
   },
   "outputs": [],
   "source": [
    "test_df[[\"ID\", \"longitude_predicted\", \"latitude_predicted\"]].sort_values(\n",
    "    \"ID\"\n",
    ").reset_index(drop=True).to_csv(\"submission_6.csv\", index=False)"
   ]
  },
  {
   "cell_type": "code",
   "execution_count": 49,
   "metadata": {
    "tags": []
   },
   "outputs": [],
   "source": [
    "import plotly.express as px\n",
    "import plotly.graph_objects as go"
   ]
  },
  {
   "cell_type": "code",
   "execution_count": 50,
   "metadata": {
    "tags": []
   },
   "outputs": [],
   "source": [
    "def visualize_vessel_movements(\n",
    "    df, lng_col=\"longitude_predicted\", lat_col=\"latitude_predicted\"\n",
    "):\n",
    "    \"\"\"\n",
    "    Visualize vessel movements on a map with lines and markers for each data point.\n",
    "\n",
    "    Parameters:\n",
    "    - df (pandas.DataFrame): A DataFrame with columns ['time', 'latitude', 'longitude', 'vesselId'].\n",
    "\n",
    "    Returns:\n",
    "    - A Plotly interactive figure.\n",
    "    \"\"\"\n",
    "    # Ensure 'time' is in datetime format for better tooltip handling\n",
    "    df[\"time\"] = pd.to_datetime(df[\"time\"])\n",
    "\n",
    "    # Sorting the DataFrame by time to ensure lines are drawn correctly\n",
    "    df = df.sort_values(by=[\"vesselId\", \"time\"])\n",
    "\n",
    "    # Define a color palette\n",
    "    color_map = px.colors.qualitative.Plotly\n",
    "\n",
    "    # Mapping each vessel ID to a color\n",
    "    unique_vessels = df[\"vesselId\"].unique()\n",
    "    colors = {\n",
    "        vessel_id: color_map[i % len(color_map)]\n",
    "        for i, vessel_id in enumerate(unique_vessels)\n",
    "    }\n",
    "\n",
    "    # Create the base map with lines\n",
    "    fig = px.line_geo(\n",
    "        df,\n",
    "        lat=lat_col,\n",
    "        lon=lng_col,\n",
    "        color=\"vesselId\",\n",
    "        color_discrete_map=colors,\n",
    "        hover_name=\"vesselId\",\n",
    "        hover_data={\"time\": True, lat_col: \":.3f\", lng_col: \":.3f\"},\n",
    "        projection=\"natural earth\",\n",
    "        title=\"Vessel Movements Over Time\",\n",
    "    )\n",
    "\n",
    "    # Add markers for each data point\n",
    "    for vessel_id in unique_vessels:\n",
    "        vessel_data = df[df[\"vesselId\"] == vessel_id]\n",
    "        fig.add_trace(\n",
    "            go.Scattergeo(\n",
    "                lon=vessel_data[lng_col],\n",
    "                lat=vessel_data[lat_col],\n",
    "                mode=\"markers\",\n",
    "                marker=dict(\n",
    "                    size=8,\n",
    "                    color=colors[vessel_id],\n",
    "                    opacity=0.8,\n",
    "                    line=dict(width=1, color=\"DarkSlateGrey\"),\n",
    "                ),\n",
    "                name=f\"Markers for {vessel_id}\",\n",
    "                hoverinfo=\"text\",\n",
    "                text=vessel_data.apply(\n",
    "                    lambda row: f'ID: {vessel_id}<br>Time: {row[\"time\"]}<br>Lat: {row[lat_col]:.3f}<br>Lon: {row[lng_col]:.3f}',\n",
    "                    axis=1,\n",
    "                ),\n",
    "            )\n",
    "        )\n",
    "\n",
    "    # Enhancing map and layout details\n",
    "    fig.update_geos(\n",
    "        fitbounds=\"locations\", showcountries=True, countrycolor=\"RebeccaPurple\"\n",
    "    )\n",
    "    fig.update_layout(\n",
    "        margin={\"r\": 0, \"t\": 30, \"l\": 0, \"b\": 0},\n",
    "        coloraxis_colorbar=dict(title=\"Vessel ID\"),\n",
    "        title_font_size=20,\n",
    "    )\n",
    "\n",
    "    return fig"
   ]
  },
  {
   "cell_type": "code",
   "execution_count": 85,
   "metadata": {
    "tags": []
   },
   "outputs": [],
   "source": [
    "vessel = np.random.choice(test_df[\"vesselId\"].unique())"
   ]
  },
  {
   "cell_type": "code",
   "execution_count": 86,
   "metadata": {
    "tags": []
   },
   "outputs": [
    {
     "data": {
      "application/vnd.plotly.v1+json": {
       "config": {
        "plotlyServerURL": "https://plot.ly"
       },
       "data": [
        {
         "customdata": [
          [
           "2024-05-03T00:17:19",
           49.47173,
           0.19627
          ],
          [
           "2024-05-03T00:38:19",
           49.47173,
           0.19626
          ],
          [
           "2024-05-03T00:53:20",
           49.47173,
           0.19626
          ],
          [
           "2024-05-03T01:14:23",
           49.47173,
           0.19626
          ],
          [
           "2024-05-03T01:32:19",
           49.47174,
           0.19626
          ],
          [
           "2024-05-03T01:53:22",
           49.47174,
           0.19626
          ],
          [
           "2024-05-03T02:14:21",
           49.47174,
           0.19626
          ],
          [
           "2024-05-03T02:35:25",
           49.47174,
           0.19626
          ],
          [
           "2024-05-03T02:56:22",
           49.47174,
           0.19626
          ],
          [
           "2024-05-03T03:14:25",
           49.47174,
           0.19626
          ],
          [
           "2024-05-03T03:36:22",
           49.47174,
           0.19626
          ],
          [
           "2024-05-03T03:56:19",
           49.47174,
           0.19626
          ],
          [
           "2024-05-03T04:17:17",
           49.47174,
           0.19626
          ],
          [
           "2024-05-03T04:38:26",
           49.47173,
           0.19626
          ],
          [
           "2024-05-03T04:59:26",
           49.47173,
           0.19626
          ],
          [
           "2024-05-03T05:14:24",
           49.47173,
           0.19626
          ],
          [
           "2024-05-03T05:34:53",
           49.47173,
           0.19626
          ],
          [
           "2024-05-03T05:53:22",
           49.47173,
           0.19626
          ],
          [
           "2024-05-03T06:14:24",
           49.47173,
           0.19626
          ],
          [
           "2024-05-03T06:35:22",
           49.47173,
           0.19627
          ],
          [
           "2024-05-03T06:56:22",
           49.47173,
           0.19626
          ],
          [
           "2024-05-03T07:17:25",
           49.47173,
           0.19626
          ],
          [
           "2024-05-03T07:35:25",
           49.47173,
           0.19626
          ],
          [
           "2024-05-03T07:56:23",
           49.47173,
           0.19626
          ],
          [
           "2024-05-03T08:17:26",
           49.47173,
           0.19626
          ],
          [
           "2024-05-03T08:38:26",
           49.47173,
           0.19626
          ],
          [
           "2024-05-03T08:53:18",
           49.47173,
           0.19626
          ],
          [
           "2024-05-03T09:14:27",
           49.47173,
           0.19626
          ],
          [
           "2024-05-03T09:35:23",
           49.47173,
           0.19626
          ],
          [
           "2024-05-03T09:53:25",
           49.47173,
           0.19627
          ],
          [
           "2024-05-03T10:14:21",
           49.47173,
           0.19627
          ],
          [
           "2024-05-03T10:35:27",
           49.47173,
           0.19627
          ],
          [
           "2024-05-03T10:56:22",
           49.47173,
           0.19627
          ],
          [
           "2024-05-03T11:17:24",
           49.47173,
           0.19627
          ],
          [
           "2024-05-03T11:38:22",
           49.47174,
           0.19627
          ],
          [
           "2024-05-03T11:59:24",
           49.47173,
           0.19626
          ],
          [
           "2024-05-03T12:17:28",
           49.47173,
           0.19626
          ],
          [
           "2024-05-03T12:34:48",
           49.47173,
           0.19626
          ],
          [
           "2024-05-03T12:53:19",
           49.47173,
           0.19626
          ],
          [
           "2024-05-03T13:14:25",
           49.47173,
           0.19626
          ],
          [
           "2024-05-03T13:35:20",
           49.47173,
           0.19626
          ],
          [
           "2024-05-03T13:56:24",
           49.47173,
           0.19626
          ],
          [
           "2024-05-03T14:14:24",
           49.47173,
           0.19626
          ],
          [
           "2024-05-03T14:36:03",
           49.47173,
           0.19626
          ],
          [
           "2024-05-03T14:56:24",
           49.47173,
           0.19626
          ],
          [
           "2024-05-03T15:17:27",
           49.47173,
           0.19626
          ],
          [
           "2024-05-03T15:38:21",
           49.47173,
           0.19626
          ],
          [
           "2024-05-03T15:53:24",
           49.47173,
           0.19626
          ],
          [
           "2024-05-03T16:14:26",
           49.47173,
           0.19626
          ],
          [
           "2024-05-03T16:32:25",
           49.47173,
           0.19626
          ],
          [
           "2024-05-03T16:53:26",
           49.47173,
           0.19626
          ],
          [
           "2024-05-03T17:14:24",
           49.47173,
           0.19626
          ],
          [
           "2024-05-03T17:35:30",
           49.47173,
           0.19626
          ],
          [
           "2024-05-03T17:53:27",
           49.47173,
           0.19626
          ],
          [
           "2024-05-03T18:14:24",
           49.47173,
           0.19626
          ],
          [
           "2024-05-03T18:35:31",
           49.47173,
           0.19626
          ],
          [
           "2024-05-03T18:56:27",
           49.47173,
           0.19626
          ],
          [
           "2024-05-03T19:17:21",
           49.47173,
           0.19626
          ],
          [
           "2024-05-03T19:38:30",
           49.47173,
           0.19626
          ],
          [
           "2024-05-03T19:53:29",
           49.47173,
           0.19626
          ],
          [
           "2024-05-03T20:14:24",
           49.47173,
           0.19626
          ],
          [
           "2024-05-03T20:35:26",
           49.47173,
           0.19626
          ],
          [
           "2024-05-03T20:53:28",
           49.47173,
           0.19626
          ],
          [
           "2024-05-03T21:14:28",
           49.47173,
           0.19626
          ],
          [
           "2024-05-03T21:35:22",
           49.47173,
           0.19626
          ],
          [
           "2024-05-03T21:56:27",
           49.47173,
           0.19626
          ],
          [
           "2024-05-03T22:17:28",
           49.47173,
           0.19626
          ],
          [
           "2024-05-03T22:38:27",
           49.47173,
           0.19626
          ],
          [
           "2024-05-03T22:56:26",
           49.47173,
           0.19626
          ],
          [
           "2024-05-03T23:17:28",
           49.47174,
           0.19626
          ],
          [
           "2024-05-03T23:38:26",
           49.47174,
           0.19626
          ],
          [
           "2024-05-03T23:59:28",
           49.47174,
           0.19626
          ],
          [
           "2024-05-04T00:14:30",
           49.47174,
           0.19626
          ],
          [
           "2024-05-04T00:32:30",
           49.47174,
           0.19626
          ],
          [
           "2024-05-04T00:53:23",
           49.47174,
           0.19626
          ],
          [
           "2024-05-04T01:14:27",
           49.47174,
           0.19626
          ],
          [
           "2024-05-04T01:35:26",
           49.47174,
           0.19626
          ],
          [
           "2024-05-04T01:56:25",
           49.47174,
           0.19626
          ],
          [
           "2024-05-04T02:17:27",
           49.47173,
           0.19626
          ],
          [
           "2024-05-04T02:38:27",
           49.47173,
           0.19626
          ],
          [
           "2024-05-04T02:56:27",
           49.47173,
           0.19626
          ],
          [
           "2024-05-04T03:17:27",
           49.47174,
           0.19625
          ],
          [
           "2024-05-04T03:38:26",
           49.47174,
           0.19625
          ],
          [
           "2024-05-04T03:53:28",
           49.47174,
           0.19625
          ],
          [
           "2024-05-04T04:14:29",
           49.47173,
           0.19626
          ],
          [
           "2024-05-04T04:32:30",
           49.47173,
           0.19626
          ],
          [
           "2024-05-04T04:53:29",
           49.47173,
           0.19626
          ],
          [
           "2024-05-04T05:14:33",
           49.47173,
           0.19626
          ],
          [
           "2024-05-04T05:35:28",
           49.47173,
           0.19626
          ],
          [
           "2024-05-04T05:56:31",
           49.47173,
           0.19626
          ],
          [
           "2024-05-04T06:17:33",
           49.47173,
           0.19626
          ],
          [
           "2024-05-04T06:38:27",
           49.47173,
           0.19626
          ],
          [
           "2024-05-04T06:56:31",
           49.47173,
           0.19626
          ],
          [
           "2024-05-04T07:17:29",
           49.47173,
           0.19626
          ],
          [
           "2024-05-04T07:32:30",
           49.47173,
           0.19626
          ],
          [
           "2024-05-04T07:53:30",
           49.47173,
           0.19626
          ],
          [
           "2024-05-04T08:14:32",
           49.47173,
           0.19625
          ],
          [
           "2024-05-04T08:35:29",
           49.47173,
           0.19625
          ],
          [
           "2024-05-04T08:56:27",
           49.47173,
           0.19626
          ],
          [
           "2024-05-04T09:17:27",
           49.47173,
           0.19626
          ],
          [
           "2024-05-04T09:35:25",
           49.47173,
           0.19626
          ],
          [
           "2024-05-04T09:56:30",
           49.47173,
           0.19626
          ],
          [
           "2024-05-04T10:17:32",
           49.47173,
           0.19626
          ],
          [
           "2024-05-04T10:38:31",
           49.47174,
           0.19626
          ],
          [
           "2024-05-04T10:59:32",
           49.47173,
           0.19626
          ],
          [
           "2024-05-04T11:17:28",
           49.47173,
           0.19626
          ],
          [
           "2024-05-04T11:32:52",
           49.47173,
           0.19626
          ],
          [
           "2024-05-04T11:53:29",
           49.47173,
           0.19626
          ],
          [
           "2024-05-04T12:14:33",
           49.47174,
           0.19626
          ],
          [
           "2024-05-04T12:35:34",
           49.47174,
           0.19626
          ],
          [
           "2024-05-04T12:56:36",
           49.47174,
           0.19626
          ],
          [
           "2024-05-04T13:14:30",
           49.47174,
           0.19626
          ],
          [
           "2024-05-04T13:35:33",
           49.47174,
           0.19626
          ],
          [
           "2024-05-04T13:53:34",
           49.47174,
           0.19626
          ],
          [
           "2024-05-04T14:17:31",
           49.47174,
           0.19626
          ],
          [
           "2024-05-04T14:38:28",
           49.47173,
           0.19626
          ],
          [
           "2024-05-04T14:59:32",
           49.47173,
           0.19626
          ],
          [
           "2024-05-04T15:14:36",
           49.47173,
           0.19626
          ],
          [
           "2024-05-04T15:32:30",
           49.47173,
           0.19626
          ],
          [
           "2024-05-04T15:55:00",
           49.47173,
           0.19626
          ],
          [
           "2024-05-04T16:16:11",
           49.47173,
           0.19626
          ],
          [
           "2024-05-04T16:35:29",
           49.47173,
           0.19626
          ],
          [
           "2024-05-04T16:56:31",
           49.47173,
           0.19626
          ],
          [
           "2024-05-04T17:17:30",
           49.47173,
           0.19626
          ],
          [
           "2024-05-04T17:35:30",
           49.47173,
           0.19626
          ],
          [
           "2024-05-04T17:56:33",
           49.47173,
           0.19626
          ],
          [
           "2024-05-04T18:17:30",
           49.47173,
           0.19626
          ],
          [
           "2024-05-04T18:29:29",
           49.47174,
           0.19626
          ],
          [
           "2024-05-04T18:53:33",
           49.47174,
           0.19626
          ],
          [
           "2024-05-04T19:14:28",
           49.47174,
           0.19626
          ],
          [
           "2024-05-04T19:35:35",
           49.47174,
           0.19627
          ],
          [
           "2024-05-04T19:53:34",
           49.47173,
           0.19627
          ],
          [
           "2024-05-04T20:14:33",
           49.47174,
           0.19627
          ],
          [
           "2024-05-04T20:35:35",
           49.47173,
           0.19627
          ],
          [
           "2024-05-04T20:56:33",
           49.47173,
           0.19626
          ],
          [
           "2024-05-04T21:17:36",
           49.47173,
           0.19626
          ],
          [
           "2024-05-04T21:38:32",
           49.47173,
           0.19626
          ],
          [
           "2024-05-04T21:59:30",
           49.47173,
           0.19626
          ],
          [
           "2024-05-04T22:14:32",
           49.47173,
           0.19626
          ],
          [
           "2024-05-04T22:32:31",
           49.47173,
           0.19626
          ],
          [
           "2024-05-04T22:53:32",
           49.47173,
           0.19626
          ],
          [
           "2024-05-04T23:14:35",
           49.47174,
           0.19626
          ],
          [
           "2024-05-04T23:35:33",
           49.47174,
           0.19626
          ],
          [
           "2024-05-04T23:56:37",
           49.47174,
           0.19626
          ],
          [
           "2024-05-05T00:17:37",
           49.47174,
           0.19627
          ],
          [
           "2024-05-05T00:38:33",
           49.47174,
           0.19626
          ],
          [
           "2024-05-05T00:59:32",
           49.47174,
           0.19626
          ],
          [
           "2024-05-05T01:14:34",
           49.47174,
           0.19626
          ],
          [
           "2024-05-05T01:32:31",
           49.47174,
           0.19626
          ],
          [
           "2024-05-05T01:53:34",
           49.47173,
           0.19626
          ],
          [
           "2024-05-05T02:14:36",
           49.47173,
           0.19626
          ],
          [
           "2024-05-05T02:35:36",
           49.47173,
           0.19626
          ],
          [
           "2024-05-05T02:57:08",
           49.47174,
           0.19626
          ],
          [
           "2024-05-05T03:17:39",
           49.47174,
           0.19626
          ],
          [
           "2024-05-05T03:38:30",
           49.47174,
           0.19626
          ],
          [
           "2024-05-05T03:56:36",
           49.47174,
           0.19626
          ],
          [
           "2024-05-05T04:17:36",
           49.47173,
           0.19626
          ],
          [
           "2024-05-05T04:33:50",
           49.47173,
           0.19626
          ],
          [
           "2024-05-05T04:53:35",
           49.47173,
           0.19626
          ],
          [
           "2024-05-05T05:14:38",
           49.47173,
           0.19626
          ],
          [
           "2024-05-05T05:35:11",
           49.47173,
           0.19626
          ],
          [
           "2024-05-05T05:53:38",
           49.47173,
           0.19626
          ],
          [
           "2024-05-05T06:14:36",
           49.47173,
           0.19626
          ],
          [
           "2024-05-05T06:35:31",
           49.47173,
           0.19626
          ],
          [
           "2024-05-05T06:56:42",
           49.47173,
           0.19626
          ],
          [
           "2024-05-05T07:17:38",
           49.47173,
           0.19626
          ],
          [
           "2024-05-05T07:35:39",
           49.47173,
           0.19626
          ],
          [
           "2024-05-05T07:56:46",
           49.47173,
           0.19626
          ],
          [
           "2024-05-05T08:17:36",
           49.47173,
           0.19626
          ],
          [
           "2024-05-05T08:38:33",
           49.47173,
           0.19626
          ],
          [
           "2024-05-05T08:54:52",
           49.47173,
           0.19626
          ],
          [
           "2024-05-05T09:14:34",
           49.47173,
           0.19626
          ],
          [
           "2024-05-05T09:34:52",
           49.47173,
           0.19626
          ],
          [
           "2024-05-05T09:56:33",
           49.47173,
           0.19626
          ],
          [
           "2024-05-05T10:14:37",
           49.47173,
           0.19626
          ],
          [
           "2024-05-05T10:35:38",
           49.47173,
           0.19627
          ],
          [
           "2024-05-05T10:56:38",
           49.47174,
           0.19626
          ],
          [
           "2024-05-05T11:17:58",
           49.47173,
           0.19626
          ],
          [
           "2024-05-05T11:38:36",
           49.47174,
           0.19626
          ],
          [
           "2024-05-05T11:56:36",
           49.47174,
           0.19626
          ],
          [
           "2024-05-05T12:17:38",
           49.47174,
           0.19626
          ],
          [
           "2024-05-05T12:32:37",
           49.47174,
           0.19627
          ],
          [
           "2024-05-05T12:53:36",
           49.47174,
           0.19627
          ],
          [
           "2024-05-05T13:14:41",
           49.47174,
           0.19626
          ],
          [
           "2024-05-05T13:35:37",
           49.47174,
           0.19626
          ],
          [
           "2024-05-05T13:56:41",
           49.47174,
           0.19627
          ],
          [
           "2024-05-05T14:14:42",
           49.47174,
           0.19626
          ],
          [
           "2024-05-05T14:37:20",
           49.47174,
           0.19626
          ],
          [
           "2024-05-05T14:56:37",
           49.47173,
           0.19626
          ],
          [
           "2024-05-05T15:17:39",
           49.47173,
           0.19626
          ],
          [
           "2024-05-05T15:38:37",
           49.47173,
           0.19626
          ],
          [
           "2024-05-05T15:56:36",
           49.47173,
           0.19626
          ],
          [
           "2024-05-05T16:14:36",
           49.47173,
           0.19626
          ],
          [
           "2024-05-05T16:32:36",
           49.47173,
           0.19626
          ],
          [
           "2024-05-05T16:53:33",
           49.47173,
           0.19626
          ],
          [
           "2024-05-05T17:14:37",
           49.47173,
           0.19626
          ],
          [
           "2024-05-05T17:35:36",
           49.47173,
           0.19626
          ],
          [
           "2024-05-05T17:56:41",
           49.47173,
           0.19626
          ],
          [
           "2024-05-05T18:17:39",
           49.47174,
           0.19626
          ],
          [
           "2024-05-05T18:35:42",
           49.47174,
           0.19626
          ],
          [
           "2024-05-05T18:56:34",
           49.47174,
           0.19626
          ],
          [
           "2024-05-05T19:17:41",
           49.47174,
           0.19627
          ],
          [
           "2024-05-05T19:34:16",
           49.47174,
           0.19627
          ],
          [
           "2024-05-05T19:53:38",
           49.47174,
           0.19627
          ],
          [
           "2024-05-05T20:14:39",
           49.47174,
           0.19627
          ],
          [
           "2024-05-05T20:35:38",
           49.47173,
           0.19627
          ],
          [
           "2024-05-05T20:56:41",
           49.47173,
           0.19626
          ],
          [
           "2024-05-05T21:17:15",
           49.47173,
           0.19626
          ],
          [
           "2024-05-05T21:35:39",
           49.47173,
           0.19626
          ],
          [
           "2024-05-05T21:56:36",
           49.47173,
           0.19626
          ],
          [
           "2024-05-05T22:17:38",
           49.47173,
           0.19626
          ],
          [
           "2024-05-05T22:38:42",
           49.47173,
           0.19626
          ],
          [
           "2024-05-05T22:53:39",
           49.47174,
           0.19626
          ],
          [
           "2024-05-05T23:14:43",
           49.47174,
           0.19626
          ],
          [
           "2024-05-05T23:35:37",
           49.47174,
           0.19626
          ],
          [
           "2024-05-05T23:53:37",
           49.47174,
           0.19626
          ],
          [
           "2024-05-06T00:14:43",
           49.47174,
           0.19626
          ],
          [
           "2024-05-06T00:35:39",
           49.47174,
           0.19626
          ],
          [
           "2024-05-06T00:56:39",
           49.47174,
           0.19626
          ],
          [
           "2024-05-06T01:17:44",
           49.47174,
           0.19626
          ],
          [
           "2024-05-06T01:38:43",
           49.47174,
           0.19626
          ],
          [
           "2024-05-06T01:59:40",
           49.47174,
           0.19626
          ],
          [
           "2024-05-06T02:14:43",
           49.47174,
           0.19626
          ],
          [
           "2024-05-06T02:32:46",
           49.47174,
           0.19626
          ],
          [
           "2024-05-06T02:54:30",
           49.47174,
           0.19626
          ],
          [
           "2024-05-06T03:14:39",
           49.47174,
           0.19625
          ],
          [
           "2024-05-06T03:32:40",
           49.47174,
           0.19625
          ],
          [
           "2024-05-06T03:53:42",
           49.47174,
           0.19625
          ],
          [
           "2024-05-06T04:17:43",
           49.47173,
           0.19626
          ],
          [
           "2024-05-06T04:35:42",
           49.47173,
           0.19626
          ],
          [
           "2024-05-06T04:56:44",
           49.47173,
           0.19626
          ],
          [
           "2024-05-06T05:17:41",
           49.47173,
           0.19626
          ],
          [
           "2024-05-06T05:32:41",
           49.47173,
           0.19626
          ],
          [
           "2024-05-06T05:53:41",
           49.47173,
           0.19626
          ],
          [
           "2024-05-06T06:14:39",
           49.47174,
           0.19626
          ],
          [
           "2024-05-06T06:35:42",
           49.47173,
           0.19626
          ],
          [
           "2024-05-06T06:56:41",
           49.47173,
           0.19626
          ],
          [
           "2024-05-06T07:14:43",
           49.47173,
           0.19626
          ],
          [
           "2024-05-06T07:35:41",
           49.47173,
           0.19626
          ],
          [
           "2024-05-06T07:56:40",
           49.47173,
           0.19626
          ],
          [
           "2024-05-06T08:17:44",
           49.47173,
           0.19626
          ],
          [
           "2024-05-06T08:38:43",
           49.47173,
           0.19626
          ],
          [
           "2024-05-06T08:59:43",
           49.47173,
           0.19626
          ],
          [
           "2024-05-06T09:14:41",
           49.47173,
           0.19626
          ],
          [
           "2024-05-06T09:32:43",
           49.47173,
           0.19626
          ],
          [
           "2024-05-06T09:53:43",
           49.47173,
           0.19626
          ],
          [
           "2024-05-06T10:14:38",
           49.47173,
           0.19626
          ],
          [
           "2024-05-06T10:35:40",
           49.47173,
           0.19626
          ],
          [
           "2024-05-06T10:56:42",
           49.47173,
           0.19626
          ],
          [
           "2024-05-06T11:14:40",
           49.47174,
           0.19626
          ],
          [
           "2024-05-06T11:35:40",
           49.47174,
           0.19626
          ],
          [
           "2024-05-06T11:56:44",
           49.47174,
           0.19626
          ],
          [
           "2024-05-06T12:17:43",
           49.47174,
           0.19626
          ],
          [
           "2024-05-06T12:38:42",
           49.47174,
           0.19626
          ],
          [
           "2024-05-06T12:59:42",
           49.47174,
           0.19626
          ],
          [
           "2024-05-06T13:14:45",
           49.47174,
           0.19626
          ],
          [
           "2024-05-06T13:32:39",
           49.47174,
           0.19626
          ],
          [
           "2024-05-06T13:53:42",
           49.47174,
           0.19626
          ],
          [
           "2024-05-06T14:14:49",
           49.47174,
           0.19626
          ],
          [
           "2024-05-06T14:35:44",
           49.47173,
           0.19626
          ],
          [
           "2024-05-06T14:56:48",
           49.47173,
           0.19626
          ],
          [
           "2024-05-06T15:14:43",
           49.47173,
           0.19626
          ],
          [
           "2024-05-06T15:35:45",
           49.47173,
           0.19626
          ],
          [
           "2024-05-06T15:56:44",
           49.47174,
           0.19626
          ],
          [
           "2024-05-06T16:17:45",
           49.47174,
           0.19626
          ],
          [
           "2024-05-06T16:38:47",
           49.47173,
           0.19625
          ],
          [
           "2024-05-06T16:59:43",
           49.47173,
           0.19625
          ],
          [
           "2024-05-06T17:14:49",
           49.47173,
           0.19625
          ],
          [
           "2024-05-06T17:32:47",
           49.47173,
           0.19625
          ],
          [
           "2024-05-06T17:53:45",
           49.47173,
           0.19625
          ],
          [
           "2024-05-06T18:14:43",
           49.47174,
           0.19626
          ],
          [
           "2024-05-06T18:35:44",
           49.47174,
           0.19626
          ],
          [
           "2024-05-06T18:53:44",
           49.47174,
           0.19626
          ],
          [
           "2024-05-06T19:14:44",
           49.47174,
           0.19626
          ],
          [
           "2024-05-06T19:35:46",
           49.47174,
           0.19626
          ],
          [
           "2024-05-06T19:56:46",
           49.47174,
           0.19626
          ],
          [
           "2024-05-06T20:18:02",
           49.47174,
           0.19626
          ],
          [
           "2024-05-06T20:38:48",
           49.47173,
           0.19626
          ],
          [
           "2024-05-06T20:59:41",
           49.47173,
           0.19626
          ],
          [
           "2024-05-06T21:14:46",
           49.47173,
           0.19626
          ],
          [
           "2024-05-06T21:32:46",
           49.47173,
           0.19626
          ],
          [
           "2024-05-06T21:53:45",
           49.47173,
           0.19626
          ],
          [
           "2024-05-06T22:14:50",
           49.47173,
           0.19626
          ],
          [
           "2024-05-06T22:35:46",
           49.47173,
           0.19626
          ],
          [
           "2024-05-06T22:56:47",
           49.47174,
           0.19626
          ],
          [
           "2024-05-06T23:14:49",
           49.47174,
           0.19626
          ],
          [
           "2024-05-06T23:35:48",
           49.47174,
           0.19626
          ],
          [
           "2024-05-06T23:56:44",
           49.47174,
           0.19626
          ],
          [
           "2024-05-07T00:17:47",
           49.47174,
           0.19626
          ],
          [
           "2024-05-07T00:38:46",
           49.47174,
           0.19625
          ],
          [
           "2024-05-07T00:59:46",
           49.47174,
           0.19626
          ],
          [
           "2024-05-07T01:14:42",
           49.47174,
           0.19626
          ],
          [
           "2024-05-07T01:32:42",
           49.47174,
           0.19626
          ],
          [
           "2024-05-07T01:53:45",
           49.47174,
           0.19625
          ],
          [
           "2024-05-07T02:14:49",
           49.47174,
           0.19625
          ],
          [
           "2024-05-07T02:35:47",
           49.47174,
           0.19625
          ],
          [
           "2024-05-07T02:56:48",
           49.47174,
           0.19625
          ],
          [
           "2024-05-07T03:14:45",
           49.47174,
           0.19625
          ],
          [
           "2024-05-07T03:35:48",
           49.47174,
           0.19625
          ],
          [
           "2024-05-07T03:56:47",
           49.47174,
           0.19625
          ],
          [
           "2024-05-07T04:17:48",
           49.47174,
           0.19625
          ],
          [
           "2024-05-07T04:38:48",
           49.47174,
           0.19626
          ],
          [
           "2024-05-07T04:56:47",
           49.47173,
           0.19625
          ],
          [
           "2024-05-07T05:17:49",
           49.47173,
           0.19625
          ],
          [
           "2024-05-07T05:39:13",
           49.47173,
           0.19625
          ],
          [
           "2024-05-07T05:53:49",
           49.47174,
           0.19625
          ],
          [
           "2024-05-07T06:14:50",
           49.47174,
           0.19625
          ],
          [
           "2024-05-07T06:32:51",
           49.47173,
           0.19626
          ],
          [
           "2024-05-07T06:53:49",
           49.47174,
           0.19626
          ],
          [
           "2024-05-07T07:14:51",
           49.47173,
           0.19625
          ],
          [
           "2024-05-07T07:35:52",
           49.47174,
           0.19625
          ],
          [
           "2024-05-07T07:56:47",
           49.47173,
           0.19625
          ],
          [
           "2024-05-07T08:17:48",
           49.47173,
           0.19625
          ],
          [
           "2024-05-07T08:35:51",
           49.47173,
           0.19626
          ],
          [
           "2024-05-07T08:56:49",
           49.47173,
           0.19626
          ],
          [
           "2024-05-07T09:17:51",
           49.47173,
           0.19626
          ],
          [
           "2024-05-07T09:38:48",
           49.47173,
           0.19626
          ],
          [
           "2024-05-07T09:53:48",
           49.47173,
           0.19626
          ],
          [
           "2024-05-07T10:14:49",
           49.47173,
           0.19626
          ],
          [
           "2024-05-07T10:32:51",
           49.47173,
           0.19626
          ],
          [
           "2024-05-07T10:53:50",
           49.47173,
           0.19626
          ],
          [
           "2024-05-07T11:14:49",
           49.47173,
           0.19626
          ],
          [
           "2024-05-07T11:35:51",
           49.47173,
           0.19626
          ],
          [
           "2024-05-07T11:56:51",
           49.47174,
           0.19626
          ],
          [
           "2024-05-07T12:14:50",
           49.47174,
           0.19626
          ],
          [
           "2024-05-07T12:35:50",
           49.47174,
           0.19626
          ],
          [
           "2024-05-07T12:56:50",
           49.47174,
           0.19626
          ],
          [
           "2024-05-07T13:17:48",
           49.47174,
           0.19626
          ],
          [
           "2024-05-07T13:38:50",
           49.47173,
           0.19626
          ],
          [
           "2024-05-07T13:56:48",
           49.47174,
           0.19626
          ],
          [
           "2024-05-07T14:17:51",
           49.47173,
           0.19626
          ],
          [
           "2024-05-07T14:32:51",
           49.47173,
           0.19626
          ],
          [
           "2024-05-07T14:53:50",
           49.47173,
           0.19626
          ],
          [
           "2024-05-07T15:15:15",
           49.47745,
           0.18193
          ],
          [
           "2024-05-07T15:35:49",
           49.47586,
           0.17351
          ],
          [
           "2024-05-07T15:56:38",
           49.47579,
           0.17313
          ],
          [
           "2024-05-07T16:17:19",
           49.47494,
           0.12037
          ],
          [
           "2024-05-07T16:37:49",
           49.49363,
           0.01981
          ],
          [
           "2024-05-07T16:58:18",
           49.5177,
           -0.08638
          ],
          [
           "2024-05-07T17:18:38",
           49.54938,
           -0.19235
          ],
          [
           "2024-05-07T17:39:09",
           49.57468,
           -0.29885
          ],
          [
           "2024-05-07T17:59:39",
           49.59862,
           -0.3997
          ],
          [
           "2024-05-07T18:14:58",
           49.61592,
           -0.4726
          ],
          [
           "2024-05-07T18:35:08",
           49.6382,
           -0.56649
          ],
          [
           "2024-05-07T18:55:57",
           49.66059,
           -0.6612
          ],
          [
           "2024-05-07T19:16:08",
           49.68221,
           -0.75258
          ],
          [
           "2024-05-07T19:37:08",
           49.70446,
           -0.8466
          ],
          [
           "2024-05-07T19:46:57",
           49.71491,
           -0.8907
          ],
          [
           "2024-05-07T20:17:57",
           49.74789,
           -1.03014
          ],
          [
           "2024-05-07T20:33:09",
           49.76376,
           -1.09722
          ],
          [
           "2024-05-07T23:59:01",
           50.00852,
           -2.22267
          ]
         ],
         "geo": "geo",
         "hovertemplate": "<b>%{hovertext}</b><br><br>vesselId=61e9f415b937134a3c4c0063<br>latitude=%{customdata[1]:.3f}<br>longitude=%{customdata[2]:.3f}<br>time=%{customdata[0]}<extra></extra>",
         "hovertext": [
          "61e9f415b937134a3c4c0063",
          "61e9f415b937134a3c4c0063",
          "61e9f415b937134a3c4c0063",
          "61e9f415b937134a3c4c0063",
          "61e9f415b937134a3c4c0063",
          "61e9f415b937134a3c4c0063",
          "61e9f415b937134a3c4c0063",
          "61e9f415b937134a3c4c0063",
          "61e9f415b937134a3c4c0063",
          "61e9f415b937134a3c4c0063",
          "61e9f415b937134a3c4c0063",
          "61e9f415b937134a3c4c0063",
          "61e9f415b937134a3c4c0063",
          "61e9f415b937134a3c4c0063",
          "61e9f415b937134a3c4c0063",
          "61e9f415b937134a3c4c0063",
          "61e9f415b937134a3c4c0063",
          "61e9f415b937134a3c4c0063",
          "61e9f415b937134a3c4c0063",
          "61e9f415b937134a3c4c0063",
          "61e9f415b937134a3c4c0063",
          "61e9f415b937134a3c4c0063",
          "61e9f415b937134a3c4c0063",
          "61e9f415b937134a3c4c0063",
          "61e9f415b937134a3c4c0063",
          "61e9f415b937134a3c4c0063",
          "61e9f415b937134a3c4c0063",
          "61e9f415b937134a3c4c0063",
          "61e9f415b937134a3c4c0063",
          "61e9f415b937134a3c4c0063",
          "61e9f415b937134a3c4c0063",
          "61e9f415b937134a3c4c0063",
          "61e9f415b937134a3c4c0063",
          "61e9f415b937134a3c4c0063",
          "61e9f415b937134a3c4c0063",
          "61e9f415b937134a3c4c0063",
          "61e9f415b937134a3c4c0063",
          "61e9f415b937134a3c4c0063",
          "61e9f415b937134a3c4c0063",
          "61e9f415b937134a3c4c0063",
          "61e9f415b937134a3c4c0063",
          "61e9f415b937134a3c4c0063",
          "61e9f415b937134a3c4c0063",
          "61e9f415b937134a3c4c0063",
          "61e9f415b937134a3c4c0063",
          "61e9f415b937134a3c4c0063",
          "61e9f415b937134a3c4c0063",
          "61e9f415b937134a3c4c0063",
          "61e9f415b937134a3c4c0063",
          "61e9f415b937134a3c4c0063",
          "61e9f415b937134a3c4c0063",
          "61e9f415b937134a3c4c0063",
          "61e9f415b937134a3c4c0063",
          "61e9f415b937134a3c4c0063",
          "61e9f415b937134a3c4c0063",
          "61e9f415b937134a3c4c0063",
          "61e9f415b937134a3c4c0063",
          "61e9f415b937134a3c4c0063",
          "61e9f415b937134a3c4c0063",
          "61e9f415b937134a3c4c0063",
          "61e9f415b937134a3c4c0063",
          "61e9f415b937134a3c4c0063",
          "61e9f415b937134a3c4c0063",
          "61e9f415b937134a3c4c0063",
          "61e9f415b937134a3c4c0063",
          "61e9f415b937134a3c4c0063",
          "61e9f415b937134a3c4c0063",
          "61e9f415b937134a3c4c0063",
          "61e9f415b937134a3c4c0063",
          "61e9f415b937134a3c4c0063",
          "61e9f415b937134a3c4c0063",
          "61e9f415b937134a3c4c0063",
          "61e9f415b937134a3c4c0063",
          "61e9f415b937134a3c4c0063",
          "61e9f415b937134a3c4c0063",
          "61e9f415b937134a3c4c0063",
          "61e9f415b937134a3c4c0063",
          "61e9f415b937134a3c4c0063",
          "61e9f415b937134a3c4c0063",
          "61e9f415b937134a3c4c0063",
          "61e9f415b937134a3c4c0063",
          "61e9f415b937134a3c4c0063",
          "61e9f415b937134a3c4c0063",
          "61e9f415b937134a3c4c0063",
          "61e9f415b937134a3c4c0063",
          "61e9f415b937134a3c4c0063",
          "61e9f415b937134a3c4c0063",
          "61e9f415b937134a3c4c0063",
          "61e9f415b937134a3c4c0063",
          "61e9f415b937134a3c4c0063",
          "61e9f415b937134a3c4c0063",
          "61e9f415b937134a3c4c0063",
          "61e9f415b937134a3c4c0063",
          "61e9f415b937134a3c4c0063",
          "61e9f415b937134a3c4c0063",
          "61e9f415b937134a3c4c0063",
          "61e9f415b937134a3c4c0063",
          "61e9f415b937134a3c4c0063",
          "61e9f415b937134a3c4c0063",
          "61e9f415b937134a3c4c0063",
          "61e9f415b937134a3c4c0063",
          "61e9f415b937134a3c4c0063",
          "61e9f415b937134a3c4c0063",
          "61e9f415b937134a3c4c0063",
          "61e9f415b937134a3c4c0063",
          "61e9f415b937134a3c4c0063",
          "61e9f415b937134a3c4c0063",
          "61e9f415b937134a3c4c0063",
          "61e9f415b937134a3c4c0063",
          "61e9f415b937134a3c4c0063",
          "61e9f415b937134a3c4c0063",
          "61e9f415b937134a3c4c0063",
          "61e9f415b937134a3c4c0063",
          "61e9f415b937134a3c4c0063",
          "61e9f415b937134a3c4c0063",
          "61e9f415b937134a3c4c0063",
          "61e9f415b937134a3c4c0063",
          "61e9f415b937134a3c4c0063",
          "61e9f415b937134a3c4c0063",
          "61e9f415b937134a3c4c0063",
          "61e9f415b937134a3c4c0063",
          "61e9f415b937134a3c4c0063",
          "61e9f415b937134a3c4c0063",
          "61e9f415b937134a3c4c0063",
          "61e9f415b937134a3c4c0063",
          "61e9f415b937134a3c4c0063",
          "61e9f415b937134a3c4c0063",
          "61e9f415b937134a3c4c0063",
          "61e9f415b937134a3c4c0063",
          "61e9f415b937134a3c4c0063",
          "61e9f415b937134a3c4c0063",
          "61e9f415b937134a3c4c0063",
          "61e9f415b937134a3c4c0063",
          "61e9f415b937134a3c4c0063",
          "61e9f415b937134a3c4c0063",
          "61e9f415b937134a3c4c0063",
          "61e9f415b937134a3c4c0063",
          "61e9f415b937134a3c4c0063",
          "61e9f415b937134a3c4c0063",
          "61e9f415b937134a3c4c0063",
          "61e9f415b937134a3c4c0063",
          "61e9f415b937134a3c4c0063",
          "61e9f415b937134a3c4c0063",
          "61e9f415b937134a3c4c0063",
          "61e9f415b937134a3c4c0063",
          "61e9f415b937134a3c4c0063",
          "61e9f415b937134a3c4c0063",
          "61e9f415b937134a3c4c0063",
          "61e9f415b937134a3c4c0063",
          "61e9f415b937134a3c4c0063",
          "61e9f415b937134a3c4c0063",
          "61e9f415b937134a3c4c0063",
          "61e9f415b937134a3c4c0063",
          "61e9f415b937134a3c4c0063",
          "61e9f415b937134a3c4c0063",
          "61e9f415b937134a3c4c0063",
          "61e9f415b937134a3c4c0063",
          "61e9f415b937134a3c4c0063",
          "61e9f415b937134a3c4c0063",
          "61e9f415b937134a3c4c0063",
          "61e9f415b937134a3c4c0063",
          "61e9f415b937134a3c4c0063",
          "61e9f415b937134a3c4c0063",
          "61e9f415b937134a3c4c0063",
          "61e9f415b937134a3c4c0063",
          "61e9f415b937134a3c4c0063",
          "61e9f415b937134a3c4c0063",
          "61e9f415b937134a3c4c0063",
          "61e9f415b937134a3c4c0063",
          "61e9f415b937134a3c4c0063",
          "61e9f415b937134a3c4c0063",
          "61e9f415b937134a3c4c0063",
          "61e9f415b937134a3c4c0063",
          "61e9f415b937134a3c4c0063",
          "61e9f415b937134a3c4c0063",
          "61e9f415b937134a3c4c0063",
          "61e9f415b937134a3c4c0063",
          "61e9f415b937134a3c4c0063",
          "61e9f415b937134a3c4c0063",
          "61e9f415b937134a3c4c0063",
          "61e9f415b937134a3c4c0063",
          "61e9f415b937134a3c4c0063",
          "61e9f415b937134a3c4c0063",
          "61e9f415b937134a3c4c0063",
          "61e9f415b937134a3c4c0063",
          "61e9f415b937134a3c4c0063",
          "61e9f415b937134a3c4c0063",
          "61e9f415b937134a3c4c0063",
          "61e9f415b937134a3c4c0063",
          "61e9f415b937134a3c4c0063",
          "61e9f415b937134a3c4c0063",
          "61e9f415b937134a3c4c0063",
          "61e9f415b937134a3c4c0063",
          "61e9f415b937134a3c4c0063",
          "61e9f415b937134a3c4c0063",
          "61e9f415b937134a3c4c0063",
          "61e9f415b937134a3c4c0063",
          "61e9f415b937134a3c4c0063",
          "61e9f415b937134a3c4c0063",
          "61e9f415b937134a3c4c0063",
          "61e9f415b937134a3c4c0063",
          "61e9f415b937134a3c4c0063",
          "61e9f415b937134a3c4c0063",
          "61e9f415b937134a3c4c0063",
          "61e9f415b937134a3c4c0063",
          "61e9f415b937134a3c4c0063",
          "61e9f415b937134a3c4c0063",
          "61e9f415b937134a3c4c0063",
          "61e9f415b937134a3c4c0063",
          "61e9f415b937134a3c4c0063",
          "61e9f415b937134a3c4c0063",
          "61e9f415b937134a3c4c0063",
          "61e9f415b937134a3c4c0063",
          "61e9f415b937134a3c4c0063",
          "61e9f415b937134a3c4c0063",
          "61e9f415b937134a3c4c0063",
          "61e9f415b937134a3c4c0063",
          "61e9f415b937134a3c4c0063",
          "61e9f415b937134a3c4c0063",
          "61e9f415b937134a3c4c0063",
          "61e9f415b937134a3c4c0063",
          "61e9f415b937134a3c4c0063",
          "61e9f415b937134a3c4c0063",
          "61e9f415b937134a3c4c0063",
          "61e9f415b937134a3c4c0063",
          "61e9f415b937134a3c4c0063",
          "61e9f415b937134a3c4c0063",
          "61e9f415b937134a3c4c0063",
          "61e9f415b937134a3c4c0063",
          "61e9f415b937134a3c4c0063",
          "61e9f415b937134a3c4c0063",
          "61e9f415b937134a3c4c0063",
          "61e9f415b937134a3c4c0063",
          "61e9f415b937134a3c4c0063",
          "61e9f415b937134a3c4c0063",
          "61e9f415b937134a3c4c0063",
          "61e9f415b937134a3c4c0063",
          "61e9f415b937134a3c4c0063",
          "61e9f415b937134a3c4c0063",
          "61e9f415b937134a3c4c0063",
          "61e9f415b937134a3c4c0063",
          "61e9f415b937134a3c4c0063",
          "61e9f415b937134a3c4c0063",
          "61e9f415b937134a3c4c0063",
          "61e9f415b937134a3c4c0063",
          "61e9f415b937134a3c4c0063",
          "61e9f415b937134a3c4c0063",
          "61e9f415b937134a3c4c0063",
          "61e9f415b937134a3c4c0063",
          "61e9f415b937134a3c4c0063",
          "61e9f415b937134a3c4c0063",
          "61e9f415b937134a3c4c0063",
          "61e9f415b937134a3c4c0063",
          "61e9f415b937134a3c4c0063",
          "61e9f415b937134a3c4c0063",
          "61e9f415b937134a3c4c0063",
          "61e9f415b937134a3c4c0063",
          "61e9f415b937134a3c4c0063",
          "61e9f415b937134a3c4c0063",
          "61e9f415b937134a3c4c0063",
          "61e9f415b937134a3c4c0063",
          "61e9f415b937134a3c4c0063",
          "61e9f415b937134a3c4c0063",
          "61e9f415b937134a3c4c0063",
          "61e9f415b937134a3c4c0063",
          "61e9f415b937134a3c4c0063",
          "61e9f415b937134a3c4c0063",
          "61e9f415b937134a3c4c0063",
          "61e9f415b937134a3c4c0063",
          "61e9f415b937134a3c4c0063",
          "61e9f415b937134a3c4c0063",
          "61e9f415b937134a3c4c0063",
          "61e9f415b937134a3c4c0063",
          "61e9f415b937134a3c4c0063",
          "61e9f415b937134a3c4c0063",
          "61e9f415b937134a3c4c0063",
          "61e9f415b937134a3c4c0063",
          "61e9f415b937134a3c4c0063",
          "61e9f415b937134a3c4c0063",
          "61e9f415b937134a3c4c0063",
          "61e9f415b937134a3c4c0063",
          "61e9f415b937134a3c4c0063",
          "61e9f415b937134a3c4c0063",
          "61e9f415b937134a3c4c0063",
          "61e9f415b937134a3c4c0063",
          "61e9f415b937134a3c4c0063",
          "61e9f415b937134a3c4c0063",
          "61e9f415b937134a3c4c0063",
          "61e9f415b937134a3c4c0063",
          "61e9f415b937134a3c4c0063",
          "61e9f415b937134a3c4c0063",
          "61e9f415b937134a3c4c0063",
          "61e9f415b937134a3c4c0063",
          "61e9f415b937134a3c4c0063",
          "61e9f415b937134a3c4c0063",
          "61e9f415b937134a3c4c0063",
          "61e9f415b937134a3c4c0063",
          "61e9f415b937134a3c4c0063",
          "61e9f415b937134a3c4c0063",
          "61e9f415b937134a3c4c0063",
          "61e9f415b937134a3c4c0063",
          "61e9f415b937134a3c4c0063",
          "61e9f415b937134a3c4c0063",
          "61e9f415b937134a3c4c0063",
          "61e9f415b937134a3c4c0063",
          "61e9f415b937134a3c4c0063",
          "61e9f415b937134a3c4c0063",
          "61e9f415b937134a3c4c0063",
          "61e9f415b937134a3c4c0063",
          "61e9f415b937134a3c4c0063",
          "61e9f415b937134a3c4c0063",
          "61e9f415b937134a3c4c0063",
          "61e9f415b937134a3c4c0063",
          "61e9f415b937134a3c4c0063",
          "61e9f415b937134a3c4c0063",
          "61e9f415b937134a3c4c0063",
          "61e9f415b937134a3c4c0063",
          "61e9f415b937134a3c4c0063",
          "61e9f415b937134a3c4c0063",
          "61e9f415b937134a3c4c0063",
          "61e9f415b937134a3c4c0063",
          "61e9f415b937134a3c4c0063",
          "61e9f415b937134a3c4c0063",
          "61e9f415b937134a3c4c0063",
          "61e9f415b937134a3c4c0063",
          "61e9f415b937134a3c4c0063",
          "61e9f415b937134a3c4c0063",
          "61e9f415b937134a3c4c0063",
          "61e9f415b937134a3c4c0063",
          "61e9f415b937134a3c4c0063",
          "61e9f415b937134a3c4c0063",
          "61e9f415b937134a3c4c0063",
          "61e9f415b937134a3c4c0063",
          "61e9f415b937134a3c4c0063",
          "61e9f415b937134a3c4c0063",
          "61e9f415b937134a3c4c0063",
          "61e9f415b937134a3c4c0063",
          "61e9f415b937134a3c4c0063",
          "61e9f415b937134a3c4c0063",
          "61e9f415b937134a3c4c0063",
          "61e9f415b937134a3c4c0063",
          "61e9f415b937134a3c4c0063",
          "61e9f415b937134a3c4c0063",
          "61e9f415b937134a3c4c0063",
          "61e9f415b937134a3c4c0063",
          "61e9f415b937134a3c4c0063",
          "61e9f415b937134a3c4c0063",
          "61e9f415b937134a3c4c0063",
          "61e9f415b937134a3c4c0063",
          "61e9f415b937134a3c4c0063",
          "61e9f415b937134a3c4c0063"
         ],
         "lat": [
          49.47173,
          49.47173,
          49.47173,
          49.47173,
          49.47174,
          49.47174,
          49.47174,
          49.47174,
          49.47174,
          49.47174,
          49.47174,
          49.47174,
          49.47174,
          49.47173,
          49.47173,
          49.47173,
          49.47173,
          49.47173,
          49.47173,
          49.47173,
          49.47173,
          49.47173,
          49.47173,
          49.47173,
          49.47173,
          49.47173,
          49.47173,
          49.47173,
          49.47173,
          49.47173,
          49.47173,
          49.47173,
          49.47173,
          49.47173,
          49.47174,
          49.47173,
          49.47173,
          49.47173,
          49.47173,
          49.47173,
          49.47173,
          49.47173,
          49.47173,
          49.47173,
          49.47173,
          49.47173,
          49.47173,
          49.47173,
          49.47173,
          49.47173,
          49.47173,
          49.47173,
          49.47173,
          49.47173,
          49.47173,
          49.47173,
          49.47173,
          49.47173,
          49.47173,
          49.47173,
          49.47173,
          49.47173,
          49.47173,
          49.47173,
          49.47173,
          49.47173,
          49.47173,
          49.47173,
          49.47173,
          49.47174,
          49.47174,
          49.47174,
          49.47174,
          49.47174,
          49.47174,
          49.47174,
          49.47174,
          49.47174,
          49.47173,
          49.47173,
          49.47173,
          49.47174,
          49.47174,
          49.47174,
          49.47173,
          49.47173,
          49.47173,
          49.47173,
          49.47173,
          49.47173,
          49.47173,
          49.47173,
          49.47173,
          49.47173,
          49.47173,
          49.47173,
          49.47173,
          49.47173,
          49.47173,
          49.47173,
          49.47173,
          49.47173,
          49.47173,
          49.47174,
          49.47173,
          49.47173,
          49.47173,
          49.47173,
          49.47174,
          49.47174,
          49.47174,
          49.47174,
          49.47174,
          49.47174,
          49.47174,
          49.47173,
          49.47173,
          49.47173,
          49.47173,
          49.47173,
          49.47173,
          49.47173,
          49.47173,
          49.47173,
          49.47173,
          49.47173,
          49.47173,
          49.47174,
          49.47174,
          49.47174,
          49.47174,
          49.47173,
          49.47174,
          49.47173,
          49.47173,
          49.47173,
          49.47173,
          49.47173,
          49.47173,
          49.47173,
          49.47173,
          49.47174,
          49.47174,
          49.47174,
          49.47174,
          49.47174,
          49.47174,
          49.47174,
          49.47174,
          49.47173,
          49.47173,
          49.47173,
          49.47174,
          49.47174,
          49.47174,
          49.47174,
          49.47173,
          49.47173,
          49.47173,
          49.47173,
          49.47173,
          49.47173,
          49.47173,
          49.47173,
          49.47173,
          49.47173,
          49.47173,
          49.47173,
          49.47173,
          49.47173,
          49.47173,
          49.47173,
          49.47173,
          49.47173,
          49.47173,
          49.47173,
          49.47174,
          49.47173,
          49.47174,
          49.47174,
          49.47174,
          49.47174,
          49.47174,
          49.47174,
          49.47174,
          49.47174,
          49.47174,
          49.47174,
          49.47173,
          49.47173,
          49.47173,
          49.47173,
          49.47173,
          49.47173,
          49.47173,
          49.47173,
          49.47173,
          49.47173,
          49.47174,
          49.47174,
          49.47174,
          49.47174,
          49.47174,
          49.47174,
          49.47174,
          49.47173,
          49.47173,
          49.47173,
          49.47173,
          49.47173,
          49.47173,
          49.47173,
          49.47174,
          49.47174,
          49.47174,
          49.47174,
          49.47174,
          49.47174,
          49.47174,
          49.47174,
          49.47174,
          49.47174,
          49.47174,
          49.47174,
          49.47174,
          49.47174,
          49.47174,
          49.47174,
          49.47173,
          49.47173,
          49.47173,
          49.47173,
          49.47173,
          49.47173,
          49.47174,
          49.47173,
          49.47173,
          49.47173,
          49.47173,
          49.47173,
          49.47173,
          49.47173,
          49.47173,
          49.47173,
          49.47173,
          49.47173,
          49.47173,
          49.47173,
          49.47173,
          49.47174,
          49.47174,
          49.47174,
          49.47174,
          49.47174,
          49.47174,
          49.47174,
          49.47174,
          49.47174,
          49.47174,
          49.47173,
          49.47173,
          49.47173,
          49.47173,
          49.47174,
          49.47174,
          49.47173,
          49.47173,
          49.47173,
          49.47173,
          49.47173,
          49.47174,
          49.47174,
          49.47174,
          49.47174,
          49.47174,
          49.47174,
          49.47174,
          49.47173,
          49.47173,
          49.47173,
          49.47173,
          49.47173,
          49.47173,
          49.47173,
          49.47174,
          49.47174,
          49.47174,
          49.47174,
          49.47174,
          49.47174,
          49.47174,
          49.47174,
          49.47174,
          49.47174,
          49.47174,
          49.47174,
          49.47174,
          49.47174,
          49.47174,
          49.47174,
          49.47174,
          49.47174,
          49.47173,
          49.47173,
          49.47173,
          49.47174,
          49.47174,
          49.47173,
          49.47174,
          49.47173,
          49.47174,
          49.47173,
          49.47173,
          49.47173,
          49.47173,
          49.47173,
          49.47173,
          49.47173,
          49.47173,
          49.47173,
          49.47173,
          49.47173,
          49.47173,
          49.47174,
          49.47174,
          49.47174,
          49.47174,
          49.47174,
          49.47173,
          49.47174,
          49.47173,
          49.47173,
          49.47173,
          49.47745,
          49.47586,
          49.47579,
          49.47494,
          49.49363,
          49.5177,
          49.54938,
          49.57468,
          49.59862,
          49.61592,
          49.6382,
          49.66059,
          49.68221,
          49.70446,
          49.71491,
          49.74789,
          49.76376,
          50.00852
         ],
         "legendgroup": "61e9f415b937134a3c4c0063",
         "line": {
          "color": "#636EFA",
          "dash": "solid"
         },
         "lon": [
          0.19627,
          0.19626,
          0.19626,
          0.19626,
          0.19626,
          0.19626,
          0.19626,
          0.19626,
          0.19626,
          0.19626,
          0.19626,
          0.19626,
          0.19626,
          0.19626,
          0.19626,
          0.19626,
          0.19626,
          0.19626,
          0.19626,
          0.19627,
          0.19626,
          0.19626,
          0.19626,
          0.19626,
          0.19626,
          0.19626,
          0.19626,
          0.19626,
          0.19626,
          0.19627,
          0.19627,
          0.19627,
          0.19627,
          0.19627,
          0.19627,
          0.19626,
          0.19626,
          0.19626,
          0.19626,
          0.19626,
          0.19626,
          0.19626,
          0.19626,
          0.19626,
          0.19626,
          0.19626,
          0.19626,
          0.19626,
          0.19626,
          0.19626,
          0.19626,
          0.19626,
          0.19626,
          0.19626,
          0.19626,
          0.19626,
          0.19626,
          0.19626,
          0.19626,
          0.19626,
          0.19626,
          0.19626,
          0.19626,
          0.19626,
          0.19626,
          0.19626,
          0.19626,
          0.19626,
          0.19626,
          0.19626,
          0.19626,
          0.19626,
          0.19626,
          0.19626,
          0.19626,
          0.19626,
          0.19626,
          0.19626,
          0.19626,
          0.19626,
          0.19626,
          0.19625,
          0.19625,
          0.19625,
          0.19626,
          0.19626,
          0.19626,
          0.19626,
          0.19626,
          0.19626,
          0.19626,
          0.19626,
          0.19626,
          0.19626,
          0.19626,
          0.19626,
          0.19625,
          0.19625,
          0.19626,
          0.19626,
          0.19626,
          0.19626,
          0.19626,
          0.19626,
          0.19626,
          0.19626,
          0.19626,
          0.19626,
          0.19626,
          0.19626,
          0.19626,
          0.19626,
          0.19626,
          0.19626,
          0.19626,
          0.19626,
          0.19626,
          0.19626,
          0.19626,
          0.19626,
          0.19626,
          0.19626,
          0.19626,
          0.19626,
          0.19626,
          0.19626,
          0.19626,
          0.19626,
          0.19626,
          0.19626,
          0.19627,
          0.19627,
          0.19627,
          0.19627,
          0.19626,
          0.19626,
          0.19626,
          0.19626,
          0.19626,
          0.19626,
          0.19626,
          0.19626,
          0.19626,
          0.19626,
          0.19627,
          0.19626,
          0.19626,
          0.19626,
          0.19626,
          0.19626,
          0.19626,
          0.19626,
          0.19626,
          0.19626,
          0.19626,
          0.19626,
          0.19626,
          0.19626,
          0.19626,
          0.19626,
          0.19626,
          0.19626,
          0.19626,
          0.19626,
          0.19626,
          0.19626,
          0.19626,
          0.19626,
          0.19626,
          0.19626,
          0.19626,
          0.19626,
          0.19626,
          0.19626,
          0.19626,
          0.19627,
          0.19626,
          0.19626,
          0.19626,
          0.19626,
          0.19626,
          0.19627,
          0.19627,
          0.19626,
          0.19626,
          0.19627,
          0.19626,
          0.19626,
          0.19626,
          0.19626,
          0.19626,
          0.19626,
          0.19626,
          0.19626,
          0.19626,
          0.19626,
          0.19626,
          0.19626,
          0.19626,
          0.19626,
          0.19626,
          0.19627,
          0.19627,
          0.19627,
          0.19627,
          0.19627,
          0.19626,
          0.19626,
          0.19626,
          0.19626,
          0.19626,
          0.19626,
          0.19626,
          0.19626,
          0.19626,
          0.19626,
          0.19626,
          0.19626,
          0.19626,
          0.19626,
          0.19626,
          0.19626,
          0.19626,
          0.19626,
          0.19626,
          0.19625,
          0.19625,
          0.19625,
          0.19626,
          0.19626,
          0.19626,
          0.19626,
          0.19626,
          0.19626,
          0.19626,
          0.19626,
          0.19626,
          0.19626,
          0.19626,
          0.19626,
          0.19626,
          0.19626,
          0.19626,
          0.19626,
          0.19626,
          0.19626,
          0.19626,
          0.19626,
          0.19626,
          0.19626,
          0.19626,
          0.19626,
          0.19626,
          0.19626,
          0.19626,
          0.19626,
          0.19626,
          0.19626,
          0.19626,
          0.19626,
          0.19626,
          0.19626,
          0.19626,
          0.19626,
          0.19626,
          0.19625,
          0.19625,
          0.19625,
          0.19625,
          0.19625,
          0.19626,
          0.19626,
          0.19626,
          0.19626,
          0.19626,
          0.19626,
          0.19626,
          0.19626,
          0.19626,
          0.19626,
          0.19626,
          0.19626,
          0.19626,
          0.19626,
          0.19626,
          0.19626,
          0.19626,
          0.19626,
          0.19626,
          0.19625,
          0.19626,
          0.19626,
          0.19626,
          0.19625,
          0.19625,
          0.19625,
          0.19625,
          0.19625,
          0.19625,
          0.19625,
          0.19625,
          0.19626,
          0.19625,
          0.19625,
          0.19625,
          0.19625,
          0.19625,
          0.19626,
          0.19626,
          0.19625,
          0.19625,
          0.19625,
          0.19625,
          0.19626,
          0.19626,
          0.19626,
          0.19626,
          0.19626,
          0.19626,
          0.19626,
          0.19626,
          0.19626,
          0.19626,
          0.19626,
          0.19626,
          0.19626,
          0.19626,
          0.19626,
          0.19626,
          0.19626,
          0.19626,
          0.19626,
          0.19626,
          0.18193,
          0.17351,
          0.17313,
          0.12037,
          0.01981,
          -0.08638,
          -0.19235,
          -0.29885,
          -0.3997,
          -0.4726,
          -0.56649,
          -0.6612,
          -0.75258,
          -0.8466,
          -0.8907,
          -1.03014,
          -1.09722,
          -2.22267
         ],
         "marker": {
          "symbol": "circle"
         },
         "mode": "lines",
         "name": "61e9f415b937134a3c4c0063",
         "showlegend": true,
         "type": "scattergeo"
        },
        {
         "hoverinfo": "text",
         "lat": [
          49.47173,
          49.47173,
          49.47173,
          49.47173,
          49.47174,
          49.47174,
          49.47174,
          49.47174,
          49.47174,
          49.47174,
          49.47174,
          49.47174,
          49.47174,
          49.47173,
          49.47173,
          49.47173,
          49.47173,
          49.47173,
          49.47173,
          49.47173,
          49.47173,
          49.47173,
          49.47173,
          49.47173,
          49.47173,
          49.47173,
          49.47173,
          49.47173,
          49.47173,
          49.47173,
          49.47173,
          49.47173,
          49.47173,
          49.47173,
          49.47174,
          49.47173,
          49.47173,
          49.47173,
          49.47173,
          49.47173,
          49.47173,
          49.47173,
          49.47173,
          49.47173,
          49.47173,
          49.47173,
          49.47173,
          49.47173,
          49.47173,
          49.47173,
          49.47173,
          49.47173,
          49.47173,
          49.47173,
          49.47173,
          49.47173,
          49.47173,
          49.47173,
          49.47173,
          49.47173,
          49.47173,
          49.47173,
          49.47173,
          49.47173,
          49.47173,
          49.47173,
          49.47173,
          49.47173,
          49.47173,
          49.47174,
          49.47174,
          49.47174,
          49.47174,
          49.47174,
          49.47174,
          49.47174,
          49.47174,
          49.47174,
          49.47173,
          49.47173,
          49.47173,
          49.47174,
          49.47174,
          49.47174,
          49.47173,
          49.47173,
          49.47173,
          49.47173,
          49.47173,
          49.47173,
          49.47173,
          49.47173,
          49.47173,
          49.47173,
          49.47173,
          49.47173,
          49.47173,
          49.47173,
          49.47173,
          49.47173,
          49.47173,
          49.47173,
          49.47173,
          49.47174,
          49.47173,
          49.47173,
          49.47173,
          49.47173,
          49.47174,
          49.47174,
          49.47174,
          49.47174,
          49.47174,
          49.47174,
          49.47174,
          49.47173,
          49.47173,
          49.47173,
          49.47173,
          49.47173,
          49.47173,
          49.47173,
          49.47173,
          49.47173,
          49.47173,
          49.47173,
          49.47173,
          49.47174,
          49.47174,
          49.47174,
          49.47174,
          49.47173,
          49.47174,
          49.47173,
          49.47173,
          49.47173,
          49.47173,
          49.47173,
          49.47173,
          49.47173,
          49.47173,
          49.47174,
          49.47174,
          49.47174,
          49.47174,
          49.47174,
          49.47174,
          49.47174,
          49.47174,
          49.47173,
          49.47173,
          49.47173,
          49.47174,
          49.47174,
          49.47174,
          49.47174,
          49.47173,
          49.47173,
          49.47173,
          49.47173,
          49.47173,
          49.47173,
          49.47173,
          49.47173,
          49.47173,
          49.47173,
          49.47173,
          49.47173,
          49.47173,
          49.47173,
          49.47173,
          49.47173,
          49.47173,
          49.47173,
          49.47173,
          49.47173,
          49.47174,
          49.47173,
          49.47174,
          49.47174,
          49.47174,
          49.47174,
          49.47174,
          49.47174,
          49.47174,
          49.47174,
          49.47174,
          49.47174,
          49.47173,
          49.47173,
          49.47173,
          49.47173,
          49.47173,
          49.47173,
          49.47173,
          49.47173,
          49.47173,
          49.47173,
          49.47174,
          49.47174,
          49.47174,
          49.47174,
          49.47174,
          49.47174,
          49.47174,
          49.47173,
          49.47173,
          49.47173,
          49.47173,
          49.47173,
          49.47173,
          49.47173,
          49.47174,
          49.47174,
          49.47174,
          49.47174,
          49.47174,
          49.47174,
          49.47174,
          49.47174,
          49.47174,
          49.47174,
          49.47174,
          49.47174,
          49.47174,
          49.47174,
          49.47174,
          49.47174,
          49.47173,
          49.47173,
          49.47173,
          49.47173,
          49.47173,
          49.47173,
          49.47174,
          49.47173,
          49.47173,
          49.47173,
          49.47173,
          49.47173,
          49.47173,
          49.47173,
          49.47173,
          49.47173,
          49.47173,
          49.47173,
          49.47173,
          49.47173,
          49.47173,
          49.47174,
          49.47174,
          49.47174,
          49.47174,
          49.47174,
          49.47174,
          49.47174,
          49.47174,
          49.47174,
          49.47174,
          49.47173,
          49.47173,
          49.47173,
          49.47173,
          49.47174,
          49.47174,
          49.47173,
          49.47173,
          49.47173,
          49.47173,
          49.47173,
          49.47174,
          49.47174,
          49.47174,
          49.47174,
          49.47174,
          49.47174,
          49.47174,
          49.47173,
          49.47173,
          49.47173,
          49.47173,
          49.47173,
          49.47173,
          49.47173,
          49.47174,
          49.47174,
          49.47174,
          49.47174,
          49.47174,
          49.47174,
          49.47174,
          49.47174,
          49.47174,
          49.47174,
          49.47174,
          49.47174,
          49.47174,
          49.47174,
          49.47174,
          49.47174,
          49.47174,
          49.47174,
          49.47173,
          49.47173,
          49.47173,
          49.47174,
          49.47174,
          49.47173,
          49.47174,
          49.47173,
          49.47174,
          49.47173,
          49.47173,
          49.47173,
          49.47173,
          49.47173,
          49.47173,
          49.47173,
          49.47173,
          49.47173,
          49.47173,
          49.47173,
          49.47173,
          49.47174,
          49.47174,
          49.47174,
          49.47174,
          49.47174,
          49.47173,
          49.47174,
          49.47173,
          49.47173,
          49.47173,
          49.47745,
          49.47586,
          49.47579,
          49.47494,
          49.49363,
          49.5177,
          49.54938,
          49.57468,
          49.59862,
          49.61592,
          49.6382,
          49.66059,
          49.68221,
          49.70446,
          49.71491,
          49.74789,
          49.76376,
          50.00852
         ],
         "lon": [
          0.19627,
          0.19626,
          0.19626,
          0.19626,
          0.19626,
          0.19626,
          0.19626,
          0.19626,
          0.19626,
          0.19626,
          0.19626,
          0.19626,
          0.19626,
          0.19626,
          0.19626,
          0.19626,
          0.19626,
          0.19626,
          0.19626,
          0.19627,
          0.19626,
          0.19626,
          0.19626,
          0.19626,
          0.19626,
          0.19626,
          0.19626,
          0.19626,
          0.19626,
          0.19627,
          0.19627,
          0.19627,
          0.19627,
          0.19627,
          0.19627,
          0.19626,
          0.19626,
          0.19626,
          0.19626,
          0.19626,
          0.19626,
          0.19626,
          0.19626,
          0.19626,
          0.19626,
          0.19626,
          0.19626,
          0.19626,
          0.19626,
          0.19626,
          0.19626,
          0.19626,
          0.19626,
          0.19626,
          0.19626,
          0.19626,
          0.19626,
          0.19626,
          0.19626,
          0.19626,
          0.19626,
          0.19626,
          0.19626,
          0.19626,
          0.19626,
          0.19626,
          0.19626,
          0.19626,
          0.19626,
          0.19626,
          0.19626,
          0.19626,
          0.19626,
          0.19626,
          0.19626,
          0.19626,
          0.19626,
          0.19626,
          0.19626,
          0.19626,
          0.19626,
          0.19625,
          0.19625,
          0.19625,
          0.19626,
          0.19626,
          0.19626,
          0.19626,
          0.19626,
          0.19626,
          0.19626,
          0.19626,
          0.19626,
          0.19626,
          0.19626,
          0.19626,
          0.19625,
          0.19625,
          0.19626,
          0.19626,
          0.19626,
          0.19626,
          0.19626,
          0.19626,
          0.19626,
          0.19626,
          0.19626,
          0.19626,
          0.19626,
          0.19626,
          0.19626,
          0.19626,
          0.19626,
          0.19626,
          0.19626,
          0.19626,
          0.19626,
          0.19626,
          0.19626,
          0.19626,
          0.19626,
          0.19626,
          0.19626,
          0.19626,
          0.19626,
          0.19626,
          0.19626,
          0.19626,
          0.19626,
          0.19626,
          0.19627,
          0.19627,
          0.19627,
          0.19627,
          0.19626,
          0.19626,
          0.19626,
          0.19626,
          0.19626,
          0.19626,
          0.19626,
          0.19626,
          0.19626,
          0.19626,
          0.19627,
          0.19626,
          0.19626,
          0.19626,
          0.19626,
          0.19626,
          0.19626,
          0.19626,
          0.19626,
          0.19626,
          0.19626,
          0.19626,
          0.19626,
          0.19626,
          0.19626,
          0.19626,
          0.19626,
          0.19626,
          0.19626,
          0.19626,
          0.19626,
          0.19626,
          0.19626,
          0.19626,
          0.19626,
          0.19626,
          0.19626,
          0.19626,
          0.19626,
          0.19626,
          0.19626,
          0.19627,
          0.19626,
          0.19626,
          0.19626,
          0.19626,
          0.19626,
          0.19627,
          0.19627,
          0.19626,
          0.19626,
          0.19627,
          0.19626,
          0.19626,
          0.19626,
          0.19626,
          0.19626,
          0.19626,
          0.19626,
          0.19626,
          0.19626,
          0.19626,
          0.19626,
          0.19626,
          0.19626,
          0.19626,
          0.19626,
          0.19627,
          0.19627,
          0.19627,
          0.19627,
          0.19627,
          0.19626,
          0.19626,
          0.19626,
          0.19626,
          0.19626,
          0.19626,
          0.19626,
          0.19626,
          0.19626,
          0.19626,
          0.19626,
          0.19626,
          0.19626,
          0.19626,
          0.19626,
          0.19626,
          0.19626,
          0.19626,
          0.19626,
          0.19625,
          0.19625,
          0.19625,
          0.19626,
          0.19626,
          0.19626,
          0.19626,
          0.19626,
          0.19626,
          0.19626,
          0.19626,
          0.19626,
          0.19626,
          0.19626,
          0.19626,
          0.19626,
          0.19626,
          0.19626,
          0.19626,
          0.19626,
          0.19626,
          0.19626,
          0.19626,
          0.19626,
          0.19626,
          0.19626,
          0.19626,
          0.19626,
          0.19626,
          0.19626,
          0.19626,
          0.19626,
          0.19626,
          0.19626,
          0.19626,
          0.19626,
          0.19626,
          0.19626,
          0.19626,
          0.19626,
          0.19625,
          0.19625,
          0.19625,
          0.19625,
          0.19625,
          0.19626,
          0.19626,
          0.19626,
          0.19626,
          0.19626,
          0.19626,
          0.19626,
          0.19626,
          0.19626,
          0.19626,
          0.19626,
          0.19626,
          0.19626,
          0.19626,
          0.19626,
          0.19626,
          0.19626,
          0.19626,
          0.19626,
          0.19625,
          0.19626,
          0.19626,
          0.19626,
          0.19625,
          0.19625,
          0.19625,
          0.19625,
          0.19625,
          0.19625,
          0.19625,
          0.19625,
          0.19626,
          0.19625,
          0.19625,
          0.19625,
          0.19625,
          0.19625,
          0.19626,
          0.19626,
          0.19625,
          0.19625,
          0.19625,
          0.19625,
          0.19626,
          0.19626,
          0.19626,
          0.19626,
          0.19626,
          0.19626,
          0.19626,
          0.19626,
          0.19626,
          0.19626,
          0.19626,
          0.19626,
          0.19626,
          0.19626,
          0.19626,
          0.19626,
          0.19626,
          0.19626,
          0.19626,
          0.19626,
          0.18193,
          0.17351,
          0.17313,
          0.12037,
          0.01981,
          -0.08638,
          -0.19235,
          -0.29885,
          -0.3997,
          -0.4726,
          -0.56649,
          -0.6612,
          -0.75258,
          -0.8466,
          -0.8907,
          -1.03014,
          -1.09722,
          -2.22267
         ],
         "marker": {
          "color": "#636EFA",
          "line": {
           "color": "DarkSlateGrey",
           "width": 1
          },
          "opacity": 0.8,
          "size": 8
         },
         "mode": "markers",
         "name": "Markers for 61e9f415b937134a3c4c0063",
         "text": [
          "ID: 61e9f415b937134a3c4c0063<br>Time: 2024-05-03 00:17:19<br>Lat: 49.472<br>Lon: 0.196",
          "ID: 61e9f415b937134a3c4c0063<br>Time: 2024-05-03 00:38:19<br>Lat: 49.472<br>Lon: 0.196",
          "ID: 61e9f415b937134a3c4c0063<br>Time: 2024-05-03 00:53:20<br>Lat: 49.472<br>Lon: 0.196",
          "ID: 61e9f415b937134a3c4c0063<br>Time: 2024-05-03 01:14:23<br>Lat: 49.472<br>Lon: 0.196",
          "ID: 61e9f415b937134a3c4c0063<br>Time: 2024-05-03 01:32:19<br>Lat: 49.472<br>Lon: 0.196",
          "ID: 61e9f415b937134a3c4c0063<br>Time: 2024-05-03 01:53:22<br>Lat: 49.472<br>Lon: 0.196",
          "ID: 61e9f415b937134a3c4c0063<br>Time: 2024-05-03 02:14:21<br>Lat: 49.472<br>Lon: 0.196",
          "ID: 61e9f415b937134a3c4c0063<br>Time: 2024-05-03 02:35:25<br>Lat: 49.472<br>Lon: 0.196",
          "ID: 61e9f415b937134a3c4c0063<br>Time: 2024-05-03 02:56:22<br>Lat: 49.472<br>Lon: 0.196",
          "ID: 61e9f415b937134a3c4c0063<br>Time: 2024-05-03 03:14:25<br>Lat: 49.472<br>Lon: 0.196",
          "ID: 61e9f415b937134a3c4c0063<br>Time: 2024-05-03 03:36:22<br>Lat: 49.472<br>Lon: 0.196",
          "ID: 61e9f415b937134a3c4c0063<br>Time: 2024-05-03 03:56:19<br>Lat: 49.472<br>Lon: 0.196",
          "ID: 61e9f415b937134a3c4c0063<br>Time: 2024-05-03 04:17:17<br>Lat: 49.472<br>Lon: 0.196",
          "ID: 61e9f415b937134a3c4c0063<br>Time: 2024-05-03 04:38:26<br>Lat: 49.472<br>Lon: 0.196",
          "ID: 61e9f415b937134a3c4c0063<br>Time: 2024-05-03 04:59:26<br>Lat: 49.472<br>Lon: 0.196",
          "ID: 61e9f415b937134a3c4c0063<br>Time: 2024-05-03 05:14:24<br>Lat: 49.472<br>Lon: 0.196",
          "ID: 61e9f415b937134a3c4c0063<br>Time: 2024-05-03 05:34:53<br>Lat: 49.472<br>Lon: 0.196",
          "ID: 61e9f415b937134a3c4c0063<br>Time: 2024-05-03 05:53:22<br>Lat: 49.472<br>Lon: 0.196",
          "ID: 61e9f415b937134a3c4c0063<br>Time: 2024-05-03 06:14:24<br>Lat: 49.472<br>Lon: 0.196",
          "ID: 61e9f415b937134a3c4c0063<br>Time: 2024-05-03 06:35:22<br>Lat: 49.472<br>Lon: 0.196",
          "ID: 61e9f415b937134a3c4c0063<br>Time: 2024-05-03 06:56:22<br>Lat: 49.472<br>Lon: 0.196",
          "ID: 61e9f415b937134a3c4c0063<br>Time: 2024-05-03 07:17:25<br>Lat: 49.472<br>Lon: 0.196",
          "ID: 61e9f415b937134a3c4c0063<br>Time: 2024-05-03 07:35:25<br>Lat: 49.472<br>Lon: 0.196",
          "ID: 61e9f415b937134a3c4c0063<br>Time: 2024-05-03 07:56:23<br>Lat: 49.472<br>Lon: 0.196",
          "ID: 61e9f415b937134a3c4c0063<br>Time: 2024-05-03 08:17:26<br>Lat: 49.472<br>Lon: 0.196",
          "ID: 61e9f415b937134a3c4c0063<br>Time: 2024-05-03 08:38:26<br>Lat: 49.472<br>Lon: 0.196",
          "ID: 61e9f415b937134a3c4c0063<br>Time: 2024-05-03 08:53:18<br>Lat: 49.472<br>Lon: 0.196",
          "ID: 61e9f415b937134a3c4c0063<br>Time: 2024-05-03 09:14:27<br>Lat: 49.472<br>Lon: 0.196",
          "ID: 61e9f415b937134a3c4c0063<br>Time: 2024-05-03 09:35:23<br>Lat: 49.472<br>Lon: 0.196",
          "ID: 61e9f415b937134a3c4c0063<br>Time: 2024-05-03 09:53:25<br>Lat: 49.472<br>Lon: 0.196",
          "ID: 61e9f415b937134a3c4c0063<br>Time: 2024-05-03 10:14:21<br>Lat: 49.472<br>Lon: 0.196",
          "ID: 61e9f415b937134a3c4c0063<br>Time: 2024-05-03 10:35:27<br>Lat: 49.472<br>Lon: 0.196",
          "ID: 61e9f415b937134a3c4c0063<br>Time: 2024-05-03 10:56:22<br>Lat: 49.472<br>Lon: 0.196",
          "ID: 61e9f415b937134a3c4c0063<br>Time: 2024-05-03 11:17:24<br>Lat: 49.472<br>Lon: 0.196",
          "ID: 61e9f415b937134a3c4c0063<br>Time: 2024-05-03 11:38:22<br>Lat: 49.472<br>Lon: 0.196",
          "ID: 61e9f415b937134a3c4c0063<br>Time: 2024-05-03 11:59:24<br>Lat: 49.472<br>Lon: 0.196",
          "ID: 61e9f415b937134a3c4c0063<br>Time: 2024-05-03 12:17:28<br>Lat: 49.472<br>Lon: 0.196",
          "ID: 61e9f415b937134a3c4c0063<br>Time: 2024-05-03 12:34:48<br>Lat: 49.472<br>Lon: 0.196",
          "ID: 61e9f415b937134a3c4c0063<br>Time: 2024-05-03 12:53:19<br>Lat: 49.472<br>Lon: 0.196",
          "ID: 61e9f415b937134a3c4c0063<br>Time: 2024-05-03 13:14:25<br>Lat: 49.472<br>Lon: 0.196",
          "ID: 61e9f415b937134a3c4c0063<br>Time: 2024-05-03 13:35:20<br>Lat: 49.472<br>Lon: 0.196",
          "ID: 61e9f415b937134a3c4c0063<br>Time: 2024-05-03 13:56:24<br>Lat: 49.472<br>Lon: 0.196",
          "ID: 61e9f415b937134a3c4c0063<br>Time: 2024-05-03 14:14:24<br>Lat: 49.472<br>Lon: 0.196",
          "ID: 61e9f415b937134a3c4c0063<br>Time: 2024-05-03 14:36:03<br>Lat: 49.472<br>Lon: 0.196",
          "ID: 61e9f415b937134a3c4c0063<br>Time: 2024-05-03 14:56:24<br>Lat: 49.472<br>Lon: 0.196",
          "ID: 61e9f415b937134a3c4c0063<br>Time: 2024-05-03 15:17:27<br>Lat: 49.472<br>Lon: 0.196",
          "ID: 61e9f415b937134a3c4c0063<br>Time: 2024-05-03 15:38:21<br>Lat: 49.472<br>Lon: 0.196",
          "ID: 61e9f415b937134a3c4c0063<br>Time: 2024-05-03 15:53:24<br>Lat: 49.472<br>Lon: 0.196",
          "ID: 61e9f415b937134a3c4c0063<br>Time: 2024-05-03 16:14:26<br>Lat: 49.472<br>Lon: 0.196",
          "ID: 61e9f415b937134a3c4c0063<br>Time: 2024-05-03 16:32:25<br>Lat: 49.472<br>Lon: 0.196",
          "ID: 61e9f415b937134a3c4c0063<br>Time: 2024-05-03 16:53:26<br>Lat: 49.472<br>Lon: 0.196",
          "ID: 61e9f415b937134a3c4c0063<br>Time: 2024-05-03 17:14:24<br>Lat: 49.472<br>Lon: 0.196",
          "ID: 61e9f415b937134a3c4c0063<br>Time: 2024-05-03 17:35:30<br>Lat: 49.472<br>Lon: 0.196",
          "ID: 61e9f415b937134a3c4c0063<br>Time: 2024-05-03 17:53:27<br>Lat: 49.472<br>Lon: 0.196",
          "ID: 61e9f415b937134a3c4c0063<br>Time: 2024-05-03 18:14:24<br>Lat: 49.472<br>Lon: 0.196",
          "ID: 61e9f415b937134a3c4c0063<br>Time: 2024-05-03 18:35:31<br>Lat: 49.472<br>Lon: 0.196",
          "ID: 61e9f415b937134a3c4c0063<br>Time: 2024-05-03 18:56:27<br>Lat: 49.472<br>Lon: 0.196",
          "ID: 61e9f415b937134a3c4c0063<br>Time: 2024-05-03 19:17:21<br>Lat: 49.472<br>Lon: 0.196",
          "ID: 61e9f415b937134a3c4c0063<br>Time: 2024-05-03 19:38:30<br>Lat: 49.472<br>Lon: 0.196",
          "ID: 61e9f415b937134a3c4c0063<br>Time: 2024-05-03 19:53:29<br>Lat: 49.472<br>Lon: 0.196",
          "ID: 61e9f415b937134a3c4c0063<br>Time: 2024-05-03 20:14:24<br>Lat: 49.472<br>Lon: 0.196",
          "ID: 61e9f415b937134a3c4c0063<br>Time: 2024-05-03 20:35:26<br>Lat: 49.472<br>Lon: 0.196",
          "ID: 61e9f415b937134a3c4c0063<br>Time: 2024-05-03 20:53:28<br>Lat: 49.472<br>Lon: 0.196",
          "ID: 61e9f415b937134a3c4c0063<br>Time: 2024-05-03 21:14:28<br>Lat: 49.472<br>Lon: 0.196",
          "ID: 61e9f415b937134a3c4c0063<br>Time: 2024-05-03 21:35:22<br>Lat: 49.472<br>Lon: 0.196",
          "ID: 61e9f415b937134a3c4c0063<br>Time: 2024-05-03 21:56:27<br>Lat: 49.472<br>Lon: 0.196",
          "ID: 61e9f415b937134a3c4c0063<br>Time: 2024-05-03 22:17:28<br>Lat: 49.472<br>Lon: 0.196",
          "ID: 61e9f415b937134a3c4c0063<br>Time: 2024-05-03 22:38:27<br>Lat: 49.472<br>Lon: 0.196",
          "ID: 61e9f415b937134a3c4c0063<br>Time: 2024-05-03 22:56:26<br>Lat: 49.472<br>Lon: 0.196",
          "ID: 61e9f415b937134a3c4c0063<br>Time: 2024-05-03 23:17:28<br>Lat: 49.472<br>Lon: 0.196",
          "ID: 61e9f415b937134a3c4c0063<br>Time: 2024-05-03 23:38:26<br>Lat: 49.472<br>Lon: 0.196",
          "ID: 61e9f415b937134a3c4c0063<br>Time: 2024-05-03 23:59:28<br>Lat: 49.472<br>Lon: 0.196",
          "ID: 61e9f415b937134a3c4c0063<br>Time: 2024-05-04 00:14:30<br>Lat: 49.472<br>Lon: 0.196",
          "ID: 61e9f415b937134a3c4c0063<br>Time: 2024-05-04 00:32:30<br>Lat: 49.472<br>Lon: 0.196",
          "ID: 61e9f415b937134a3c4c0063<br>Time: 2024-05-04 00:53:23<br>Lat: 49.472<br>Lon: 0.196",
          "ID: 61e9f415b937134a3c4c0063<br>Time: 2024-05-04 01:14:27<br>Lat: 49.472<br>Lon: 0.196",
          "ID: 61e9f415b937134a3c4c0063<br>Time: 2024-05-04 01:35:26<br>Lat: 49.472<br>Lon: 0.196",
          "ID: 61e9f415b937134a3c4c0063<br>Time: 2024-05-04 01:56:25<br>Lat: 49.472<br>Lon: 0.196",
          "ID: 61e9f415b937134a3c4c0063<br>Time: 2024-05-04 02:17:27<br>Lat: 49.472<br>Lon: 0.196",
          "ID: 61e9f415b937134a3c4c0063<br>Time: 2024-05-04 02:38:27<br>Lat: 49.472<br>Lon: 0.196",
          "ID: 61e9f415b937134a3c4c0063<br>Time: 2024-05-04 02:56:27<br>Lat: 49.472<br>Lon: 0.196",
          "ID: 61e9f415b937134a3c4c0063<br>Time: 2024-05-04 03:17:27<br>Lat: 49.472<br>Lon: 0.196",
          "ID: 61e9f415b937134a3c4c0063<br>Time: 2024-05-04 03:38:26<br>Lat: 49.472<br>Lon: 0.196",
          "ID: 61e9f415b937134a3c4c0063<br>Time: 2024-05-04 03:53:28<br>Lat: 49.472<br>Lon: 0.196",
          "ID: 61e9f415b937134a3c4c0063<br>Time: 2024-05-04 04:14:29<br>Lat: 49.472<br>Lon: 0.196",
          "ID: 61e9f415b937134a3c4c0063<br>Time: 2024-05-04 04:32:30<br>Lat: 49.472<br>Lon: 0.196",
          "ID: 61e9f415b937134a3c4c0063<br>Time: 2024-05-04 04:53:29<br>Lat: 49.472<br>Lon: 0.196",
          "ID: 61e9f415b937134a3c4c0063<br>Time: 2024-05-04 05:14:33<br>Lat: 49.472<br>Lon: 0.196",
          "ID: 61e9f415b937134a3c4c0063<br>Time: 2024-05-04 05:35:28<br>Lat: 49.472<br>Lon: 0.196",
          "ID: 61e9f415b937134a3c4c0063<br>Time: 2024-05-04 05:56:31<br>Lat: 49.472<br>Lon: 0.196",
          "ID: 61e9f415b937134a3c4c0063<br>Time: 2024-05-04 06:17:33<br>Lat: 49.472<br>Lon: 0.196",
          "ID: 61e9f415b937134a3c4c0063<br>Time: 2024-05-04 06:38:27<br>Lat: 49.472<br>Lon: 0.196",
          "ID: 61e9f415b937134a3c4c0063<br>Time: 2024-05-04 06:56:31<br>Lat: 49.472<br>Lon: 0.196",
          "ID: 61e9f415b937134a3c4c0063<br>Time: 2024-05-04 07:17:29<br>Lat: 49.472<br>Lon: 0.196",
          "ID: 61e9f415b937134a3c4c0063<br>Time: 2024-05-04 07:32:30<br>Lat: 49.472<br>Lon: 0.196",
          "ID: 61e9f415b937134a3c4c0063<br>Time: 2024-05-04 07:53:30<br>Lat: 49.472<br>Lon: 0.196",
          "ID: 61e9f415b937134a3c4c0063<br>Time: 2024-05-04 08:14:32<br>Lat: 49.472<br>Lon: 0.196",
          "ID: 61e9f415b937134a3c4c0063<br>Time: 2024-05-04 08:35:29<br>Lat: 49.472<br>Lon: 0.196",
          "ID: 61e9f415b937134a3c4c0063<br>Time: 2024-05-04 08:56:27<br>Lat: 49.472<br>Lon: 0.196",
          "ID: 61e9f415b937134a3c4c0063<br>Time: 2024-05-04 09:17:27<br>Lat: 49.472<br>Lon: 0.196",
          "ID: 61e9f415b937134a3c4c0063<br>Time: 2024-05-04 09:35:25<br>Lat: 49.472<br>Lon: 0.196",
          "ID: 61e9f415b937134a3c4c0063<br>Time: 2024-05-04 09:56:30<br>Lat: 49.472<br>Lon: 0.196",
          "ID: 61e9f415b937134a3c4c0063<br>Time: 2024-05-04 10:17:32<br>Lat: 49.472<br>Lon: 0.196",
          "ID: 61e9f415b937134a3c4c0063<br>Time: 2024-05-04 10:38:31<br>Lat: 49.472<br>Lon: 0.196",
          "ID: 61e9f415b937134a3c4c0063<br>Time: 2024-05-04 10:59:32<br>Lat: 49.472<br>Lon: 0.196",
          "ID: 61e9f415b937134a3c4c0063<br>Time: 2024-05-04 11:17:28<br>Lat: 49.472<br>Lon: 0.196",
          "ID: 61e9f415b937134a3c4c0063<br>Time: 2024-05-04 11:32:52<br>Lat: 49.472<br>Lon: 0.196",
          "ID: 61e9f415b937134a3c4c0063<br>Time: 2024-05-04 11:53:29<br>Lat: 49.472<br>Lon: 0.196",
          "ID: 61e9f415b937134a3c4c0063<br>Time: 2024-05-04 12:14:33<br>Lat: 49.472<br>Lon: 0.196",
          "ID: 61e9f415b937134a3c4c0063<br>Time: 2024-05-04 12:35:34<br>Lat: 49.472<br>Lon: 0.196",
          "ID: 61e9f415b937134a3c4c0063<br>Time: 2024-05-04 12:56:36<br>Lat: 49.472<br>Lon: 0.196",
          "ID: 61e9f415b937134a3c4c0063<br>Time: 2024-05-04 13:14:30<br>Lat: 49.472<br>Lon: 0.196",
          "ID: 61e9f415b937134a3c4c0063<br>Time: 2024-05-04 13:35:33<br>Lat: 49.472<br>Lon: 0.196",
          "ID: 61e9f415b937134a3c4c0063<br>Time: 2024-05-04 13:53:34<br>Lat: 49.472<br>Lon: 0.196",
          "ID: 61e9f415b937134a3c4c0063<br>Time: 2024-05-04 14:17:31<br>Lat: 49.472<br>Lon: 0.196",
          "ID: 61e9f415b937134a3c4c0063<br>Time: 2024-05-04 14:38:28<br>Lat: 49.472<br>Lon: 0.196",
          "ID: 61e9f415b937134a3c4c0063<br>Time: 2024-05-04 14:59:32<br>Lat: 49.472<br>Lon: 0.196",
          "ID: 61e9f415b937134a3c4c0063<br>Time: 2024-05-04 15:14:36<br>Lat: 49.472<br>Lon: 0.196",
          "ID: 61e9f415b937134a3c4c0063<br>Time: 2024-05-04 15:32:30<br>Lat: 49.472<br>Lon: 0.196",
          "ID: 61e9f415b937134a3c4c0063<br>Time: 2024-05-04 15:55:00<br>Lat: 49.472<br>Lon: 0.196",
          "ID: 61e9f415b937134a3c4c0063<br>Time: 2024-05-04 16:16:11<br>Lat: 49.472<br>Lon: 0.196",
          "ID: 61e9f415b937134a3c4c0063<br>Time: 2024-05-04 16:35:29<br>Lat: 49.472<br>Lon: 0.196",
          "ID: 61e9f415b937134a3c4c0063<br>Time: 2024-05-04 16:56:31<br>Lat: 49.472<br>Lon: 0.196",
          "ID: 61e9f415b937134a3c4c0063<br>Time: 2024-05-04 17:17:30<br>Lat: 49.472<br>Lon: 0.196",
          "ID: 61e9f415b937134a3c4c0063<br>Time: 2024-05-04 17:35:30<br>Lat: 49.472<br>Lon: 0.196",
          "ID: 61e9f415b937134a3c4c0063<br>Time: 2024-05-04 17:56:33<br>Lat: 49.472<br>Lon: 0.196",
          "ID: 61e9f415b937134a3c4c0063<br>Time: 2024-05-04 18:17:30<br>Lat: 49.472<br>Lon: 0.196",
          "ID: 61e9f415b937134a3c4c0063<br>Time: 2024-05-04 18:29:29<br>Lat: 49.472<br>Lon: 0.196",
          "ID: 61e9f415b937134a3c4c0063<br>Time: 2024-05-04 18:53:33<br>Lat: 49.472<br>Lon: 0.196",
          "ID: 61e9f415b937134a3c4c0063<br>Time: 2024-05-04 19:14:28<br>Lat: 49.472<br>Lon: 0.196",
          "ID: 61e9f415b937134a3c4c0063<br>Time: 2024-05-04 19:35:35<br>Lat: 49.472<br>Lon: 0.196",
          "ID: 61e9f415b937134a3c4c0063<br>Time: 2024-05-04 19:53:34<br>Lat: 49.472<br>Lon: 0.196",
          "ID: 61e9f415b937134a3c4c0063<br>Time: 2024-05-04 20:14:33<br>Lat: 49.472<br>Lon: 0.196",
          "ID: 61e9f415b937134a3c4c0063<br>Time: 2024-05-04 20:35:35<br>Lat: 49.472<br>Lon: 0.196",
          "ID: 61e9f415b937134a3c4c0063<br>Time: 2024-05-04 20:56:33<br>Lat: 49.472<br>Lon: 0.196",
          "ID: 61e9f415b937134a3c4c0063<br>Time: 2024-05-04 21:17:36<br>Lat: 49.472<br>Lon: 0.196",
          "ID: 61e9f415b937134a3c4c0063<br>Time: 2024-05-04 21:38:32<br>Lat: 49.472<br>Lon: 0.196",
          "ID: 61e9f415b937134a3c4c0063<br>Time: 2024-05-04 21:59:30<br>Lat: 49.472<br>Lon: 0.196",
          "ID: 61e9f415b937134a3c4c0063<br>Time: 2024-05-04 22:14:32<br>Lat: 49.472<br>Lon: 0.196",
          "ID: 61e9f415b937134a3c4c0063<br>Time: 2024-05-04 22:32:31<br>Lat: 49.472<br>Lon: 0.196",
          "ID: 61e9f415b937134a3c4c0063<br>Time: 2024-05-04 22:53:32<br>Lat: 49.472<br>Lon: 0.196",
          "ID: 61e9f415b937134a3c4c0063<br>Time: 2024-05-04 23:14:35<br>Lat: 49.472<br>Lon: 0.196",
          "ID: 61e9f415b937134a3c4c0063<br>Time: 2024-05-04 23:35:33<br>Lat: 49.472<br>Lon: 0.196",
          "ID: 61e9f415b937134a3c4c0063<br>Time: 2024-05-04 23:56:37<br>Lat: 49.472<br>Lon: 0.196",
          "ID: 61e9f415b937134a3c4c0063<br>Time: 2024-05-05 00:17:37<br>Lat: 49.472<br>Lon: 0.196",
          "ID: 61e9f415b937134a3c4c0063<br>Time: 2024-05-05 00:38:33<br>Lat: 49.472<br>Lon: 0.196",
          "ID: 61e9f415b937134a3c4c0063<br>Time: 2024-05-05 00:59:32<br>Lat: 49.472<br>Lon: 0.196",
          "ID: 61e9f415b937134a3c4c0063<br>Time: 2024-05-05 01:14:34<br>Lat: 49.472<br>Lon: 0.196",
          "ID: 61e9f415b937134a3c4c0063<br>Time: 2024-05-05 01:32:31<br>Lat: 49.472<br>Lon: 0.196",
          "ID: 61e9f415b937134a3c4c0063<br>Time: 2024-05-05 01:53:34<br>Lat: 49.472<br>Lon: 0.196",
          "ID: 61e9f415b937134a3c4c0063<br>Time: 2024-05-05 02:14:36<br>Lat: 49.472<br>Lon: 0.196",
          "ID: 61e9f415b937134a3c4c0063<br>Time: 2024-05-05 02:35:36<br>Lat: 49.472<br>Lon: 0.196",
          "ID: 61e9f415b937134a3c4c0063<br>Time: 2024-05-05 02:57:08<br>Lat: 49.472<br>Lon: 0.196",
          "ID: 61e9f415b937134a3c4c0063<br>Time: 2024-05-05 03:17:39<br>Lat: 49.472<br>Lon: 0.196",
          "ID: 61e9f415b937134a3c4c0063<br>Time: 2024-05-05 03:38:30<br>Lat: 49.472<br>Lon: 0.196",
          "ID: 61e9f415b937134a3c4c0063<br>Time: 2024-05-05 03:56:36<br>Lat: 49.472<br>Lon: 0.196",
          "ID: 61e9f415b937134a3c4c0063<br>Time: 2024-05-05 04:17:36<br>Lat: 49.472<br>Lon: 0.196",
          "ID: 61e9f415b937134a3c4c0063<br>Time: 2024-05-05 04:33:50<br>Lat: 49.472<br>Lon: 0.196",
          "ID: 61e9f415b937134a3c4c0063<br>Time: 2024-05-05 04:53:35<br>Lat: 49.472<br>Lon: 0.196",
          "ID: 61e9f415b937134a3c4c0063<br>Time: 2024-05-05 05:14:38<br>Lat: 49.472<br>Lon: 0.196",
          "ID: 61e9f415b937134a3c4c0063<br>Time: 2024-05-05 05:35:11<br>Lat: 49.472<br>Lon: 0.196",
          "ID: 61e9f415b937134a3c4c0063<br>Time: 2024-05-05 05:53:38<br>Lat: 49.472<br>Lon: 0.196",
          "ID: 61e9f415b937134a3c4c0063<br>Time: 2024-05-05 06:14:36<br>Lat: 49.472<br>Lon: 0.196",
          "ID: 61e9f415b937134a3c4c0063<br>Time: 2024-05-05 06:35:31<br>Lat: 49.472<br>Lon: 0.196",
          "ID: 61e9f415b937134a3c4c0063<br>Time: 2024-05-05 06:56:42<br>Lat: 49.472<br>Lon: 0.196",
          "ID: 61e9f415b937134a3c4c0063<br>Time: 2024-05-05 07:17:38<br>Lat: 49.472<br>Lon: 0.196",
          "ID: 61e9f415b937134a3c4c0063<br>Time: 2024-05-05 07:35:39<br>Lat: 49.472<br>Lon: 0.196",
          "ID: 61e9f415b937134a3c4c0063<br>Time: 2024-05-05 07:56:46<br>Lat: 49.472<br>Lon: 0.196",
          "ID: 61e9f415b937134a3c4c0063<br>Time: 2024-05-05 08:17:36<br>Lat: 49.472<br>Lon: 0.196",
          "ID: 61e9f415b937134a3c4c0063<br>Time: 2024-05-05 08:38:33<br>Lat: 49.472<br>Lon: 0.196",
          "ID: 61e9f415b937134a3c4c0063<br>Time: 2024-05-05 08:54:52<br>Lat: 49.472<br>Lon: 0.196",
          "ID: 61e9f415b937134a3c4c0063<br>Time: 2024-05-05 09:14:34<br>Lat: 49.472<br>Lon: 0.196",
          "ID: 61e9f415b937134a3c4c0063<br>Time: 2024-05-05 09:34:52<br>Lat: 49.472<br>Lon: 0.196",
          "ID: 61e9f415b937134a3c4c0063<br>Time: 2024-05-05 09:56:33<br>Lat: 49.472<br>Lon: 0.196",
          "ID: 61e9f415b937134a3c4c0063<br>Time: 2024-05-05 10:14:37<br>Lat: 49.472<br>Lon: 0.196",
          "ID: 61e9f415b937134a3c4c0063<br>Time: 2024-05-05 10:35:38<br>Lat: 49.472<br>Lon: 0.196",
          "ID: 61e9f415b937134a3c4c0063<br>Time: 2024-05-05 10:56:38<br>Lat: 49.472<br>Lon: 0.196",
          "ID: 61e9f415b937134a3c4c0063<br>Time: 2024-05-05 11:17:58<br>Lat: 49.472<br>Lon: 0.196",
          "ID: 61e9f415b937134a3c4c0063<br>Time: 2024-05-05 11:38:36<br>Lat: 49.472<br>Lon: 0.196",
          "ID: 61e9f415b937134a3c4c0063<br>Time: 2024-05-05 11:56:36<br>Lat: 49.472<br>Lon: 0.196",
          "ID: 61e9f415b937134a3c4c0063<br>Time: 2024-05-05 12:17:38<br>Lat: 49.472<br>Lon: 0.196",
          "ID: 61e9f415b937134a3c4c0063<br>Time: 2024-05-05 12:32:37<br>Lat: 49.472<br>Lon: 0.196",
          "ID: 61e9f415b937134a3c4c0063<br>Time: 2024-05-05 12:53:36<br>Lat: 49.472<br>Lon: 0.196",
          "ID: 61e9f415b937134a3c4c0063<br>Time: 2024-05-05 13:14:41<br>Lat: 49.472<br>Lon: 0.196",
          "ID: 61e9f415b937134a3c4c0063<br>Time: 2024-05-05 13:35:37<br>Lat: 49.472<br>Lon: 0.196",
          "ID: 61e9f415b937134a3c4c0063<br>Time: 2024-05-05 13:56:41<br>Lat: 49.472<br>Lon: 0.196",
          "ID: 61e9f415b937134a3c4c0063<br>Time: 2024-05-05 14:14:42<br>Lat: 49.472<br>Lon: 0.196",
          "ID: 61e9f415b937134a3c4c0063<br>Time: 2024-05-05 14:37:20<br>Lat: 49.472<br>Lon: 0.196",
          "ID: 61e9f415b937134a3c4c0063<br>Time: 2024-05-05 14:56:37<br>Lat: 49.472<br>Lon: 0.196",
          "ID: 61e9f415b937134a3c4c0063<br>Time: 2024-05-05 15:17:39<br>Lat: 49.472<br>Lon: 0.196",
          "ID: 61e9f415b937134a3c4c0063<br>Time: 2024-05-05 15:38:37<br>Lat: 49.472<br>Lon: 0.196",
          "ID: 61e9f415b937134a3c4c0063<br>Time: 2024-05-05 15:56:36<br>Lat: 49.472<br>Lon: 0.196",
          "ID: 61e9f415b937134a3c4c0063<br>Time: 2024-05-05 16:14:36<br>Lat: 49.472<br>Lon: 0.196",
          "ID: 61e9f415b937134a3c4c0063<br>Time: 2024-05-05 16:32:36<br>Lat: 49.472<br>Lon: 0.196",
          "ID: 61e9f415b937134a3c4c0063<br>Time: 2024-05-05 16:53:33<br>Lat: 49.472<br>Lon: 0.196",
          "ID: 61e9f415b937134a3c4c0063<br>Time: 2024-05-05 17:14:37<br>Lat: 49.472<br>Lon: 0.196",
          "ID: 61e9f415b937134a3c4c0063<br>Time: 2024-05-05 17:35:36<br>Lat: 49.472<br>Lon: 0.196",
          "ID: 61e9f415b937134a3c4c0063<br>Time: 2024-05-05 17:56:41<br>Lat: 49.472<br>Lon: 0.196",
          "ID: 61e9f415b937134a3c4c0063<br>Time: 2024-05-05 18:17:39<br>Lat: 49.472<br>Lon: 0.196",
          "ID: 61e9f415b937134a3c4c0063<br>Time: 2024-05-05 18:35:42<br>Lat: 49.472<br>Lon: 0.196",
          "ID: 61e9f415b937134a3c4c0063<br>Time: 2024-05-05 18:56:34<br>Lat: 49.472<br>Lon: 0.196",
          "ID: 61e9f415b937134a3c4c0063<br>Time: 2024-05-05 19:17:41<br>Lat: 49.472<br>Lon: 0.196",
          "ID: 61e9f415b937134a3c4c0063<br>Time: 2024-05-05 19:34:16<br>Lat: 49.472<br>Lon: 0.196",
          "ID: 61e9f415b937134a3c4c0063<br>Time: 2024-05-05 19:53:38<br>Lat: 49.472<br>Lon: 0.196",
          "ID: 61e9f415b937134a3c4c0063<br>Time: 2024-05-05 20:14:39<br>Lat: 49.472<br>Lon: 0.196",
          "ID: 61e9f415b937134a3c4c0063<br>Time: 2024-05-05 20:35:38<br>Lat: 49.472<br>Lon: 0.196",
          "ID: 61e9f415b937134a3c4c0063<br>Time: 2024-05-05 20:56:41<br>Lat: 49.472<br>Lon: 0.196",
          "ID: 61e9f415b937134a3c4c0063<br>Time: 2024-05-05 21:17:15<br>Lat: 49.472<br>Lon: 0.196",
          "ID: 61e9f415b937134a3c4c0063<br>Time: 2024-05-05 21:35:39<br>Lat: 49.472<br>Lon: 0.196",
          "ID: 61e9f415b937134a3c4c0063<br>Time: 2024-05-05 21:56:36<br>Lat: 49.472<br>Lon: 0.196",
          "ID: 61e9f415b937134a3c4c0063<br>Time: 2024-05-05 22:17:38<br>Lat: 49.472<br>Lon: 0.196",
          "ID: 61e9f415b937134a3c4c0063<br>Time: 2024-05-05 22:38:42<br>Lat: 49.472<br>Lon: 0.196",
          "ID: 61e9f415b937134a3c4c0063<br>Time: 2024-05-05 22:53:39<br>Lat: 49.472<br>Lon: 0.196",
          "ID: 61e9f415b937134a3c4c0063<br>Time: 2024-05-05 23:14:43<br>Lat: 49.472<br>Lon: 0.196",
          "ID: 61e9f415b937134a3c4c0063<br>Time: 2024-05-05 23:35:37<br>Lat: 49.472<br>Lon: 0.196",
          "ID: 61e9f415b937134a3c4c0063<br>Time: 2024-05-05 23:53:37<br>Lat: 49.472<br>Lon: 0.196",
          "ID: 61e9f415b937134a3c4c0063<br>Time: 2024-05-06 00:14:43<br>Lat: 49.472<br>Lon: 0.196",
          "ID: 61e9f415b937134a3c4c0063<br>Time: 2024-05-06 00:35:39<br>Lat: 49.472<br>Lon: 0.196",
          "ID: 61e9f415b937134a3c4c0063<br>Time: 2024-05-06 00:56:39<br>Lat: 49.472<br>Lon: 0.196",
          "ID: 61e9f415b937134a3c4c0063<br>Time: 2024-05-06 01:17:44<br>Lat: 49.472<br>Lon: 0.196",
          "ID: 61e9f415b937134a3c4c0063<br>Time: 2024-05-06 01:38:43<br>Lat: 49.472<br>Lon: 0.196",
          "ID: 61e9f415b937134a3c4c0063<br>Time: 2024-05-06 01:59:40<br>Lat: 49.472<br>Lon: 0.196",
          "ID: 61e9f415b937134a3c4c0063<br>Time: 2024-05-06 02:14:43<br>Lat: 49.472<br>Lon: 0.196",
          "ID: 61e9f415b937134a3c4c0063<br>Time: 2024-05-06 02:32:46<br>Lat: 49.472<br>Lon: 0.196",
          "ID: 61e9f415b937134a3c4c0063<br>Time: 2024-05-06 02:54:30<br>Lat: 49.472<br>Lon: 0.196",
          "ID: 61e9f415b937134a3c4c0063<br>Time: 2024-05-06 03:14:39<br>Lat: 49.472<br>Lon: 0.196",
          "ID: 61e9f415b937134a3c4c0063<br>Time: 2024-05-06 03:32:40<br>Lat: 49.472<br>Lon: 0.196",
          "ID: 61e9f415b937134a3c4c0063<br>Time: 2024-05-06 03:53:42<br>Lat: 49.472<br>Lon: 0.196",
          "ID: 61e9f415b937134a3c4c0063<br>Time: 2024-05-06 04:17:43<br>Lat: 49.472<br>Lon: 0.196",
          "ID: 61e9f415b937134a3c4c0063<br>Time: 2024-05-06 04:35:42<br>Lat: 49.472<br>Lon: 0.196",
          "ID: 61e9f415b937134a3c4c0063<br>Time: 2024-05-06 04:56:44<br>Lat: 49.472<br>Lon: 0.196",
          "ID: 61e9f415b937134a3c4c0063<br>Time: 2024-05-06 05:17:41<br>Lat: 49.472<br>Lon: 0.196",
          "ID: 61e9f415b937134a3c4c0063<br>Time: 2024-05-06 05:32:41<br>Lat: 49.472<br>Lon: 0.196",
          "ID: 61e9f415b937134a3c4c0063<br>Time: 2024-05-06 05:53:41<br>Lat: 49.472<br>Lon: 0.196",
          "ID: 61e9f415b937134a3c4c0063<br>Time: 2024-05-06 06:14:39<br>Lat: 49.472<br>Lon: 0.196",
          "ID: 61e9f415b937134a3c4c0063<br>Time: 2024-05-06 06:35:42<br>Lat: 49.472<br>Lon: 0.196",
          "ID: 61e9f415b937134a3c4c0063<br>Time: 2024-05-06 06:56:41<br>Lat: 49.472<br>Lon: 0.196",
          "ID: 61e9f415b937134a3c4c0063<br>Time: 2024-05-06 07:14:43<br>Lat: 49.472<br>Lon: 0.196",
          "ID: 61e9f415b937134a3c4c0063<br>Time: 2024-05-06 07:35:41<br>Lat: 49.472<br>Lon: 0.196",
          "ID: 61e9f415b937134a3c4c0063<br>Time: 2024-05-06 07:56:40<br>Lat: 49.472<br>Lon: 0.196",
          "ID: 61e9f415b937134a3c4c0063<br>Time: 2024-05-06 08:17:44<br>Lat: 49.472<br>Lon: 0.196",
          "ID: 61e9f415b937134a3c4c0063<br>Time: 2024-05-06 08:38:43<br>Lat: 49.472<br>Lon: 0.196",
          "ID: 61e9f415b937134a3c4c0063<br>Time: 2024-05-06 08:59:43<br>Lat: 49.472<br>Lon: 0.196",
          "ID: 61e9f415b937134a3c4c0063<br>Time: 2024-05-06 09:14:41<br>Lat: 49.472<br>Lon: 0.196",
          "ID: 61e9f415b937134a3c4c0063<br>Time: 2024-05-06 09:32:43<br>Lat: 49.472<br>Lon: 0.196",
          "ID: 61e9f415b937134a3c4c0063<br>Time: 2024-05-06 09:53:43<br>Lat: 49.472<br>Lon: 0.196",
          "ID: 61e9f415b937134a3c4c0063<br>Time: 2024-05-06 10:14:38<br>Lat: 49.472<br>Lon: 0.196",
          "ID: 61e9f415b937134a3c4c0063<br>Time: 2024-05-06 10:35:40<br>Lat: 49.472<br>Lon: 0.196",
          "ID: 61e9f415b937134a3c4c0063<br>Time: 2024-05-06 10:56:42<br>Lat: 49.472<br>Lon: 0.196",
          "ID: 61e9f415b937134a3c4c0063<br>Time: 2024-05-06 11:14:40<br>Lat: 49.472<br>Lon: 0.196",
          "ID: 61e9f415b937134a3c4c0063<br>Time: 2024-05-06 11:35:40<br>Lat: 49.472<br>Lon: 0.196",
          "ID: 61e9f415b937134a3c4c0063<br>Time: 2024-05-06 11:56:44<br>Lat: 49.472<br>Lon: 0.196",
          "ID: 61e9f415b937134a3c4c0063<br>Time: 2024-05-06 12:17:43<br>Lat: 49.472<br>Lon: 0.196",
          "ID: 61e9f415b937134a3c4c0063<br>Time: 2024-05-06 12:38:42<br>Lat: 49.472<br>Lon: 0.196",
          "ID: 61e9f415b937134a3c4c0063<br>Time: 2024-05-06 12:59:42<br>Lat: 49.472<br>Lon: 0.196",
          "ID: 61e9f415b937134a3c4c0063<br>Time: 2024-05-06 13:14:45<br>Lat: 49.472<br>Lon: 0.196",
          "ID: 61e9f415b937134a3c4c0063<br>Time: 2024-05-06 13:32:39<br>Lat: 49.472<br>Lon: 0.196",
          "ID: 61e9f415b937134a3c4c0063<br>Time: 2024-05-06 13:53:42<br>Lat: 49.472<br>Lon: 0.196",
          "ID: 61e9f415b937134a3c4c0063<br>Time: 2024-05-06 14:14:49<br>Lat: 49.472<br>Lon: 0.196",
          "ID: 61e9f415b937134a3c4c0063<br>Time: 2024-05-06 14:35:44<br>Lat: 49.472<br>Lon: 0.196",
          "ID: 61e9f415b937134a3c4c0063<br>Time: 2024-05-06 14:56:48<br>Lat: 49.472<br>Lon: 0.196",
          "ID: 61e9f415b937134a3c4c0063<br>Time: 2024-05-06 15:14:43<br>Lat: 49.472<br>Lon: 0.196",
          "ID: 61e9f415b937134a3c4c0063<br>Time: 2024-05-06 15:35:45<br>Lat: 49.472<br>Lon: 0.196",
          "ID: 61e9f415b937134a3c4c0063<br>Time: 2024-05-06 15:56:44<br>Lat: 49.472<br>Lon: 0.196",
          "ID: 61e9f415b937134a3c4c0063<br>Time: 2024-05-06 16:17:45<br>Lat: 49.472<br>Lon: 0.196",
          "ID: 61e9f415b937134a3c4c0063<br>Time: 2024-05-06 16:38:47<br>Lat: 49.472<br>Lon: 0.196",
          "ID: 61e9f415b937134a3c4c0063<br>Time: 2024-05-06 16:59:43<br>Lat: 49.472<br>Lon: 0.196",
          "ID: 61e9f415b937134a3c4c0063<br>Time: 2024-05-06 17:14:49<br>Lat: 49.472<br>Lon: 0.196",
          "ID: 61e9f415b937134a3c4c0063<br>Time: 2024-05-06 17:32:47<br>Lat: 49.472<br>Lon: 0.196",
          "ID: 61e9f415b937134a3c4c0063<br>Time: 2024-05-06 17:53:45<br>Lat: 49.472<br>Lon: 0.196",
          "ID: 61e9f415b937134a3c4c0063<br>Time: 2024-05-06 18:14:43<br>Lat: 49.472<br>Lon: 0.196",
          "ID: 61e9f415b937134a3c4c0063<br>Time: 2024-05-06 18:35:44<br>Lat: 49.472<br>Lon: 0.196",
          "ID: 61e9f415b937134a3c4c0063<br>Time: 2024-05-06 18:53:44<br>Lat: 49.472<br>Lon: 0.196",
          "ID: 61e9f415b937134a3c4c0063<br>Time: 2024-05-06 19:14:44<br>Lat: 49.472<br>Lon: 0.196",
          "ID: 61e9f415b937134a3c4c0063<br>Time: 2024-05-06 19:35:46<br>Lat: 49.472<br>Lon: 0.196",
          "ID: 61e9f415b937134a3c4c0063<br>Time: 2024-05-06 19:56:46<br>Lat: 49.472<br>Lon: 0.196",
          "ID: 61e9f415b937134a3c4c0063<br>Time: 2024-05-06 20:18:02<br>Lat: 49.472<br>Lon: 0.196",
          "ID: 61e9f415b937134a3c4c0063<br>Time: 2024-05-06 20:38:48<br>Lat: 49.472<br>Lon: 0.196",
          "ID: 61e9f415b937134a3c4c0063<br>Time: 2024-05-06 20:59:41<br>Lat: 49.472<br>Lon: 0.196",
          "ID: 61e9f415b937134a3c4c0063<br>Time: 2024-05-06 21:14:46<br>Lat: 49.472<br>Lon: 0.196",
          "ID: 61e9f415b937134a3c4c0063<br>Time: 2024-05-06 21:32:46<br>Lat: 49.472<br>Lon: 0.196",
          "ID: 61e9f415b937134a3c4c0063<br>Time: 2024-05-06 21:53:45<br>Lat: 49.472<br>Lon: 0.196",
          "ID: 61e9f415b937134a3c4c0063<br>Time: 2024-05-06 22:14:50<br>Lat: 49.472<br>Lon: 0.196",
          "ID: 61e9f415b937134a3c4c0063<br>Time: 2024-05-06 22:35:46<br>Lat: 49.472<br>Lon: 0.196",
          "ID: 61e9f415b937134a3c4c0063<br>Time: 2024-05-06 22:56:47<br>Lat: 49.472<br>Lon: 0.196",
          "ID: 61e9f415b937134a3c4c0063<br>Time: 2024-05-06 23:14:49<br>Lat: 49.472<br>Lon: 0.196",
          "ID: 61e9f415b937134a3c4c0063<br>Time: 2024-05-06 23:35:48<br>Lat: 49.472<br>Lon: 0.196",
          "ID: 61e9f415b937134a3c4c0063<br>Time: 2024-05-06 23:56:44<br>Lat: 49.472<br>Lon: 0.196",
          "ID: 61e9f415b937134a3c4c0063<br>Time: 2024-05-07 00:17:47<br>Lat: 49.472<br>Lon: 0.196",
          "ID: 61e9f415b937134a3c4c0063<br>Time: 2024-05-07 00:38:46<br>Lat: 49.472<br>Lon: 0.196",
          "ID: 61e9f415b937134a3c4c0063<br>Time: 2024-05-07 00:59:46<br>Lat: 49.472<br>Lon: 0.196",
          "ID: 61e9f415b937134a3c4c0063<br>Time: 2024-05-07 01:14:42<br>Lat: 49.472<br>Lon: 0.196",
          "ID: 61e9f415b937134a3c4c0063<br>Time: 2024-05-07 01:32:42<br>Lat: 49.472<br>Lon: 0.196",
          "ID: 61e9f415b937134a3c4c0063<br>Time: 2024-05-07 01:53:45<br>Lat: 49.472<br>Lon: 0.196",
          "ID: 61e9f415b937134a3c4c0063<br>Time: 2024-05-07 02:14:49<br>Lat: 49.472<br>Lon: 0.196",
          "ID: 61e9f415b937134a3c4c0063<br>Time: 2024-05-07 02:35:47<br>Lat: 49.472<br>Lon: 0.196",
          "ID: 61e9f415b937134a3c4c0063<br>Time: 2024-05-07 02:56:48<br>Lat: 49.472<br>Lon: 0.196",
          "ID: 61e9f415b937134a3c4c0063<br>Time: 2024-05-07 03:14:45<br>Lat: 49.472<br>Lon: 0.196",
          "ID: 61e9f415b937134a3c4c0063<br>Time: 2024-05-07 03:35:48<br>Lat: 49.472<br>Lon: 0.196",
          "ID: 61e9f415b937134a3c4c0063<br>Time: 2024-05-07 03:56:47<br>Lat: 49.472<br>Lon: 0.196",
          "ID: 61e9f415b937134a3c4c0063<br>Time: 2024-05-07 04:17:48<br>Lat: 49.472<br>Lon: 0.196",
          "ID: 61e9f415b937134a3c4c0063<br>Time: 2024-05-07 04:38:48<br>Lat: 49.472<br>Lon: 0.196",
          "ID: 61e9f415b937134a3c4c0063<br>Time: 2024-05-07 04:56:47<br>Lat: 49.472<br>Lon: 0.196",
          "ID: 61e9f415b937134a3c4c0063<br>Time: 2024-05-07 05:17:49<br>Lat: 49.472<br>Lon: 0.196",
          "ID: 61e9f415b937134a3c4c0063<br>Time: 2024-05-07 05:39:13<br>Lat: 49.472<br>Lon: 0.196",
          "ID: 61e9f415b937134a3c4c0063<br>Time: 2024-05-07 05:53:49<br>Lat: 49.472<br>Lon: 0.196",
          "ID: 61e9f415b937134a3c4c0063<br>Time: 2024-05-07 06:14:50<br>Lat: 49.472<br>Lon: 0.196",
          "ID: 61e9f415b937134a3c4c0063<br>Time: 2024-05-07 06:32:51<br>Lat: 49.472<br>Lon: 0.196",
          "ID: 61e9f415b937134a3c4c0063<br>Time: 2024-05-07 06:53:49<br>Lat: 49.472<br>Lon: 0.196",
          "ID: 61e9f415b937134a3c4c0063<br>Time: 2024-05-07 07:14:51<br>Lat: 49.472<br>Lon: 0.196",
          "ID: 61e9f415b937134a3c4c0063<br>Time: 2024-05-07 07:35:52<br>Lat: 49.472<br>Lon: 0.196",
          "ID: 61e9f415b937134a3c4c0063<br>Time: 2024-05-07 07:56:47<br>Lat: 49.472<br>Lon: 0.196",
          "ID: 61e9f415b937134a3c4c0063<br>Time: 2024-05-07 08:17:48<br>Lat: 49.472<br>Lon: 0.196",
          "ID: 61e9f415b937134a3c4c0063<br>Time: 2024-05-07 08:35:51<br>Lat: 49.472<br>Lon: 0.196",
          "ID: 61e9f415b937134a3c4c0063<br>Time: 2024-05-07 08:56:49<br>Lat: 49.472<br>Lon: 0.196",
          "ID: 61e9f415b937134a3c4c0063<br>Time: 2024-05-07 09:17:51<br>Lat: 49.472<br>Lon: 0.196",
          "ID: 61e9f415b937134a3c4c0063<br>Time: 2024-05-07 09:38:48<br>Lat: 49.472<br>Lon: 0.196",
          "ID: 61e9f415b937134a3c4c0063<br>Time: 2024-05-07 09:53:48<br>Lat: 49.472<br>Lon: 0.196",
          "ID: 61e9f415b937134a3c4c0063<br>Time: 2024-05-07 10:14:49<br>Lat: 49.472<br>Lon: 0.196",
          "ID: 61e9f415b937134a3c4c0063<br>Time: 2024-05-07 10:32:51<br>Lat: 49.472<br>Lon: 0.196",
          "ID: 61e9f415b937134a3c4c0063<br>Time: 2024-05-07 10:53:50<br>Lat: 49.472<br>Lon: 0.196",
          "ID: 61e9f415b937134a3c4c0063<br>Time: 2024-05-07 11:14:49<br>Lat: 49.472<br>Lon: 0.196",
          "ID: 61e9f415b937134a3c4c0063<br>Time: 2024-05-07 11:35:51<br>Lat: 49.472<br>Lon: 0.196",
          "ID: 61e9f415b937134a3c4c0063<br>Time: 2024-05-07 11:56:51<br>Lat: 49.472<br>Lon: 0.196",
          "ID: 61e9f415b937134a3c4c0063<br>Time: 2024-05-07 12:14:50<br>Lat: 49.472<br>Lon: 0.196",
          "ID: 61e9f415b937134a3c4c0063<br>Time: 2024-05-07 12:35:50<br>Lat: 49.472<br>Lon: 0.196",
          "ID: 61e9f415b937134a3c4c0063<br>Time: 2024-05-07 12:56:50<br>Lat: 49.472<br>Lon: 0.196",
          "ID: 61e9f415b937134a3c4c0063<br>Time: 2024-05-07 13:17:48<br>Lat: 49.472<br>Lon: 0.196",
          "ID: 61e9f415b937134a3c4c0063<br>Time: 2024-05-07 13:38:50<br>Lat: 49.472<br>Lon: 0.196",
          "ID: 61e9f415b937134a3c4c0063<br>Time: 2024-05-07 13:56:48<br>Lat: 49.472<br>Lon: 0.196",
          "ID: 61e9f415b937134a3c4c0063<br>Time: 2024-05-07 14:17:51<br>Lat: 49.472<br>Lon: 0.196",
          "ID: 61e9f415b937134a3c4c0063<br>Time: 2024-05-07 14:32:51<br>Lat: 49.472<br>Lon: 0.196",
          "ID: 61e9f415b937134a3c4c0063<br>Time: 2024-05-07 14:53:50<br>Lat: 49.472<br>Lon: 0.196",
          "ID: 61e9f415b937134a3c4c0063<br>Time: 2024-05-07 15:15:15<br>Lat: 49.477<br>Lon: 0.182",
          "ID: 61e9f415b937134a3c4c0063<br>Time: 2024-05-07 15:35:49<br>Lat: 49.476<br>Lon: 0.174",
          "ID: 61e9f415b937134a3c4c0063<br>Time: 2024-05-07 15:56:38<br>Lat: 49.476<br>Lon: 0.173",
          "ID: 61e9f415b937134a3c4c0063<br>Time: 2024-05-07 16:17:19<br>Lat: 49.475<br>Lon: 0.120",
          "ID: 61e9f415b937134a3c4c0063<br>Time: 2024-05-07 16:37:49<br>Lat: 49.494<br>Lon: 0.020",
          "ID: 61e9f415b937134a3c4c0063<br>Time: 2024-05-07 16:58:18<br>Lat: 49.518<br>Lon: -0.086",
          "ID: 61e9f415b937134a3c4c0063<br>Time: 2024-05-07 17:18:38<br>Lat: 49.549<br>Lon: -0.192",
          "ID: 61e9f415b937134a3c4c0063<br>Time: 2024-05-07 17:39:09<br>Lat: 49.575<br>Lon: -0.299",
          "ID: 61e9f415b937134a3c4c0063<br>Time: 2024-05-07 17:59:39<br>Lat: 49.599<br>Lon: -0.400",
          "ID: 61e9f415b937134a3c4c0063<br>Time: 2024-05-07 18:14:58<br>Lat: 49.616<br>Lon: -0.473",
          "ID: 61e9f415b937134a3c4c0063<br>Time: 2024-05-07 18:35:08<br>Lat: 49.638<br>Lon: -0.566",
          "ID: 61e9f415b937134a3c4c0063<br>Time: 2024-05-07 18:55:57<br>Lat: 49.661<br>Lon: -0.661",
          "ID: 61e9f415b937134a3c4c0063<br>Time: 2024-05-07 19:16:08<br>Lat: 49.682<br>Lon: -0.753",
          "ID: 61e9f415b937134a3c4c0063<br>Time: 2024-05-07 19:37:08<br>Lat: 49.704<br>Lon: -0.847",
          "ID: 61e9f415b937134a3c4c0063<br>Time: 2024-05-07 19:46:57<br>Lat: 49.715<br>Lon: -0.891",
          "ID: 61e9f415b937134a3c4c0063<br>Time: 2024-05-07 20:17:57<br>Lat: 49.748<br>Lon: -1.030",
          "ID: 61e9f415b937134a3c4c0063<br>Time: 2024-05-07 20:33:09<br>Lat: 49.764<br>Lon: -1.097",
          "ID: 61e9f415b937134a3c4c0063<br>Time: 2024-05-07 23:59:01<br>Lat: 50.009<br>Lon: -2.223"
         ],
         "type": "scattergeo"
        }
       ],
       "layout": {
        "autosize": true,
        "coloraxis": {
         "colorbar": {
          "title": {
           "text": "Vessel ID"
          }
         }
        },
        "geo": {
         "center": {},
         "countrycolor": "RebeccaPurple",
         "domain": {
          "x": [
           0,
           1
          ],
          "y": [
           0,
           1
          ]
         },
         "fitbounds": "locations",
         "projection": {
          "type": "natural earth"
         },
         "showcountries": true
        },
        "legend": {
         "title": {
          "text": "vesselId"
         },
         "tracegroupgap": 0
        },
        "margin": {
         "b": 0,
         "l": 0,
         "r": 0,
         "t": 30
        },
        "template": {
         "data": {
          "bar": [
           {
            "error_x": {
             "color": "#2a3f5f"
            },
            "error_y": {
             "color": "#2a3f5f"
            },
            "marker": {
             "line": {
              "color": "#E5ECF6",
              "width": 0.5
             },
             "pattern": {
              "fillmode": "overlay",
              "size": 10,
              "solidity": 0.2
             }
            },
            "type": "bar"
           }
          ],
          "barpolar": [
           {
            "marker": {
             "line": {
              "color": "#E5ECF6",
              "width": 0.5
             },
             "pattern": {
              "fillmode": "overlay",
              "size": 10,
              "solidity": 0.2
             }
            },
            "type": "barpolar"
           }
          ],
          "carpet": [
           {
            "aaxis": {
             "endlinecolor": "#2a3f5f",
             "gridcolor": "white",
             "linecolor": "white",
             "minorgridcolor": "white",
             "startlinecolor": "#2a3f5f"
            },
            "baxis": {
             "endlinecolor": "#2a3f5f",
             "gridcolor": "white",
             "linecolor": "white",
             "minorgridcolor": "white",
             "startlinecolor": "#2a3f5f"
            },
            "type": "carpet"
           }
          ],
          "choropleth": [
           {
            "colorbar": {
             "outlinewidth": 0,
             "ticks": ""
            },
            "type": "choropleth"
           }
          ],
          "contour": [
           {
            "colorbar": {
             "outlinewidth": 0,
             "ticks": ""
            },
            "colorscale": [
             [
              0,
              "#0d0887"
             ],
             [
              0.1111111111111111,
              "#46039f"
             ],
             [
              0.2222222222222222,
              "#7201a8"
             ],
             [
              0.3333333333333333,
              "#9c179e"
             ],
             [
              0.4444444444444444,
              "#bd3786"
             ],
             [
              0.5555555555555556,
              "#d8576b"
             ],
             [
              0.6666666666666666,
              "#ed7953"
             ],
             [
              0.7777777777777778,
              "#fb9f3a"
             ],
             [
              0.8888888888888888,
              "#fdca26"
             ],
             [
              1,
              "#f0f921"
             ]
            ],
            "type": "contour"
           }
          ],
          "contourcarpet": [
           {
            "colorbar": {
             "outlinewidth": 0,
             "ticks": ""
            },
            "type": "contourcarpet"
           }
          ],
          "heatmap": [
           {
            "colorbar": {
             "outlinewidth": 0,
             "ticks": ""
            },
            "colorscale": [
             [
              0,
              "#0d0887"
             ],
             [
              0.1111111111111111,
              "#46039f"
             ],
             [
              0.2222222222222222,
              "#7201a8"
             ],
             [
              0.3333333333333333,
              "#9c179e"
             ],
             [
              0.4444444444444444,
              "#bd3786"
             ],
             [
              0.5555555555555556,
              "#d8576b"
             ],
             [
              0.6666666666666666,
              "#ed7953"
             ],
             [
              0.7777777777777778,
              "#fb9f3a"
             ],
             [
              0.8888888888888888,
              "#fdca26"
             ],
             [
              1,
              "#f0f921"
             ]
            ],
            "type": "heatmap"
           }
          ],
          "heatmapgl": [
           {
            "colorbar": {
             "outlinewidth": 0,
             "ticks": ""
            },
            "colorscale": [
             [
              0,
              "#0d0887"
             ],
             [
              0.1111111111111111,
              "#46039f"
             ],
             [
              0.2222222222222222,
              "#7201a8"
             ],
             [
              0.3333333333333333,
              "#9c179e"
             ],
             [
              0.4444444444444444,
              "#bd3786"
             ],
             [
              0.5555555555555556,
              "#d8576b"
             ],
             [
              0.6666666666666666,
              "#ed7953"
             ],
             [
              0.7777777777777778,
              "#fb9f3a"
             ],
             [
              0.8888888888888888,
              "#fdca26"
             ],
             [
              1,
              "#f0f921"
             ]
            ],
            "type": "heatmapgl"
           }
          ],
          "histogram": [
           {
            "marker": {
             "pattern": {
              "fillmode": "overlay",
              "size": 10,
              "solidity": 0.2
             }
            },
            "type": "histogram"
           }
          ],
          "histogram2d": [
           {
            "colorbar": {
             "outlinewidth": 0,
             "ticks": ""
            },
            "colorscale": [
             [
              0,
              "#0d0887"
             ],
             [
              0.1111111111111111,
              "#46039f"
             ],
             [
              0.2222222222222222,
              "#7201a8"
             ],
             [
              0.3333333333333333,
              "#9c179e"
             ],
             [
              0.4444444444444444,
              "#bd3786"
             ],
             [
              0.5555555555555556,
              "#d8576b"
             ],
             [
              0.6666666666666666,
              "#ed7953"
             ],
             [
              0.7777777777777778,
              "#fb9f3a"
             ],
             [
              0.8888888888888888,
              "#fdca26"
             ],
             [
              1,
              "#f0f921"
             ]
            ],
            "type": "histogram2d"
           }
          ],
          "histogram2dcontour": [
           {
            "colorbar": {
             "outlinewidth": 0,
             "ticks": ""
            },
            "colorscale": [
             [
              0,
              "#0d0887"
             ],
             [
              0.1111111111111111,
              "#46039f"
             ],
             [
              0.2222222222222222,
              "#7201a8"
             ],
             [
              0.3333333333333333,
              "#9c179e"
             ],
             [
              0.4444444444444444,
              "#bd3786"
             ],
             [
              0.5555555555555556,
              "#d8576b"
             ],
             [
              0.6666666666666666,
              "#ed7953"
             ],
             [
              0.7777777777777778,
              "#fb9f3a"
             ],
             [
              0.8888888888888888,
              "#fdca26"
             ],
             [
              1,
              "#f0f921"
             ]
            ],
            "type": "histogram2dcontour"
           }
          ],
          "mesh3d": [
           {
            "colorbar": {
             "outlinewidth": 0,
             "ticks": ""
            },
            "type": "mesh3d"
           }
          ],
          "parcoords": [
           {
            "line": {
             "colorbar": {
              "outlinewidth": 0,
              "ticks": ""
             }
            },
            "type": "parcoords"
           }
          ],
          "pie": [
           {
            "automargin": true,
            "type": "pie"
           }
          ],
          "scatter": [
           {
            "fillpattern": {
             "fillmode": "overlay",
             "size": 10,
             "solidity": 0.2
            },
            "type": "scatter"
           }
          ],
          "scatter3d": [
           {
            "line": {
             "colorbar": {
              "outlinewidth": 0,
              "ticks": ""
             }
            },
            "marker": {
             "colorbar": {
              "outlinewidth": 0,
              "ticks": ""
             }
            },
            "type": "scatter3d"
           }
          ],
          "scattercarpet": [
           {
            "marker": {
             "colorbar": {
              "outlinewidth": 0,
              "ticks": ""
             }
            },
            "type": "scattercarpet"
           }
          ],
          "scattergeo": [
           {
            "marker": {
             "colorbar": {
              "outlinewidth": 0,
              "ticks": ""
             }
            },
            "type": "scattergeo"
           }
          ],
          "scattergl": [
           {
            "marker": {
             "colorbar": {
              "outlinewidth": 0,
              "ticks": ""
             }
            },
            "type": "scattergl"
           }
          ],
          "scattermapbox": [
           {
            "marker": {
             "colorbar": {
              "outlinewidth": 0,
              "ticks": ""
             }
            },
            "type": "scattermapbox"
           }
          ],
          "scatterpolar": [
           {
            "marker": {
             "colorbar": {
              "outlinewidth": 0,
              "ticks": ""
             }
            },
            "type": "scatterpolar"
           }
          ],
          "scatterpolargl": [
           {
            "marker": {
             "colorbar": {
              "outlinewidth": 0,
              "ticks": ""
             }
            },
            "type": "scatterpolargl"
           }
          ],
          "scatterternary": [
           {
            "marker": {
             "colorbar": {
              "outlinewidth": 0,
              "ticks": ""
             }
            },
            "type": "scatterternary"
           }
          ],
          "surface": [
           {
            "colorbar": {
             "outlinewidth": 0,
             "ticks": ""
            },
            "colorscale": [
             [
              0,
              "#0d0887"
             ],
             [
              0.1111111111111111,
              "#46039f"
             ],
             [
              0.2222222222222222,
              "#7201a8"
             ],
             [
              0.3333333333333333,
              "#9c179e"
             ],
             [
              0.4444444444444444,
              "#bd3786"
             ],
             [
              0.5555555555555556,
              "#d8576b"
             ],
             [
              0.6666666666666666,
              "#ed7953"
             ],
             [
              0.7777777777777778,
              "#fb9f3a"
             ],
             [
              0.8888888888888888,
              "#fdca26"
             ],
             [
              1,
              "#f0f921"
             ]
            ],
            "type": "surface"
           }
          ],
          "table": [
           {
            "cells": {
             "fill": {
              "color": "#EBF0F8"
             },
             "line": {
              "color": "white"
             }
            },
            "header": {
             "fill": {
              "color": "#C8D4E3"
             },
             "line": {
              "color": "white"
             }
            },
            "type": "table"
           }
          ]
         },
         "layout": {
          "annotationdefaults": {
           "arrowcolor": "#2a3f5f",
           "arrowhead": 0,
           "arrowwidth": 1
          },
          "autotypenumbers": "strict",
          "coloraxis": {
           "colorbar": {
            "outlinewidth": 0,
            "ticks": ""
           }
          },
          "colorscale": {
           "diverging": [
            [
             0,
             "#8e0152"
            ],
            [
             0.1,
             "#c51b7d"
            ],
            [
             0.2,
             "#de77ae"
            ],
            [
             0.3,
             "#f1b6da"
            ],
            [
             0.4,
             "#fde0ef"
            ],
            [
             0.5,
             "#f7f7f7"
            ],
            [
             0.6,
             "#e6f5d0"
            ],
            [
             0.7,
             "#b8e186"
            ],
            [
             0.8,
             "#7fbc41"
            ],
            [
             0.9,
             "#4d9221"
            ],
            [
             1,
             "#276419"
            ]
           ],
           "sequential": [
            [
             0,
             "#0d0887"
            ],
            [
             0.1111111111111111,
             "#46039f"
            ],
            [
             0.2222222222222222,
             "#7201a8"
            ],
            [
             0.3333333333333333,
             "#9c179e"
            ],
            [
             0.4444444444444444,
             "#bd3786"
            ],
            [
             0.5555555555555556,
             "#d8576b"
            ],
            [
             0.6666666666666666,
             "#ed7953"
            ],
            [
             0.7777777777777778,
             "#fb9f3a"
            ],
            [
             0.8888888888888888,
             "#fdca26"
            ],
            [
             1,
             "#f0f921"
            ]
           ],
           "sequentialminus": [
            [
             0,
             "#0d0887"
            ],
            [
             0.1111111111111111,
             "#46039f"
            ],
            [
             0.2222222222222222,
             "#7201a8"
            ],
            [
             0.3333333333333333,
             "#9c179e"
            ],
            [
             0.4444444444444444,
             "#bd3786"
            ],
            [
             0.5555555555555556,
             "#d8576b"
            ],
            [
             0.6666666666666666,
             "#ed7953"
            ],
            [
             0.7777777777777778,
             "#fb9f3a"
            ],
            [
             0.8888888888888888,
             "#fdca26"
            ],
            [
             1,
             "#f0f921"
            ]
           ]
          },
          "colorway": [
           "#636efa",
           "#EF553B",
           "#00cc96",
           "#ab63fa",
           "#FFA15A",
           "#19d3f3",
           "#FF6692",
           "#B6E880",
           "#FF97FF",
           "#FECB52"
          ],
          "font": {
           "color": "#2a3f5f"
          },
          "geo": {
           "bgcolor": "white",
           "lakecolor": "white",
           "landcolor": "#E5ECF6",
           "showlakes": true,
           "showland": true,
           "subunitcolor": "white"
          },
          "hoverlabel": {
           "align": "left"
          },
          "hovermode": "closest",
          "mapbox": {
           "style": "light"
          },
          "paper_bgcolor": "white",
          "plot_bgcolor": "#E5ECF6",
          "polar": {
           "angularaxis": {
            "gridcolor": "white",
            "linecolor": "white",
            "ticks": ""
           },
           "bgcolor": "#E5ECF6",
           "radialaxis": {
            "gridcolor": "white",
            "linecolor": "white",
            "ticks": ""
           }
          },
          "scene": {
           "xaxis": {
            "backgroundcolor": "#E5ECF6",
            "gridcolor": "white",
            "gridwidth": 2,
            "linecolor": "white",
            "showbackground": true,
            "ticks": "",
            "zerolinecolor": "white"
           },
           "yaxis": {
            "backgroundcolor": "#E5ECF6",
            "gridcolor": "white",
            "gridwidth": 2,
            "linecolor": "white",
            "showbackground": true,
            "ticks": "",
            "zerolinecolor": "white"
           },
           "zaxis": {
            "backgroundcolor": "#E5ECF6",
            "gridcolor": "white",
            "gridwidth": 2,
            "linecolor": "white",
            "showbackground": true,
            "ticks": "",
            "zerolinecolor": "white"
           }
          },
          "shapedefaults": {
           "line": {
            "color": "#2a3f5f"
           }
          },
          "ternary": {
           "aaxis": {
            "gridcolor": "white",
            "linecolor": "white",
            "ticks": ""
           },
           "baxis": {
            "gridcolor": "white",
            "linecolor": "white",
            "ticks": ""
           },
           "bgcolor": "#E5ECF6",
           "caxis": {
            "gridcolor": "white",
            "linecolor": "white",
            "ticks": ""
           }
          },
          "title": {
           "x": 0.05
          },
          "xaxis": {
           "automargin": true,
           "gridcolor": "white",
           "linecolor": "white",
           "ticks": "",
           "title": {
            "standoff": 15
           },
           "zerolinecolor": "white",
           "zerolinewidth": 2
          },
          "yaxis": {
           "automargin": true,
           "gridcolor": "white",
           "linecolor": "white",
           "ticks": "",
           "title": {
            "standoff": 15
           },
           "zerolinecolor": "white",
           "zerolinewidth": 2
          }
         }
        },
        "title": {
         "font": {
          "size": 20
         },
         "text": "Vessel Movements Over Time"
        }
       }
      },
      "image/png": "[encoded data removed]",
      "text/html": [
       "<div>                            <div id=\"02a91898-b3b4-4ed0-ba2a-d2be693cc063\" class=\"plotly-graph-div\" style=\"height:525px; width:100%;\"></div>            <script type=\"text/javascript\">                require([\"plotly\"], function(Plotly) {                    window.PLOTLYENV=window.PLOTLYENV || {};                                    if (document.getElementById(\"02a91898-b3b4-4ed0-ba2a-d2be693cc063\")) {                    Plotly.newPlot(                        \"02a91898-b3b4-4ed0-ba2a-d2be693cc063\",                        [{\"customdata\":[[\"2024-05-03T00:17:19\",49.47173,0.19627],[\"2024-05-03T00:38:19\",49.47173,0.19626],[\"2024-05-03T00:53:20\",49.47173,0.19626],[\"2024-05-03T01:14:23\",49.47173,0.19626],[\"2024-05-03T01:32:19\",49.47174,0.19626],[\"2024-05-03T01:53:22\",49.47174,0.19626],[\"2024-05-03T02:14:21\",49.47174,0.19626],[\"2024-05-03T02:35:25\",49.47174,0.19626],[\"2024-05-03T02:56:22\",49.47174,0.19626],[\"2024-05-03T03:14:25\",49.47174,0.19626],[\"2024-05-03T03:36:22\",49.47174,0.19626],[\"2024-05-03T03:56:19\",49.47174,0.19626],[\"2024-05-03T04:17:17\",49.47174,0.19626],[\"2024-05-03T04:38:26\",49.47173,0.19626],[\"2024-05-03T04:59:26\",49.47173,0.19626],[\"2024-05-03T05:14:24\",49.47173,0.19626],[\"2024-05-03T05:34:53\",49.47173,0.19626],[\"2024-05-03T05:53:22\",49.47173,0.19626],[\"2024-05-03T06:14:24\",49.47173,0.19626],[\"2024-05-03T06:35:22\",49.47173,0.19627],[\"2024-05-03T06:56:22\",49.47173,0.19626],[\"2024-05-03T07:17:25\",49.47173,0.19626],[\"2024-05-03T07:35:25\",49.47173,0.19626],[\"2024-05-03T07:56:23\",49.47173,0.19626],[\"2024-05-03T08:17:26\",49.47173,0.19626],[\"2024-05-03T08:38:26\",49.47173,0.19626],[\"2024-05-03T08:53:18\",49.47173,0.19626],[\"2024-05-03T09:14:27\",49.47173,0.19626],[\"2024-05-03T09:35:23\",49.47173,0.19626],[\"2024-05-03T09:53:25\",49.47173,0.19627],[\"2024-05-03T10:14:21\",49.47173,0.19627],[\"2024-05-03T10:35:27\",49.47173,0.19627],[\"2024-05-03T10:56:22\",49.47173,0.19627],[\"2024-05-03T11:17:24\",49.47173,0.19627],[\"2024-05-03T11:38:22\",49.47174,0.19627],[\"2024-05-03T11:59:24\",49.47173,0.19626],[\"2024-05-03T12:17:28\",49.47173,0.19626],[\"2024-05-03T12:34:48\",49.47173,0.19626],[\"2024-05-03T12:53:19\",49.47173,0.19626],[\"2024-05-03T13:14:25\",49.47173,0.19626],[\"2024-05-03T13:35:20\",49.47173,0.19626],[\"2024-05-03T13:56:24\",49.47173,0.19626],[\"2024-05-03T14:14:24\",49.47173,0.19626],[\"2024-05-03T14:36:03\",49.47173,0.19626],[\"2024-05-03T14:56:24\",49.47173,0.19626],[\"2024-05-03T15:17:27\",49.47173,0.19626],[\"2024-05-03T15:38:21\",49.47173,0.19626],[\"2024-05-03T15:53:24\",49.47173,0.19626],[\"2024-05-03T16:14:26\",49.47173,0.19626],[\"2024-05-03T16:32:25\",49.47173,0.19626],[\"2024-05-03T16:53:26\",49.47173,0.19626],[\"2024-05-03T17:14:24\",49.47173,0.19626],[\"2024-05-03T17:35:30\",49.47173,0.19626],[\"2024-05-03T17:53:27\",49.47173,0.19626],[\"2024-05-03T18:14:24\",49.47173,0.19626],[\"2024-05-03T18:35:31\",49.47173,0.19626],[\"2024-05-03T18:56:27\",49.47173,0.19626],[\"2024-05-03T19:17:21\",49.47173,0.19626],[\"2024-05-03T19:38:30\",49.47173,0.19626],[\"2024-05-03T19:53:29\",49.47173,0.19626],[\"2024-05-03T20:14:24\",49.47173,0.19626],[\"2024-05-03T20:35:26\",49.47173,0.19626],[\"2024-05-03T20:53:28\",49.47173,0.19626],[\"2024-05-03T21:14:28\",49.47173,0.19626],[\"2024-05-03T21:35:22\",49.47173,0.19626],[\"2024-05-03T21:56:27\",49.47173,0.19626],[\"2024-05-03T22:17:28\",49.47173,0.19626],[\"2024-05-03T22:38:27\",49.47173,0.19626],[\"2024-05-03T22:56:26\",49.47173,0.19626],[\"2024-05-03T23:17:28\",49.47174,0.19626],[\"2024-05-03T23:38:26\",49.47174,0.19626],[\"2024-05-03T23:59:28\",49.47174,0.19626],[\"2024-05-04T00:14:30\",49.47174,0.19626],[\"2024-05-04T00:32:30\",49.47174,0.19626],[\"2024-05-04T00:53:23\",49.47174,0.19626],[\"2024-05-04T01:14:27\",49.47174,0.19626],[\"2024-05-04T01:35:26\",49.47174,0.19626],[\"2024-05-04T01:56:25\",49.47174,0.19626],[\"2024-05-04T02:17:27\",49.47173,0.19626],[\"2024-05-04T02:38:27\",49.47173,0.19626],[\"2024-05-04T02:56:27\",49.47173,0.19626],[\"2024-05-04T03:17:27\",49.47174,0.19625],[\"2024-05-04T03:38:26\",49.47174,0.19625],[\"2024-05-04T03:53:28\",49.47174,0.19625],[\"2024-05-04T04:14:29\",49.47173,0.19626],[\"2024-05-04T04:32:30\",49.47173,0.19626],[\"2024-05-04T04:53:29\",49.47173,0.19626],[\"2024-05-04T05:14:33\",49.47173,0.19626],[\"2024-05-04T05:35:28\",49.47173,0.19626],[\"2024-05-04T05:56:31\",49.47173,0.19626],[\"2024-05-04T06:17:33\",49.47173,0.19626],[\"2024-05-04T06:38:27\",49.47173,0.19626],[\"2024-05-04T06:56:31\",49.47173,0.19626],[\"2024-05-04T07:17:29\",49.47173,0.19626],[\"2024-05-04T07:32:30\",49.47173,0.19626],[\"2024-05-04T07:53:30\",49.47173,0.19626],[\"2024-05-04T08:14:32\",49.47173,0.19625],[\"2024-05-04T08:35:29\",49.47173,0.19625],[\"2024-05-04T08:56:27\",49.47173,0.19626],[\"2024-05-04T09:17:27\",49.47173,0.19626],[\"2024-05-04T09:35:25\",49.47173,0.19626],[\"2024-05-04T09:56:30\",49.47173,0.19626],[\"2024-05-04T10:17:32\",49.47173,0.19626],[\"2024-05-04T10:38:31\",49.47174,0.19626],[\"2024-05-04T10:59:32\",49.47173,0.19626],[\"2024-05-04T11:17:28\",49.47173,0.19626],[\"2024-05-04T11:32:52\",49.47173,0.19626],[\"2024-05-04T11:53:29\",49.47173,0.19626],[\"2024-05-04T12:14:33\",49.47174,0.19626],[\"2024-05-04T12:35:34\",49.47174,0.19626],[\"2024-05-04T12:56:36\",49.47174,0.19626],[\"2024-05-04T13:14:30\",49.47174,0.19626],[\"2024-05-04T13:35:33\",49.47174,0.19626],[\"2024-05-04T13:53:34\",49.47174,0.19626],[\"2024-05-04T14:17:31\",49.47174,0.19626],[\"2024-05-04T14:38:28\",49.47173,0.19626],[\"2024-05-04T14:59:32\",49.47173,0.19626],[\"2024-05-04T15:14:36\",49.47173,0.19626],[\"2024-05-04T15:32:30\",49.47173,0.19626],[\"2024-05-04T15:55:00\",49.47173,0.19626],[\"2024-05-04T16:16:11\",49.47173,0.19626],[\"2024-05-04T16:35:29\",49.47173,0.19626],[\"2024-05-04T16:56:31\",49.47173,0.19626],[\"2024-05-04T17:17:30\",49.47173,0.19626],[\"2024-05-04T17:35:30\",49.47173,0.19626],[\"2024-05-04T17:56:33\",49.47173,0.19626],[\"2024-05-04T18:17:30\",49.47173,0.19626],[\"2024-05-04T18:29:29\",49.47174,0.19626],[\"2024-05-04T18:53:33\",49.47174,0.19626],[\"2024-05-04T19:14:28\",49.47174,0.19626],[\"2024-05-04T19:35:35\",49.47174,0.19627],[\"2024-05-04T19:53:34\",49.47173,0.19627],[\"2024-05-04T20:14:33\",49.47174,0.19627],[\"2024-05-04T20:35:35\",49.47173,0.19627],[\"2024-05-04T20:56:33\",49.47173,0.19626],[\"2024-05-04T21:17:36\",49.47173,0.19626],[\"2024-05-04T21:38:32\",49.47173,0.19626],[\"2024-05-04T21:59:30\",49.47173,0.19626],[\"2024-05-04T22:14:32\",49.47173,0.19626],[\"2024-05-04T22:32:31\",49.47173,0.19626],[\"2024-05-04T22:53:32\",49.47173,0.19626],[\"2024-05-04T23:14:35\",49.47174,0.19626],[\"2024-05-04T23:35:33\",49.47174,0.19626],[\"2024-05-04T23:56:37\",49.47174,0.19626],[\"2024-05-05T00:17:37\",49.47174,0.19627],[\"2024-05-05T00:38:33\",49.47174,0.19626],[\"2024-05-05T00:59:32\",49.47174,0.19626],[\"2024-05-05T01:14:34\",49.47174,0.19626],[\"2024-05-05T01:32:31\",49.47174,0.19626],[\"2024-05-05T01:53:34\",49.47173,0.19626],[\"2024-05-05T02:14:36\",49.47173,0.19626],[\"2024-05-05T02:35:36\",49.47173,0.19626],[\"2024-05-05T02:57:08\",49.47174,0.19626],[\"2024-05-05T03:17:39\",49.47174,0.19626],[\"2024-05-05T03:38:30\",49.47174,0.19626],[\"2024-05-05T03:56:36\",49.47174,0.19626],[\"2024-05-05T04:17:36\",49.47173,0.19626],[\"2024-05-05T04:33:50\",49.47173,0.19626],[\"2024-05-05T04:53:35\",49.47173,0.19626],[\"2024-05-05T05:14:38\",49.47173,0.19626],[\"2024-05-05T05:35:11\",49.47173,0.19626],[\"2024-05-05T05:53:38\",49.47173,0.19626],[\"2024-05-05T06:14:36\",49.47173,0.19626],[\"2024-05-05T06:35:31\",49.47173,0.19626],[\"2024-05-05T06:56:42\",49.47173,0.19626],[\"2024-05-05T07:17:38\",49.47173,0.19626],[\"2024-05-05T07:35:39\",49.47173,0.19626],[\"2024-05-05T07:56:46\",49.47173,0.19626],[\"2024-05-05T08:17:36\",49.47173,0.19626],[\"2024-05-05T08:38:33\",49.47173,0.19626],[\"2024-05-05T08:54:52\",49.47173,0.19626],[\"2024-05-05T09:14:34\",49.47173,0.19626],[\"2024-05-05T09:34:52\",49.47173,0.19626],[\"2024-05-05T09:56:33\",49.47173,0.19626],[\"2024-05-05T10:14:37\",49.47173,0.19626],[\"2024-05-05T10:35:38\",49.47173,0.19627],[\"2024-05-05T10:56:38\",49.47174,0.19626],[\"2024-05-05T11:17:58\",49.47173,0.19626],[\"2024-05-05T11:38:36\",49.47174,0.19626],[\"2024-05-05T11:56:36\",49.47174,0.19626],[\"2024-05-05T12:17:38\",49.47174,0.19626],[\"2024-05-05T12:32:37\",49.47174,0.19627],[\"2024-05-05T12:53:36\",49.47174,0.19627],[\"2024-05-05T13:14:41\",49.47174,0.19626],[\"2024-05-05T13:35:37\",49.47174,0.19626],[\"2024-05-05T13:56:41\",49.47174,0.19627],[\"2024-05-05T14:14:42\",49.47174,0.19626],[\"2024-05-05T14:37:20\",49.47174,0.19626],[\"2024-05-05T14:56:37\",49.47173,0.19626],[\"2024-05-05T15:17:39\",49.47173,0.19626],[\"2024-05-05T15:38:37\",49.47173,0.19626],[\"2024-05-05T15:56:36\",49.47173,0.19626],[\"2024-05-05T16:14:36\",49.47173,0.19626],[\"2024-05-05T16:32:36\",49.47173,0.19626],[\"2024-05-05T16:53:33\",49.47173,0.19626],[\"2024-05-05T17:14:37\",49.47173,0.19626],[\"2024-05-05T17:35:36\",49.47173,0.19626],[\"2024-05-05T17:56:41\",49.47173,0.19626],[\"2024-05-05T18:17:39\",49.47174,0.19626],[\"2024-05-05T18:35:42\",49.47174,0.19626],[\"2024-05-05T18:56:34\",49.47174,0.19626],[\"2024-05-05T19:17:41\",49.47174,0.19627],[\"2024-05-05T19:34:16\",49.47174,0.19627],[\"2024-05-05T19:53:38\",49.47174,0.19627],[\"2024-05-05T20:14:39\",49.47174,0.19627],[\"2024-05-05T20:35:38\",49.47173,0.19627],[\"2024-05-05T20:56:41\",49.47173,0.19626],[\"2024-05-05T21:17:15\",49.47173,0.19626],[\"2024-05-05T21:35:39\",49.47173,0.19626],[\"2024-05-05T21:56:36\",49.47173,0.19626],[\"2024-05-05T22:17:38\",49.47173,0.19626],[\"2024-05-05T22:38:42\",49.47173,0.19626],[\"2024-05-05T22:53:39\",49.47174,0.19626],[\"2024-05-05T23:14:43\",49.47174,0.19626],[\"2024-05-05T23:35:37\",49.47174,0.19626],[\"2024-05-05T23:53:37\",49.47174,0.19626],[\"2024-05-06T00:14:43\",49.47174,0.19626],[\"2024-05-06T00:35:39\",49.47174,0.19626],[\"2024-05-06T00:56:39\",49.47174,0.19626],[\"2024-05-06T01:17:44\",49.47174,0.19626],[\"2024-05-06T01:38:43\",49.47174,0.19626],[\"2024-05-06T01:59:40\",49.47174,0.19626],[\"2024-05-06T02:14:43\",49.47174,0.19626],[\"2024-05-06T02:32:46\",49.47174,0.19626],[\"2024-05-06T02:54:30\",49.47174,0.19626],[\"2024-05-06T03:14:39\",49.47174,0.19625],[\"2024-05-06T03:32:40\",49.47174,0.19625],[\"2024-05-06T03:53:42\",49.47174,0.19625],[\"2024-05-06T04:17:43\",49.47173,0.19626],[\"2024-05-06T04:35:42\",49.47173,0.19626],[\"2024-05-06T04:56:44\",49.47173,0.19626],[\"2024-05-06T05:17:41\",49.47173,0.19626],[\"2024-05-06T05:32:41\",49.47173,0.19626],[\"2024-05-06T05:53:41\",49.47173,0.19626],[\"2024-05-06T06:14:39\",49.47174,0.19626],[\"2024-05-06T06:35:42\",49.47173,0.19626],[\"2024-05-06T06:56:41\",49.47173,0.19626],[\"2024-05-06T07:14:43\",49.47173,0.19626],[\"2024-05-06T07:35:41\",49.47173,0.19626],[\"2024-05-06T07:56:40\",49.47173,0.19626],[\"2024-05-06T08:17:44\",49.47173,0.19626],[\"2024-05-06T08:38:43\",49.47173,0.19626],[\"2024-05-06T08:59:43\",49.47173,0.19626],[\"2024-05-06T09:14:41\",49.47173,0.19626],[\"2024-05-06T09:32:43\",49.47173,0.19626],[\"2024-05-06T09:53:43\",49.47173,0.19626],[\"2024-05-06T10:14:38\",49.47173,0.19626],[\"2024-05-06T10:35:40\",49.47173,0.19626],[\"2024-05-06T10:56:42\",49.47173,0.19626],[\"2024-05-06T11:14:40\",49.47174,0.19626],[\"2024-05-06T11:35:40\",49.47174,0.19626],[\"2024-05-06T11:56:44\",49.47174,0.19626],[\"2024-05-06T12:17:43\",49.47174,0.19626],[\"2024-05-06T12:38:42\",49.47174,0.19626],[\"2024-05-06T12:59:42\",49.47174,0.19626],[\"2024-05-06T13:14:45\",49.47174,0.19626],[\"2024-05-06T13:32:39\",49.47174,0.19626],[\"2024-05-06T13:53:42\",49.47174,0.19626],[\"2024-05-06T14:14:49\",49.47174,0.19626],[\"2024-05-06T14:35:44\",49.47173,0.19626],[\"2024-05-06T14:56:48\",49.47173,0.19626],[\"2024-05-06T15:14:43\",49.47173,0.19626],[\"2024-05-06T15:35:45\",49.47173,0.19626],[\"2024-05-06T15:56:44\",49.47174,0.19626],[\"2024-05-06T16:17:45\",49.47174,0.19626],[\"2024-05-06T16:38:47\",49.47173,0.19625],[\"2024-05-06T16:59:43\",49.47173,0.19625],[\"2024-05-06T17:14:49\",49.47173,0.19625],[\"2024-05-06T17:32:47\",49.47173,0.19625],[\"2024-05-06T17:53:45\",49.47173,0.19625],[\"2024-05-06T18:14:43\",49.47174,0.19626],[\"2024-05-06T18:35:44\",49.47174,0.19626],[\"2024-05-06T18:53:44\",49.47174,0.19626],[\"2024-05-06T19:14:44\",49.47174,0.19626],[\"2024-05-06T19:35:46\",49.47174,0.19626],[\"2024-05-06T19:56:46\",49.47174,0.19626],[\"2024-05-06T20:18:02\",49.47174,0.19626],[\"2024-05-06T20:38:48\",49.47173,0.19626],[\"2024-05-06T20:59:41\",49.47173,0.19626],[\"2024-05-06T21:14:46\",49.47173,0.19626],[\"2024-05-06T21:32:46\",49.47173,0.19626],[\"2024-05-06T21:53:45\",49.47173,0.19626],[\"2024-05-06T22:14:50\",49.47173,0.19626],[\"2024-05-06T22:35:46\",49.47173,0.19626],[\"2024-05-06T22:56:47\",49.47174,0.19626],[\"2024-05-06T23:14:49\",49.47174,0.19626],[\"2024-05-06T23:35:48\",49.47174,0.19626],[\"2024-05-06T23:56:44\",49.47174,0.19626],[\"2024-05-07T00:17:47\",49.47174,0.19626],[\"2024-05-07T00:38:46\",49.47174,0.19625],[\"2024-05-07T00:59:46\",49.47174,0.19626],[\"2024-05-07T01:14:42\",49.47174,0.19626],[\"2024-05-07T01:32:42\",49.47174,0.19626],[\"2024-05-07T01:53:45\",49.47174,0.19625],[\"2024-05-07T02:14:49\",49.47174,0.19625],[\"2024-05-07T02:35:47\",49.47174,0.19625],[\"2024-05-07T02:56:48\",49.47174,0.19625],[\"2024-05-07T03:14:45\",49.47174,0.19625],[\"2024-05-07T03:35:48\",49.47174,0.19625],[\"2024-05-07T03:56:47\",49.47174,0.19625],[\"2024-05-07T04:17:48\",49.47174,0.19625],[\"2024-05-07T04:38:48\",49.47174,0.19626],[\"2024-05-07T04:56:47\",49.47173,0.19625],[\"2024-05-07T05:17:49\",49.47173,0.19625],[\"2024-05-07T05:39:13\",49.47173,0.19625],[\"2024-05-07T05:53:49\",49.47174,0.19625],[\"2024-05-07T06:14:50\",49.47174,0.19625],[\"2024-05-07T06:32:51\",49.47173,0.19626],[\"2024-05-07T06:53:49\",49.47174,0.19626],[\"2024-05-07T07:14:51\",49.47173,0.19625],[\"2024-05-07T07:35:52\",49.47174,0.19625],[\"2024-05-07T07:56:47\",49.47173,0.19625],[\"2024-05-07T08:17:48\",49.47173,0.19625],[\"2024-05-07T08:35:51\",49.47173,0.19626],[\"2024-05-07T08:56:49\",49.47173,0.19626],[\"2024-05-07T09:17:51\",49.47173,0.19626],[\"2024-05-07T09:38:48\",49.47173,0.19626],[\"2024-05-07T09:53:48\",49.47173,0.19626],[\"2024-05-07T10:14:49\",49.47173,0.19626],[\"2024-05-07T10:32:51\",49.47173,0.19626],[\"2024-05-07T10:53:50\",49.47173,0.19626],[\"2024-05-07T11:14:49\",49.47173,0.19626],[\"2024-05-07T11:35:51\",49.47173,0.19626],[\"2024-05-07T11:56:51\",49.47174,0.19626],[\"2024-05-07T12:14:50\",49.47174,0.19626],[\"2024-05-07T12:35:50\",49.47174,0.19626],[\"2024-05-07T12:56:50\",49.47174,0.19626],[\"2024-05-07T13:17:48\",49.47174,0.19626],[\"2024-05-07T13:38:50\",49.47173,0.19626],[\"2024-05-07T13:56:48\",49.47174,0.19626],[\"2024-05-07T14:17:51\",49.47173,0.19626],[\"2024-05-07T14:32:51\",49.47173,0.19626],[\"2024-05-07T14:53:50\",49.47173,0.19626],[\"2024-05-07T15:15:15\",49.47745,0.18193],[\"2024-05-07T15:35:49\",49.47586,0.17351],[\"2024-05-07T15:56:38\",49.47579,0.17313],[\"2024-05-07T16:17:19\",49.47494,0.12037],[\"2024-05-07T16:37:49\",49.49363,0.01981],[\"2024-05-07T16:58:18\",49.5177,-0.08638],[\"2024-05-07T17:18:38\",49.54938,-0.19235],[\"2024-05-07T17:39:09\",49.57468,-0.29885],[\"2024-05-07T17:59:39\",49.59862,-0.3997],[\"2024-05-07T18:14:58\",49.61592,-0.4726],[\"2024-05-07T18:35:08\",49.6382,-0.56649],[\"2024-05-07T18:55:57\",49.66059,-0.6612],[\"2024-05-07T19:16:08\",49.68221,-0.75258],[\"2024-05-07T19:37:08\",49.70446,-0.8466],[\"2024-05-07T19:46:57\",49.71491,-0.8907],[\"2024-05-07T20:17:57\",49.74789,-1.03014],[\"2024-05-07T20:33:09\",49.76376,-1.09722],[\"2024-05-07T23:59:01\",50.00852,-2.22267]],\"geo\":\"geo\",\"hovertemplate\":\"\\u003cb\\u003e%{hovertext}\\u003c\\u002fb\\u003e\\u003cbr\\u003e\\u003cbr\\u003evesselId=61e9f415b937134a3c4c0063\\u003cbr\\u003elatitude=%{customdata[1]:.3f}\\u003cbr\\u003elongitude=%{customdata[2]:.3f}\\u003cbr\\u003etime=%{customdata[0]}\\u003cextra\\u003e\\u003c\\u002fextra\\u003e\",\"hovertext\":[\"61e9f415b937134a3c4c0063\",\"61e9f415b937134a3c4c0063\",\"61e9f415b937134a3c4c0063\",\"61e9f415b937134a3c4c0063\",\"61e9f415b937134a3c4c0063\",\"61e9f415b937134a3c4c0063\",\"61e9f415b937134a3c4c0063\",\"61e9f415b937134a3c4c0063\",\"61e9f415b937134a3c4c0063\",\"61e9f415b937134a3c4c0063\",\"61e9f415b937134a3c4c0063\",\"61e9f415b937134a3c4c0063\",\"61e9f415b937134a3c4c0063\",\"61e9f415b937134a3c4c0063\",\"61e9f415b937134a3c4c0063\",\"61e9f415b937134a3c4c0063\",\"61e9f415b937134a3c4c0063\",\"61e9f415b937134a3c4c0063\",\"61e9f415b937134a3c4c0063\",\"61e9f415b937134a3c4c0063\",\"61e9f415b937134a3c4c0063\",\"61e9f415b937134a3c4c0063\",\"61e9f415b937134a3c4c0063\",\"61e9f415b937134a3c4c0063\",\"61e9f415b937134a3c4c0063\",\"61e9f415b937134a3c4c0063\",\"61e9f415b937134a3c4c0063\",\"61e9f415b937134a3c4c0063\",\"61e9f415b937134a3c4c0063\",\"61e9f415b937134a3c4c0063\",\"61e9f415b937134a3c4c0063\",\"61e9f415b937134a3c4c0063\",\"61e9f415b937134a3c4c0063\",\"61e9f415b937134a3c4c0063\",\"61e9f415b937134a3c4c0063\",\"61e9f415b937134a3c4c0063\",\"61e9f415b937134a3c4c0063\",\"61e9f415b937134a3c4c0063\",\"61e9f415b937134a3c4c0063\",\"61e9f415b937134a3c4c0063\",\"61e9f415b937134a3c4c0063\",\"61e9f415b937134a3c4c0063\",\"61e9f415b937134a3c4c0063\",\"61e9f415b937134a3c4c0063\",\"61e9f415b937134a3c4c0063\",\"61e9f415b937134a3c4c0063\",\"61e9f415b937134a3c4c0063\",\"61e9f415b937134a3c4c0063\",\"61e9f415b937134a3c4c0063\",\"61e9f415b937134a3c4c0063\",\"61e9f415b937134a3c4c0063\",\"61e9f415b937134a3c4c0063\",\"61e9f415b937134a3c4c0063\",\"61e9f415b937134a3c4c0063\",\"61e9f415b937134a3c4c0063\",\"61e9f415b937134a3c4c0063\",\"61e9f415b937134a3c4c0063\",\"61e9f415b937134a3c4c0063\",\"61e9f415b937134a3c4c0063\",\"61e9f415b937134a3c4c0063\",\"61e9f415b937134a3c4c0063\",\"61e9f415b937134a3c4c0063\",\"61e9f415b937134a3c4c0063\",\"61e9f415b937134a3c4c0063\",\"61e9f415b937134a3c4c0063\",\"61e9f415b937134a3c4c0063\",\"61e9f415b937134a3c4c0063\",\"61e9f415b937134a3c4c0063\",\"61e9f415b937134a3c4c0063\",\"61e9f415b937134a3c4c0063\",\"61e9f415b937134a3c4c0063\",\"61e9f415b937134a3c4c0063\",\"61e9f415b937134a3c4c0063\",\"61e9f415b937134a3c4c0063\",\"61e9f415b937134a3c4c0063\",\"61e9f415b937134a3c4c0063\",\"61e9f415b937134a3c4c0063\",\"61e9f415b937134a3c4c0063\",\"61e9f415b937134a3c4c0063\",\"61e9f415b937134a3c4c0063\",\"61e9f415b937134a3c4c0063\",\"61e9f415b937134a3c4c0063\",\"61e9f415b937134a3c4c0063\",\"61e9f415b937134a3c4c0063\",\"61e9f415b937134a3c4c0063\",\"61e9f415b937134a3c4c0063\",\"61e9f415b937134a3c4c0063\",\"61e9f415b937134a3c4c0063\",\"61e9f415b937134a3c4c0063\",\"61e9f415b937134a3c4c0063\",\"61e9f415b937134a3c4c0063\",\"61e9f415b937134a3c4c0063\",\"61e9f415b937134a3c4c0063\",\"61e9f415b937134a3c4c0063\",\"61e9f415b937134a3c4c0063\",\"61e9f415b937134a3c4c0063\",\"61e9f415b937134a3c4c0063\",\"61e9f415b937134a3c4c0063\",\"61e9f415b937134a3c4c0063\",\"61e9f415b937134a3c4c0063\",\"61e9f415b937134a3c4c0063\",\"61e9f415b937134a3c4c0063\",\"61e9f415b937134a3c4c0063\",\"61e9f415b937134a3c4c0063\",\"61e9f415b937134a3c4c0063\",\"61e9f415b937134a3c4c0063\",\"61e9f415b937134a3c4c0063\",\"61e9f415b937134a3c4c0063\",\"61e9f415b937134a3c4c0063\",\"61e9f415b937134a3c4c0063\",\"61e9f415b937134a3c4c0063\",\"61e9f415b937134a3c4c0063\",\"61e9f415b937134a3c4c0063\",\"61e9f415b937134a3c4c0063\",\"61e9f415b937134a3c4c0063\",\"61e9f415b937134a3c4c0063\",\"61e9f415b937134a3c4c0063\",\"61e9f415b937134a3c4c0063\",\"61e9f415b937134a3c4c0063\",\"61e9f415b937134a3c4c0063\",\"61e9f415b937134a3c4c0063\",\"61e9f415b937134a3c4c0063\",\"61e9f415b937134a3c4c0063\",\"61e9f415b937134a3c4c0063\",\"61e9f415b937134a3c4c0063\",\"61e9f415b937134a3c4c0063\",\"61e9f415b937134a3c4c0063\",\"61e9f415b937134a3c4c0063\",\"61e9f415b937134a3c4c0063\",\"61e9f415b937134a3c4c0063\",\"61e9f415b937134a3c4c0063\",\"61e9f415b937134a3c4c0063\",\"61e9f415b937134a3c4c0063\",\"61e9f415b937134a3c4c0063\",\"61e9f415b937134a3c4c0063\",\"61e9f415b937134a3c4c0063\",\"61e9f415b937134a3c4c0063\",\"61e9f415b937134a3c4c0063\",\"61e9f415b937134a3c4c0063\",\"61e9f415b937134a3c4c0063\",\"61e9f415b937134a3c4c0063\",\"61e9f415b937134a3c4c0063\",\"61e9f415b937134a3c4c0063\",\"61e9f415b937134a3c4c0063\",\"61e9f415b937134a3c4c0063\",\"61e9f415b937134a3c4c0063\",\"61e9f415b937134a3c4c0063\",\"61e9f415b937134a3c4c0063\",\"61e9f415b937134a3c4c0063\",\"61e9f415b937134a3c4c0063\",\"61e9f415b937134a3c4c0063\",\"61e9f415b937134a3c4c0063\",\"61e9f415b937134a3c4c0063\",\"61e9f415b937134a3c4c0063\",\"61e9f415b937134a3c4c0063\",\"61e9f415b937134a3c4c0063\",\"61e9f415b937134a3c4c0063\",\"61e9f415b937134a3c4c0063\",\"61e9f415b937134a3c4c0063\",\"61e9f415b937134a3c4c0063\",\"61e9f415b937134a3c4c0063\",\"61e9f415b937134a3c4c0063\",\"61e9f415b937134a3c4c0063\",\"61e9f415b937134a3c4c0063\",\"61e9f415b937134a3c4c0063\",\"61e9f415b937134a3c4c0063\",\"61e9f415b937134a3c4c0063\",\"61e9f415b937134a3c4c0063\",\"61e9f415b937134a3c4c0063\",\"61e9f415b937134a3c4c0063\",\"61e9f415b937134a3c4c0063\",\"61e9f415b937134a3c4c0063\",\"61e9f415b937134a3c4c0063\",\"61e9f415b937134a3c4c0063\",\"61e9f415b937134a3c4c0063\",\"61e9f415b937134a3c4c0063\",\"61e9f415b937134a3c4c0063\",\"61e9f415b937134a3c4c0063\",\"61e9f415b937134a3c4c0063\",\"61e9f415b937134a3c4c0063\",\"61e9f415b937134a3c4c0063\",\"61e9f415b937134a3c4c0063\",\"61e9f415b937134a3c4c0063\",\"61e9f415b937134a3c4c0063\",\"61e9f415b937134a3c4c0063\",\"61e9f415b937134a3c4c0063\",\"61e9f415b937134a3c4c0063\",\"61e9f415b937134a3c4c0063\",\"61e9f415b937134a3c4c0063\",\"61e9f415b937134a3c4c0063\",\"61e9f415b937134a3c4c0063\",\"61e9f415b937134a3c4c0063\",\"61e9f415b937134a3c4c0063\",\"61e9f415b937134a3c4c0063\",\"61e9f415b937134a3c4c0063\",\"61e9f415b937134a3c4c0063\",\"61e9f415b937134a3c4c0063\",\"61e9f415b937134a3c4c0063\",\"61e9f415b937134a3c4c0063\",\"61e9f415b937134a3c4c0063\",\"61e9f415b937134a3c4c0063\",\"61e9f415b937134a3c4c0063\",\"61e9f415b937134a3c4c0063\",\"61e9f415b937134a3c4c0063\",\"61e9f415b937134a3c4c0063\",\"61e9f415b937134a3c4c0063\",\"61e9f415b937134a3c4c0063\",\"61e9f415b937134a3c4c0063\",\"61e9f415b937134a3c4c0063\",\"61e9f415b937134a3c4c0063\",\"61e9f415b937134a3c4c0063\",\"61e9f415b937134a3c4c0063\",\"61e9f415b937134a3c4c0063\",\"61e9f415b937134a3c4c0063\",\"61e9f415b937134a3c4c0063\",\"61e9f415b937134a3c4c0063\",\"61e9f415b937134a3c4c0063\",\"61e9f415b937134a3c4c0063\",\"61e9f415b937134a3c4c0063\",\"61e9f415b937134a3c4c0063\",\"61e9f415b937134a3c4c0063\",\"61e9f415b937134a3c4c0063\",\"61e9f415b937134a3c4c0063\",\"61e9f415b937134a3c4c0063\",\"61e9f415b937134a3c4c0063\",\"61e9f415b937134a3c4c0063\",\"61e9f415b937134a3c4c0063\",\"61e9f415b937134a3c4c0063\",\"61e9f415b937134a3c4c0063\",\"61e9f415b937134a3c4c0063\",\"61e9f415b937134a3c4c0063\",\"61e9f415b937134a3c4c0063\",\"61e9f415b937134a3c4c0063\",\"61e9f415b937134a3c4c0063\",\"61e9f415b937134a3c4c0063\",\"61e9f415b937134a3c4c0063\",\"61e9f415b937134a3c4c0063\",\"61e9f415b937134a3c4c0063\",\"61e9f415b937134a3c4c0063\",\"61e9f415b937134a3c4c0063\",\"61e9f415b937134a3c4c0063\",\"61e9f415b937134a3c4c0063\",\"61e9f415b937134a3c4c0063\",\"61e9f415b937134a3c4c0063\",\"61e9f415b937134a3c4c0063\",\"61e9f415b937134a3c4c0063\",\"61e9f415b937134a3c4c0063\",\"61e9f415b937134a3c4c0063\",\"61e9f415b937134a3c4c0063\",\"61e9f415b937134a3c4c0063\",\"61e9f415b937134a3c4c0063\",\"61e9f415b937134a3c4c0063\",\"61e9f415b937134a3c4c0063\",\"61e9f415b937134a3c4c0063\",\"61e9f415b937134a3c4c0063\",\"61e9f415b937134a3c4c0063\",\"61e9f415b937134a3c4c0063\",\"61e9f415b937134a3c4c0063\",\"61e9f415b937134a3c4c0063\",\"61e9f415b937134a3c4c0063\",\"61e9f415b937134a3c4c0063\",\"61e9f415b937134a3c4c0063\",\"61e9f415b937134a3c4c0063\",\"61e9f415b937134a3c4c0063\",\"61e9f415b937134a3c4c0063\",\"61e9f415b937134a3c4c0063\",\"61e9f415b937134a3c4c0063\",\"61e9f415b937134a3c4c0063\",\"61e9f415b937134a3c4c0063\",\"61e9f415b937134a3c4c0063\",\"61e9f415b937134a3c4c0063\",\"61e9f415b937134a3c4c0063\",\"61e9f415b937134a3c4c0063\",\"61e9f415b937134a3c4c0063\",\"61e9f415b937134a3c4c0063\",\"61e9f415b937134a3c4c0063\",\"61e9f415b937134a3c4c0063\",\"61e9f415b937134a3c4c0063\",\"61e9f415b937134a3c4c0063\",\"61e9f415b937134a3c4c0063\",\"61e9f415b937134a3c4c0063\",\"61e9f415b937134a3c4c0063\",\"61e9f415b937134a3c4c0063\",\"61e9f415b937134a3c4c0063\",\"61e9f415b937134a3c4c0063\",\"61e9f415b937134a3c4c0063\",\"61e9f415b937134a3c4c0063\",\"61e9f415b937134a3c4c0063\",\"61e9f415b937134a3c4c0063\",\"61e9f415b937134a3c4c0063\",\"61e9f415b937134a3c4c0063\",\"61e9f415b937134a3c4c0063\",\"61e9f415b937134a3c4c0063\",\"61e9f415b937134a3c4c0063\",\"61e9f415b937134a3c4c0063\",\"61e9f415b937134a3c4c0063\",\"61e9f415b937134a3c4c0063\",\"61e9f415b937134a3c4c0063\",\"61e9f415b937134a3c4c0063\",\"61e9f415b937134a3c4c0063\",\"61e9f415b937134a3c4c0063\",\"61e9f415b937134a3c4c0063\",\"61e9f415b937134a3c4c0063\",\"61e9f415b937134a3c4c0063\",\"61e9f415b937134a3c4c0063\",\"61e9f415b937134a3c4c0063\",\"61e9f415b937134a3c4c0063\",\"61e9f415b937134a3c4c0063\",\"61e9f415b937134a3c4c0063\",\"61e9f415b937134a3c4c0063\",\"61e9f415b937134a3c4c0063\",\"61e9f415b937134a3c4c0063\",\"61e9f415b937134a3c4c0063\",\"61e9f415b937134a3c4c0063\",\"61e9f415b937134a3c4c0063\",\"61e9f415b937134a3c4c0063\",\"61e9f415b937134a3c4c0063\",\"61e9f415b937134a3c4c0063\",\"61e9f415b937134a3c4c0063\",\"61e9f415b937134a3c4c0063\",\"61e9f415b937134a3c4c0063\",\"61e9f415b937134a3c4c0063\",\"61e9f415b937134a3c4c0063\",\"61e9f415b937134a3c4c0063\",\"61e9f415b937134a3c4c0063\",\"61e9f415b937134a3c4c0063\",\"61e9f415b937134a3c4c0063\",\"61e9f415b937134a3c4c0063\",\"61e9f415b937134a3c4c0063\",\"61e9f415b937134a3c4c0063\",\"61e9f415b937134a3c4c0063\",\"61e9f415b937134a3c4c0063\",\"61e9f415b937134a3c4c0063\",\"61e9f415b937134a3c4c0063\",\"61e9f415b937134a3c4c0063\",\"61e9f415b937134a3c4c0063\",\"61e9f415b937134a3c4c0063\",\"61e9f415b937134a3c4c0063\",\"61e9f415b937134a3c4c0063\",\"61e9f415b937134a3c4c0063\",\"61e9f415b937134a3c4c0063\",\"61e9f415b937134a3c4c0063\",\"61e9f415b937134a3c4c0063\",\"61e9f415b937134a3c4c0063\",\"61e9f415b937134a3c4c0063\",\"61e9f415b937134a3c4c0063\",\"61e9f415b937134a3c4c0063\",\"61e9f415b937134a3c4c0063\",\"61e9f415b937134a3c4c0063\",\"61e9f415b937134a3c4c0063\",\"61e9f415b937134a3c4c0063\"],\"lat\":[49.47173,49.47173,49.47173,49.47173,49.47174,49.47174,49.47174,49.47174,49.47174,49.47174,49.47174,49.47174,49.47174,49.47173,49.47173,49.47173,49.47173,49.47173,49.47173,49.47173,49.47173,49.47173,49.47173,49.47173,49.47173,49.47173,49.47173,49.47173,49.47173,49.47173,49.47173,49.47173,49.47173,49.47173,49.47174,49.47173,49.47173,49.47173,49.47173,49.47173,49.47173,49.47173,49.47173,49.47173,49.47173,49.47173,49.47173,49.47173,49.47173,49.47173,49.47173,49.47173,49.47173,49.47173,49.47173,49.47173,49.47173,49.47173,49.47173,49.47173,49.47173,49.47173,49.47173,49.47173,49.47173,49.47173,49.47173,49.47173,49.47173,49.47174,49.47174,49.47174,49.47174,49.47174,49.47174,49.47174,49.47174,49.47174,49.47173,49.47173,49.47173,49.47174,49.47174,49.47174,49.47173,49.47173,49.47173,49.47173,49.47173,49.47173,49.47173,49.47173,49.47173,49.47173,49.47173,49.47173,49.47173,49.47173,49.47173,49.47173,49.47173,49.47173,49.47173,49.47174,49.47173,49.47173,49.47173,49.47173,49.47174,49.47174,49.47174,49.47174,49.47174,49.47174,49.47174,49.47173,49.47173,49.47173,49.47173,49.47173,49.47173,49.47173,49.47173,49.47173,49.47173,49.47173,49.47173,49.47174,49.47174,49.47174,49.47174,49.47173,49.47174,49.47173,49.47173,49.47173,49.47173,49.47173,49.47173,49.47173,49.47173,49.47174,49.47174,49.47174,49.47174,49.47174,49.47174,49.47174,49.47174,49.47173,49.47173,49.47173,49.47174,49.47174,49.47174,49.47174,49.47173,49.47173,49.47173,49.47173,49.47173,49.47173,49.47173,49.47173,49.47173,49.47173,49.47173,49.47173,49.47173,49.47173,49.47173,49.47173,49.47173,49.47173,49.47173,49.47173,49.47174,49.47173,49.47174,49.47174,49.47174,49.47174,49.47174,49.47174,49.47174,49.47174,49.47174,49.47174,49.47173,49.47173,49.47173,49.47173,49.47173,49.47173,49.47173,49.47173,49.47173,49.47173,49.47174,49.47174,49.47174,49.47174,49.47174,49.47174,49.47174,49.47173,49.47173,49.47173,49.47173,49.47173,49.47173,49.47173,49.47174,49.47174,49.47174,49.47174,49.47174,49.47174,49.47174,49.47174,49.47174,49.47174,49.47174,49.47174,49.47174,49.47174,49.47174,49.47174,49.47173,49.47173,49.47173,49.47173,49.47173,49.47173,49.47174,49.47173,49.47173,49.47173,49.47173,49.47173,49.47173,49.47173,49.47173,49.47173,49.47173,49.47173,49.47173,49.47173,49.47173,49.47174,49.47174,49.47174,49.47174,49.47174,49.47174,49.47174,49.47174,49.47174,49.47174,49.47173,49.47173,49.47173,49.47173,49.47174,49.47174,49.47173,49.47173,49.47173,49.47173,49.47173,49.47174,49.47174,49.47174,49.47174,49.47174,49.47174,49.47174,49.47173,49.47173,49.47173,49.47173,49.47173,49.47173,49.47173,49.47174,49.47174,49.47174,49.47174,49.47174,49.47174,49.47174,49.47174,49.47174,49.47174,49.47174,49.47174,49.47174,49.47174,49.47174,49.47174,49.47174,49.47174,49.47173,49.47173,49.47173,49.47174,49.47174,49.47173,49.47174,49.47173,49.47174,49.47173,49.47173,49.47173,49.47173,49.47173,49.47173,49.47173,49.47173,49.47173,49.47173,49.47173,49.47173,49.47174,49.47174,49.47174,49.47174,49.47174,49.47173,49.47174,49.47173,49.47173,49.47173,49.47745,49.47586,49.47579,49.47494,49.49363,49.5177,49.54938,49.57468,49.59862,49.61592,49.6382,49.66059,49.68221,49.70446,49.71491,49.74789,49.76376,50.00852],\"legendgroup\":\"61e9f415b937134a3c4c0063\",\"line\":{\"color\":\"#636EFA\",\"dash\":\"solid\"},\"lon\":[0.19627,0.19626,0.19626,0.19626,0.19626,0.19626,0.19626,0.19626,0.19626,0.19626,0.19626,0.19626,0.19626,0.19626,0.19626,0.19626,0.19626,0.19626,0.19626,0.19627,0.19626,0.19626,0.19626,0.19626,0.19626,0.19626,0.19626,0.19626,0.19626,0.19627,0.19627,0.19627,0.19627,0.19627,0.19627,0.19626,0.19626,0.19626,0.19626,0.19626,0.19626,0.19626,0.19626,0.19626,0.19626,0.19626,0.19626,0.19626,0.19626,0.19626,0.19626,0.19626,0.19626,0.19626,0.19626,0.19626,0.19626,0.19626,0.19626,0.19626,0.19626,0.19626,0.19626,0.19626,0.19626,0.19626,0.19626,0.19626,0.19626,0.19626,0.19626,0.19626,0.19626,0.19626,0.19626,0.19626,0.19626,0.19626,0.19626,0.19626,0.19626,0.19625,0.19625,0.19625,0.19626,0.19626,0.19626,0.19626,0.19626,0.19626,0.19626,0.19626,0.19626,0.19626,0.19626,0.19626,0.19625,0.19625,0.19626,0.19626,0.19626,0.19626,0.19626,0.19626,0.19626,0.19626,0.19626,0.19626,0.19626,0.19626,0.19626,0.19626,0.19626,0.19626,0.19626,0.19626,0.19626,0.19626,0.19626,0.19626,0.19626,0.19626,0.19626,0.19626,0.19626,0.19626,0.19626,0.19626,0.19626,0.19626,0.19627,0.19627,0.19627,0.19627,0.19626,0.19626,0.19626,0.19626,0.19626,0.19626,0.19626,0.19626,0.19626,0.19626,0.19627,0.19626,0.19626,0.19626,0.19626,0.19626,0.19626,0.19626,0.19626,0.19626,0.19626,0.19626,0.19626,0.19626,0.19626,0.19626,0.19626,0.19626,0.19626,0.19626,0.19626,0.19626,0.19626,0.19626,0.19626,0.19626,0.19626,0.19626,0.19626,0.19626,0.19626,0.19627,0.19626,0.19626,0.19626,0.19626,0.19626,0.19627,0.19627,0.19626,0.19626,0.19627,0.19626,0.19626,0.19626,0.19626,0.19626,0.19626,0.19626,0.19626,0.19626,0.19626,0.19626,0.19626,0.19626,0.19626,0.19626,0.19627,0.19627,0.19627,0.19627,0.19627,0.19626,0.19626,0.19626,0.19626,0.19626,0.19626,0.19626,0.19626,0.19626,0.19626,0.19626,0.19626,0.19626,0.19626,0.19626,0.19626,0.19626,0.19626,0.19626,0.19625,0.19625,0.19625,0.19626,0.19626,0.19626,0.19626,0.19626,0.19626,0.19626,0.19626,0.19626,0.19626,0.19626,0.19626,0.19626,0.19626,0.19626,0.19626,0.19626,0.19626,0.19626,0.19626,0.19626,0.19626,0.19626,0.19626,0.19626,0.19626,0.19626,0.19626,0.19626,0.19626,0.19626,0.19626,0.19626,0.19626,0.19626,0.19626,0.19626,0.19625,0.19625,0.19625,0.19625,0.19625,0.19626,0.19626,0.19626,0.19626,0.19626,0.19626,0.19626,0.19626,0.19626,0.19626,0.19626,0.19626,0.19626,0.19626,0.19626,0.19626,0.19626,0.19626,0.19626,0.19625,0.19626,0.19626,0.19626,0.19625,0.19625,0.19625,0.19625,0.19625,0.19625,0.19625,0.19625,0.19626,0.19625,0.19625,0.19625,0.19625,0.19625,0.19626,0.19626,0.19625,0.19625,0.19625,0.19625,0.19626,0.19626,0.19626,0.19626,0.19626,0.19626,0.19626,0.19626,0.19626,0.19626,0.19626,0.19626,0.19626,0.19626,0.19626,0.19626,0.19626,0.19626,0.19626,0.19626,0.18193,0.17351,0.17313,0.12037,0.01981,-0.08638,-0.19235,-0.29885,-0.3997,-0.4726,-0.56649,-0.6612,-0.75258,-0.8466,-0.8907,-1.03014,-1.09722,-2.22267],\"marker\":{\"symbol\":\"circle\"},\"mode\":\"lines\",\"name\":\"61e9f415b937134a3c4c0063\",\"showlegend\":true,\"type\":\"scattergeo\"},{\"hoverinfo\":\"text\",\"lat\":[49.47173,49.47173,49.47173,49.47173,49.47174,49.47174,49.47174,49.47174,49.47174,49.47174,49.47174,49.47174,49.47174,49.47173,49.47173,49.47173,49.47173,49.47173,49.47173,49.47173,49.47173,49.47173,49.47173,49.47173,49.47173,49.47173,49.47173,49.47173,49.47173,49.47173,49.47173,49.47173,49.47173,49.47173,49.47174,49.47173,49.47173,49.47173,49.47173,49.47173,49.47173,49.47173,49.47173,49.47173,49.47173,49.47173,49.47173,49.47173,49.47173,49.47173,49.47173,49.47173,49.47173,49.47173,49.47173,49.47173,49.47173,49.47173,49.47173,49.47173,49.47173,49.47173,49.47173,49.47173,49.47173,49.47173,49.47173,49.47173,49.47173,49.47174,49.47174,49.47174,49.47174,49.47174,49.47174,49.47174,49.47174,49.47174,49.47173,49.47173,49.47173,49.47174,49.47174,49.47174,49.47173,49.47173,49.47173,49.47173,49.47173,49.47173,49.47173,49.47173,49.47173,49.47173,49.47173,49.47173,49.47173,49.47173,49.47173,49.47173,49.47173,49.47173,49.47173,49.47174,49.47173,49.47173,49.47173,49.47173,49.47174,49.47174,49.47174,49.47174,49.47174,49.47174,49.47174,49.47173,49.47173,49.47173,49.47173,49.47173,49.47173,49.47173,49.47173,49.47173,49.47173,49.47173,49.47173,49.47174,49.47174,49.47174,49.47174,49.47173,49.47174,49.47173,49.47173,49.47173,49.47173,49.47173,49.47173,49.47173,49.47173,49.47174,49.47174,49.47174,49.47174,49.47174,49.47174,49.47174,49.47174,49.47173,49.47173,49.47173,49.47174,49.47174,49.47174,49.47174,49.47173,49.47173,49.47173,49.47173,49.47173,49.47173,49.47173,49.47173,49.47173,49.47173,49.47173,49.47173,49.47173,49.47173,49.47173,49.47173,49.47173,49.47173,49.47173,49.47173,49.47174,49.47173,49.47174,49.47174,49.47174,49.47174,49.47174,49.47174,49.47174,49.47174,49.47174,49.47174,49.47173,49.47173,49.47173,49.47173,49.47173,49.47173,49.47173,49.47173,49.47173,49.47173,49.47174,49.47174,49.47174,49.47174,49.47174,49.47174,49.47174,49.47173,49.47173,49.47173,49.47173,49.47173,49.47173,49.47173,49.47174,49.47174,49.47174,49.47174,49.47174,49.47174,49.47174,49.47174,49.47174,49.47174,49.47174,49.47174,49.47174,49.47174,49.47174,49.47174,49.47173,49.47173,49.47173,49.47173,49.47173,49.47173,49.47174,49.47173,49.47173,49.47173,49.47173,49.47173,49.47173,49.47173,49.47173,49.47173,49.47173,49.47173,49.47173,49.47173,49.47173,49.47174,49.47174,49.47174,49.47174,49.47174,49.47174,49.47174,49.47174,49.47174,49.47174,49.47173,49.47173,49.47173,49.47173,49.47174,49.47174,49.47173,49.47173,49.47173,49.47173,49.47173,49.47174,49.47174,49.47174,49.47174,49.47174,49.47174,49.47174,49.47173,49.47173,49.47173,49.47173,49.47173,49.47173,49.47173,49.47174,49.47174,49.47174,49.47174,49.47174,49.47174,49.47174,49.47174,49.47174,49.47174,49.47174,49.47174,49.47174,49.47174,49.47174,49.47174,49.47174,49.47174,49.47173,49.47173,49.47173,49.47174,49.47174,49.47173,49.47174,49.47173,49.47174,49.47173,49.47173,49.47173,49.47173,49.47173,49.47173,49.47173,49.47173,49.47173,49.47173,49.47173,49.47173,49.47174,49.47174,49.47174,49.47174,49.47174,49.47173,49.47174,49.47173,49.47173,49.47173,49.47745,49.47586,49.47579,49.47494,49.49363,49.5177,49.54938,49.57468,49.59862,49.61592,49.6382,49.66059,49.68221,49.70446,49.71491,49.74789,49.76376,50.00852],\"lon\":[0.19627,0.19626,0.19626,0.19626,0.19626,0.19626,0.19626,0.19626,0.19626,0.19626,0.19626,0.19626,0.19626,0.19626,0.19626,0.19626,0.19626,0.19626,0.19626,0.19627,0.19626,0.19626,0.19626,0.19626,0.19626,0.19626,0.19626,0.19626,0.19626,0.19627,0.19627,0.19627,0.19627,0.19627,0.19627,0.19626,0.19626,0.19626,0.19626,0.19626,0.19626,0.19626,0.19626,0.19626,0.19626,0.19626,0.19626,0.19626,0.19626,0.19626,0.19626,0.19626,0.19626,0.19626,0.19626,0.19626,0.19626,0.19626,0.19626,0.19626,0.19626,0.19626,0.19626,0.19626,0.19626,0.19626,0.19626,0.19626,0.19626,0.19626,0.19626,0.19626,0.19626,0.19626,0.19626,0.19626,0.19626,0.19626,0.19626,0.19626,0.19626,0.19625,0.19625,0.19625,0.19626,0.19626,0.19626,0.19626,0.19626,0.19626,0.19626,0.19626,0.19626,0.19626,0.19626,0.19626,0.19625,0.19625,0.19626,0.19626,0.19626,0.19626,0.19626,0.19626,0.19626,0.19626,0.19626,0.19626,0.19626,0.19626,0.19626,0.19626,0.19626,0.19626,0.19626,0.19626,0.19626,0.19626,0.19626,0.19626,0.19626,0.19626,0.19626,0.19626,0.19626,0.19626,0.19626,0.19626,0.19626,0.19626,0.19627,0.19627,0.19627,0.19627,0.19626,0.19626,0.19626,0.19626,0.19626,0.19626,0.19626,0.19626,0.19626,0.19626,0.19627,0.19626,0.19626,0.19626,0.19626,0.19626,0.19626,0.19626,0.19626,0.19626,0.19626,0.19626,0.19626,0.19626,0.19626,0.19626,0.19626,0.19626,0.19626,0.19626,0.19626,0.19626,0.19626,0.19626,0.19626,0.19626,0.19626,0.19626,0.19626,0.19626,0.19626,0.19627,0.19626,0.19626,0.19626,0.19626,0.19626,0.19627,0.19627,0.19626,0.19626,0.19627,0.19626,0.19626,0.19626,0.19626,0.19626,0.19626,0.19626,0.19626,0.19626,0.19626,0.19626,0.19626,0.19626,0.19626,0.19626,0.19627,0.19627,0.19627,0.19627,0.19627,0.19626,0.19626,0.19626,0.19626,0.19626,0.19626,0.19626,0.19626,0.19626,0.19626,0.19626,0.19626,0.19626,0.19626,0.19626,0.19626,0.19626,0.19626,0.19626,0.19625,0.19625,0.19625,0.19626,0.19626,0.19626,0.19626,0.19626,0.19626,0.19626,0.19626,0.19626,0.19626,0.19626,0.19626,0.19626,0.19626,0.19626,0.19626,0.19626,0.19626,0.19626,0.19626,0.19626,0.19626,0.19626,0.19626,0.19626,0.19626,0.19626,0.19626,0.19626,0.19626,0.19626,0.19626,0.19626,0.19626,0.19626,0.19626,0.19626,0.19625,0.19625,0.19625,0.19625,0.19625,0.19626,0.19626,0.19626,0.19626,0.19626,0.19626,0.19626,0.19626,0.19626,0.19626,0.19626,0.19626,0.19626,0.19626,0.19626,0.19626,0.19626,0.19626,0.19626,0.19625,0.19626,0.19626,0.19626,0.19625,0.19625,0.19625,0.19625,0.19625,0.19625,0.19625,0.19625,0.19626,0.19625,0.19625,0.19625,0.19625,0.19625,0.19626,0.19626,0.19625,0.19625,0.19625,0.19625,0.19626,0.19626,0.19626,0.19626,0.19626,0.19626,0.19626,0.19626,0.19626,0.19626,0.19626,0.19626,0.19626,0.19626,0.19626,0.19626,0.19626,0.19626,0.19626,0.19626,0.18193,0.17351,0.17313,0.12037,0.01981,-0.08638,-0.19235,-0.29885,-0.3997,-0.4726,-0.56649,-0.6612,-0.75258,-0.8466,-0.8907,-1.03014,-1.09722,-2.22267],\"marker\":{\"color\":\"#636EFA\",\"line\":{\"color\":\"DarkSlateGrey\",\"width\":1},\"opacity\":0.8,\"size\":8},\"mode\":\"markers\",\"name\":\"Markers for 61e9f415b937134a3c4c0063\",\"text\":[\"ID: 61e9f415b937134a3c4c0063\\u003cbr\\u003eTime: 2024-05-03 00:17:19\\u003cbr\\u003eLat: 49.472\\u003cbr\\u003eLon: 0.196\",\"ID: 61e9f415b937134a3c4c0063\\u003cbr\\u003eTime: 2024-05-03 00:38:19\\u003cbr\\u003eLat: 49.472\\u003cbr\\u003eLon: 0.196\",\"ID: 61e9f415b937134a3c4c0063\\u003cbr\\u003eTime: 2024-05-03 00:53:20\\u003cbr\\u003eLat: 49.472\\u003cbr\\u003eLon: 0.196\",\"ID: 61e9f415b937134a3c4c0063\\u003cbr\\u003eTime: 2024-05-03 01:14:23\\u003cbr\\u003eLat: 49.472\\u003cbr\\u003eLon: 0.196\",\"ID: 61e9f415b937134a3c4c0063\\u003cbr\\u003eTime: 2024-05-03 01:32:19\\u003cbr\\u003eLat: 49.472\\u003cbr\\u003eLon: 0.196\",\"ID: 61e9f415b937134a3c4c0063\\u003cbr\\u003eTime: 2024-05-03 01:53:22\\u003cbr\\u003eLat: 49.472\\u003cbr\\u003eLon: 0.196\",\"ID: 61e9f415b937134a3c4c0063\\u003cbr\\u003eTime: 2024-05-03 02:14:21\\u003cbr\\u003eLat: 49.472\\u003cbr\\u003eLon: 0.196\",\"ID: 61e9f415b937134a3c4c0063\\u003cbr\\u003eTime: 2024-05-03 02:35:25\\u003cbr\\u003eLat: 49.472\\u003cbr\\u003eLon: 0.196\",\"ID: 61e9f415b937134a3c4c0063\\u003cbr\\u003eTime: 2024-05-03 02:56:22\\u003cbr\\u003eLat: 49.472\\u003cbr\\u003eLon: 0.196\",\"ID: 61e9f415b937134a3c4c0063\\u003cbr\\u003eTime: 2024-05-03 03:14:25\\u003cbr\\u003eLat: 49.472\\u003cbr\\u003eLon: 0.196\",\"ID: 61e9f415b937134a3c4c0063\\u003cbr\\u003eTime: 2024-05-03 03:36:22\\u003cbr\\u003eLat: 49.472\\u003cbr\\u003eLon: 0.196\",\"ID: 61e9f415b937134a3c4c0063\\u003cbr\\u003eTime: 2024-05-03 03:56:19\\u003cbr\\u003eLat: 49.472\\u003cbr\\u003eLon: 0.196\",\"ID: 61e9f415b937134a3c4c0063\\u003cbr\\u003eTime: 2024-05-03 04:17:17\\u003cbr\\u003eLat: 49.472\\u003cbr\\u003eLon: 0.196\",\"ID: 61e9f415b937134a3c4c0063\\u003cbr\\u003eTime: 2024-05-03 04:38:26\\u003cbr\\u003eLat: 49.472\\u003cbr\\u003eLon: 0.196\",\"ID: 61e9f415b937134a3c4c0063\\u003cbr\\u003eTime: 2024-05-03 04:59:26\\u003cbr\\u003eLat: 49.472\\u003cbr\\u003eLon: 0.196\",\"ID: 61e9f415b937134a3c4c0063\\u003cbr\\u003eTime: 2024-05-03 05:14:24\\u003cbr\\u003eLat: 49.472\\u003cbr\\u003eLon: 0.196\",\"ID: 61e9f415b937134a3c4c0063\\u003cbr\\u003eTime: 2024-05-03 05:34:53\\u003cbr\\u003eLat: 49.472\\u003cbr\\u003eLon: 0.196\",\"ID: 61e9f415b937134a3c4c0063\\u003cbr\\u003eTime: 2024-05-03 05:53:22\\u003cbr\\u003eLat: 49.472\\u003cbr\\u003eLon: 0.196\",\"ID: 61e9f415b937134a3c4c0063\\u003cbr\\u003eTime: 2024-05-03 06:14:24\\u003cbr\\u003eLat: 49.472\\u003cbr\\u003eLon: 0.196\",\"ID: 61e9f415b937134a3c4c0063\\u003cbr\\u003eTime: 2024-05-03 06:35:22\\u003cbr\\u003eLat: 49.472\\u003cbr\\u003eLon: 0.196\",\"ID: 61e9f415b937134a3c4c0063\\u003cbr\\u003eTime: 2024-05-03 06:56:22\\u003cbr\\u003eLat: 49.472\\u003cbr\\u003eLon: 0.196\",\"ID: 61e9f415b937134a3c4c0063\\u003cbr\\u003eTime: 2024-05-03 07:17:25\\u003cbr\\u003eLat: 49.472\\u003cbr\\u003eLon: 0.196\",\"ID: 61e9f415b937134a3c4c0063\\u003cbr\\u003eTime: 2024-05-03 07:35:25\\u003cbr\\u003eLat: 49.472\\u003cbr\\u003eLon: 0.196\",\"ID: 61e9f415b937134a3c4c0063\\u003cbr\\u003eTime: 2024-05-03 07:56:23\\u003cbr\\u003eLat: 49.472\\u003cbr\\u003eLon: 0.196\",\"ID: 61e9f415b937134a3c4c0063\\u003cbr\\u003eTime: 2024-05-03 08:17:26\\u003cbr\\u003eLat: 49.472\\u003cbr\\u003eLon: 0.196\",\"ID: 61e9f415b937134a3c4c0063\\u003cbr\\u003eTime: 2024-05-03 08:38:26\\u003cbr\\u003eLat: 49.472\\u003cbr\\u003eLon: 0.196\",\"ID: 61e9f415b937134a3c4c0063\\u003cbr\\u003eTime: 2024-05-03 08:53:18\\u003cbr\\u003eLat: 49.472\\u003cbr\\u003eLon: 0.196\",\"ID: 61e9f415b937134a3c4c0063\\u003cbr\\u003eTime: 2024-05-03 09:14:27\\u003cbr\\u003eLat: 49.472\\u003cbr\\u003eLon: 0.196\",\"ID: 61e9f415b937134a3c4c0063\\u003cbr\\u003eTime: 2024-05-03 09:35:23\\u003cbr\\u003eLat: 49.472\\u003cbr\\u003eLon: 0.196\",\"ID: 61e9f415b937134a3c4c0063\\u003cbr\\u003eTime: 2024-05-03 09:53:25\\u003cbr\\u003eLat: 49.472\\u003cbr\\u003eLon: 0.196\",\"ID: 61e9f415b937134a3c4c0063\\u003cbr\\u003eTime: 2024-05-03 10:14:21\\u003cbr\\u003eLat: 49.472\\u003cbr\\u003eLon: 0.196\",\"ID: 61e9f415b937134a3c4c0063\\u003cbr\\u003eTime: 2024-05-03 10:35:27\\u003cbr\\u003eLat: 49.472\\u003cbr\\u003eLon: 0.196\",\"ID: 61e9f415b937134a3c4c0063\\u003cbr\\u003eTime: 2024-05-03 10:56:22\\u003cbr\\u003eLat: 49.472\\u003cbr\\u003eLon: 0.196\",\"ID: 61e9f415b937134a3c4c0063\\u003cbr\\u003eTime: 2024-05-03 11:17:24\\u003cbr\\u003eLat: 49.472\\u003cbr\\u003eLon: 0.196\",\"ID: 61e9f415b937134a3c4c0063\\u003cbr\\u003eTime: 2024-05-03 11:38:22\\u003cbr\\u003eLat: 49.472\\u003cbr\\u003eLon: 0.196\",\"ID: 61e9f415b937134a3c4c0063\\u003cbr\\u003eTime: 2024-05-03 11:59:24\\u003cbr\\u003eLat: 49.472\\u003cbr\\u003eLon: 0.196\",\"ID: 61e9f415b937134a3c4c0063\\u003cbr\\u003eTime: 2024-05-03 12:17:28\\u003cbr\\u003eLat: 49.472\\u003cbr\\u003eLon: 0.196\",\"ID: 61e9f415b937134a3c4c0063\\u003cbr\\u003eTime: 2024-05-03 12:34:48\\u003cbr\\u003eLat: 49.472\\u003cbr\\u003eLon: 0.196\",\"ID: 61e9f415b937134a3c4c0063\\u003cbr\\u003eTime: 2024-05-03 12:53:19\\u003cbr\\u003eLat: 49.472\\u003cbr\\u003eLon: 0.196\",\"ID: 61e9f415b937134a3c4c0063\\u003cbr\\u003eTime: 2024-05-03 13:14:25\\u003cbr\\u003eLat: 49.472\\u003cbr\\u003eLon: 0.196\",\"ID: 61e9f415b937134a3c4c0063\\u003cbr\\u003eTime: 2024-05-03 13:35:20\\u003cbr\\u003eLat: 49.472\\u003cbr\\u003eLon: 0.196\",\"ID: 61e9f415b937134a3c4c0063\\u003cbr\\u003eTime: 2024-05-03 13:56:24\\u003cbr\\u003eLat: 49.472\\u003cbr\\u003eLon: 0.196\",\"ID: 61e9f415b937134a3c4c0063\\u003cbr\\u003eTime: 2024-05-03 14:14:24\\u003cbr\\u003eLat: 49.472\\u003cbr\\u003eLon: 0.196\",\"ID: 61e9f415b937134a3c4c0063\\u003cbr\\u003eTime: 2024-05-03 14:36:03\\u003cbr\\u003eLat: 49.472\\u003cbr\\u003eLon: 0.196\",\"ID: 61e9f415b937134a3c4c0063\\u003cbr\\u003eTime: 2024-05-03 14:56:24\\u003cbr\\u003eLat: 49.472\\u003cbr\\u003eLon: 0.196\",\"ID: 61e9f415b937134a3c4c0063\\u003cbr\\u003eTime: 2024-05-03 15:17:27\\u003cbr\\u003eLat: 49.472\\u003cbr\\u003eLon: 0.196\",\"ID: 61e9f415b937134a3c4c0063\\u003cbr\\u003eTime: 2024-05-03 15:38:21\\u003cbr\\u003eLat: 49.472\\u003cbr\\u003eLon: 0.196\",\"ID: 61e9f415b937134a3c4c0063\\u003cbr\\u003eTime: 2024-05-03 15:53:24\\u003cbr\\u003eLat: 49.472\\u003cbr\\u003eLon: 0.196\",\"ID: 61e9f415b937134a3c4c0063\\u003cbr\\u003eTime: 2024-05-03 16:14:26\\u003cbr\\u003eLat: 49.472\\u003cbr\\u003eLon: 0.196\",\"ID: 61e9f415b937134a3c4c0063\\u003cbr\\u003eTime: 2024-05-03 16:32:25\\u003cbr\\u003eLat: 49.472\\u003cbr\\u003eLon: 0.196\",\"ID: 61e9f415b937134a3c4c0063\\u003cbr\\u003eTime: 2024-05-03 16:53:26\\u003cbr\\u003eLat: 49.472\\u003cbr\\u003eLon: 0.196\",\"ID: 61e9f415b937134a3c4c0063\\u003cbr\\u003eTime: 2024-05-03 17:14:24\\u003cbr\\u003eLat: 49.472\\u003cbr\\u003eLon: 0.196\",\"ID: 61e9f415b937134a3c4c0063\\u003cbr\\u003eTime: 2024-05-03 17:35:30\\u003cbr\\u003eLat: 49.472\\u003cbr\\u003eLon: 0.196\",\"ID: 61e9f415b937134a3c4c0063\\u003cbr\\u003eTime: 2024-05-03 17:53:27\\u003cbr\\u003eLat: 49.472\\u003cbr\\u003eLon: 0.196\",\"ID: 61e9f415b937134a3c4c0063\\u003cbr\\u003eTime: 2024-05-03 18:14:24\\u003cbr\\u003eLat: 49.472\\u003cbr\\u003eLon: 0.196\",\"ID: 61e9f415b937134a3c4c0063\\u003cbr\\u003eTime: 2024-05-03 18:35:31\\u003cbr\\u003eLat: 49.472\\u003cbr\\u003eLon: 0.196\",\"ID: 61e9f415b937134a3c4c0063\\u003cbr\\u003eTime: 2024-05-03 18:56:27\\u003cbr\\u003eLat: 49.472\\u003cbr\\u003eLon: 0.196\",\"ID: 61e9f415b937134a3c4c0063\\u003cbr\\u003eTime: 2024-05-03 19:17:21\\u003cbr\\u003eLat: 49.472\\u003cbr\\u003eLon: 0.196\",\"ID: 61e9f415b937134a3c4c0063\\u003cbr\\u003eTime: 2024-05-03 19:38:30\\u003cbr\\u003eLat: 49.472\\u003cbr\\u003eLon: 0.196\",\"ID: 61e9f415b937134a3c4c0063\\u003cbr\\u003eTime: 2024-05-03 19:53:29\\u003cbr\\u003eLat: 49.472\\u003cbr\\u003eLon: 0.196\",\"ID: 61e9f415b937134a3c4c0063\\u003cbr\\u003eTime: 2024-05-03 20:14:24\\u003cbr\\u003eLat: 49.472\\u003cbr\\u003eLon: 0.196\",\"ID: 61e9f415b937134a3c4c0063\\u003cbr\\u003eTime: 2024-05-03 20:35:26\\u003cbr\\u003eLat: 49.472\\u003cbr\\u003eLon: 0.196\",\"ID: 61e9f415b937134a3c4c0063\\u003cbr\\u003eTime: 2024-05-03 20:53:28\\u003cbr\\u003eLat: 49.472\\u003cbr\\u003eLon: 0.196\",\"ID: 61e9f415b937134a3c4c0063\\u003cbr\\u003eTime: 2024-05-03 21:14:28\\u003cbr\\u003eLat: 49.472\\u003cbr\\u003eLon: 0.196\",\"ID: 61e9f415b937134a3c4c0063\\u003cbr\\u003eTime: 2024-05-03 21:35:22\\u003cbr\\u003eLat: 49.472\\u003cbr\\u003eLon: 0.196\",\"ID: 61e9f415b937134a3c4c0063\\u003cbr\\u003eTime: 2024-05-03 21:56:27\\u003cbr\\u003eLat: 49.472\\u003cbr\\u003eLon: 0.196\",\"ID: 61e9f415b937134a3c4c0063\\u003cbr\\u003eTime: 2024-05-03 22:17:28\\u003cbr\\u003eLat: 49.472\\u003cbr\\u003eLon: 0.196\",\"ID: 61e9f415b937134a3c4c0063\\u003cbr\\u003eTime: 2024-05-03 22:38:27\\u003cbr\\u003eLat: 49.472\\u003cbr\\u003eLon: 0.196\",\"ID: 61e9f415b937134a3c4c0063\\u003cbr\\u003eTime: 2024-05-03 22:56:26\\u003cbr\\u003eLat: 49.472\\u003cbr\\u003eLon: 0.196\",\"ID: 61e9f415b937134a3c4c0063\\u003cbr\\u003eTime: 2024-05-03 23:17:28\\u003cbr\\u003eLat: 49.472\\u003cbr\\u003eLon: 0.196\",\"ID: 61e9f415b937134a3c4c0063\\u003cbr\\u003eTime: 2024-05-03 23:38:26\\u003cbr\\u003eLat: 49.472\\u003cbr\\u003eLon: 0.196\",\"ID: 61e9f415b937134a3c4c0063\\u003cbr\\u003eTime: 2024-05-03 23:59:28\\u003cbr\\u003eLat: 49.472\\u003cbr\\u003eLon: 0.196\",\"ID: 61e9f415b937134a3c4c0063\\u003cbr\\u003eTime: 2024-05-04 00:14:30\\u003cbr\\u003eLat: 49.472\\u003cbr\\u003eLon: 0.196\",\"ID: 61e9f415b937134a3c4c0063\\u003cbr\\u003eTime: 2024-05-04 00:32:30\\u003cbr\\u003eLat: 49.472\\u003cbr\\u003eLon: 0.196\",\"ID: 61e9f415b937134a3c4c0063\\u003cbr\\u003eTime: 2024-05-04 00:53:23\\u003cbr\\u003eLat: 49.472\\u003cbr\\u003eLon: 0.196\",\"ID: 61e9f415b937134a3c4c0063\\u003cbr\\u003eTime: 2024-05-04 01:14:27\\u003cbr\\u003eLat: 49.472\\u003cbr\\u003eLon: 0.196\",\"ID: 61e9f415b937134a3c4c0063\\u003cbr\\u003eTime: 2024-05-04 01:35:26\\u003cbr\\u003eLat: 49.472\\u003cbr\\u003eLon: 0.196\",\"ID: 61e9f415b937134a3c4c0063\\u003cbr\\u003eTime: 2024-05-04 01:56:25\\u003cbr\\u003eLat: 49.472\\u003cbr\\u003eLon: 0.196\",\"ID: 61e9f415b937134a3c4c0063\\u003cbr\\u003eTime: 2024-05-04 02:17:27\\u003cbr\\u003eLat: 49.472\\u003cbr\\u003eLon: 0.196\",\"ID: 61e9f415b937134a3c4c0063\\u003cbr\\u003eTime: 2024-05-04 02:38:27\\u003cbr\\u003eLat: 49.472\\u003cbr\\u003eLon: 0.196\",\"ID: 61e9f415b937134a3c4c0063\\u003cbr\\u003eTime: 2024-05-04 02:56:27\\u003cbr\\u003eLat: 49.472\\u003cbr\\u003eLon: 0.196\",\"ID: 61e9f415b937134a3c4c0063\\u003cbr\\u003eTime: 2024-05-04 03:17:27\\u003cbr\\u003eLat: 49.472\\u003cbr\\u003eLon: 0.196\",\"ID: 61e9f415b937134a3c4c0063\\u003cbr\\u003eTime: 2024-05-04 03:38:26\\u003cbr\\u003eLat: 49.472\\u003cbr\\u003eLon: 0.196\",\"ID: 61e9f415b937134a3c4c0063\\u003cbr\\u003eTime: 2024-05-04 03:53:28\\u003cbr\\u003eLat: 49.472\\u003cbr\\u003eLon: 0.196\",\"ID: 61e9f415b937134a3c4c0063\\u003cbr\\u003eTime: 2024-05-04 04:14:29\\u003cbr\\u003eLat: 49.472\\u003cbr\\u003eLon: 0.196\",\"ID: 61e9f415b937134a3c4c0063\\u003cbr\\u003eTime: 2024-05-04 04:32:30\\u003cbr\\u003eLat: 49.472\\u003cbr\\u003eLon: 0.196\",\"ID: 61e9f415b937134a3c4c0063\\u003cbr\\u003eTime: 2024-05-04 04:53:29\\u003cbr\\u003eLat: 49.472\\u003cbr\\u003eLon: 0.196\",\"ID: 61e9f415b937134a3c4c0063\\u003cbr\\u003eTime: 2024-05-04 05:14:33\\u003cbr\\u003eLat: 49.472\\u003cbr\\u003eLon: 0.196\",\"ID: 61e9f415b937134a3c4c0063\\u003cbr\\u003eTime: 2024-05-04 05:35:28\\u003cbr\\u003eLat: 49.472\\u003cbr\\u003eLon: 0.196\",\"ID: 61e9f415b937134a3c4c0063\\u003cbr\\u003eTime: 2024-05-04 05:56:31\\u003cbr\\u003eLat: 49.472\\u003cbr\\u003eLon: 0.196\",\"ID: 61e9f415b937134a3c4c0063\\u003cbr\\u003eTime: 2024-05-04 06:17:33\\u003cbr\\u003eLat: 49.472\\u003cbr\\u003eLon: 0.196\",\"ID: 61e9f415b937134a3c4c0063\\u003cbr\\u003eTime: 2024-05-04 06:38:27\\u003cbr\\u003eLat: 49.472\\u003cbr\\u003eLon: 0.196\",\"ID: 61e9f415b937134a3c4c0063\\u003cbr\\u003eTime: 2024-05-04 06:56:31\\u003cbr\\u003eLat: 49.472\\u003cbr\\u003eLon: 0.196\",\"ID: 61e9f415b937134a3c4c0063\\u003cbr\\u003eTime: 2024-05-04 07:17:29\\u003cbr\\u003eLat: 49.472\\u003cbr\\u003eLon: 0.196\",\"ID: 61e9f415b937134a3c4c0063\\u003cbr\\u003eTime: 2024-05-04 07:32:30\\u003cbr\\u003eLat: 49.472\\u003cbr\\u003eLon: 0.196\",\"ID: 61e9f415b937134a3c4c0063\\u003cbr\\u003eTime: 2024-05-04 07:53:30\\u003cbr\\u003eLat: 49.472\\u003cbr\\u003eLon: 0.196\",\"ID: 61e9f415b937134a3c4c0063\\u003cbr\\u003eTime: 2024-05-04 08:14:32\\u003cbr\\u003eLat: 49.472\\u003cbr\\u003eLon: 0.196\",\"ID: 61e9f415b937134a3c4c0063\\u003cbr\\u003eTime: 2024-05-04 08:35:29\\u003cbr\\u003eLat: 49.472\\u003cbr\\u003eLon: 0.196\",\"ID: 61e9f415b937134a3c4c0063\\u003cbr\\u003eTime: 2024-05-04 08:56:27\\u003cbr\\u003eLat: 49.472\\u003cbr\\u003eLon: 0.196\",\"ID: 61e9f415b937134a3c4c0063\\u003cbr\\u003eTime: 2024-05-04 09:17:27\\u003cbr\\u003eLat: 49.472\\u003cbr\\u003eLon: 0.196\",\"ID: 61e9f415b937134a3c4c0063\\u003cbr\\u003eTime: 2024-05-04 09:35:25\\u003cbr\\u003eLat: 49.472\\u003cbr\\u003eLon: 0.196\",\"ID: 61e9f415b937134a3c4c0063\\u003cbr\\u003eTime: 2024-05-04 09:56:30\\u003cbr\\u003eLat: 49.472\\u003cbr\\u003eLon: 0.196\",\"ID: 61e9f415b937134a3c4c0063\\u003cbr\\u003eTime: 2024-05-04 10:17:32\\u003cbr\\u003eLat: 49.472\\u003cbr\\u003eLon: 0.196\",\"ID: 61e9f415b937134a3c4c0063\\u003cbr\\u003eTime: 2024-05-04 10:38:31\\u003cbr\\u003eLat: 49.472\\u003cbr\\u003eLon: 0.196\",\"ID: 61e9f415b937134a3c4c0063\\u003cbr\\u003eTime: 2024-05-04 10:59:32\\u003cbr\\u003eLat: 49.472\\u003cbr\\u003eLon: 0.196\",\"ID: 61e9f415b937134a3c4c0063\\u003cbr\\u003eTime: 2024-05-04 11:17:28\\u003cbr\\u003eLat: 49.472\\u003cbr\\u003eLon: 0.196\",\"ID: 61e9f415b937134a3c4c0063\\u003cbr\\u003eTime: 2024-05-04 11:32:52\\u003cbr\\u003eLat: 49.472\\u003cbr\\u003eLon: 0.196\",\"ID: 61e9f415b937134a3c4c0063\\u003cbr\\u003eTime: 2024-05-04 11:53:29\\u003cbr\\u003eLat: 49.472\\u003cbr\\u003eLon: 0.196\",\"ID: 61e9f415b937134a3c4c0063\\u003cbr\\u003eTime: 2024-05-04 12:14:33\\u003cbr\\u003eLat: 49.472\\u003cbr\\u003eLon: 0.196\",\"ID: 61e9f415b937134a3c4c0063\\u003cbr\\u003eTime: 2024-05-04 12:35:34\\u003cbr\\u003eLat: 49.472\\u003cbr\\u003eLon: 0.196\",\"ID: 61e9f415b937134a3c4c0063\\u003cbr\\u003eTime: 2024-05-04 12:56:36\\u003cbr\\u003eLat: 49.472\\u003cbr\\u003eLon: 0.196\",\"ID: 61e9f415b937134a3c4c0063\\u003cbr\\u003eTime: 2024-05-04 13:14:30\\u003cbr\\u003eLat: 49.472\\u003cbr\\u003eLon: 0.196\",\"ID: 61e9f415b937134a3c4c0063\\u003cbr\\u003eTime: 2024-05-04 13:35:33\\u003cbr\\u003eLat: 49.472\\u003cbr\\u003eLon: 0.196\",\"ID: 61e9f415b937134a3c4c0063\\u003cbr\\u003eTime: 2024-05-04 13:53:34\\u003cbr\\u003eLat: 49.472\\u003cbr\\u003eLon: 0.196\",\"ID: 61e9f415b937134a3c4c0063\\u003cbr\\u003eTime: 2024-05-04 14:17:31\\u003cbr\\u003eLat: 49.472\\u003cbr\\u003eLon: 0.196\",\"ID: 61e9f415b937134a3c4c0063\\u003cbr\\u003eTime: 2024-05-04 14:38:28\\u003cbr\\u003eLat: 49.472\\u003cbr\\u003eLon: 0.196\",\"ID: 61e9f415b937134a3c4c0063\\u003cbr\\u003eTime: 2024-05-04 14:59:32\\u003cbr\\u003eLat: 49.472\\u003cbr\\u003eLon: 0.196\",\"ID: 61e9f415b937134a3c4c0063\\u003cbr\\u003eTime: 2024-05-04 15:14:36\\u003cbr\\u003eLat: 49.472\\u003cbr\\u003eLon: 0.196\",\"ID: 61e9f415b937134a3c4c0063\\u003cbr\\u003eTime: 2024-05-04 15:32:30\\u003cbr\\u003eLat: 49.472\\u003cbr\\u003eLon: 0.196\",\"ID: 61e9f415b937134a3c4c0063\\u003cbr\\u003eTime: 2024-05-04 15:55:00\\u003cbr\\u003eLat: 49.472\\u003cbr\\u003eLon: 0.196\",\"ID: 61e9f415b937134a3c4c0063\\u003cbr\\u003eTime: 2024-05-04 16:16:11\\u003cbr\\u003eLat: 49.472\\u003cbr\\u003eLon: 0.196\",\"ID: 61e9f415b937134a3c4c0063\\u003cbr\\u003eTime: 2024-05-04 16:35:29\\u003cbr\\u003eLat: 49.472\\u003cbr\\u003eLon: 0.196\",\"ID: 61e9f415b937134a3c4c0063\\u003cbr\\u003eTime: 2024-05-04 16:56:31\\u003cbr\\u003eLat: 49.472\\u003cbr\\u003eLon: 0.196\",\"ID: 61e9f415b937134a3c4c0063\\u003cbr\\u003eTime: 2024-05-04 17:17:30\\u003cbr\\u003eLat: 49.472\\u003cbr\\u003eLon: 0.196\",\"ID: 61e9f415b937134a3c4c0063\\u003cbr\\u003eTime: 2024-05-04 17:35:30\\u003cbr\\u003eLat: 49.472\\u003cbr\\u003eLon: 0.196\",\"ID: 61e9f415b937134a3c4c0063\\u003cbr\\u003eTime: 2024-05-04 17:56:33\\u003cbr\\u003eLat: 49.472\\u003cbr\\u003eLon: 0.196\",\"ID: 61e9f415b937134a3c4c0063\\u003cbr\\u003eTime: 2024-05-04 18:17:30\\u003cbr\\u003eLat: 49.472\\u003cbr\\u003eLon: 0.196\",\"ID: 61e9f415b937134a3c4c0063\\u003cbr\\u003eTime: 2024-05-04 18:29:29\\u003cbr\\u003eLat: 49.472\\u003cbr\\u003eLon: 0.196\",\"ID: 61e9f415b937134a3c4c0063\\u003cbr\\u003eTime: 2024-05-04 18:53:33\\u003cbr\\u003eLat: 49.472\\u003cbr\\u003eLon: 0.196\",\"ID: 61e9f415b937134a3c4c0063\\u003cbr\\u003eTime: 2024-05-04 19:14:28\\u003cbr\\u003eLat: 49.472\\u003cbr\\u003eLon: 0.196\",\"ID: 61e9f415b937134a3c4c0063\\u003cbr\\u003eTime: 2024-05-04 19:35:35\\u003cbr\\u003eLat: 49.472\\u003cbr\\u003eLon: 0.196\",\"ID: 61e9f415b937134a3c4c0063\\u003cbr\\u003eTime: 2024-05-04 19:53:34\\u003cbr\\u003eLat: 49.472\\u003cbr\\u003eLon: 0.196\",\"ID: 61e9f415b937134a3c4c0063\\u003cbr\\u003eTime: 2024-05-04 20:14:33\\u003cbr\\u003eLat: 49.472\\u003cbr\\u003eLon: 0.196\",\"ID: 61e9f415b937134a3c4c0063\\u003cbr\\u003eTime: 2024-05-04 20:35:35\\u003cbr\\u003eLat: 49.472\\u003cbr\\u003eLon: 0.196\",\"ID: 61e9f415b937134a3c4c0063\\u003cbr\\u003eTime: 2024-05-04 20:56:33\\u003cbr\\u003eLat: 49.472\\u003cbr\\u003eLon: 0.196\",\"ID: 61e9f415b937134a3c4c0063\\u003cbr\\u003eTime: 2024-05-04 21:17:36\\u003cbr\\u003eLat: 49.472\\u003cbr\\u003eLon: 0.196\",\"ID: 61e9f415b937134a3c4c0063\\u003cbr\\u003eTime: 2024-05-04 21:38:32\\u003cbr\\u003eLat: 49.472\\u003cbr\\u003eLon: 0.196\",\"ID: 61e9f415b937134a3c4c0063\\u003cbr\\u003eTime: 2024-05-04 21:59:30\\u003cbr\\u003eLat: 49.472\\u003cbr\\u003eLon: 0.196\",\"ID: 61e9f415b937134a3c4c0063\\u003cbr\\u003eTime: 2024-05-04 22:14:32\\u003cbr\\u003eLat: 49.472\\u003cbr\\u003eLon: 0.196\",\"ID: 61e9f415b937134a3c4c0063\\u003cbr\\u003eTime: 2024-05-04 22:32:31\\u003cbr\\u003eLat: 49.472\\u003cbr\\u003eLon: 0.196\",\"ID: 61e9f415b937134a3c4c0063\\u003cbr\\u003eTime: 2024-05-04 22:53:32\\u003cbr\\u003eLat: 49.472\\u003cbr\\u003eLon: 0.196\",\"ID: 61e9f415b937134a3c4c0063\\u003cbr\\u003eTime: 2024-05-04 23:14:35\\u003cbr\\u003eLat: 49.472\\u003cbr\\u003eLon: 0.196\",\"ID: 61e9f415b937134a3c4c0063\\u003cbr\\u003eTime: 2024-05-04 23:35:33\\u003cbr\\u003eLat: 49.472\\u003cbr\\u003eLon: 0.196\",\"ID: 61e9f415b937134a3c4c0063\\u003cbr\\u003eTime: 2024-05-04 23:56:37\\u003cbr\\u003eLat: 49.472\\u003cbr\\u003eLon: 0.196\",\"ID: 61e9f415b937134a3c4c0063\\u003cbr\\u003eTime: 2024-05-05 00:17:37\\u003cbr\\u003eLat: 49.472\\u003cbr\\u003eLon: 0.196\",\"ID: 61e9f415b937134a3c4c0063\\u003cbr\\u003eTime: 2024-05-05 00:38:33\\u003cbr\\u003eLat: 49.472\\u003cbr\\u003eLon: 0.196\",\"ID: 61e9f415b937134a3c4c0063\\u003cbr\\u003eTime: 2024-05-05 00:59:32\\u003cbr\\u003eLat: 49.472\\u003cbr\\u003eLon: 0.196\",\"ID: 61e9f415b937134a3c4c0063\\u003cbr\\u003eTime: 2024-05-05 01:14:34\\u003cbr\\u003eLat: 49.472\\u003cbr\\u003eLon: 0.196\",\"ID: 61e9f415b937134a3c4c0063\\u003cbr\\u003eTime: 2024-05-05 01:32:31\\u003cbr\\u003eLat: 49.472\\u003cbr\\u003eLon: 0.196\",\"ID: 61e9f415b937134a3c4c0063\\u003cbr\\u003eTime: 2024-05-05 01:53:34\\u003cbr\\u003eLat: 49.472\\u003cbr\\u003eLon: 0.196\",\"ID: 61e9f415b937134a3c4c0063\\u003cbr\\u003eTime: 2024-05-05 02:14:36\\u003cbr\\u003eLat: 49.472\\u003cbr\\u003eLon: 0.196\",\"ID: 61e9f415b937134a3c4c0063\\u003cbr\\u003eTime: 2024-05-05 02:35:36\\u003cbr\\u003eLat: 49.472\\u003cbr\\u003eLon: 0.196\",\"ID: 61e9f415b937134a3c4c0063\\u003cbr\\u003eTime: 2024-05-05 02:57:08\\u003cbr\\u003eLat: 49.472\\u003cbr\\u003eLon: 0.196\",\"ID: 61e9f415b937134a3c4c0063\\u003cbr\\u003eTime: 2024-05-05 03:17:39\\u003cbr\\u003eLat: 49.472\\u003cbr\\u003eLon: 0.196\",\"ID: 61e9f415b937134a3c4c0063\\u003cbr\\u003eTime: 2024-05-05 03:38:30\\u003cbr\\u003eLat: 49.472\\u003cbr\\u003eLon: 0.196\",\"ID: 61e9f415b937134a3c4c0063\\u003cbr\\u003eTime: 2024-05-05 03:56:36\\u003cbr\\u003eLat: 49.472\\u003cbr\\u003eLon: 0.196\",\"ID: 61e9f415b937134a3c4c0063\\u003cbr\\u003eTime: 2024-05-05 04:17:36\\u003cbr\\u003eLat: 49.472\\u003cbr\\u003eLon: 0.196\",\"ID: 61e9f415b937134a3c4c0063\\u003cbr\\u003eTime: 2024-05-05 04:33:50\\u003cbr\\u003eLat: 49.472\\u003cbr\\u003eLon: 0.196\",\"ID: 61e9f415b937134a3c4c0063\\u003cbr\\u003eTime: 2024-05-05 04:53:35\\u003cbr\\u003eLat: 49.472\\u003cbr\\u003eLon: 0.196\",\"ID: 61e9f415b937134a3c4c0063\\u003cbr\\u003eTime: 2024-05-05 05:14:38\\u003cbr\\u003eLat: 49.472\\u003cbr\\u003eLon: 0.196\",\"ID: 61e9f415b937134a3c4c0063\\u003cbr\\u003eTime: 2024-05-05 05:35:11\\u003cbr\\u003eLat: 49.472\\u003cbr\\u003eLon: 0.196\",\"ID: 61e9f415b937134a3c4c0063\\u003cbr\\u003eTime: 2024-05-05 05:53:38\\u003cbr\\u003eLat: 49.472\\u003cbr\\u003eLon: 0.196\",\"ID: 61e9f415b937134a3c4c0063\\u003cbr\\u003eTime: 2024-05-05 06:14:36\\u003cbr\\u003eLat: 49.472\\u003cbr\\u003eLon: 0.196\",\"ID: 61e9f415b937134a3c4c0063\\u003cbr\\u003eTime: 2024-05-05 06:35:31\\u003cbr\\u003eLat: 49.472\\u003cbr\\u003eLon: 0.196\",\"ID: 61e9f415b937134a3c4c0063\\u003cbr\\u003eTime: 2024-05-05 06:56:42\\u003cbr\\u003eLat: 49.472\\u003cbr\\u003eLon: 0.196\",\"ID: 61e9f415b937134a3c4c0063\\u003cbr\\u003eTime: 2024-05-05 07:17:38\\u003cbr\\u003eLat: 49.472\\u003cbr\\u003eLon: 0.196\",\"ID: 61e9f415b937134a3c4c0063\\u003cbr\\u003eTime: 2024-05-05 07:35:39\\u003cbr\\u003eLat: 49.472\\u003cbr\\u003eLon: 0.196\",\"ID: 61e9f415b937134a3c4c0063\\u003cbr\\u003eTime: 2024-05-05 07:56:46\\u003cbr\\u003eLat: 49.472\\u003cbr\\u003eLon: 0.196\",\"ID: 61e9f415b937134a3c4c0063\\u003cbr\\u003eTime: 2024-05-05 08:17:36\\u003cbr\\u003eLat: 49.472\\u003cbr\\u003eLon: 0.196\",\"ID: 61e9f415b937134a3c4c0063\\u003cbr\\u003eTime: 2024-05-05 08:38:33\\u003cbr\\u003eLat: 49.472\\u003cbr\\u003eLon: 0.196\",\"ID: 61e9f415b937134a3c4c0063\\u003cbr\\u003eTime: 2024-05-05 08:54:52\\u003cbr\\u003eLat: 49.472\\u003cbr\\u003eLon: 0.196\",\"ID: 61e9f415b937134a3c4c0063\\u003cbr\\u003eTime: 2024-05-05 09:14:34\\u003cbr\\u003eLat: 49.472\\u003cbr\\u003eLon: 0.196\",\"ID: 61e9f415b937134a3c4c0063\\u003cbr\\u003eTime: 2024-05-05 09:34:52\\u003cbr\\u003eLat: 49.472\\u003cbr\\u003eLon: 0.196\",\"ID: 61e9f415b937134a3c4c0063\\u003cbr\\u003eTime: 2024-05-05 09:56:33\\u003cbr\\u003eLat: 49.472\\u003cbr\\u003eLon: 0.196\",\"ID: 61e9f415b937134a3c4c0063\\u003cbr\\u003eTime: 2024-05-05 10:14:37\\u003cbr\\u003eLat: 49.472\\u003cbr\\u003eLon: 0.196\",\"ID: 61e9f415b937134a3c4c0063\\u003cbr\\u003eTime: 2024-05-05 10:35:38\\u003cbr\\u003eLat: 49.472\\u003cbr\\u003eLon: 0.196\",\"ID: 61e9f415b937134a3c4c0063\\u003cbr\\u003eTime: 2024-05-05 10:56:38\\u003cbr\\u003eLat: 49.472\\u003cbr\\u003eLon: 0.196\",\"ID: 61e9f415b937134a3c4c0063\\u003cbr\\u003eTime: 2024-05-05 11:17:58\\u003cbr\\u003eLat: 49.472\\u003cbr\\u003eLon: 0.196\",\"ID: 61e9f415b937134a3c4c0063\\u003cbr\\u003eTime: 2024-05-05 11:38:36\\u003cbr\\u003eLat: 49.472\\u003cbr\\u003eLon: 0.196\",\"ID: 61e9f415b937134a3c4c0063\\u003cbr\\u003eTime: 2024-05-05 11:56:36\\u003cbr\\u003eLat: 49.472\\u003cbr\\u003eLon: 0.196\",\"ID: 61e9f415b937134a3c4c0063\\u003cbr\\u003eTime: 2024-05-05 12:17:38\\u003cbr\\u003eLat: 49.472\\u003cbr\\u003eLon: 0.196\",\"ID: 61e9f415b937134a3c4c0063\\u003cbr\\u003eTime: 2024-05-05 12:32:37\\u003cbr\\u003eLat: 49.472\\u003cbr\\u003eLon: 0.196\",\"ID: 61e9f415b937134a3c4c0063\\u003cbr\\u003eTime: 2024-05-05 12:53:36\\u003cbr\\u003eLat: 49.472\\u003cbr\\u003eLon: 0.196\",\"ID: 61e9f415b937134a3c4c0063\\u003cbr\\u003eTime: 2024-05-05 13:14:41\\u003cbr\\u003eLat: 49.472\\u003cbr\\u003eLon: 0.196\",\"ID: 61e9f415b937134a3c4c0063\\u003cbr\\u003eTime: 2024-05-05 13:35:37\\u003cbr\\u003eLat: 49.472\\u003cbr\\u003eLon: 0.196\",\"ID: 61e9f415b937134a3c4c0063\\u003cbr\\u003eTime: 2024-05-05 13:56:41\\u003cbr\\u003eLat: 49.472\\u003cbr\\u003eLon: 0.196\",\"ID: 61e9f415b937134a3c4c0063\\u003cbr\\u003eTime: 2024-05-05 14:14:42\\u003cbr\\u003eLat: 49.472\\u003cbr\\u003eLon: 0.196\",\"ID: 61e9f415b937134a3c4c0063\\u003cbr\\u003eTime: 2024-05-05 14:37:20\\u003cbr\\u003eLat: 49.472\\u003cbr\\u003eLon: 0.196\",\"ID: 61e9f415b937134a3c4c0063\\u003cbr\\u003eTime: 2024-05-05 14:56:37\\u003cbr\\u003eLat: 49.472\\u003cbr\\u003eLon: 0.196\",\"ID: 61e9f415b937134a3c4c0063\\u003cbr\\u003eTime: 2024-05-05 15:17:39\\u003cbr\\u003eLat: 49.472\\u003cbr\\u003eLon: 0.196\",\"ID: 61e9f415b937134a3c4c0063\\u003cbr\\u003eTime: 2024-05-05 15:38:37\\u003cbr\\u003eLat: 49.472\\u003cbr\\u003eLon: 0.196\",\"ID: 61e9f415b937134a3c4c0063\\u003cbr\\u003eTime: 2024-05-05 15:56:36\\u003cbr\\u003eLat: 49.472\\u003cbr\\u003eLon: 0.196\",\"ID: 61e9f415b937134a3c4c0063\\u003cbr\\u003eTime: 2024-05-05 16:14:36\\u003cbr\\u003eLat: 49.472\\u003cbr\\u003eLon: 0.196\",\"ID: 61e9f415b937134a3c4c0063\\u003cbr\\u003eTime: 2024-05-05 16:32:36\\u003cbr\\u003eLat: 49.472\\u003cbr\\u003eLon: 0.196\",\"ID: 61e9f415b937134a3c4c0063\\u003cbr\\u003eTime: 2024-05-05 16:53:33\\u003cbr\\u003eLat: 49.472\\u003cbr\\u003eLon: 0.196\",\"ID: 61e9f415b937134a3c4c0063\\u003cbr\\u003eTime: 2024-05-05 17:14:37\\u003cbr\\u003eLat: 49.472\\u003cbr\\u003eLon: 0.196\",\"ID: 61e9f415b937134a3c4c0063\\u003cbr\\u003eTime: 2024-05-05 17:35:36\\u003cbr\\u003eLat: 49.472\\u003cbr\\u003eLon: 0.196\",\"ID: 61e9f415b937134a3c4c0063\\u003cbr\\u003eTime: 2024-05-05 17:56:41\\u003cbr\\u003eLat: 49.472\\u003cbr\\u003eLon: 0.196\",\"ID: 61e9f415b937134a3c4c0063\\u003cbr\\u003eTime: 2024-05-05 18:17:39\\u003cbr\\u003eLat: 49.472\\u003cbr\\u003eLon: 0.196\",\"ID: 61e9f415b937134a3c4c0063\\u003cbr\\u003eTime: 2024-05-05 18:35:42\\u003cbr\\u003eLat: 49.472\\u003cbr\\u003eLon: 0.196\",\"ID: 61e9f415b937134a3c4c0063\\u003cbr\\u003eTime: 2024-05-05 18:56:34\\u003cbr\\u003eLat: 49.472\\u003cbr\\u003eLon: 0.196\",\"ID: 61e9f415b937134a3c4c0063\\u003cbr\\u003eTime: 2024-05-05 19:17:41\\u003cbr\\u003eLat: 49.472\\u003cbr\\u003eLon: 0.196\",\"ID: 61e9f415b937134a3c4c0063\\u003cbr\\u003eTime: 2024-05-05 19:34:16\\u003cbr\\u003eLat: 49.472\\u003cbr\\u003eLon: 0.196\",\"ID: 61e9f415b937134a3c4c0063\\u003cbr\\u003eTime: 2024-05-05 19:53:38\\u003cbr\\u003eLat: 49.472\\u003cbr\\u003eLon: 0.196\",\"ID: 61e9f415b937134a3c4c0063\\u003cbr\\u003eTime: 2024-05-05 20:14:39\\u003cbr\\u003eLat: 49.472\\u003cbr\\u003eLon: 0.196\",\"ID: 61e9f415b937134a3c4c0063\\u003cbr\\u003eTime: 2024-05-05 20:35:38\\u003cbr\\u003eLat: 49.472\\u003cbr\\u003eLon: 0.196\",\"ID: 61e9f415b937134a3c4c0063\\u003cbr\\u003eTime: 2024-05-05 20:56:41\\u003cbr\\u003eLat: 49.472\\u003cbr\\u003eLon: 0.196\",\"ID: 61e9f415b937134a3c4c0063\\u003cbr\\u003eTime: 2024-05-05 21:17:15\\u003cbr\\u003eLat: 49.472\\u003cbr\\u003eLon: 0.196\",\"ID: 61e9f415b937134a3c4c0063\\u003cbr\\u003eTime: 2024-05-05 21:35:39\\u003cbr\\u003eLat: 49.472\\u003cbr\\u003eLon: 0.196\",\"ID: 61e9f415b937134a3c4c0063\\u003cbr\\u003eTime: 2024-05-05 21:56:36\\u003cbr\\u003eLat: 49.472\\u003cbr\\u003eLon: 0.196\",\"ID: 61e9f415b937134a3c4c0063\\u003cbr\\u003eTime: 2024-05-05 22:17:38\\u003cbr\\u003eLat: 49.472\\u003cbr\\u003eLon: 0.196\",\"ID: 61e9f415b937134a3c4c0063\\u003cbr\\u003eTime: 2024-05-05 22:38:42\\u003cbr\\u003eLat: 49.472\\u003cbr\\u003eLon: 0.196\",\"ID: 61e9f415b937134a3c4c0063\\u003cbr\\u003eTime: 2024-05-05 22:53:39\\u003cbr\\u003eLat: 49.472\\u003cbr\\u003eLon: 0.196\",\"ID: 61e9f415b937134a3c4c0063\\u003cbr\\u003eTime: 2024-05-05 23:14:43\\u003cbr\\u003eLat: 49.472\\u003cbr\\u003eLon: 0.196\",\"ID: 61e9f415b937134a3c4c0063\\u003cbr\\u003eTime: 2024-05-05 23:35:37\\u003cbr\\u003eLat: 49.472\\u003cbr\\u003eLon: 0.196\",\"ID: 61e9f415b937134a3c4c0063\\u003cbr\\u003eTime: 2024-05-05 23:53:37\\u003cbr\\u003eLat: 49.472\\u003cbr\\u003eLon: 0.196\",\"ID: 61e9f415b937134a3c4c0063\\u003cbr\\u003eTime: 2024-05-06 00:14:43\\u003cbr\\u003eLat: 49.472\\u003cbr\\u003eLon: 0.196\",\"ID: 61e9f415b937134a3c4c0063\\u003cbr\\u003eTime: 2024-05-06 00:35:39\\u003cbr\\u003eLat: 49.472\\u003cbr\\u003eLon: 0.196\",\"ID: 61e9f415b937134a3c4c0063\\u003cbr\\u003eTime: 2024-05-06 00:56:39\\u003cbr\\u003eLat: 49.472\\u003cbr\\u003eLon: 0.196\",\"ID: 61e9f415b937134a3c4c0063\\u003cbr\\u003eTime: 2024-05-06 01:17:44\\u003cbr\\u003eLat: 49.472\\u003cbr\\u003eLon: 0.196\",\"ID: 61e9f415b937134a3c4c0063\\u003cbr\\u003eTime: 2024-05-06 01:38:43\\u003cbr\\u003eLat: 49.472\\u003cbr\\u003eLon: 0.196\",\"ID: 61e9f415b937134a3c4c0063\\u003cbr\\u003eTime: 2024-05-06 01:59:40\\u003cbr\\u003eLat: 49.472\\u003cbr\\u003eLon: 0.196\",\"ID: 61e9f415b937134a3c4c0063\\u003cbr\\u003eTime: 2024-05-06 02:14:43\\u003cbr\\u003eLat: 49.472\\u003cbr\\u003eLon: 0.196\",\"ID: 61e9f415b937134a3c4c0063\\u003cbr\\u003eTime: 2024-05-06 02:32:46\\u003cbr\\u003eLat: 49.472\\u003cbr\\u003eLon: 0.196\",\"ID: 61e9f415b937134a3c4c0063\\u003cbr\\u003eTime: 2024-05-06 02:54:30\\u003cbr\\u003eLat: 49.472\\u003cbr\\u003eLon: 0.196\",\"ID: 61e9f415b937134a3c4c0063\\u003cbr\\u003eTime: 2024-05-06 03:14:39\\u003cbr\\u003eLat: 49.472\\u003cbr\\u003eLon: 0.196\",\"ID: 61e9f415b937134a3c4c0063\\u003cbr\\u003eTime: 2024-05-06 03:32:40\\u003cbr\\u003eLat: 49.472\\u003cbr\\u003eLon: 0.196\",\"ID: 61e9f415b937134a3c4c0063\\u003cbr\\u003eTime: 2024-05-06 03:53:42\\u003cbr\\u003eLat: 49.472\\u003cbr\\u003eLon: 0.196\",\"ID: 61e9f415b937134a3c4c0063\\u003cbr\\u003eTime: 2024-05-06 04:17:43\\u003cbr\\u003eLat: 49.472\\u003cbr\\u003eLon: 0.196\",\"ID: 61e9f415b937134a3c4c0063\\u003cbr\\u003eTime: 2024-05-06 04:35:42\\u003cbr\\u003eLat: 49.472\\u003cbr\\u003eLon: 0.196\",\"ID: 61e9f415b937134a3c4c0063\\u003cbr\\u003eTime: 2024-05-06 04:56:44\\u003cbr\\u003eLat: 49.472\\u003cbr\\u003eLon: 0.196\",\"ID: 61e9f415b937134a3c4c0063\\u003cbr\\u003eTime: 2024-05-06 05:17:41\\u003cbr\\u003eLat: 49.472\\u003cbr\\u003eLon: 0.196\",\"ID: 61e9f415b937134a3c4c0063\\u003cbr\\u003eTime: 2024-05-06 05:32:41\\u003cbr\\u003eLat: 49.472\\u003cbr\\u003eLon: 0.196\",\"ID: 61e9f415b937134a3c4c0063\\u003cbr\\u003eTime: 2024-05-06 05:53:41\\u003cbr\\u003eLat: 49.472\\u003cbr\\u003eLon: 0.196\",\"ID: 61e9f415b937134a3c4c0063\\u003cbr\\u003eTime: 2024-05-06 06:14:39\\u003cbr\\u003eLat: 49.472\\u003cbr\\u003eLon: 0.196\",\"ID: 61e9f415b937134a3c4c0063\\u003cbr\\u003eTime: 2024-05-06 06:35:42\\u003cbr\\u003eLat: 49.472\\u003cbr\\u003eLon: 0.196\",\"ID: 61e9f415b937134a3c4c0063\\u003cbr\\u003eTime: 2024-05-06 06:56:41\\u003cbr\\u003eLat: 49.472\\u003cbr\\u003eLon: 0.196\",\"ID: 61e9f415b937134a3c4c0063\\u003cbr\\u003eTime: 2024-05-06 07:14:43\\u003cbr\\u003eLat: 49.472\\u003cbr\\u003eLon: 0.196\",\"ID: 61e9f415b937134a3c4c0063\\u003cbr\\u003eTime: 2024-05-06 07:35:41\\u003cbr\\u003eLat: 49.472\\u003cbr\\u003eLon: 0.196\",\"ID: 61e9f415b937134a3c4c0063\\u003cbr\\u003eTime: 2024-05-06 07:56:40\\u003cbr\\u003eLat: 49.472\\u003cbr\\u003eLon: 0.196\",\"ID: 61e9f415b937134a3c4c0063\\u003cbr\\u003eTime: 2024-05-06 08:17:44\\u003cbr\\u003eLat: 49.472\\u003cbr\\u003eLon: 0.196\",\"ID: 61e9f415b937134a3c4c0063\\u003cbr\\u003eTime: 2024-05-06 08:38:43\\u003cbr\\u003eLat: 49.472\\u003cbr\\u003eLon: 0.196\",\"ID: 61e9f415b937134a3c4c0063\\u003cbr\\u003eTime: 2024-05-06 08:59:43\\u003cbr\\u003eLat: 49.472\\u003cbr\\u003eLon: 0.196\",\"ID: 61e9f415b937134a3c4c0063\\u003cbr\\u003eTime: 2024-05-06 09:14:41\\u003cbr\\u003eLat: 49.472\\u003cbr\\u003eLon: 0.196\",\"ID: 61e9f415b937134a3c4c0063\\u003cbr\\u003eTime: 2024-05-06 09:32:43\\u003cbr\\u003eLat: 49.472\\u003cbr\\u003eLon: 0.196\",\"ID: 61e9f415b937134a3c4c0063\\u003cbr\\u003eTime: 2024-05-06 09:53:43\\u003cbr\\u003eLat: 49.472\\u003cbr\\u003eLon: 0.196\",\"ID: 61e9f415b937134a3c4c0063\\u003cbr\\u003eTime: 2024-05-06 10:14:38\\u003cbr\\u003eLat: 49.472\\u003cbr\\u003eLon: 0.196\",\"ID: 61e9f415b937134a3c4c0063\\u003cbr\\u003eTime: 2024-05-06 10:35:40\\u003cbr\\u003eLat: 49.472\\u003cbr\\u003eLon: 0.196\",\"ID: 61e9f415b937134a3c4c0063\\u003cbr\\u003eTime: 2024-05-06 10:56:42\\u003cbr\\u003eLat: 49.472\\u003cbr\\u003eLon: 0.196\",\"ID: 61e9f415b937134a3c4c0063\\u003cbr\\u003eTime: 2024-05-06 11:14:40\\u003cbr\\u003eLat: 49.472\\u003cbr\\u003eLon: 0.196\",\"ID: 61e9f415b937134a3c4c0063\\u003cbr\\u003eTime: 2024-05-06 11:35:40\\u003cbr\\u003eLat: 49.472\\u003cbr\\u003eLon: 0.196\",\"ID: 61e9f415b937134a3c4c0063\\u003cbr\\u003eTime: 2024-05-06 11:56:44\\u003cbr\\u003eLat: 49.472\\u003cbr\\u003eLon: 0.196\",\"ID: 61e9f415b937134a3c4c0063\\u003cbr\\u003eTime: 2024-05-06 12:17:43\\u003cbr\\u003eLat: 49.472\\u003cbr\\u003eLon: 0.196\",\"ID: 61e9f415b937134a3c4c0063\\u003cbr\\u003eTime: 2024-05-06 12:38:42\\u003cbr\\u003eLat: 49.472\\u003cbr\\u003eLon: 0.196\",\"ID: 61e9f415b937134a3c4c0063\\u003cbr\\u003eTime: 2024-05-06 12:59:42\\u003cbr\\u003eLat: 49.472\\u003cbr\\u003eLon: 0.196\",\"ID: 61e9f415b937134a3c4c0063\\u003cbr\\u003eTime: 2024-05-06 13:14:45\\u003cbr\\u003eLat: 49.472\\u003cbr\\u003eLon: 0.196\",\"ID: 61e9f415b937134a3c4c0063\\u003cbr\\u003eTime: 2024-05-06 13:32:39\\u003cbr\\u003eLat: 49.472\\u003cbr\\u003eLon: 0.196\",\"ID: 61e9f415b937134a3c4c0063\\u003cbr\\u003eTime: 2024-05-06 13:53:42\\u003cbr\\u003eLat: 49.472\\u003cbr\\u003eLon: 0.196\",\"ID: 61e9f415b937134a3c4c0063\\u003cbr\\u003eTime: 2024-05-06 14:14:49\\u003cbr\\u003eLat: 49.472\\u003cbr\\u003eLon: 0.196\",\"ID: 61e9f415b937134a3c4c0063\\u003cbr\\u003eTime: 2024-05-06 14:35:44\\u003cbr\\u003eLat: 49.472\\u003cbr\\u003eLon: 0.196\",\"ID: 61e9f415b937134a3c4c0063\\u003cbr\\u003eTime: 2024-05-06 14:56:48\\u003cbr\\u003eLat: 49.472\\u003cbr\\u003eLon: 0.196\",\"ID: 61e9f415b937134a3c4c0063\\u003cbr\\u003eTime: 2024-05-06 15:14:43\\u003cbr\\u003eLat: 49.472\\u003cbr\\u003eLon: 0.196\",\"ID: 61e9f415b937134a3c4c0063\\u003cbr\\u003eTime: 2024-05-06 15:35:45\\u003cbr\\u003eLat: 49.472\\u003cbr\\u003eLon: 0.196\",\"ID: 61e9f415b937134a3c4c0063\\u003cbr\\u003eTime: 2024-05-06 15:56:44\\u003cbr\\u003eLat: 49.472\\u003cbr\\u003eLon: 0.196\",\"ID: 61e9f415b937134a3c4c0063\\u003cbr\\u003eTime: 2024-05-06 16:17:45\\u003cbr\\u003eLat: 49.472\\u003cbr\\u003eLon: 0.196\",\"ID: 61e9f415b937134a3c4c0063\\u003cbr\\u003eTime: 2024-05-06 16:38:47\\u003cbr\\u003eLat: 49.472\\u003cbr\\u003eLon: 0.196\",\"ID: 61e9f415b937134a3c4c0063\\u003cbr\\u003eTime: 2024-05-06 16:59:43\\u003cbr\\u003eLat: 49.472\\u003cbr\\u003eLon: 0.196\",\"ID: 61e9f415b937134a3c4c0063\\u003cbr\\u003eTime: 2024-05-06 17:14:49\\u003cbr\\u003eLat: 49.472\\u003cbr\\u003eLon: 0.196\",\"ID: 61e9f415b937134a3c4c0063\\u003cbr\\u003eTime: 2024-05-06 17:32:47\\u003cbr\\u003eLat: 49.472\\u003cbr\\u003eLon: 0.196\",\"ID: 61e9f415b937134a3c4c0063\\u003cbr\\u003eTime: 2024-05-06 17:53:45\\u003cbr\\u003eLat: 49.472\\u003cbr\\u003eLon: 0.196\",\"ID: 61e9f415b937134a3c4c0063\\u003cbr\\u003eTime: 2024-05-06 18:14:43\\u003cbr\\u003eLat: 49.472\\u003cbr\\u003eLon: 0.196\",\"ID: 61e9f415b937134a3c4c0063\\u003cbr\\u003eTime: 2024-05-06 18:35:44\\u003cbr\\u003eLat: 49.472\\u003cbr\\u003eLon: 0.196\",\"ID: 61e9f415b937134a3c4c0063\\u003cbr\\u003eTime: 2024-05-06 18:53:44\\u003cbr\\u003eLat: 49.472\\u003cbr\\u003eLon: 0.196\",\"ID: 61e9f415b937134a3c4c0063\\u003cbr\\u003eTime: 2024-05-06 19:14:44\\u003cbr\\u003eLat: 49.472\\u003cbr\\u003eLon: 0.196\",\"ID: 61e9f415b937134a3c4c0063\\u003cbr\\u003eTime: 2024-05-06 19:35:46\\u003cbr\\u003eLat: 49.472\\u003cbr\\u003eLon: 0.196\",\"ID: 61e9f415b937134a3c4c0063\\u003cbr\\u003eTime: 2024-05-06 19:56:46\\u003cbr\\u003eLat: 49.472\\u003cbr\\u003eLon: 0.196\",\"ID: 61e9f415b937134a3c4c0063\\u003cbr\\u003eTime: 2024-05-06 20:18:02\\u003cbr\\u003eLat: 49.472\\u003cbr\\u003eLon: 0.196\",\"ID: 61e9f415b937134a3c4c0063\\u003cbr\\u003eTime: 2024-05-06 20:38:48\\u003cbr\\u003eLat: 49.472\\u003cbr\\u003eLon: 0.196\",\"ID: 61e9f415b937134a3c4c0063\\u003cbr\\u003eTime: 2024-05-06 20:59:41\\u003cbr\\u003eLat: 49.472\\u003cbr\\u003eLon: 0.196\",\"ID: 61e9f415b937134a3c4c0063\\u003cbr\\u003eTime: 2024-05-06 21:14:46\\u003cbr\\u003eLat: 49.472\\u003cbr\\u003eLon: 0.196\",\"ID: 61e9f415b937134a3c4c0063\\u003cbr\\u003eTime: 2024-05-06 21:32:46\\u003cbr\\u003eLat: 49.472\\u003cbr\\u003eLon: 0.196\",\"ID: 61e9f415b937134a3c4c0063\\u003cbr\\u003eTime: 2024-05-06 21:53:45\\u003cbr\\u003eLat: 49.472\\u003cbr\\u003eLon: 0.196\",\"ID: 61e9f415b937134a3c4c0063\\u003cbr\\u003eTime: 2024-05-06 22:14:50\\u003cbr\\u003eLat: 49.472\\u003cbr\\u003eLon: 0.196\",\"ID: 61e9f415b937134a3c4c0063\\u003cbr\\u003eTime: 2024-05-06 22:35:46\\u003cbr\\u003eLat: 49.472\\u003cbr\\u003eLon: 0.196\",\"ID: 61e9f415b937134a3c4c0063\\u003cbr\\u003eTime: 2024-05-06 22:56:47\\u003cbr\\u003eLat: 49.472\\u003cbr\\u003eLon: 0.196\",\"ID: 61e9f415b937134a3c4c0063\\u003cbr\\u003eTime: 2024-05-06 23:14:49\\u003cbr\\u003eLat: 49.472\\u003cbr\\u003eLon: 0.196\",\"ID: 61e9f415b937134a3c4c0063\\u003cbr\\u003eTime: 2024-05-06 23:35:48\\u003cbr\\u003eLat: 49.472\\u003cbr\\u003eLon: 0.196\",\"ID: 61e9f415b937134a3c4c0063\\u003cbr\\u003eTime: 2024-05-06 23:56:44\\u003cbr\\u003eLat: 49.472\\u003cbr\\u003eLon: 0.196\",\"ID: 61e9f415b937134a3c4c0063\\u003cbr\\u003eTime: 2024-05-07 00:17:47\\u003cbr\\u003eLat: 49.472\\u003cbr\\u003eLon: 0.196\",\"ID: 61e9f415b937134a3c4c0063\\u003cbr\\u003eTime: 2024-05-07 00:38:46\\u003cbr\\u003eLat: 49.472\\u003cbr\\u003eLon: 0.196\",\"ID: 61e9f415b937134a3c4c0063\\u003cbr\\u003eTime: 2024-05-07 00:59:46\\u003cbr\\u003eLat: 49.472\\u003cbr\\u003eLon: 0.196\",\"ID: 61e9f415b937134a3c4c0063\\u003cbr\\u003eTime: 2024-05-07 01:14:42\\u003cbr\\u003eLat: 49.472\\u003cbr\\u003eLon: 0.196\",\"ID: 61e9f415b937134a3c4c0063\\u003cbr\\u003eTime: 2024-05-07 01:32:42\\u003cbr\\u003eLat: 49.472\\u003cbr\\u003eLon: 0.196\",\"ID: 61e9f415b937134a3c4c0063\\u003cbr\\u003eTime: 2024-05-07 01:53:45\\u003cbr\\u003eLat: 49.472\\u003cbr\\u003eLon: 0.196\",\"ID: 61e9f415b937134a3c4c0063\\u003cbr\\u003eTime: 2024-05-07 02:14:49\\u003cbr\\u003eLat: 49.472\\u003cbr\\u003eLon: 0.196\",\"ID: 61e9f415b937134a3c4c0063\\u003cbr\\u003eTime: 2024-05-07 02:35:47\\u003cbr\\u003eLat: 49.472\\u003cbr\\u003eLon: 0.196\",\"ID: 61e9f415b937134a3c4c0063\\u003cbr\\u003eTime: 2024-05-07 02:56:48\\u003cbr\\u003eLat: 49.472\\u003cbr\\u003eLon: 0.196\",\"ID: 61e9f415b937134a3c4c0063\\u003cbr\\u003eTime: 2024-05-07 03:14:45\\u003cbr\\u003eLat: 49.472\\u003cbr\\u003eLon: 0.196\",\"ID: 61e9f415b937134a3c4c0063\\u003cbr\\u003eTime: 2024-05-07 03:35:48\\u003cbr\\u003eLat: 49.472\\u003cbr\\u003eLon: 0.196\",\"ID: 61e9f415b937134a3c4c0063\\u003cbr\\u003eTime: 2024-05-07 03:56:47\\u003cbr\\u003eLat: 49.472\\u003cbr\\u003eLon: 0.196\",\"ID: 61e9f415b937134a3c4c0063\\u003cbr\\u003eTime: 2024-05-07 04:17:48\\u003cbr\\u003eLat: 49.472\\u003cbr\\u003eLon: 0.196\",\"ID: 61e9f415b937134a3c4c0063\\u003cbr\\u003eTime: 2024-05-07 04:38:48\\u003cbr\\u003eLat: 49.472\\u003cbr\\u003eLon: 0.196\",\"ID: 61e9f415b937134a3c4c0063\\u003cbr\\u003eTime: 2024-05-07 04:56:47\\u003cbr\\u003eLat: 49.472\\u003cbr\\u003eLon: 0.196\",\"ID: 61e9f415b937134a3c4c0063\\u003cbr\\u003eTime: 2024-05-07 05:17:49\\u003cbr\\u003eLat: 49.472\\u003cbr\\u003eLon: 0.196\",\"ID: 61e9f415b937134a3c4c0063\\u003cbr\\u003eTime: 2024-05-07 05:39:13\\u003cbr\\u003eLat: 49.472\\u003cbr\\u003eLon: 0.196\",\"ID: 61e9f415b937134a3c4c0063\\u003cbr\\u003eTime: 2024-05-07 05:53:49\\u003cbr\\u003eLat: 49.472\\u003cbr\\u003eLon: 0.196\",\"ID: 61e9f415b937134a3c4c0063\\u003cbr\\u003eTime: 2024-05-07 06:14:50\\u003cbr\\u003eLat: 49.472\\u003cbr\\u003eLon: 0.196\",\"ID: 61e9f415b937134a3c4c0063\\u003cbr\\u003eTime: 2024-05-07 06:32:51\\u003cbr\\u003eLat: 49.472\\u003cbr\\u003eLon: 0.196\",\"ID: 61e9f415b937134a3c4c0063\\u003cbr\\u003eTime: 2024-05-07 06:53:49\\u003cbr\\u003eLat: 49.472\\u003cbr\\u003eLon: 0.196\",\"ID: 61e9f415b937134a3c4c0063\\u003cbr\\u003eTime: 2024-05-07 07:14:51\\u003cbr\\u003eLat: 49.472\\u003cbr\\u003eLon: 0.196\",\"ID: 61e9f415b937134a3c4c0063\\u003cbr\\u003eTime: 2024-05-07 07:35:52\\u003cbr\\u003eLat: 49.472\\u003cbr\\u003eLon: 0.196\",\"ID: 61e9f415b937134a3c4c0063\\u003cbr\\u003eTime: 2024-05-07 07:56:47\\u003cbr\\u003eLat: 49.472\\u003cbr\\u003eLon: 0.196\",\"ID: 61e9f415b937134a3c4c0063\\u003cbr\\u003eTime: 2024-05-07 08:17:48\\u003cbr\\u003eLat: 49.472\\u003cbr\\u003eLon: 0.196\",\"ID: 61e9f415b937134a3c4c0063\\u003cbr\\u003eTime: 2024-05-07 08:35:51\\u003cbr\\u003eLat: 49.472\\u003cbr\\u003eLon: 0.196\",\"ID: 61e9f415b937134a3c4c0063\\u003cbr\\u003eTime: 2024-05-07 08:56:49\\u003cbr\\u003eLat: 49.472\\u003cbr\\u003eLon: 0.196\",\"ID: 61e9f415b937134a3c4c0063\\u003cbr\\u003eTime: 2024-05-07 09:17:51\\u003cbr\\u003eLat: 49.472\\u003cbr\\u003eLon: 0.196\",\"ID: 61e9f415b937134a3c4c0063\\u003cbr\\u003eTime: 2024-05-07 09:38:48\\u003cbr\\u003eLat: 49.472\\u003cbr\\u003eLon: 0.196\",\"ID: 61e9f415b937134a3c4c0063\\u003cbr\\u003eTime: 2024-05-07 09:53:48\\u003cbr\\u003eLat: 49.472\\u003cbr\\u003eLon: 0.196\",\"ID: 61e9f415b937134a3c4c0063\\u003cbr\\u003eTime: 2024-05-07 10:14:49\\u003cbr\\u003eLat: 49.472\\u003cbr\\u003eLon: 0.196\",\"ID: 61e9f415b937134a3c4c0063\\u003cbr\\u003eTime: 2024-05-07 10:32:51\\u003cbr\\u003eLat: 49.472\\u003cbr\\u003eLon: 0.196\",\"ID: 61e9f415b937134a3c4c0063\\u003cbr\\u003eTime: 2024-05-07 10:53:50\\u003cbr\\u003eLat: 49.472\\u003cbr\\u003eLon: 0.196\",\"ID: 61e9f415b937134a3c4c0063\\u003cbr\\u003eTime: 2024-05-07 11:14:49\\u003cbr\\u003eLat: 49.472\\u003cbr\\u003eLon: 0.196\",\"ID: 61e9f415b937134a3c4c0063\\u003cbr\\u003eTime: 2024-05-07 11:35:51\\u003cbr\\u003eLat: 49.472\\u003cbr\\u003eLon: 0.196\",\"ID: 61e9f415b937134a3c4c0063\\u003cbr\\u003eTime: 2024-05-07 11:56:51\\u003cbr\\u003eLat: 49.472\\u003cbr\\u003eLon: 0.196\",\"ID: 61e9f415b937134a3c4c0063\\u003cbr\\u003eTime: 2024-05-07 12:14:50\\u003cbr\\u003eLat: 49.472\\u003cbr\\u003eLon: 0.196\",\"ID: 61e9f415b937134a3c4c0063\\u003cbr\\u003eTime: 2024-05-07 12:35:50\\u003cbr\\u003eLat: 49.472\\u003cbr\\u003eLon: 0.196\",\"ID: 61e9f415b937134a3c4c0063\\u003cbr\\u003eTime: 2024-05-07 12:56:50\\u003cbr\\u003eLat: 49.472\\u003cbr\\u003eLon: 0.196\",\"ID: 61e9f415b937134a3c4c0063\\u003cbr\\u003eTime: 2024-05-07 13:17:48\\u003cbr\\u003eLat: 49.472\\u003cbr\\u003eLon: 0.196\",\"ID: 61e9f415b937134a3c4c0063\\u003cbr\\u003eTime: 2024-05-07 13:38:50\\u003cbr\\u003eLat: 49.472\\u003cbr\\u003eLon: 0.196\",\"ID: 61e9f415b937134a3c4c0063\\u003cbr\\u003eTime: 2024-05-07 13:56:48\\u003cbr\\u003eLat: 49.472\\u003cbr\\u003eLon: 0.196\",\"ID: 61e9f415b937134a3c4c0063\\u003cbr\\u003eTime: 2024-05-07 14:17:51\\u003cbr\\u003eLat: 49.472\\u003cbr\\u003eLon: 0.196\",\"ID: 61e9f415b937134a3c4c0063\\u003cbr\\u003eTime: 2024-05-07 14:32:51\\u003cbr\\u003eLat: 49.472\\u003cbr\\u003eLon: 0.196\",\"ID: 61e9f415b937134a3c4c0063\\u003cbr\\u003eTime: 2024-05-07 14:53:50\\u003cbr\\u003eLat: 49.472\\u003cbr\\u003eLon: 0.196\",\"ID: 61e9f415b937134a3c4c0063\\u003cbr\\u003eTime: 2024-05-07 15:15:15\\u003cbr\\u003eLat: 49.477\\u003cbr\\u003eLon: 0.182\",\"ID: 61e9f415b937134a3c4c0063\\u003cbr\\u003eTime: 2024-05-07 15:35:49\\u003cbr\\u003eLat: 49.476\\u003cbr\\u003eLon: 0.174\",\"ID: 61e9f415b937134a3c4c0063\\u003cbr\\u003eTime: 2024-05-07 15:56:38\\u003cbr\\u003eLat: 49.476\\u003cbr\\u003eLon: 0.173\",\"ID: 61e9f415b937134a3c4c0063\\u003cbr\\u003eTime: 2024-05-07 16:17:19\\u003cbr\\u003eLat: 49.475\\u003cbr\\u003eLon: 0.120\",\"ID: 61e9f415b937134a3c4c0063\\u003cbr\\u003eTime: 2024-05-07 16:37:49\\u003cbr\\u003eLat: 49.494\\u003cbr\\u003eLon: 0.020\",\"ID: 61e9f415b937134a3c4c0063\\u003cbr\\u003eTime: 2024-05-07 16:58:18\\u003cbr\\u003eLat: 49.518\\u003cbr\\u003eLon: -0.086\",\"ID: 61e9f415b937134a3c4c0063\\u003cbr\\u003eTime: 2024-05-07 17:18:38\\u003cbr\\u003eLat: 49.549\\u003cbr\\u003eLon: -0.192\",\"ID: 61e9f415b937134a3c4c0063\\u003cbr\\u003eTime: 2024-05-07 17:39:09\\u003cbr\\u003eLat: 49.575\\u003cbr\\u003eLon: -0.299\",\"ID: 61e9f415b937134a3c4c0063\\u003cbr\\u003eTime: 2024-05-07 17:59:39\\u003cbr\\u003eLat: 49.599\\u003cbr\\u003eLon: -0.400\",\"ID: 61e9f415b937134a3c4c0063\\u003cbr\\u003eTime: 2024-05-07 18:14:58\\u003cbr\\u003eLat: 49.616\\u003cbr\\u003eLon: -0.473\",\"ID: 61e9f415b937134a3c4c0063\\u003cbr\\u003eTime: 2024-05-07 18:35:08\\u003cbr\\u003eLat: 49.638\\u003cbr\\u003eLon: -0.566\",\"ID: 61e9f415b937134a3c4c0063\\u003cbr\\u003eTime: 2024-05-07 18:55:57\\u003cbr\\u003eLat: 49.661\\u003cbr\\u003eLon: -0.661\",\"ID: 61e9f415b937134a3c4c0063\\u003cbr\\u003eTime: 2024-05-07 19:16:08\\u003cbr\\u003eLat: 49.682\\u003cbr\\u003eLon: -0.753\",\"ID: 61e9f415b937134a3c4c0063\\u003cbr\\u003eTime: 2024-05-07 19:37:08\\u003cbr\\u003eLat: 49.704\\u003cbr\\u003eLon: -0.847\",\"ID: 61e9f415b937134a3c4c0063\\u003cbr\\u003eTime: 2024-05-07 19:46:57\\u003cbr\\u003eLat: 49.715\\u003cbr\\u003eLon: -0.891\",\"ID: 61e9f415b937134a3c4c0063\\u003cbr\\u003eTime: 2024-05-07 20:17:57\\u003cbr\\u003eLat: 49.748\\u003cbr\\u003eLon: -1.030\",\"ID: 61e9f415b937134a3c4c0063\\u003cbr\\u003eTime: 2024-05-07 20:33:09\\u003cbr\\u003eLat: 49.764\\u003cbr\\u003eLon: -1.097\",\"ID: 61e9f415b937134a3c4c0063\\u003cbr\\u003eTime: 2024-05-07 23:59:01\\u003cbr\\u003eLat: 50.009\\u003cbr\\u003eLon: -2.223\"],\"type\":\"scattergeo\"}],                        {\"template\":{\"data\":{\"histogram2dcontour\":[{\"type\":\"histogram2dcontour\",\"colorbar\":{\"outlinewidth\":0,\"ticks\":\"\"},\"colorscale\":[[0.0,\"#0d0887\"],[0.1111111111111111,\"#46039f\"],[0.2222222222222222,\"#7201a8\"],[0.3333333333333333,\"#9c179e\"],[0.4444444444444444,\"#bd3786\"],[0.5555555555555556,\"#d8576b\"],[0.6666666666666666,\"#ed7953\"],[0.7777777777777778,\"#fb9f3a\"],[0.8888888888888888,\"#fdca26\"],[1.0,\"#f0f921\"]]}],\"choropleth\":[{\"type\":\"choropleth\",\"colorbar\":{\"outlinewidth\":0,\"ticks\":\"\"}}],\"histogram2d\":[{\"type\":\"histogram2d\",\"colorbar\":{\"outlinewidth\":0,\"ticks\":\"\"},\"colorscale\":[[0.0,\"#0d0887\"],[0.1111111111111111,\"#46039f\"],[0.2222222222222222,\"#7201a8\"],[0.3333333333333333,\"#9c179e\"],[0.4444444444444444,\"#bd3786\"],[0.5555555555555556,\"#d8576b\"],[0.6666666666666666,\"#ed7953\"],[0.7777777777777778,\"#fb9f3a\"],[0.8888888888888888,\"#fdca26\"],[1.0,\"#f0f921\"]]}],\"heatmap\":[{\"type\":\"heatmap\",\"colorbar\":{\"outlinewidth\":0,\"ticks\":\"\"},\"colorscale\":[[0.0,\"#0d0887\"],[0.1111111111111111,\"#46039f\"],[0.2222222222222222,\"#7201a8\"],[0.3333333333333333,\"#9c179e\"],[0.4444444444444444,\"#bd3786\"],[0.5555555555555556,\"#d8576b\"],[0.6666666666666666,\"#ed7953\"],[0.7777777777777778,\"#fb9f3a\"],[0.8888888888888888,\"#fdca26\"],[1.0,\"#f0f921\"]]}],\"heatmapgl\":[{\"type\":\"heatmapgl\",\"colorbar\":{\"outlinewidth\":0,\"ticks\":\"\"},\"colorscale\":[[0.0,\"#0d0887\"],[0.1111111111111111,\"#46039f\"],[0.2222222222222222,\"#7201a8\"],[0.3333333333333333,\"#9c179e\"],[0.4444444444444444,\"#bd3786\"],[0.5555555555555556,\"#d8576b\"],[0.6666666666666666,\"#ed7953\"],[0.7777777777777778,\"#fb9f3a\"],[0.8888888888888888,\"#fdca26\"],[1.0,\"#f0f921\"]]}],\"contourcarpet\":[{\"type\":\"contourcarpet\",\"colorbar\":{\"outlinewidth\":0,\"ticks\":\"\"}}],\"contour\":[{\"type\":\"contour\",\"colorbar\":{\"outlinewidth\":0,\"ticks\":\"\"},\"colorscale\":[[0.0,\"#0d0887\"],[0.1111111111111111,\"#46039f\"],[0.2222222222222222,\"#7201a8\"],[0.3333333333333333,\"#9c179e\"],[0.4444444444444444,\"#bd3786\"],[0.5555555555555556,\"#d8576b\"],[0.6666666666666666,\"#ed7953\"],[0.7777777777777778,\"#fb9f3a\"],[0.8888888888888888,\"#fdca26\"],[1.0,\"#f0f921\"]]}],\"surface\":[{\"type\":\"surface\",\"colorbar\":{\"outlinewidth\":0,\"ticks\":\"\"},\"colorscale\":[[0.0,\"#0d0887\"],[0.1111111111111111,\"#46039f\"],[0.2222222222222222,\"#7201a8\"],[0.3333333333333333,\"#9c179e\"],[0.4444444444444444,\"#bd3786\"],[0.5555555555555556,\"#d8576b\"],[0.6666666666666666,\"#ed7953\"],[0.7777777777777778,\"#fb9f3a\"],[0.8888888888888888,\"#fdca26\"],[1.0,\"#f0f921\"]]}],\"mesh3d\":[{\"type\":\"mesh3d\",\"colorbar\":{\"outlinewidth\":0,\"ticks\":\"\"}}],\"scatter\":[{\"fillpattern\":{\"fillmode\":\"overlay\",\"size\":10,\"solidity\":0.2},\"type\":\"scatter\"}],\"parcoords\":[{\"type\":\"parcoords\",\"line\":{\"colorbar\":{\"outlinewidth\":0,\"ticks\":\"\"}}}],\"scatterpolargl\":[{\"type\":\"scatterpolargl\",\"marker\":{\"colorbar\":{\"outlinewidth\":0,\"ticks\":\"\"}}}],\"bar\":[{\"error_x\":{\"color\":\"#2a3f5f\"},\"error_y\":{\"color\":\"#2a3f5f\"},\"marker\":{\"line\":{\"color\":\"#E5ECF6\",\"width\":0.5},\"pattern\":{\"fillmode\":\"overlay\",\"size\":10,\"solidity\":0.2}},\"type\":\"bar\"}],\"scattergeo\":[{\"type\":\"scattergeo\",\"marker\":{\"colorbar\":{\"outlinewidth\":0,\"ticks\":\"\"}}}],\"scatterpolar\":[{\"type\":\"scatterpolar\",\"marker\":{\"colorbar\":{\"outlinewidth\":0,\"ticks\":\"\"}}}],\"histogram\":[{\"marker\":{\"pattern\":{\"fillmode\":\"overlay\",\"size\":10,\"solidity\":0.2}},\"type\":\"histogram\"}],\"scattergl\":[{\"type\":\"scattergl\",\"marker\":{\"colorbar\":{\"outlinewidth\":0,\"ticks\":\"\"}}}],\"scatter3d\":[{\"type\":\"scatter3d\",\"line\":{\"colorbar\":{\"outlinewidth\":0,\"ticks\":\"\"}},\"marker\":{\"colorbar\":{\"outlinewidth\":0,\"ticks\":\"\"}}}],\"scattermapbox\":[{\"type\":\"scattermapbox\",\"marker\":{\"colorbar\":{\"outlinewidth\":0,\"ticks\":\"\"}}}],\"scatterternary\":[{\"type\":\"scatterternary\",\"marker\":{\"colorbar\":{\"outlinewidth\":0,\"ticks\":\"\"}}}],\"scattercarpet\":[{\"type\":\"scattercarpet\",\"marker\":{\"colorbar\":{\"outlinewidth\":0,\"ticks\":\"\"}}}],\"carpet\":[{\"aaxis\":{\"endlinecolor\":\"#2a3f5f\",\"gridcolor\":\"white\",\"linecolor\":\"white\",\"minorgridcolor\":\"white\",\"startlinecolor\":\"#2a3f5f\"},\"baxis\":{\"endlinecolor\":\"#2a3f5f\",\"gridcolor\":\"white\",\"linecolor\":\"white\",\"minorgridcolor\":\"white\",\"startlinecolor\":\"#2a3f5f\"},\"type\":\"carpet\"}],\"table\":[{\"cells\":{\"fill\":{\"color\":\"#EBF0F8\"},\"line\":{\"color\":\"white\"}},\"header\":{\"fill\":{\"color\":\"#C8D4E3\"},\"line\":{\"color\":\"white\"}},\"type\":\"table\"}],\"barpolar\":[{\"marker\":{\"line\":{\"color\":\"#E5ECF6\",\"width\":0.5},\"pattern\":{\"fillmode\":\"overlay\",\"size\":10,\"solidity\":0.2}},\"type\":\"barpolar\"}],\"pie\":[{\"automargin\":true,\"type\":\"pie\"}]},\"layout\":{\"autotypenumbers\":\"strict\",\"colorway\":[\"#636efa\",\"#EF553B\",\"#00cc96\",\"#ab63fa\",\"#FFA15A\",\"#19d3f3\",\"#FF6692\",\"#B6E880\",\"#FF97FF\",\"#FECB52\"],\"font\":{\"color\":\"#2a3f5f\"},\"hovermode\":\"closest\",\"hoverlabel\":{\"align\":\"left\"},\"paper_bgcolor\":\"white\",\"plot_bgcolor\":\"#E5ECF6\",\"polar\":{\"bgcolor\":\"#E5ECF6\",\"angularaxis\":{\"gridcolor\":\"white\",\"linecolor\":\"white\",\"ticks\":\"\"},\"radialaxis\":{\"gridcolor\":\"white\",\"linecolor\":\"white\",\"ticks\":\"\"}},\"ternary\":{\"bgcolor\":\"#E5ECF6\",\"aaxis\":{\"gridcolor\":\"white\",\"linecolor\":\"white\",\"ticks\":\"\"},\"baxis\":{\"gridcolor\":\"white\",\"linecolor\":\"white\",\"ticks\":\"\"},\"caxis\":{\"gridcolor\":\"white\",\"linecolor\":\"white\",\"ticks\":\"\"}},\"coloraxis\":{\"colorbar\":{\"outlinewidth\":0,\"ticks\":\"\"}},\"colorscale\":{\"sequential\":[[0.0,\"#0d0887\"],[0.1111111111111111,\"#46039f\"],[0.2222222222222222,\"#7201a8\"],[0.3333333333333333,\"#9c179e\"],[0.4444444444444444,\"#bd3786\"],[0.5555555555555556,\"#d8576b\"],[0.6666666666666666,\"#ed7953\"],[0.7777777777777778,\"#fb9f3a\"],[0.8888888888888888,\"#fdca26\"],[1.0,\"#f0f921\"]],\"sequentialminus\":[[0.0,\"#0d0887\"],[0.1111111111111111,\"#46039f\"],[0.2222222222222222,\"#7201a8\"],[0.3333333333333333,\"#9c179e\"],[0.4444444444444444,\"#bd3786\"],[0.5555555555555556,\"#d8576b\"],[0.6666666666666666,\"#ed7953\"],[0.7777777777777778,\"#fb9f3a\"],[0.8888888888888888,\"#fdca26\"],[1.0,\"#f0f921\"]],\"diverging\":[[0,\"#8e0152\"],[0.1,\"#c51b7d\"],[0.2,\"#de77ae\"],[0.3,\"#f1b6da\"],[0.4,\"#fde0ef\"],[0.5,\"#f7f7f7\"],[0.6,\"#e6f5d0\"],[0.7,\"#b8e186\"],[0.8,\"#7fbc41\"],[0.9,\"#4d9221\"],[1,\"#276419\"]]},\"xaxis\":{\"gridcolor\":\"white\",\"linecolor\":\"white\",\"ticks\":\"\",\"title\":{\"standoff\":15},\"zerolinecolor\":\"white\",\"automargin\":true,\"zerolinewidth\":2},\"yaxis\":{\"gridcolor\":\"white\",\"linecolor\":\"white\",\"ticks\":\"\",\"title\":{\"standoff\":15},\"zerolinecolor\":\"white\",\"automargin\":true,\"zerolinewidth\":2},\"scene\":{\"xaxis\":{\"backgroundcolor\":\"#E5ECF6\",\"gridcolor\":\"white\",\"linecolor\":\"white\",\"showbackground\":true,\"ticks\":\"\",\"zerolinecolor\":\"white\",\"gridwidth\":2},\"yaxis\":{\"backgroundcolor\":\"#E5ECF6\",\"gridcolor\":\"white\",\"linecolor\":\"white\",\"showbackground\":true,\"ticks\":\"\",\"zerolinecolor\":\"white\",\"gridwidth\":2},\"zaxis\":{\"backgroundcolor\":\"#E5ECF6\",\"gridcolor\":\"white\",\"linecolor\":\"white\",\"showbackground\":true,\"ticks\":\"\",\"zerolinecolor\":\"white\",\"gridwidth\":2}},\"shapedefaults\":{\"line\":{\"color\":\"#2a3f5f\"}},\"annotationdefaults\":{\"arrowcolor\":\"#2a3f5f\",\"arrowhead\":0,\"arrowwidth\":1},\"geo\":{\"bgcolor\":\"white\",\"landcolor\":\"#E5ECF6\",\"subunitcolor\":\"white\",\"showland\":true,\"showlakes\":true,\"lakecolor\":\"white\"},\"title\":{\"x\":0.05},\"mapbox\":{\"style\":\"light\"}}},\"geo\":{\"domain\":{\"x\":[0.0,1.0],\"y\":[0.0,1.0]},\"projection\":{\"type\":\"natural earth\"},\"center\":{},\"fitbounds\":\"locations\",\"showcountries\":true,\"countrycolor\":\"RebeccaPurple\"},\"legend\":{\"title\":{\"text\":\"vesselId\"},\"tracegroupgap\":0},\"title\":{\"text\":\"Vessel Movements Over Time\",\"font\":{\"size\":20}},\"margin\":{\"r\":0,\"t\":30,\"l\":0,\"b\":0},\"coloraxis\":{\"colorbar\":{\"title\":{\"text\":\"Vessel ID\"}}}},                        {\"responsive\": true}                    ).then(function(){\n",
       "                            \n",
       "var gd = document.getElementById('02a91898-b3b4-4ed0-ba2a-d2be693cc063');\n",
       "var x = new MutationObserver(function (mutations, observer) {{\n",
       "        var display = window.getComputedStyle(gd).display;\n",
       "        if (!display || display === 'none') {{\n",
       "            console.log([gd, 'removed!']);\n",
       "            Plotly.purge(gd);\n",
       "            observer.disconnect();\n",
       "        }}\n",
       "}});\n",
       "\n",
       "// Listen for the removal of the full notebook cells\n",
       "var notebookContainer = gd.closest('#notebook-container');\n",
       "if (notebookContainer) {{\n",
       "    x.observe(notebookContainer, {childList: true});\n",
       "}}\n",
       "\n",
       "// Listen for the clearing of the current output cell\n",
       "var outputEl = gd.closest('.output');\n",
       "if (outputEl) {{\n",
       "    x.observe(outputEl, {childList: true});\n",
       "}}\n",
       "\n",
       "                        })                };                });            </script>        </div>"
      ]
     },
     "metadata": {},
     "output_type": "display_data"
    }
   ],
   "source": [
    "fig = visualize_vessel_movements(\n",
    "    train_df[\n",
    "        (train_df[\"vesselId\"] == vessel)\n",
    "        & (train_df[\"time\"] > train_df[\"time\"].max() - pd.Timedelta(\"5d\"))\n",
    "    ],\n",
    "    lat_col=\"latitude\",\n",
    "    lng_col=\"longitude\",\n",
    ")\n",
    "fig.show()"
   ]
  },
  {
   "cell_type": "code",
   "execution_count": 87,
   "metadata": {
    "tags": []
   },
   "outputs": [
    {
     "data": {
      "application/vnd.plotly.v1+json": {
       "config": {
        "plotlyServerURL": "https://plot.ly"
       },
       "data": [
        {
         "customdata": [
          [
           "2024-05-08T00:19:18",
           50.022789001464844,
           -2.359675168991089
          ],
          [
           "2024-05-08T00:21:48",
           50.02365493774414,
           -2.3609089851379395
          ],
          [
           "2024-05-08T01:14:19",
           50.07394027709961,
           -2.575458526611328
          ],
          [
           "2024-05-08T01:33:00",
           50.113433837890625,
           -2.6301510334014893
          ],
          [
           "2024-05-08T01:46:06",
           50.132713317871094,
           -2.6889047622680664
          ],
          [
           "2024-05-08T02:16:18",
           50.13289260864258,
           -2.832087993621826
          ],
          [
           "2024-05-08T02:37:06",
           50.09311294555664,
           -2.9225547313690186
          ],
          [
           "2024-05-08T02:57:19",
           50.06367492675781,
           -2.9725615978240967
          ],
          [
           "2024-05-08T03:18:14",
           50.06989288330078,
           -3.026416063308716
          ],
          [
           "2024-05-08T03:38:44",
           50.120975494384766,
           -3.083540916442871
          ],
          [
           "2024-05-08T03:59:15",
           50.13275146484375,
           -3.172898292541504
          ],
          [
           "2024-05-08T04:19:15",
           50.11650466918945,
           -3.269788980484009
          ],
          [
           "2024-05-08T04:39:34",
           50.07615661621094,
           -3.351243019104004
          ],
          [
           "2024-05-08T04:59:54",
           50.05870819091797,
           -3.3850741386413574
          ],
          [
           "2024-05-08T05:14:54",
           50.080291748046875,
           -3.4621241092681885
          ],
          [
           "2024-05-08T05:35:14",
           50.13270950317383,
           -3.5638809204101562
          ],
          [
           "2024-05-08T05:47:34",
           50.147281646728516,
           -3.63980770111084
          ],
          [
           "2024-05-08T06:17:14",
           50.13283920288086,
           -3.8293228149414062
          ],
          [
           "2024-05-08T06:37:45",
           50.08932113647461,
           -3.910161018371582
          ],
          [
           "2024-05-08T06:58:15",
           50.04292678833008,
           -4.001106262207031
          ],
          [
           "2024-05-08T07:19:13",
           49.97211837768555,
           -4.078855514526367
          ],
          [
           "2024-05-08T07:39:54",
           49.91377258300781,
           -4.16901969909668
          ],
          [
           "2024-05-08T07:55:00",
           49.870155334472656,
           -4.211450099945068
          ],
          [
           "2024-05-08T08:15:00",
           49.79817581176758,
           -4.310742378234863
          ],
          [
           "2024-05-08T08:35:12",
           49.74677276611328,
           -4.3765106201171875
          ],
          [
           "2024-05-08T08:56:13",
           49.658546447753906,
           -4.489902973175049
          ],
          [
           "2024-05-08T09:16:36",
           49.563961029052734,
           -4.553340911865234
          ],
          [
           "2024-05-08T09:37:18",
           49.40448760986328,
           -4.635128498077393
          ],
          [
           "2024-05-08T09:54:41",
           49.392940521240234,
           -4.747687816619873
          ],
          [
           "2024-05-08T10:14:08",
           49.45682907104492,
           -4.884558200836182
          ],
          [
           "2024-05-08T10:39:06",
           49.48496627807617,
           -4.984841346740723
          ],
          [
           "2024-05-08T11:10:20",
           49.47470474243164,
           -5.144734859466553
          ],
          [
           "2024-05-08T12:09:07",
           49.46718978881836,
           -5.538301467895508
          ],
          [
           "2024-05-08T17:26:31",
           49.85476303100586,
           -7.276738166809082
          ],
          [
           "2024-05-08T17:52:12",
           49.88142013549805,
           -7.367016792297363
          ],
          [
           "2024-05-08T18:15:00",
           49.92781448364258,
           -7.486347198486328
          ],
          [
           "2024-05-08T18:33:01",
           49.935813903808594,
           -7.493014335632324
          ],
          [
           "2024-05-08T18:55:36",
           49.98872375488281,
           -7.4182963371276855
          ],
          [
           "2024-05-08T19:16:37",
           50.06726837158203,
           -7.410689830780029
          ],
          [
           "2024-05-08T19:36:48",
           50.176788330078125,
           -7.43655252456665
          ],
          [
           "2024-05-08T19:56:06",
           50.28256607055664,
           -7.437900543212891
          ],
          [
           "2024-05-08T20:14:43",
           50.35551452636719,
           -7.436712265014648
          ],
          [
           "2024-05-09T07:10:36",
           51.53091049194336,
           -6.843469619750977
          ],
          [
           "2024-05-09T07:38:19",
           51.65495300292969,
           -6.749985218048096
          ],
          [
           "2024-05-09T07:43:55",
           51.743370056152344,
           -6.798699378967285
          ],
          [
           "2024-05-09T08:19:37",
           52.03789520263672,
           -6.919175624847412
          ],
          [
           "2024-05-09T08:34:48",
           52.08494567871094,
           -6.805897235870361
          ],
          [
           "2024-05-09T08:55:00",
           52.169734954833984,
           -6.6956682205200195
          ],
          [
           "2024-05-09T09:15:18",
           52.20582962036133,
           -6.470582962036133
          ],
          [
           "2024-05-09T09:35:36",
           52.23823165893555,
           -6.441659927368164
          ],
          [
           "2024-05-09T09:55:00",
           52.32725524902344,
           -6.506247043609619
          ],
          [
           "2024-05-09T10:15:55",
           52.36176681518555,
           -6.624222278594971
          ],
          [
           "2024-05-09T10:36:55",
           52.32319259643555,
           -6.680017471313477
          ],
          [
           "2024-05-09T10:57:26",
           52.20353698730469,
           -6.671855449676514
          ],
          [
           "2024-05-09T11:17:56",
           52.184940338134766,
           -6.529538631439209
          ],
          [
           "2024-05-09T11:38:37",
           52.10251235961914,
           -6.453937530517578
          ],
          [
           "2024-05-09T11:58:45",
           52.049041748046875,
           -6.4864373207092285
          ],
          [
           "2024-05-09T12:19:16",
           51.95705795288086,
           -6.603789329528809
          ],
          [
           "2024-05-09T12:39:35",
           51.9493522644043,
           -6.655844211578369
          ],
          [
           "2024-05-09T12:54:56",
           51.90874481201172,
           -6.674363613128662
          ],
          [
           "2024-05-09T13:14:57",
           51.85437774658203,
           -6.553196430206299
          ],
          [
           "2024-05-09T13:23:37",
           51.89469528198242,
           -6.504105567932129
          ],
          [
           "2024-05-09T13:55:37",
           51.970706939697266,
           -6.406008243560791
          ],
          [
           "2024-05-09T14:14:24",
           52.00767135620117,
           -6.3918561935424805
          ],
          [
           "2024-05-09T14:32:23",
           52.049407958984375,
           -6.3972344398498535
          ],
          [
           "2024-05-09T14:56:23",
           52.134124755859375,
           -6.434095859527588
          ],
          [
           "2024-05-09T15:14:23",
           52.147884368896484,
           -6.520049095153809
          ],
          [
           "2024-05-09T15:32:23",
           52.08544921875,
           -6.653334617614746
          ],
          [
           "2024-05-09T15:56:24",
           52.05562210083008,
           -6.713696479797363
          ],
          [
           "2024-05-09T16:14:25",
           52.06726837158203,
           -6.666687488555908
          ],
          [
           "2024-05-09T16:38:22",
           52.09872055053711,
           -6.516261577606201
          ],
          [
           "2024-05-09T16:50:23",
           52.06373977661133,
           -6.522684574127197
          ],
          [
           "2024-05-09T17:14:23",
           52.03858184814453,
           -6.558903694152832
          ],
          [
           "2024-05-09T17:32:21",
           51.987709045410156,
           -6.649258613586426
          ],
          [
           "2024-05-09T17:44:23",
           51.979583740234375,
           -6.6550188064575195
          ],
          [
           "2024-05-09T18:14:21",
           51.97162628173828,
           -6.645124435424805
          ],
          [
           "2024-05-09T18:26:25",
           52.004478454589844,
           -6.559272289276123
          ],
          [
           "2024-05-09T18:56:22",
           52.06541061401367,
           -6.478236675262451
          ],
          [
           "2024-05-09T19:08:21",
           52.107791900634766,
           -6.515710353851318
          ],
          [
           "2024-05-09T19:32:27",
           52.15355682373047,
           -6.6511640548706055
          ],
          [
           "2024-05-09T19:50:28",
           52.146324157714844,
           -6.661264896392822
          ],
          [
           "2024-05-09T20:08:22",
           52.087677001953125,
           -6.635000228881836
          ],
          [
           "2024-05-09T20:44:27",
           52.007572174072266,
           -6.501779556274414
          ],
          [
           "2024-05-09T21:15:03",
           51.95571517944336,
           -6.479637622833252
          ],
          [
           "2024-05-09T21:24:03",
           51.99027633666992,
           -6.519460678100586
          ],
          [
           "2024-05-09T21:56:05",
           52.07609176635742,
           -6.638659954071045
          ],
          [
           "2024-05-09T22:14:44",
           52.14491271972656,
           -6.643581867218018
          ],
          [
           "2024-05-09T22:36:23",
           52.1661491394043,
           -6.522826671600342
          ],
          [
           "2024-05-09T22:58:34",
           52.09413146972656,
           -6.465147495269775
          ],
          [
           "2024-05-09T23:18:43",
           52.0528450012207,
           -6.4994330406188965
          ],
          [
           "2024-05-09T23:39:13",
           52.05860900878906,
           -6.6296844482421875
          ],
          [
           "2024-05-09T23:59:43",
           52.0902099609375,
           -6.7121171951293945
          ],
          [
           "2024-05-10T00:19:55",
           52.16183090209961,
           -6.688059329986572
          ],
          [
           "2024-05-10T00:34:43",
           52.15778732299805,
           -6.509586334228516
          ],
          [
           "2024-05-10T00:55:13",
           52.09475326538086,
           -6.413507461547852
          ],
          [
           "2024-05-10T00:58:34",
           52.07781219482422,
           -6.467955112457275
          ],
          [
           "2024-05-10T18:26:18",
           50.81570816040039,
           -6.674137592315674
          ],
          [
           "2024-05-10T23:31:23",
           49.868770599365234,
           -6.118067264556885
          ],
          [
           "2024-05-10T23:57:23",
           49.80249786376953,
           -5.985398769378662
          ],
          [
           "2024-05-11T00:17:54",
           49.73664474487305,
           -5.866572380065918
          ],
          [
           "2024-05-11T00:38:24",
           49.66730880737305,
           -5.756796836853027
          ],
          [
           "2024-05-11T00:58:44",
           49.54222869873047,
           -5.567047119140625
          ],
          [
           "2024-05-11T01:11:03",
           49.43408966064453,
           -5.4051079750061035
          ],
          [
           "2024-05-11T04:37:43",
           49.24821090698242,
           -3.9544599056243896
          ],
          [
           "2024-05-11T04:59:35",
           49.31655502319336,
           -3.7728636264801025
          ],
          [
           "2024-05-11T05:13:34",
           49.31989669799805,
           -3.6748905181884766
          ],
          [
           "2024-05-11T05:19:44",
           49.290218353271484,
           -3.6329543590545654
          ],
          [
           "2024-05-11T05:44:34",
           49.185420989990234,
           -3.4953012466430664
          ],
          [
           "2024-05-11T06:16:14",
           49.20566177368164,
           -3.2551016807556152
          ],
          [
           "2024-05-11T06:36:53",
           49.31621170043945,
           -3.14782452583313
          ],
          [
           "2024-05-11T06:57:15",
           49.34343719482422,
           -3.1108179092407227
          ],
          [
           "2024-05-11T07:17:53",
           49.33897018432617,
           -3.016629695892334
          ],
          [
           "2024-05-11T07:38:13",
           49.258399963378906,
           -2.9144203662872314
          ],
          [
           "2024-05-11T07:58:33",
           49.24032974243164,
           -2.8293917179107666
          ],
          [
           "2024-05-11T08:19:24",
           49.266483306884766,
           -2.716125011444092
          ],
          [
           "2024-05-11T08:39:53",
           49.32196807861328,
           -2.665476083755493
          ],
          [
           "2024-05-11T08:59:54",
           49.32509231567383,
           -2.564845561981201
          ],
          [
           "2024-05-11T09:15:04",
           49.27299880981445,
           -2.469296932220459
          ],
          [
           "2024-05-11T09:35:54",
           49.286834716796875,
           -2.4058384895324707
          ],
          [
           "2024-05-11T09:47:34",
           49.353153228759766,
           -2.3236238956451416
          ],
          [
           "2024-05-11T10:17:04",
           49.40598678588867,
           -2.1198768615722656
          ],
          [
           "2024-05-11T10:37:13",
           49.536041259765625,
           -1.9430785179138184
          ],
          [
           "2024-05-11T10:57:33",
           49.59020233154297,
           -1.8550045490264893
          ],
          [
           "2024-05-11T11:18:03",
           49.67063522338867,
           -1.7420408725738525
          ],
          [
           "2024-05-11T11:38:13",
           49.77838134765625,
           -1.6276006698608398
          ],
          [
           "2024-05-11T11:58:54",
           49.87285614013672,
           -1.485634446144104
          ],
          [
           "2024-05-11T12:19:33",
           49.91732406616211,
           -1.360832929611206
          ],
          [
           "2024-05-11T12:39:53",
           49.94108200073242,
           -1.2157249450683594
          ],
          [
           "2024-05-11T12:55:03",
           49.973228454589844,
           -1.1916974782943726
          ],
          [
           "2024-05-11T13:15:13",
           50.01917266845703,
           -1.1249269247055054
          ],
          [
           "2024-05-11T13:36:14",
           50.059654235839844,
           -1.1012767553329468
          ],
          [
           "2024-05-11T13:56:54",
           50.1457405090332,
           -1.0994406938552856
          ],
          [
           "2024-05-11T14:17:23",
           50.17756652832031,
           -1.094528317451477
          ],
          [
           "2024-05-11T14:38:15",
           50.22959518432617,
           -1.0770201683044434
          ],
          [
           "2024-05-11T14:58:33",
           50.228878021240234,
           -1.0758646726608276
          ],
          [
           "2024-05-11T15:19:13",
           50.19309997558594,
           -1.0679315328598022
          ],
          [
           "2024-05-11T15:39:13",
           50.15867233276367,
           -1.1176220178604126
          ],
          [
           "2024-05-11T15:59:14",
           50.18027877807617,
           -1.1143296957015991
          ],
          [
           "2024-05-11T16:19:53",
           50.21449279785156,
           -1.0847804546356201
          ],
          [
           "2024-05-11T16:34:54",
           50.20885467529297,
           -1.0547479391098022
          ],
          [
           "2024-05-11T16:55:03",
           50.17841339111328,
           -0.9830309748649597
          ],
          [
           "2024-05-11T17:15:04",
           50.174232482910156,
           -0.960472583770752
          ],
          [
           "2024-05-11T17:35:23",
           50.18363571166992,
           -0.9562169313430786
          ],
          [
           "2024-05-11T17:51:53",
           50.206939697265625,
           -0.9781179428100586
          ],
          [
           "2024-05-11T18:17:03",
           50.210060119628906,
           -0.9908217787742615
          ],
          [
           "2024-05-11T18:36:53",
           50.215091705322266,
           -0.9775651097297668
          ],
          [
           "2024-05-11T18:58:23",
           50.208518981933594,
           -0.9622625112533569
          ],
          [
           "2024-05-11T19:09:34",
           50.19001388549805,
           -0.9834046959877014
          ],
          [
           "2024-05-11T20:11:24",
           50.13859939575195,
           -1.0730385780334473
          ],
          [
           "2024-05-11T20:35:24",
           50.113704681396484,
           -1.0755202770233154
          ],
          [
           "2024-05-11T20:56:14",
           50.061180114746094,
           -1.082979679107666
          ],
          [
           "2024-05-11T21:17:16",
           50.06140899658203,
           -1.1529161930084229
          ],
          [
           "2024-05-11T21:37:38",
           50.09589385986328,
           -1.201286792755127
          ],
          [
           "2024-05-11T21:58:10",
           50.12569046020508,
           -1.2145593166351318
          ],
          [
           "2024-05-11T22:18:40",
           50.117122650146484,
           -1.2530080080032349
          ],
          [
           "2024-05-11T22:39:19",
           50.070945739746094,
           -1.2335284948349
          ],
          [
           "2024-05-11T22:59:50",
           50.07299041748047,
           -1.1892544031143188
          ],
          [
           "2024-05-11T23:14:59",
           50.124855041503906,
           -1.1174752712249756
          ],
          [
           "2024-05-11T23:35:20",
           50.149261474609375,
           -1.0425633192062378
          ],
          [
           "2024-05-11T23:55:50",
           50.125606536865234,
           -0.9654960632324219
          ],
          [
           "2024-05-12T00:16:19",
           50.078277587890625,
           -0.9403473138809204
          ],
          [
           "2024-05-12T00:37:19",
           50.07444763183594,
           -0.9075692296028137
          ],
          [
           "2024-05-12T00:58:16",
           50.0711669921875,
           -0.8403612375259399
          ],
          [
           "2024-05-12T01:18:39",
           50.08930969238281,
           -0.7898826003074646
          ],
          [
           "2024-05-12T01:39:22",
           50.12662887573242,
           -0.738922119140625
          ],
          [
           "2024-05-12T01:59:47",
           50.1346321105957,
           -0.6748467087745667
          ],
          [
           "2024-05-12T02:19:57",
           50.12525939941406,
           -0.6252472400665283
          ],
          [
           "2024-05-12T02:34:57",
           50.08526611328125,
           -0.5964239835739136
          ],
          [
           "2024-05-12T02:55:18",
           50.0775032043457,
           -0.5750259160995483
          ],
          [
           "2024-05-12T03:15:27",
           50.089969635009766,
           -0.5269591808319092
          ],
          [
           "2024-05-12T03:34:50",
           50.1255989074707,
           -0.4783957600593567
          ],
          [
           "2024-05-12T03:55:47",
           50.1315803527832,
           -0.47081851959228516
          ],
          [
           "2024-05-12T04:13:48",
           50.1231689453125,
           -0.452875554561615
          ],
          [
           "2024-05-12T04:34:50",
           50.101871490478516,
           -0.4309290647506714
          ],
          [
           "2024-05-12T04:55:47",
           50.09942626953125,
           -0.4229556918144226
          ],
          [
           "2024-05-12T05:16:46",
           50.08070755004883,
           -0.4248465895652771
          ],
          [
           "2024-05-12T05:37:48",
           50.068660736083984,
           -0.43098610639572144
          ],
          [
           "2024-05-12T05:58:49",
           50.082950592041016,
           -0.4634994864463806
          ],
          [
           "2024-05-12T06:13:45",
           50.1246452331543,
           -0.464972585439682
          ],
          [
           "2024-05-12T06:34:50",
           50.134674072265625,
           -0.40074673295021057
          ],
          [
           "2024-05-12T06:52:49",
           50.12648391723633,
           -0.39797118306159973
          ],
          [
           "2024-05-12T07:13:51",
           50.07804489135742,
           -0.3386112153530121
          ],
          [
           "2024-05-12T07:34:49",
           50.0706901550293,
           -0.31218263506889343
          ],
          [
           "2024-05-12T07:52:46",
           50.07588577270508,
           -0.27185097336769104
          ],
          [
           "2024-05-12T08:16:47",
           50.120479583740234,
           -0.22606393694877625
          ],
          [
           "2024-05-12T08:37:46",
           50.12969970703125,
           -0.18465742468833923
          ],
          [
           "2024-05-12T08:58:49",
           50.12131118774414,
           -0.15841402113437653
          ],
          [
           "2024-05-12T09:13:44",
           50.072662353515625,
           -0.07753196358680725
          ],
          [
           "2024-05-12T09:34:47",
           50.04123306274414,
           -0.029119456186890602
          ],
          [
           "2024-05-12T09:52:47",
           49.98125457763672,
           0.041818033903837204
          ],
          [
           "2024-05-12T10:14:33",
           49.97309875488281,
           0.05516239255666733
          ],
          [
           "2024-05-12T10:34:50",
           49.929378509521484,
           0.13308611512184143
          ],
          [
           "2024-05-12T10:56:32",
           49.925941467285156,
           0.20263585448265076
          ],
          [
           "2024-05-12T11:17:42",
           49.90892028808594,
           0.28312841057777405
          ],
          [
           "2024-05-12T11:38:02",
           49.86812210083008,
           0.35132157802581787
          ],
          [
           "2024-05-12T11:58:12",
           49.819419860839844,
           0.4515250027179718
          ],
          [
           "2024-05-12T12:19:16",
           49.75975799560547,
           0.5109202861785889
          ],
          [
           "2024-05-12T12:39:32",
           49.748111724853516,
           0.5870609283447266
          ],
          [
           "2024-05-12T12:54:59",
           49.71773910522461,
           0.6947996616363525
          ],
          [
           "2024-05-12T13:14:57",
           49.69822311401367,
           0.8164535164833069
          ],
          [
           "2024-05-12T13:35:07",
           49.72080612182617,
           0.9560261368751526
          ],
          [
           "2024-05-12T13:55:25",
           49.76569747924805,
           1.1150425672531128
          ],
          [
           "2024-05-12T14:13:55",
           49.831844329833984,
           1.1869690418243408
          ],
          [
           "2024-05-12T14:22:12",
           49.911251068115234,
           1.2216087579727173
          ],
          [
           "2024-05-12T18:12:54",
           50.815345764160156,
           1.5376015901565552
          ],
          [
           "2024-05-12T18:37:55",
           50.90495300292969,
           1.5744456052780151
          ],
          [
           "2024-05-12T18:53:25",
           50.9788703918457,
           1.6363918781280518
          ],
          [
           "2024-05-12T19:19:01",
           51.08702850341797,
           1.725953459739685
          ],
          [
           "2024-05-12T19:37:24",
           51.17066192626953,
           1.80078125
          ],
          [
           "2024-05-12T20:14:58",
           51.336997985839844,
           1.9757155179977417
          ],
          [
           "2024-05-12T20:15:18",
           51.358314514160156,
           2.014012336730957
          ],
          [
           "2024-05-12T21:36:39",
           51.40771484375,
           2.642827272415161
          ],
          [
           "2024-05-12T21:56:59",
           51.42356491088867,
           2.721409797668457
          ],
          [
           "2024-05-12T22:17:19",
           51.4171142578125,
           2.811415672302246
          ],
          [
           "2024-05-12T22:37:29",
           51.40314483642578,
           2.918250560760498
          ],
          [
           "2024-05-12T22:57:59",
           51.38685989379883,
           3.0060462951660156
          ],
          [
           "2024-05-12T23:17:59",
           51.37814712524414,
           3.136733293533325
          ],
          [
           "2024-05-12T23:39:10",
           51.380096435546875,
           3.227125883102417
          ],
          [
           "2024-05-12T23:59:52",
           51.36497116088867,
           3.3427891731262207
          ]
         ],
         "geo": "geo",
         "hovertemplate": "<b>%{hovertext}</b><br><br>vesselId=61e9f415b937134a3c4c0063<br>latitude_predicted=%{customdata[1]:.3f}<br>longitude_predicted=%{customdata[2]:.3f}<br>time=%{customdata[0]}<extra></extra>",
         "hovertext": [
          "61e9f415b937134a3c4c0063",
          "61e9f415b937134a3c4c0063",
          "61e9f415b937134a3c4c0063",
          "61e9f415b937134a3c4c0063",
          "61e9f415b937134a3c4c0063",
          "61e9f415b937134a3c4c0063",
          "61e9f415b937134a3c4c0063",
          "61e9f415b937134a3c4c0063",
          "61e9f415b937134a3c4c0063",
          "61e9f415b937134a3c4c0063",
          "61e9f415b937134a3c4c0063",
          "61e9f415b937134a3c4c0063",
          "61e9f415b937134a3c4c0063",
          "61e9f415b937134a3c4c0063",
          "61e9f415b937134a3c4c0063",
          "61e9f415b937134a3c4c0063",
          "61e9f415b937134a3c4c0063",
          "61e9f415b937134a3c4c0063",
          "61e9f415b937134a3c4c0063",
          "61e9f415b937134a3c4c0063",
          "61e9f415b937134a3c4c0063",
          "61e9f415b937134a3c4c0063",
          "61e9f415b937134a3c4c0063",
          "61e9f415b937134a3c4c0063",
          "61e9f415b937134a3c4c0063",
          "61e9f415b937134a3c4c0063",
          "61e9f415b937134a3c4c0063",
          "61e9f415b937134a3c4c0063",
          "61e9f415b937134a3c4c0063",
          "61e9f415b937134a3c4c0063",
          "61e9f415b937134a3c4c0063",
          "61e9f415b937134a3c4c0063",
          "61e9f415b937134a3c4c0063",
          "61e9f415b937134a3c4c0063",
          "61e9f415b937134a3c4c0063",
          "61e9f415b937134a3c4c0063",
          "61e9f415b937134a3c4c0063",
          "61e9f415b937134a3c4c0063",
          "61e9f415b937134a3c4c0063",
          "61e9f415b937134a3c4c0063",
          "61e9f415b937134a3c4c0063",
          "61e9f415b937134a3c4c0063",
          "61e9f415b937134a3c4c0063",
          "61e9f415b937134a3c4c0063",
          "61e9f415b937134a3c4c0063",
          "61e9f415b937134a3c4c0063",
          "61e9f415b937134a3c4c0063",
          "61e9f415b937134a3c4c0063",
          "61e9f415b937134a3c4c0063",
          "61e9f415b937134a3c4c0063",
          "61e9f415b937134a3c4c0063",
          "61e9f415b937134a3c4c0063",
          "61e9f415b937134a3c4c0063",
          "61e9f415b937134a3c4c0063",
          "61e9f415b937134a3c4c0063",
          "61e9f415b937134a3c4c0063",
          "61e9f415b937134a3c4c0063",
          "61e9f415b937134a3c4c0063",
          "61e9f415b937134a3c4c0063",
          "61e9f415b937134a3c4c0063",
          "61e9f415b937134a3c4c0063",
          "61e9f415b937134a3c4c0063",
          "61e9f415b937134a3c4c0063",
          "61e9f415b937134a3c4c0063",
          "61e9f415b937134a3c4c0063",
          "61e9f415b937134a3c4c0063",
          "61e9f415b937134a3c4c0063",
          "61e9f415b937134a3c4c0063",
          "61e9f415b937134a3c4c0063",
          "61e9f415b937134a3c4c0063",
          "61e9f415b937134a3c4c0063",
          "61e9f415b937134a3c4c0063",
          "61e9f415b937134a3c4c0063",
          "61e9f415b937134a3c4c0063",
          "61e9f415b937134a3c4c0063",
          "61e9f415b937134a3c4c0063",
          "61e9f415b937134a3c4c0063",
          "61e9f415b937134a3c4c0063",
          "61e9f415b937134a3c4c0063",
          "61e9f415b937134a3c4c0063",
          "61e9f415b937134a3c4c0063",
          "61e9f415b937134a3c4c0063",
          "61e9f415b937134a3c4c0063",
          "61e9f415b937134a3c4c0063",
          "61e9f415b937134a3c4c0063",
          "61e9f415b937134a3c4c0063",
          "61e9f415b937134a3c4c0063",
          "61e9f415b937134a3c4c0063",
          "61e9f415b937134a3c4c0063",
          "61e9f415b937134a3c4c0063",
          "61e9f415b937134a3c4c0063",
          "61e9f415b937134a3c4c0063",
          "61e9f415b937134a3c4c0063",
          "61e9f415b937134a3c4c0063",
          "61e9f415b937134a3c4c0063",
          "61e9f415b937134a3c4c0063",
          "61e9f415b937134a3c4c0063",
          "61e9f415b937134a3c4c0063",
          "61e9f415b937134a3c4c0063",
          "61e9f415b937134a3c4c0063",
          "61e9f415b937134a3c4c0063",
          "61e9f415b937134a3c4c0063",
          "61e9f415b937134a3c4c0063",
          "61e9f415b937134a3c4c0063",
          "61e9f415b937134a3c4c0063",
          "61e9f415b937134a3c4c0063",
          "61e9f415b937134a3c4c0063",
          "61e9f415b937134a3c4c0063",
          "61e9f415b937134a3c4c0063",
          "61e9f415b937134a3c4c0063",
          "61e9f415b937134a3c4c0063",
          "61e9f415b937134a3c4c0063",
          "61e9f415b937134a3c4c0063",
          "61e9f415b937134a3c4c0063",
          "61e9f415b937134a3c4c0063",
          "61e9f415b937134a3c4c0063",
          "61e9f415b937134a3c4c0063",
          "61e9f415b937134a3c4c0063",
          "61e9f415b937134a3c4c0063",
          "61e9f415b937134a3c4c0063",
          "61e9f415b937134a3c4c0063",
          "61e9f415b937134a3c4c0063",
          "61e9f415b937134a3c4c0063",
          "61e9f415b937134a3c4c0063",
          "61e9f415b937134a3c4c0063",
          "61e9f415b937134a3c4c0063",
          "61e9f415b937134a3c4c0063",
          "61e9f415b937134a3c4c0063",
          "61e9f415b937134a3c4c0063",
          "61e9f415b937134a3c4c0063",
          "61e9f415b937134a3c4c0063",
          "61e9f415b937134a3c4c0063",
          "61e9f415b937134a3c4c0063",
          "61e9f415b937134a3c4c0063",
          "61e9f415b937134a3c4c0063",
          "61e9f415b937134a3c4c0063",
          "61e9f415b937134a3c4c0063",
          "61e9f415b937134a3c4c0063",
          "61e9f415b937134a3c4c0063",
          "61e9f415b937134a3c4c0063",
          "61e9f415b937134a3c4c0063",
          "61e9f415b937134a3c4c0063",
          "61e9f415b937134a3c4c0063",
          "61e9f415b937134a3c4c0063",
          "61e9f415b937134a3c4c0063",
          "61e9f415b937134a3c4c0063",
          "61e9f415b937134a3c4c0063",
          "61e9f415b937134a3c4c0063",
          "61e9f415b937134a3c4c0063",
          "61e9f415b937134a3c4c0063",
          "61e9f415b937134a3c4c0063",
          "61e9f415b937134a3c4c0063",
          "61e9f415b937134a3c4c0063",
          "61e9f415b937134a3c4c0063",
          "61e9f415b937134a3c4c0063",
          "61e9f415b937134a3c4c0063",
          "61e9f415b937134a3c4c0063",
          "61e9f415b937134a3c4c0063",
          "61e9f415b937134a3c4c0063",
          "61e9f415b937134a3c4c0063",
          "61e9f415b937134a3c4c0063",
          "61e9f415b937134a3c4c0063",
          "61e9f415b937134a3c4c0063",
          "61e9f415b937134a3c4c0063",
          "61e9f415b937134a3c4c0063",
          "61e9f415b937134a3c4c0063",
          "61e9f415b937134a3c4c0063",
          "61e9f415b937134a3c4c0063",
          "61e9f415b937134a3c4c0063",
          "61e9f415b937134a3c4c0063",
          "61e9f415b937134a3c4c0063",
          "61e9f415b937134a3c4c0063",
          "61e9f415b937134a3c4c0063",
          "61e9f415b937134a3c4c0063",
          "61e9f415b937134a3c4c0063",
          "61e9f415b937134a3c4c0063",
          "61e9f415b937134a3c4c0063",
          "61e9f415b937134a3c4c0063",
          "61e9f415b937134a3c4c0063",
          "61e9f415b937134a3c4c0063",
          "61e9f415b937134a3c4c0063",
          "61e9f415b937134a3c4c0063",
          "61e9f415b937134a3c4c0063",
          "61e9f415b937134a3c4c0063",
          "61e9f415b937134a3c4c0063",
          "61e9f415b937134a3c4c0063",
          "61e9f415b937134a3c4c0063",
          "61e9f415b937134a3c4c0063",
          "61e9f415b937134a3c4c0063",
          "61e9f415b937134a3c4c0063",
          "61e9f415b937134a3c4c0063",
          "61e9f415b937134a3c4c0063",
          "61e9f415b937134a3c4c0063",
          "61e9f415b937134a3c4c0063",
          "61e9f415b937134a3c4c0063",
          "61e9f415b937134a3c4c0063",
          "61e9f415b937134a3c4c0063",
          "61e9f415b937134a3c4c0063",
          "61e9f415b937134a3c4c0063",
          "61e9f415b937134a3c4c0063",
          "61e9f415b937134a3c4c0063",
          "61e9f415b937134a3c4c0063",
          "61e9f415b937134a3c4c0063",
          "61e9f415b937134a3c4c0063",
          "61e9f415b937134a3c4c0063",
          "61e9f415b937134a3c4c0063",
          "61e9f415b937134a3c4c0063",
          "61e9f415b937134a3c4c0063",
          "61e9f415b937134a3c4c0063",
          "61e9f415b937134a3c4c0063",
          "61e9f415b937134a3c4c0063",
          "61e9f415b937134a3c4c0063",
          "61e9f415b937134a3c4c0063",
          "61e9f415b937134a3c4c0063",
          "61e9f415b937134a3c4c0063",
          "61e9f415b937134a3c4c0063",
          "61e9f415b937134a3c4c0063",
          "61e9f415b937134a3c4c0063",
          "61e9f415b937134a3c4c0063"
         ],
         "lat": [
          50.022789001464844,
          50.02365493774414,
          50.07394027709961,
          50.113433837890625,
          50.132713317871094,
          50.13289260864258,
          50.09311294555664,
          50.06367492675781,
          50.06989288330078,
          50.120975494384766,
          50.13275146484375,
          50.11650466918945,
          50.07615661621094,
          50.05870819091797,
          50.080291748046875,
          50.13270950317383,
          50.147281646728516,
          50.13283920288086,
          50.08932113647461,
          50.04292678833008,
          49.97211837768555,
          49.91377258300781,
          49.870155334472656,
          49.79817581176758,
          49.74677276611328,
          49.658546447753906,
          49.563961029052734,
          49.40448760986328,
          49.392940521240234,
          49.45682907104492,
          49.48496627807617,
          49.47470474243164,
          49.46718978881836,
          49.85476303100586,
          49.88142013549805,
          49.92781448364258,
          49.935813903808594,
          49.98872375488281,
          50.06726837158203,
          50.176788330078125,
          50.28256607055664,
          50.35551452636719,
          51.53091049194336,
          51.65495300292969,
          51.743370056152344,
          52.03789520263672,
          52.08494567871094,
          52.169734954833984,
          52.20582962036133,
          52.23823165893555,
          52.32725524902344,
          52.36176681518555,
          52.32319259643555,
          52.20353698730469,
          52.184940338134766,
          52.10251235961914,
          52.049041748046875,
          51.95705795288086,
          51.9493522644043,
          51.90874481201172,
          51.85437774658203,
          51.89469528198242,
          51.970706939697266,
          52.00767135620117,
          52.049407958984375,
          52.134124755859375,
          52.147884368896484,
          52.08544921875,
          52.05562210083008,
          52.06726837158203,
          52.09872055053711,
          52.06373977661133,
          52.03858184814453,
          51.987709045410156,
          51.979583740234375,
          51.97162628173828,
          52.004478454589844,
          52.06541061401367,
          52.107791900634766,
          52.15355682373047,
          52.146324157714844,
          52.087677001953125,
          52.007572174072266,
          51.95571517944336,
          51.99027633666992,
          52.07609176635742,
          52.14491271972656,
          52.1661491394043,
          52.09413146972656,
          52.0528450012207,
          52.05860900878906,
          52.0902099609375,
          52.16183090209961,
          52.15778732299805,
          52.09475326538086,
          52.07781219482422,
          50.81570816040039,
          49.868770599365234,
          49.80249786376953,
          49.73664474487305,
          49.66730880737305,
          49.54222869873047,
          49.43408966064453,
          49.24821090698242,
          49.31655502319336,
          49.31989669799805,
          49.290218353271484,
          49.185420989990234,
          49.20566177368164,
          49.31621170043945,
          49.34343719482422,
          49.33897018432617,
          49.258399963378906,
          49.24032974243164,
          49.266483306884766,
          49.32196807861328,
          49.32509231567383,
          49.27299880981445,
          49.286834716796875,
          49.353153228759766,
          49.40598678588867,
          49.536041259765625,
          49.59020233154297,
          49.67063522338867,
          49.77838134765625,
          49.87285614013672,
          49.91732406616211,
          49.94108200073242,
          49.973228454589844,
          50.01917266845703,
          50.059654235839844,
          50.1457405090332,
          50.17756652832031,
          50.22959518432617,
          50.228878021240234,
          50.19309997558594,
          50.15867233276367,
          50.18027877807617,
          50.21449279785156,
          50.20885467529297,
          50.17841339111328,
          50.174232482910156,
          50.18363571166992,
          50.206939697265625,
          50.210060119628906,
          50.215091705322266,
          50.208518981933594,
          50.19001388549805,
          50.13859939575195,
          50.113704681396484,
          50.061180114746094,
          50.06140899658203,
          50.09589385986328,
          50.12569046020508,
          50.117122650146484,
          50.070945739746094,
          50.07299041748047,
          50.124855041503906,
          50.149261474609375,
          50.125606536865234,
          50.078277587890625,
          50.07444763183594,
          50.0711669921875,
          50.08930969238281,
          50.12662887573242,
          50.1346321105957,
          50.12525939941406,
          50.08526611328125,
          50.0775032043457,
          50.089969635009766,
          50.1255989074707,
          50.1315803527832,
          50.1231689453125,
          50.101871490478516,
          50.09942626953125,
          50.08070755004883,
          50.068660736083984,
          50.082950592041016,
          50.1246452331543,
          50.134674072265625,
          50.12648391723633,
          50.07804489135742,
          50.0706901550293,
          50.07588577270508,
          50.120479583740234,
          50.12969970703125,
          50.12131118774414,
          50.072662353515625,
          50.04123306274414,
          49.98125457763672,
          49.97309875488281,
          49.929378509521484,
          49.925941467285156,
          49.90892028808594,
          49.86812210083008,
          49.819419860839844,
          49.75975799560547,
          49.748111724853516,
          49.71773910522461,
          49.69822311401367,
          49.72080612182617,
          49.76569747924805,
          49.831844329833984,
          49.911251068115234,
          50.815345764160156,
          50.90495300292969,
          50.9788703918457,
          51.08702850341797,
          51.17066192626953,
          51.336997985839844,
          51.358314514160156,
          51.40771484375,
          51.42356491088867,
          51.4171142578125,
          51.40314483642578,
          51.38685989379883,
          51.37814712524414,
          51.380096435546875,
          51.36497116088867
         ],
         "legendgroup": "61e9f415b937134a3c4c0063",
         "line": {
          "color": "#636EFA",
          "dash": "solid"
         },
         "lon": [
          -2.359675168991089,
          -2.3609089851379395,
          -2.575458526611328,
          -2.6301510334014893,
          -2.6889047622680664,
          -2.832087993621826,
          -2.9225547313690186,
          -2.9725615978240967,
          -3.026416063308716,
          -3.083540916442871,
          -3.172898292541504,
          -3.269788980484009,
          -3.351243019104004,
          -3.3850741386413574,
          -3.4621241092681885,
          -3.5638809204101562,
          -3.63980770111084,
          -3.8293228149414062,
          -3.910161018371582,
          -4.001106262207031,
          -4.078855514526367,
          -4.16901969909668,
          -4.211450099945068,
          -4.310742378234863,
          -4.3765106201171875,
          -4.489902973175049,
          -4.553340911865234,
          -4.635128498077393,
          -4.747687816619873,
          -4.884558200836182,
          -4.984841346740723,
          -5.144734859466553,
          -5.538301467895508,
          -7.276738166809082,
          -7.367016792297363,
          -7.486347198486328,
          -7.493014335632324,
          -7.4182963371276855,
          -7.410689830780029,
          -7.43655252456665,
          -7.437900543212891,
          -7.436712265014648,
          -6.843469619750977,
          -6.749985218048096,
          -6.798699378967285,
          -6.919175624847412,
          -6.805897235870361,
          -6.6956682205200195,
          -6.470582962036133,
          -6.441659927368164,
          -6.506247043609619,
          -6.624222278594971,
          -6.680017471313477,
          -6.671855449676514,
          -6.529538631439209,
          -6.453937530517578,
          -6.4864373207092285,
          -6.603789329528809,
          -6.655844211578369,
          -6.674363613128662,
          -6.553196430206299,
          -6.504105567932129,
          -6.406008243560791,
          -6.3918561935424805,
          -6.3972344398498535,
          -6.434095859527588,
          -6.520049095153809,
          -6.653334617614746,
          -6.713696479797363,
          -6.666687488555908,
          -6.516261577606201,
          -6.522684574127197,
          -6.558903694152832,
          -6.649258613586426,
          -6.6550188064575195,
          -6.645124435424805,
          -6.559272289276123,
          -6.478236675262451,
          -6.515710353851318,
          -6.6511640548706055,
          -6.661264896392822,
          -6.635000228881836,
          -6.501779556274414,
          -6.479637622833252,
          -6.519460678100586,
          -6.638659954071045,
          -6.643581867218018,
          -6.522826671600342,
          -6.465147495269775,
          -6.4994330406188965,
          -6.6296844482421875,
          -6.7121171951293945,
          -6.688059329986572,
          -6.509586334228516,
          -6.413507461547852,
          -6.467955112457275,
          -6.674137592315674,
          -6.118067264556885,
          -5.985398769378662,
          -5.866572380065918,
          -5.756796836853027,
          -5.567047119140625,
          -5.4051079750061035,
          -3.9544599056243896,
          -3.7728636264801025,
          -3.6748905181884766,
          -3.6329543590545654,
          -3.4953012466430664,
          -3.2551016807556152,
          -3.14782452583313,
          -3.1108179092407227,
          -3.016629695892334,
          -2.9144203662872314,
          -2.8293917179107666,
          -2.716125011444092,
          -2.665476083755493,
          -2.564845561981201,
          -2.469296932220459,
          -2.4058384895324707,
          -2.3236238956451416,
          -2.1198768615722656,
          -1.9430785179138184,
          -1.8550045490264893,
          -1.7420408725738525,
          -1.6276006698608398,
          -1.485634446144104,
          -1.360832929611206,
          -1.2157249450683594,
          -1.1916974782943726,
          -1.1249269247055054,
          -1.1012767553329468,
          -1.0994406938552856,
          -1.094528317451477,
          -1.0770201683044434,
          -1.0758646726608276,
          -1.0679315328598022,
          -1.1176220178604126,
          -1.1143296957015991,
          -1.0847804546356201,
          -1.0547479391098022,
          -0.9830309748649597,
          -0.960472583770752,
          -0.9562169313430786,
          -0.9781179428100586,
          -0.9908217787742615,
          -0.9775651097297668,
          -0.9622625112533569,
          -0.9834046959877014,
          -1.0730385780334473,
          -1.0755202770233154,
          -1.082979679107666,
          -1.1529161930084229,
          -1.201286792755127,
          -1.2145593166351318,
          -1.2530080080032349,
          -1.2335284948349,
          -1.1892544031143188,
          -1.1174752712249756,
          -1.0425633192062378,
          -0.9654960632324219,
          -0.9403473138809204,
          -0.9075692296028137,
          -0.8403612375259399,
          -0.7898826003074646,
          -0.738922119140625,
          -0.6748467087745667,
          -0.6252472400665283,
          -0.5964239835739136,
          -0.5750259160995483,
          -0.5269591808319092,
          -0.4783957600593567,
          -0.47081851959228516,
          -0.452875554561615,
          -0.4309290647506714,
          -0.4229556918144226,
          -0.4248465895652771,
          -0.43098610639572144,
          -0.4634994864463806,
          -0.464972585439682,
          -0.40074673295021057,
          -0.39797118306159973,
          -0.3386112153530121,
          -0.31218263506889343,
          -0.27185097336769104,
          -0.22606393694877625,
          -0.18465742468833923,
          -0.15841402113437653,
          -0.07753196358680725,
          -0.029119456186890602,
          0.041818033903837204,
          0.05516239255666733,
          0.13308611512184143,
          0.20263585448265076,
          0.28312841057777405,
          0.35132157802581787,
          0.4515250027179718,
          0.5109202861785889,
          0.5870609283447266,
          0.6947996616363525,
          0.8164535164833069,
          0.9560261368751526,
          1.1150425672531128,
          1.1869690418243408,
          1.2216087579727173,
          1.5376015901565552,
          1.5744456052780151,
          1.6363918781280518,
          1.725953459739685,
          1.80078125,
          1.9757155179977417,
          2.014012336730957,
          2.642827272415161,
          2.721409797668457,
          2.811415672302246,
          2.918250560760498,
          3.0060462951660156,
          3.136733293533325,
          3.227125883102417,
          3.3427891731262207
         ],
         "marker": {
          "symbol": "circle"
         },
         "mode": "lines",
         "name": "61e9f415b937134a3c4c0063",
         "showlegend": true,
         "type": "scattergeo"
        },
        {
         "hoverinfo": "text",
         "lat": [
          50.022789001464844,
          50.02365493774414,
          50.07394027709961,
          50.113433837890625,
          50.132713317871094,
          50.13289260864258,
          50.09311294555664,
          50.06367492675781,
          50.06989288330078,
          50.120975494384766,
          50.13275146484375,
          50.11650466918945,
          50.07615661621094,
          50.05870819091797,
          50.080291748046875,
          50.13270950317383,
          50.147281646728516,
          50.13283920288086,
          50.08932113647461,
          50.04292678833008,
          49.97211837768555,
          49.91377258300781,
          49.870155334472656,
          49.79817581176758,
          49.74677276611328,
          49.658546447753906,
          49.563961029052734,
          49.40448760986328,
          49.392940521240234,
          49.45682907104492,
          49.48496627807617,
          49.47470474243164,
          49.46718978881836,
          49.85476303100586,
          49.88142013549805,
          49.92781448364258,
          49.935813903808594,
          49.98872375488281,
          50.06726837158203,
          50.176788330078125,
          50.28256607055664,
          50.35551452636719,
          51.53091049194336,
          51.65495300292969,
          51.743370056152344,
          52.03789520263672,
          52.08494567871094,
          52.169734954833984,
          52.20582962036133,
          52.23823165893555,
          52.32725524902344,
          52.36176681518555,
          52.32319259643555,
          52.20353698730469,
          52.184940338134766,
          52.10251235961914,
          52.049041748046875,
          51.95705795288086,
          51.9493522644043,
          51.90874481201172,
          51.85437774658203,
          51.89469528198242,
          51.970706939697266,
          52.00767135620117,
          52.049407958984375,
          52.134124755859375,
          52.147884368896484,
          52.08544921875,
          52.05562210083008,
          52.06726837158203,
          52.09872055053711,
          52.06373977661133,
          52.03858184814453,
          51.987709045410156,
          51.979583740234375,
          51.97162628173828,
          52.004478454589844,
          52.06541061401367,
          52.107791900634766,
          52.15355682373047,
          52.146324157714844,
          52.087677001953125,
          52.007572174072266,
          51.95571517944336,
          51.99027633666992,
          52.07609176635742,
          52.14491271972656,
          52.1661491394043,
          52.09413146972656,
          52.0528450012207,
          52.05860900878906,
          52.0902099609375,
          52.16183090209961,
          52.15778732299805,
          52.09475326538086,
          52.07781219482422,
          50.81570816040039,
          49.868770599365234,
          49.80249786376953,
          49.73664474487305,
          49.66730880737305,
          49.54222869873047,
          49.43408966064453,
          49.24821090698242,
          49.31655502319336,
          49.31989669799805,
          49.290218353271484,
          49.185420989990234,
          49.20566177368164,
          49.31621170043945,
          49.34343719482422,
          49.33897018432617,
          49.258399963378906,
          49.24032974243164,
          49.266483306884766,
          49.32196807861328,
          49.32509231567383,
          49.27299880981445,
          49.286834716796875,
          49.353153228759766,
          49.40598678588867,
          49.536041259765625,
          49.59020233154297,
          49.67063522338867,
          49.77838134765625,
          49.87285614013672,
          49.91732406616211,
          49.94108200073242,
          49.973228454589844,
          50.01917266845703,
          50.059654235839844,
          50.1457405090332,
          50.17756652832031,
          50.22959518432617,
          50.228878021240234,
          50.19309997558594,
          50.15867233276367,
          50.18027877807617,
          50.21449279785156,
          50.20885467529297,
          50.17841339111328,
          50.174232482910156,
          50.18363571166992,
          50.206939697265625,
          50.210060119628906,
          50.215091705322266,
          50.208518981933594,
          50.19001388549805,
          50.13859939575195,
          50.113704681396484,
          50.061180114746094,
          50.06140899658203,
          50.09589385986328,
          50.12569046020508,
          50.117122650146484,
          50.070945739746094,
          50.07299041748047,
          50.124855041503906,
          50.149261474609375,
          50.125606536865234,
          50.078277587890625,
          50.07444763183594,
          50.0711669921875,
          50.08930969238281,
          50.12662887573242,
          50.1346321105957,
          50.12525939941406,
          50.08526611328125,
          50.0775032043457,
          50.089969635009766,
          50.1255989074707,
          50.1315803527832,
          50.1231689453125,
          50.101871490478516,
          50.09942626953125,
          50.08070755004883,
          50.068660736083984,
          50.082950592041016,
          50.1246452331543,
          50.134674072265625,
          50.12648391723633,
          50.07804489135742,
          50.0706901550293,
          50.07588577270508,
          50.120479583740234,
          50.12969970703125,
          50.12131118774414,
          50.072662353515625,
          50.04123306274414,
          49.98125457763672,
          49.97309875488281,
          49.929378509521484,
          49.925941467285156,
          49.90892028808594,
          49.86812210083008,
          49.819419860839844,
          49.75975799560547,
          49.748111724853516,
          49.71773910522461,
          49.69822311401367,
          49.72080612182617,
          49.76569747924805,
          49.831844329833984,
          49.911251068115234,
          50.815345764160156,
          50.90495300292969,
          50.9788703918457,
          51.08702850341797,
          51.17066192626953,
          51.336997985839844,
          51.358314514160156,
          51.40771484375,
          51.42356491088867,
          51.4171142578125,
          51.40314483642578,
          51.38685989379883,
          51.37814712524414,
          51.380096435546875,
          51.36497116088867
         ],
         "lon": [
          -2.359675168991089,
          -2.3609089851379395,
          -2.575458526611328,
          -2.6301510334014893,
          -2.6889047622680664,
          -2.832087993621826,
          -2.9225547313690186,
          -2.9725615978240967,
          -3.026416063308716,
          -3.083540916442871,
          -3.172898292541504,
          -3.269788980484009,
          -3.351243019104004,
          -3.3850741386413574,
          -3.4621241092681885,
          -3.5638809204101562,
          -3.63980770111084,
          -3.8293228149414062,
          -3.910161018371582,
          -4.001106262207031,
          -4.078855514526367,
          -4.16901969909668,
          -4.211450099945068,
          -4.310742378234863,
          -4.3765106201171875,
          -4.489902973175049,
          -4.553340911865234,
          -4.635128498077393,
          -4.747687816619873,
          -4.884558200836182,
          -4.984841346740723,
          -5.144734859466553,
          -5.538301467895508,
          -7.276738166809082,
          -7.367016792297363,
          -7.486347198486328,
          -7.493014335632324,
          -7.4182963371276855,
          -7.410689830780029,
          -7.43655252456665,
          -7.437900543212891,
          -7.436712265014648,
          -6.843469619750977,
          -6.749985218048096,
          -6.798699378967285,
          -6.919175624847412,
          -6.805897235870361,
          -6.6956682205200195,
          -6.470582962036133,
          -6.441659927368164,
          -6.506247043609619,
          -6.624222278594971,
          -6.680017471313477,
          -6.671855449676514,
          -6.529538631439209,
          -6.453937530517578,
          -6.4864373207092285,
          -6.603789329528809,
          -6.655844211578369,
          -6.674363613128662,
          -6.553196430206299,
          -6.504105567932129,
          -6.406008243560791,
          -6.3918561935424805,
          -6.3972344398498535,
          -6.434095859527588,
          -6.520049095153809,
          -6.653334617614746,
          -6.713696479797363,
          -6.666687488555908,
          -6.516261577606201,
          -6.522684574127197,
          -6.558903694152832,
          -6.649258613586426,
          -6.6550188064575195,
          -6.645124435424805,
          -6.559272289276123,
          -6.478236675262451,
          -6.515710353851318,
          -6.6511640548706055,
          -6.661264896392822,
          -6.635000228881836,
          -6.501779556274414,
          -6.479637622833252,
          -6.519460678100586,
          -6.638659954071045,
          -6.643581867218018,
          -6.522826671600342,
          -6.465147495269775,
          -6.4994330406188965,
          -6.6296844482421875,
          -6.7121171951293945,
          -6.688059329986572,
          -6.509586334228516,
          -6.413507461547852,
          -6.467955112457275,
          -6.674137592315674,
          -6.118067264556885,
          -5.985398769378662,
          -5.866572380065918,
          -5.756796836853027,
          -5.567047119140625,
          -5.4051079750061035,
          -3.9544599056243896,
          -3.7728636264801025,
          -3.6748905181884766,
          -3.6329543590545654,
          -3.4953012466430664,
          -3.2551016807556152,
          -3.14782452583313,
          -3.1108179092407227,
          -3.016629695892334,
          -2.9144203662872314,
          -2.8293917179107666,
          -2.716125011444092,
          -2.665476083755493,
          -2.564845561981201,
          -2.469296932220459,
          -2.4058384895324707,
          -2.3236238956451416,
          -2.1198768615722656,
          -1.9430785179138184,
          -1.8550045490264893,
          -1.7420408725738525,
          -1.6276006698608398,
          -1.485634446144104,
          -1.360832929611206,
          -1.2157249450683594,
          -1.1916974782943726,
          -1.1249269247055054,
          -1.1012767553329468,
          -1.0994406938552856,
          -1.094528317451477,
          -1.0770201683044434,
          -1.0758646726608276,
          -1.0679315328598022,
          -1.1176220178604126,
          -1.1143296957015991,
          -1.0847804546356201,
          -1.0547479391098022,
          -0.9830309748649597,
          -0.960472583770752,
          -0.9562169313430786,
          -0.9781179428100586,
          -0.9908217787742615,
          -0.9775651097297668,
          -0.9622625112533569,
          -0.9834046959877014,
          -1.0730385780334473,
          -1.0755202770233154,
          -1.082979679107666,
          -1.1529161930084229,
          -1.201286792755127,
          -1.2145593166351318,
          -1.2530080080032349,
          -1.2335284948349,
          -1.1892544031143188,
          -1.1174752712249756,
          -1.0425633192062378,
          -0.9654960632324219,
          -0.9403473138809204,
          -0.9075692296028137,
          -0.8403612375259399,
          -0.7898826003074646,
          -0.738922119140625,
          -0.6748467087745667,
          -0.6252472400665283,
          -0.5964239835739136,
          -0.5750259160995483,
          -0.5269591808319092,
          -0.4783957600593567,
          -0.47081851959228516,
          -0.452875554561615,
          -0.4309290647506714,
          -0.4229556918144226,
          -0.4248465895652771,
          -0.43098610639572144,
          -0.4634994864463806,
          -0.464972585439682,
          -0.40074673295021057,
          -0.39797118306159973,
          -0.3386112153530121,
          -0.31218263506889343,
          -0.27185097336769104,
          -0.22606393694877625,
          -0.18465742468833923,
          -0.15841402113437653,
          -0.07753196358680725,
          -0.029119456186890602,
          0.041818033903837204,
          0.05516239255666733,
          0.13308611512184143,
          0.20263585448265076,
          0.28312841057777405,
          0.35132157802581787,
          0.4515250027179718,
          0.5109202861785889,
          0.5870609283447266,
          0.6947996616363525,
          0.8164535164833069,
          0.9560261368751526,
          1.1150425672531128,
          1.1869690418243408,
          1.2216087579727173,
          1.5376015901565552,
          1.5744456052780151,
          1.6363918781280518,
          1.725953459739685,
          1.80078125,
          1.9757155179977417,
          2.014012336730957,
          2.642827272415161,
          2.721409797668457,
          2.811415672302246,
          2.918250560760498,
          3.0060462951660156,
          3.136733293533325,
          3.227125883102417,
          3.3427891731262207
         ],
         "marker": {
          "color": "#636EFA",
          "line": {
           "color": "DarkSlateGrey",
           "width": 1
          },
          "opacity": 0.8,
          "size": 8
         },
         "mode": "markers",
         "name": "Markers for 61e9f415b937134a3c4c0063",
         "text": [
          "ID: 61e9f415b937134a3c4c0063<br>Time: 2024-05-08 00:19:18<br>Lat: 50.023<br>Lon: -2.360",
          "ID: 61e9f415b937134a3c4c0063<br>Time: 2024-05-08 00:21:48<br>Lat: 50.024<br>Lon: -2.361",
          "ID: 61e9f415b937134a3c4c0063<br>Time: 2024-05-08 01:14:19<br>Lat: 50.074<br>Lon: -2.575",
          "ID: 61e9f415b937134a3c4c0063<br>Time: 2024-05-08 01:33:00<br>Lat: 50.113<br>Lon: -2.630",
          "ID: 61e9f415b937134a3c4c0063<br>Time: 2024-05-08 01:46:06<br>Lat: 50.133<br>Lon: -2.689",
          "ID: 61e9f415b937134a3c4c0063<br>Time: 2024-05-08 02:16:18<br>Lat: 50.133<br>Lon: -2.832",
          "ID: 61e9f415b937134a3c4c0063<br>Time: 2024-05-08 02:37:06<br>Lat: 50.093<br>Lon: -2.923",
          "ID: 61e9f415b937134a3c4c0063<br>Time: 2024-05-08 02:57:19<br>Lat: 50.064<br>Lon: -2.973",
          "ID: 61e9f415b937134a3c4c0063<br>Time: 2024-05-08 03:18:14<br>Lat: 50.070<br>Lon: -3.026",
          "ID: 61e9f415b937134a3c4c0063<br>Time: 2024-05-08 03:38:44<br>Lat: 50.121<br>Lon: -3.084",
          "ID: 61e9f415b937134a3c4c0063<br>Time: 2024-05-08 03:59:15<br>Lat: 50.133<br>Lon: -3.173",
          "ID: 61e9f415b937134a3c4c0063<br>Time: 2024-05-08 04:19:15<br>Lat: 50.117<br>Lon: -3.270",
          "ID: 61e9f415b937134a3c4c0063<br>Time: 2024-05-08 04:39:34<br>Lat: 50.076<br>Lon: -3.351",
          "ID: 61e9f415b937134a3c4c0063<br>Time: 2024-05-08 04:59:54<br>Lat: 50.059<br>Lon: -3.385",
          "ID: 61e9f415b937134a3c4c0063<br>Time: 2024-05-08 05:14:54<br>Lat: 50.080<br>Lon: -3.462",
          "ID: 61e9f415b937134a3c4c0063<br>Time: 2024-05-08 05:35:14<br>Lat: 50.133<br>Lon: -3.564",
          "ID: 61e9f415b937134a3c4c0063<br>Time: 2024-05-08 05:47:34<br>Lat: 50.147<br>Lon: -3.640",
          "ID: 61e9f415b937134a3c4c0063<br>Time: 2024-05-08 06:17:14<br>Lat: 50.133<br>Lon: -3.829",
          "ID: 61e9f415b937134a3c4c0063<br>Time: 2024-05-08 06:37:45<br>Lat: 50.089<br>Lon: -3.910",
          "ID: 61e9f415b937134a3c4c0063<br>Time: 2024-05-08 06:58:15<br>Lat: 50.043<br>Lon: -4.001",
          "ID: 61e9f415b937134a3c4c0063<br>Time: 2024-05-08 07:19:13<br>Lat: 49.972<br>Lon: -4.079",
          "ID: 61e9f415b937134a3c4c0063<br>Time: 2024-05-08 07:39:54<br>Lat: 49.914<br>Lon: -4.169",
          "ID: 61e9f415b937134a3c4c0063<br>Time: 2024-05-08 07:55:00<br>Lat: 49.870<br>Lon: -4.211",
          "ID: 61e9f415b937134a3c4c0063<br>Time: 2024-05-08 08:15:00<br>Lat: 49.798<br>Lon: -4.311",
          "ID: 61e9f415b937134a3c4c0063<br>Time: 2024-05-08 08:35:12<br>Lat: 49.747<br>Lon: -4.377",
          "ID: 61e9f415b937134a3c4c0063<br>Time: 2024-05-08 08:56:13<br>Lat: 49.659<br>Lon: -4.490",
          "ID: 61e9f415b937134a3c4c0063<br>Time: 2024-05-08 09:16:36<br>Lat: 49.564<br>Lon: -4.553",
          "ID: 61e9f415b937134a3c4c0063<br>Time: 2024-05-08 09:37:18<br>Lat: 49.404<br>Lon: -4.635",
          "ID: 61e9f415b937134a3c4c0063<br>Time: 2024-05-08 09:54:41<br>Lat: 49.393<br>Lon: -4.748",
          "ID: 61e9f415b937134a3c4c0063<br>Time: 2024-05-08 10:14:08<br>Lat: 49.457<br>Lon: -4.885",
          "ID: 61e9f415b937134a3c4c0063<br>Time: 2024-05-08 10:39:06<br>Lat: 49.485<br>Lon: -4.985",
          "ID: 61e9f415b937134a3c4c0063<br>Time: 2024-05-08 11:10:20<br>Lat: 49.475<br>Lon: -5.145",
          "ID: 61e9f415b937134a3c4c0063<br>Time: 2024-05-08 12:09:07<br>Lat: 49.467<br>Lon: -5.538",
          "ID: 61e9f415b937134a3c4c0063<br>Time: 2024-05-08 17:26:31<br>Lat: 49.855<br>Lon: -7.277",
          "ID: 61e9f415b937134a3c4c0063<br>Time: 2024-05-08 17:52:12<br>Lat: 49.881<br>Lon: -7.367",
          "ID: 61e9f415b937134a3c4c0063<br>Time: 2024-05-08 18:15:00<br>Lat: 49.928<br>Lon: -7.486",
          "ID: 61e9f415b937134a3c4c0063<br>Time: 2024-05-08 18:33:01<br>Lat: 49.936<br>Lon: -7.493",
          "ID: 61e9f415b937134a3c4c0063<br>Time: 2024-05-08 18:55:36<br>Lat: 49.989<br>Lon: -7.418",
          "ID: 61e9f415b937134a3c4c0063<br>Time: 2024-05-08 19:16:37<br>Lat: 50.067<br>Lon: -7.411",
          "ID: 61e9f415b937134a3c4c0063<br>Time: 2024-05-08 19:36:48<br>Lat: 50.177<br>Lon: -7.437",
          "ID: 61e9f415b937134a3c4c0063<br>Time: 2024-05-08 19:56:06<br>Lat: 50.283<br>Lon: -7.438",
          "ID: 61e9f415b937134a3c4c0063<br>Time: 2024-05-08 20:14:43<br>Lat: 50.356<br>Lon: -7.437",
          "ID: 61e9f415b937134a3c4c0063<br>Time: 2024-05-09 07:10:36<br>Lat: 51.531<br>Lon: -6.843",
          "ID: 61e9f415b937134a3c4c0063<br>Time: 2024-05-09 07:38:19<br>Lat: 51.655<br>Lon: -6.750",
          "ID: 61e9f415b937134a3c4c0063<br>Time: 2024-05-09 07:43:55<br>Lat: 51.743<br>Lon: -6.799",
          "ID: 61e9f415b937134a3c4c0063<br>Time: 2024-05-09 08:19:37<br>Lat: 52.038<br>Lon: -6.919",
          "ID: 61e9f415b937134a3c4c0063<br>Time: 2024-05-09 08:34:48<br>Lat: 52.085<br>Lon: -6.806",
          "ID: 61e9f415b937134a3c4c0063<br>Time: 2024-05-09 08:55:00<br>Lat: 52.170<br>Lon: -6.696",
          "ID: 61e9f415b937134a3c4c0063<br>Time: 2024-05-09 09:15:18<br>Lat: 52.206<br>Lon: -6.471",
          "ID: 61e9f415b937134a3c4c0063<br>Time: 2024-05-09 09:35:36<br>Lat: 52.238<br>Lon: -6.442",
          "ID: 61e9f415b937134a3c4c0063<br>Time: 2024-05-09 09:55:00<br>Lat: 52.327<br>Lon: -6.506",
          "ID: 61e9f415b937134a3c4c0063<br>Time: 2024-05-09 10:15:55<br>Lat: 52.362<br>Lon: -6.624",
          "ID: 61e9f415b937134a3c4c0063<br>Time: 2024-05-09 10:36:55<br>Lat: 52.323<br>Lon: -6.680",
          "ID: 61e9f415b937134a3c4c0063<br>Time: 2024-05-09 10:57:26<br>Lat: 52.204<br>Lon: -6.672",
          "ID: 61e9f415b937134a3c4c0063<br>Time: 2024-05-09 11:17:56<br>Lat: 52.185<br>Lon: -6.530",
          "ID: 61e9f415b937134a3c4c0063<br>Time: 2024-05-09 11:38:37<br>Lat: 52.103<br>Lon: -6.454",
          "ID: 61e9f415b937134a3c4c0063<br>Time: 2024-05-09 11:58:45<br>Lat: 52.049<br>Lon: -6.486",
          "ID: 61e9f415b937134a3c4c0063<br>Time: 2024-05-09 12:19:16<br>Lat: 51.957<br>Lon: -6.604",
          "ID: 61e9f415b937134a3c4c0063<br>Time: 2024-05-09 12:39:35<br>Lat: 51.949<br>Lon: -6.656",
          "ID: 61e9f415b937134a3c4c0063<br>Time: 2024-05-09 12:54:56<br>Lat: 51.909<br>Lon: -6.674",
          "ID: 61e9f415b937134a3c4c0063<br>Time: 2024-05-09 13:14:57<br>Lat: 51.854<br>Lon: -6.553",
          "ID: 61e9f415b937134a3c4c0063<br>Time: 2024-05-09 13:23:37<br>Lat: 51.895<br>Lon: -6.504",
          "ID: 61e9f415b937134a3c4c0063<br>Time: 2024-05-09 13:55:37<br>Lat: 51.971<br>Lon: -6.406",
          "ID: 61e9f415b937134a3c4c0063<br>Time: 2024-05-09 14:14:24<br>Lat: 52.008<br>Lon: -6.392",
          "ID: 61e9f415b937134a3c4c0063<br>Time: 2024-05-09 14:32:23<br>Lat: 52.049<br>Lon: -6.397",
          "ID: 61e9f415b937134a3c4c0063<br>Time: 2024-05-09 14:56:23<br>Lat: 52.134<br>Lon: -6.434",
          "ID: 61e9f415b937134a3c4c0063<br>Time: 2024-05-09 15:14:23<br>Lat: 52.148<br>Lon: -6.520",
          "ID: 61e9f415b937134a3c4c0063<br>Time: 2024-05-09 15:32:23<br>Lat: 52.085<br>Lon: -6.653",
          "ID: 61e9f415b937134a3c4c0063<br>Time: 2024-05-09 15:56:24<br>Lat: 52.056<br>Lon: -6.714",
          "ID: 61e9f415b937134a3c4c0063<br>Time: 2024-05-09 16:14:25<br>Lat: 52.067<br>Lon: -6.667",
          "ID: 61e9f415b937134a3c4c0063<br>Time: 2024-05-09 16:38:22<br>Lat: 52.099<br>Lon: -6.516",
          "ID: 61e9f415b937134a3c4c0063<br>Time: 2024-05-09 16:50:23<br>Lat: 52.064<br>Lon: -6.523",
          "ID: 61e9f415b937134a3c4c0063<br>Time: 2024-05-09 17:14:23<br>Lat: 52.039<br>Lon: -6.559",
          "ID: 61e9f415b937134a3c4c0063<br>Time: 2024-05-09 17:32:21<br>Lat: 51.988<br>Lon: -6.649",
          "ID: 61e9f415b937134a3c4c0063<br>Time: 2024-05-09 17:44:23<br>Lat: 51.980<br>Lon: -6.655",
          "ID: 61e9f415b937134a3c4c0063<br>Time: 2024-05-09 18:14:21<br>Lat: 51.972<br>Lon: -6.645",
          "ID: 61e9f415b937134a3c4c0063<br>Time: 2024-05-09 18:26:25<br>Lat: 52.004<br>Lon: -6.559",
          "ID: 61e9f415b937134a3c4c0063<br>Time: 2024-05-09 18:56:22<br>Lat: 52.065<br>Lon: -6.478",
          "ID: 61e9f415b937134a3c4c0063<br>Time: 2024-05-09 19:08:21<br>Lat: 52.108<br>Lon: -6.516",
          "ID: 61e9f415b937134a3c4c0063<br>Time: 2024-05-09 19:32:27<br>Lat: 52.154<br>Lon: -6.651",
          "ID: 61e9f415b937134a3c4c0063<br>Time: 2024-05-09 19:50:28<br>Lat: 52.146<br>Lon: -6.661",
          "ID: 61e9f415b937134a3c4c0063<br>Time: 2024-05-09 20:08:22<br>Lat: 52.088<br>Lon: -6.635",
          "ID: 61e9f415b937134a3c4c0063<br>Time: 2024-05-09 20:44:27<br>Lat: 52.008<br>Lon: -6.502",
          "ID: 61e9f415b937134a3c4c0063<br>Time: 2024-05-09 21:15:03<br>Lat: 51.956<br>Lon: -6.480",
          "ID: 61e9f415b937134a3c4c0063<br>Time: 2024-05-09 21:24:03<br>Lat: 51.990<br>Lon: -6.519",
          "ID: 61e9f415b937134a3c4c0063<br>Time: 2024-05-09 21:56:05<br>Lat: 52.076<br>Lon: -6.639",
          "ID: 61e9f415b937134a3c4c0063<br>Time: 2024-05-09 22:14:44<br>Lat: 52.145<br>Lon: -6.644",
          "ID: 61e9f415b937134a3c4c0063<br>Time: 2024-05-09 22:36:23<br>Lat: 52.166<br>Lon: -6.523",
          "ID: 61e9f415b937134a3c4c0063<br>Time: 2024-05-09 22:58:34<br>Lat: 52.094<br>Lon: -6.465",
          "ID: 61e9f415b937134a3c4c0063<br>Time: 2024-05-09 23:18:43<br>Lat: 52.053<br>Lon: -6.499",
          "ID: 61e9f415b937134a3c4c0063<br>Time: 2024-05-09 23:39:13<br>Lat: 52.059<br>Lon: -6.630",
          "ID: 61e9f415b937134a3c4c0063<br>Time: 2024-05-09 23:59:43<br>Lat: 52.090<br>Lon: -6.712",
          "ID: 61e9f415b937134a3c4c0063<br>Time: 2024-05-10 00:19:55<br>Lat: 52.162<br>Lon: -6.688",
          "ID: 61e9f415b937134a3c4c0063<br>Time: 2024-05-10 00:34:43<br>Lat: 52.158<br>Lon: -6.510",
          "ID: 61e9f415b937134a3c4c0063<br>Time: 2024-05-10 00:55:13<br>Lat: 52.095<br>Lon: -6.414",
          "ID: 61e9f415b937134a3c4c0063<br>Time: 2024-05-10 00:58:34<br>Lat: 52.078<br>Lon: -6.468",
          "ID: 61e9f415b937134a3c4c0063<br>Time: 2024-05-10 18:26:18<br>Lat: 50.816<br>Lon: -6.674",
          "ID: 61e9f415b937134a3c4c0063<br>Time: 2024-05-10 23:31:23<br>Lat: 49.869<br>Lon: -6.118",
          "ID: 61e9f415b937134a3c4c0063<br>Time: 2024-05-10 23:57:23<br>Lat: 49.802<br>Lon: -5.985",
          "ID: 61e9f415b937134a3c4c0063<br>Time: 2024-05-11 00:17:54<br>Lat: 49.737<br>Lon: -5.867",
          "ID: 61e9f415b937134a3c4c0063<br>Time: 2024-05-11 00:38:24<br>Lat: 49.667<br>Lon: -5.757",
          "ID: 61e9f415b937134a3c4c0063<br>Time: 2024-05-11 00:58:44<br>Lat: 49.542<br>Lon: -5.567",
          "ID: 61e9f415b937134a3c4c0063<br>Time: 2024-05-11 01:11:03<br>Lat: 49.434<br>Lon: -5.405",
          "ID: 61e9f415b937134a3c4c0063<br>Time: 2024-05-11 04:37:43<br>Lat: 49.248<br>Lon: -3.954",
          "ID: 61e9f415b937134a3c4c0063<br>Time: 2024-05-11 04:59:35<br>Lat: 49.317<br>Lon: -3.773",
          "ID: 61e9f415b937134a3c4c0063<br>Time: 2024-05-11 05:13:34<br>Lat: 49.320<br>Lon: -3.675",
          "ID: 61e9f415b937134a3c4c0063<br>Time: 2024-05-11 05:19:44<br>Lat: 49.290<br>Lon: -3.633",
          "ID: 61e9f415b937134a3c4c0063<br>Time: 2024-05-11 05:44:34<br>Lat: 49.185<br>Lon: -3.495",
          "ID: 61e9f415b937134a3c4c0063<br>Time: 2024-05-11 06:16:14<br>Lat: 49.206<br>Lon: -3.255",
          "ID: 61e9f415b937134a3c4c0063<br>Time: 2024-05-11 06:36:53<br>Lat: 49.316<br>Lon: -3.148",
          "ID: 61e9f415b937134a3c4c0063<br>Time: 2024-05-11 06:57:15<br>Lat: 49.343<br>Lon: -3.111",
          "ID: 61e9f415b937134a3c4c0063<br>Time: 2024-05-11 07:17:53<br>Lat: 49.339<br>Lon: -3.017",
          "ID: 61e9f415b937134a3c4c0063<br>Time: 2024-05-11 07:38:13<br>Lat: 49.258<br>Lon: -2.914",
          "ID: 61e9f415b937134a3c4c0063<br>Time: 2024-05-11 07:58:33<br>Lat: 49.240<br>Lon: -2.829",
          "ID: 61e9f415b937134a3c4c0063<br>Time: 2024-05-11 08:19:24<br>Lat: 49.266<br>Lon: -2.716",
          "ID: 61e9f415b937134a3c4c0063<br>Time: 2024-05-11 08:39:53<br>Lat: 49.322<br>Lon: -2.665",
          "ID: 61e9f415b937134a3c4c0063<br>Time: 2024-05-11 08:59:54<br>Lat: 49.325<br>Lon: -2.565",
          "ID: 61e9f415b937134a3c4c0063<br>Time: 2024-05-11 09:15:04<br>Lat: 49.273<br>Lon: -2.469",
          "ID: 61e9f415b937134a3c4c0063<br>Time: 2024-05-11 09:35:54<br>Lat: 49.287<br>Lon: -2.406",
          "ID: 61e9f415b937134a3c4c0063<br>Time: 2024-05-11 09:47:34<br>Lat: 49.353<br>Lon: -2.324",
          "ID: 61e9f415b937134a3c4c0063<br>Time: 2024-05-11 10:17:04<br>Lat: 49.406<br>Lon: -2.120",
          "ID: 61e9f415b937134a3c4c0063<br>Time: 2024-05-11 10:37:13<br>Lat: 49.536<br>Lon: -1.943",
          "ID: 61e9f415b937134a3c4c0063<br>Time: 2024-05-11 10:57:33<br>Lat: 49.590<br>Lon: -1.855",
          "ID: 61e9f415b937134a3c4c0063<br>Time: 2024-05-11 11:18:03<br>Lat: 49.671<br>Lon: -1.742",
          "ID: 61e9f415b937134a3c4c0063<br>Time: 2024-05-11 11:38:13<br>Lat: 49.778<br>Lon: -1.628",
          "ID: 61e9f415b937134a3c4c0063<br>Time: 2024-05-11 11:58:54<br>Lat: 49.873<br>Lon: -1.486",
          "ID: 61e9f415b937134a3c4c0063<br>Time: 2024-05-11 12:19:33<br>Lat: 49.917<br>Lon: -1.361",
          "ID: 61e9f415b937134a3c4c0063<br>Time: 2024-05-11 12:39:53<br>Lat: 49.941<br>Lon: -1.216",
          "ID: 61e9f415b937134a3c4c0063<br>Time: 2024-05-11 12:55:03<br>Lat: 49.973<br>Lon: -1.192",
          "ID: 61e9f415b937134a3c4c0063<br>Time: 2024-05-11 13:15:13<br>Lat: 50.019<br>Lon: -1.125",
          "ID: 61e9f415b937134a3c4c0063<br>Time: 2024-05-11 13:36:14<br>Lat: 50.060<br>Lon: -1.101",
          "ID: 61e9f415b937134a3c4c0063<br>Time: 2024-05-11 13:56:54<br>Lat: 50.146<br>Lon: -1.099",
          "ID: 61e9f415b937134a3c4c0063<br>Time: 2024-05-11 14:17:23<br>Lat: 50.178<br>Lon: -1.095",
          "ID: 61e9f415b937134a3c4c0063<br>Time: 2024-05-11 14:38:15<br>Lat: 50.230<br>Lon: -1.077",
          "ID: 61e9f415b937134a3c4c0063<br>Time: 2024-05-11 14:58:33<br>Lat: 50.229<br>Lon: -1.076",
          "ID: 61e9f415b937134a3c4c0063<br>Time: 2024-05-11 15:19:13<br>Lat: 50.193<br>Lon: -1.068",
          "ID: 61e9f415b937134a3c4c0063<br>Time: 2024-05-11 15:39:13<br>Lat: 50.159<br>Lon: -1.118",
          "ID: 61e9f415b937134a3c4c0063<br>Time: 2024-05-11 15:59:14<br>Lat: 50.180<br>Lon: -1.114",
          "ID: 61e9f415b937134a3c4c0063<br>Time: 2024-05-11 16:19:53<br>Lat: 50.214<br>Lon: -1.085",
          "ID: 61e9f415b937134a3c4c0063<br>Time: 2024-05-11 16:34:54<br>Lat: 50.209<br>Lon: -1.055",
          "ID: 61e9f415b937134a3c4c0063<br>Time: 2024-05-11 16:55:03<br>Lat: 50.178<br>Lon: -0.983",
          "ID: 61e9f415b937134a3c4c0063<br>Time: 2024-05-11 17:15:04<br>Lat: 50.174<br>Lon: -0.960",
          "ID: 61e9f415b937134a3c4c0063<br>Time: 2024-05-11 17:35:23<br>Lat: 50.184<br>Lon: -0.956",
          "ID: 61e9f415b937134a3c4c0063<br>Time: 2024-05-11 17:51:53<br>Lat: 50.207<br>Lon: -0.978",
          "ID: 61e9f415b937134a3c4c0063<br>Time: 2024-05-11 18:17:03<br>Lat: 50.210<br>Lon: -0.991",
          "ID: 61e9f415b937134a3c4c0063<br>Time: 2024-05-11 18:36:53<br>Lat: 50.215<br>Lon: -0.978",
          "ID: 61e9f415b937134a3c4c0063<br>Time: 2024-05-11 18:58:23<br>Lat: 50.209<br>Lon: -0.962",
          "ID: 61e9f415b937134a3c4c0063<br>Time: 2024-05-11 19:09:34<br>Lat: 50.190<br>Lon: -0.983",
          "ID: 61e9f415b937134a3c4c0063<br>Time: 2024-05-11 20:11:24<br>Lat: 50.139<br>Lon: -1.073",
          "ID: 61e9f415b937134a3c4c0063<br>Time: 2024-05-11 20:35:24<br>Lat: 50.114<br>Lon: -1.076",
          "ID: 61e9f415b937134a3c4c0063<br>Time: 2024-05-11 20:56:14<br>Lat: 50.061<br>Lon: -1.083",
          "ID: 61e9f415b937134a3c4c0063<br>Time: 2024-05-11 21:17:16<br>Lat: 50.061<br>Lon: -1.153",
          "ID: 61e9f415b937134a3c4c0063<br>Time: 2024-05-11 21:37:38<br>Lat: 50.096<br>Lon: -1.201",
          "ID: 61e9f415b937134a3c4c0063<br>Time: 2024-05-11 21:58:10<br>Lat: 50.126<br>Lon: -1.215",
          "ID: 61e9f415b937134a3c4c0063<br>Time: 2024-05-11 22:18:40<br>Lat: 50.117<br>Lon: -1.253",
          "ID: 61e9f415b937134a3c4c0063<br>Time: 2024-05-11 22:39:19<br>Lat: 50.071<br>Lon: -1.234",
          "ID: 61e9f415b937134a3c4c0063<br>Time: 2024-05-11 22:59:50<br>Lat: 50.073<br>Lon: -1.189",
          "ID: 61e9f415b937134a3c4c0063<br>Time: 2024-05-11 23:14:59<br>Lat: 50.125<br>Lon: -1.117",
          "ID: 61e9f415b937134a3c4c0063<br>Time: 2024-05-11 23:35:20<br>Lat: 50.149<br>Lon: -1.043",
          "ID: 61e9f415b937134a3c4c0063<br>Time: 2024-05-11 23:55:50<br>Lat: 50.126<br>Lon: -0.965",
          "ID: 61e9f415b937134a3c4c0063<br>Time: 2024-05-12 00:16:19<br>Lat: 50.078<br>Lon: -0.940",
          "ID: 61e9f415b937134a3c4c0063<br>Time: 2024-05-12 00:37:19<br>Lat: 50.074<br>Lon: -0.908",
          "ID: 61e9f415b937134a3c4c0063<br>Time: 2024-05-12 00:58:16<br>Lat: 50.071<br>Lon: -0.840",
          "ID: 61e9f415b937134a3c4c0063<br>Time: 2024-05-12 01:18:39<br>Lat: 50.089<br>Lon: -0.790",
          "ID: 61e9f415b937134a3c4c0063<br>Time: 2024-05-12 01:39:22<br>Lat: 50.127<br>Lon: -0.739",
          "ID: 61e9f415b937134a3c4c0063<br>Time: 2024-05-12 01:59:47<br>Lat: 50.135<br>Lon: -0.675",
          "ID: 61e9f415b937134a3c4c0063<br>Time: 2024-05-12 02:19:57<br>Lat: 50.125<br>Lon: -0.625",
          "ID: 61e9f415b937134a3c4c0063<br>Time: 2024-05-12 02:34:57<br>Lat: 50.085<br>Lon: -0.596",
          "ID: 61e9f415b937134a3c4c0063<br>Time: 2024-05-12 02:55:18<br>Lat: 50.078<br>Lon: -0.575",
          "ID: 61e9f415b937134a3c4c0063<br>Time: 2024-05-12 03:15:27<br>Lat: 50.090<br>Lon: -0.527",
          "ID: 61e9f415b937134a3c4c0063<br>Time: 2024-05-12 03:34:50<br>Lat: 50.126<br>Lon: -0.478",
          "ID: 61e9f415b937134a3c4c0063<br>Time: 2024-05-12 03:55:47<br>Lat: 50.132<br>Lon: -0.471",
          "ID: 61e9f415b937134a3c4c0063<br>Time: 2024-05-12 04:13:48<br>Lat: 50.123<br>Lon: -0.453",
          "ID: 61e9f415b937134a3c4c0063<br>Time: 2024-05-12 04:34:50<br>Lat: 50.102<br>Lon: -0.431",
          "ID: 61e9f415b937134a3c4c0063<br>Time: 2024-05-12 04:55:47<br>Lat: 50.099<br>Lon: -0.423",
          "ID: 61e9f415b937134a3c4c0063<br>Time: 2024-05-12 05:16:46<br>Lat: 50.081<br>Lon: -0.425",
          "ID: 61e9f415b937134a3c4c0063<br>Time: 2024-05-12 05:37:48<br>Lat: 50.069<br>Lon: -0.431",
          "ID: 61e9f415b937134a3c4c0063<br>Time: 2024-05-12 05:58:49<br>Lat: 50.083<br>Lon: -0.463",
          "ID: 61e9f415b937134a3c4c0063<br>Time: 2024-05-12 06:13:45<br>Lat: 50.125<br>Lon: -0.465",
          "ID: 61e9f415b937134a3c4c0063<br>Time: 2024-05-12 06:34:50<br>Lat: 50.135<br>Lon: -0.401",
          "ID: 61e9f415b937134a3c4c0063<br>Time: 2024-05-12 06:52:49<br>Lat: 50.126<br>Lon: -0.398",
          "ID: 61e9f415b937134a3c4c0063<br>Time: 2024-05-12 07:13:51<br>Lat: 50.078<br>Lon: -0.339",
          "ID: 61e9f415b937134a3c4c0063<br>Time: 2024-05-12 07:34:49<br>Lat: 50.071<br>Lon: -0.312",
          "ID: 61e9f415b937134a3c4c0063<br>Time: 2024-05-12 07:52:46<br>Lat: 50.076<br>Lon: -0.272",
          "ID: 61e9f415b937134a3c4c0063<br>Time: 2024-05-12 08:16:47<br>Lat: 50.120<br>Lon: -0.226",
          "ID: 61e9f415b937134a3c4c0063<br>Time: 2024-05-12 08:37:46<br>Lat: 50.130<br>Lon: -0.185",
          "ID: 61e9f415b937134a3c4c0063<br>Time: 2024-05-12 08:58:49<br>Lat: 50.121<br>Lon: -0.158",
          "ID: 61e9f415b937134a3c4c0063<br>Time: 2024-05-12 09:13:44<br>Lat: 50.073<br>Lon: -0.078",
          "ID: 61e9f415b937134a3c4c0063<br>Time: 2024-05-12 09:34:47<br>Lat: 50.041<br>Lon: -0.029",
          "ID: 61e9f415b937134a3c4c0063<br>Time: 2024-05-12 09:52:47<br>Lat: 49.981<br>Lon: 0.042",
          "ID: 61e9f415b937134a3c4c0063<br>Time: 2024-05-12 10:14:33<br>Lat: 49.973<br>Lon: 0.055",
          "ID: 61e9f415b937134a3c4c0063<br>Time: 2024-05-12 10:34:50<br>Lat: 49.929<br>Lon: 0.133",
          "ID: 61e9f415b937134a3c4c0063<br>Time: 2024-05-12 10:56:32<br>Lat: 49.926<br>Lon: 0.203",
          "ID: 61e9f415b937134a3c4c0063<br>Time: 2024-05-12 11:17:42<br>Lat: 49.909<br>Lon: 0.283",
          "ID: 61e9f415b937134a3c4c0063<br>Time: 2024-05-12 11:38:02<br>Lat: 49.868<br>Lon: 0.351",
          "ID: 61e9f415b937134a3c4c0063<br>Time: 2024-05-12 11:58:12<br>Lat: 49.819<br>Lon: 0.452",
          "ID: 61e9f415b937134a3c4c0063<br>Time: 2024-05-12 12:19:16<br>Lat: 49.760<br>Lon: 0.511",
          "ID: 61e9f415b937134a3c4c0063<br>Time: 2024-05-12 12:39:32<br>Lat: 49.748<br>Lon: 0.587",
          "ID: 61e9f415b937134a3c4c0063<br>Time: 2024-05-12 12:54:59<br>Lat: 49.718<br>Lon: 0.695",
          "ID: 61e9f415b937134a3c4c0063<br>Time: 2024-05-12 13:14:57<br>Lat: 49.698<br>Lon: 0.816",
          "ID: 61e9f415b937134a3c4c0063<br>Time: 2024-05-12 13:35:07<br>Lat: 49.721<br>Lon: 0.956",
          "ID: 61e9f415b937134a3c4c0063<br>Time: 2024-05-12 13:55:25<br>Lat: 49.766<br>Lon: 1.115",
          "ID: 61e9f415b937134a3c4c0063<br>Time: 2024-05-12 14:13:55<br>Lat: 49.832<br>Lon: 1.187",
          "ID: 61e9f415b937134a3c4c0063<br>Time: 2024-05-12 14:22:12<br>Lat: 49.911<br>Lon: 1.222",
          "ID: 61e9f415b937134a3c4c0063<br>Time: 2024-05-12 18:12:54<br>Lat: 50.815<br>Lon: 1.538",
          "ID: 61e9f415b937134a3c4c0063<br>Time: 2024-05-12 18:37:55<br>Lat: 50.905<br>Lon: 1.574",
          "ID: 61e9f415b937134a3c4c0063<br>Time: 2024-05-12 18:53:25<br>Lat: 50.979<br>Lon: 1.636",
          "ID: 61e9f415b937134a3c4c0063<br>Time: 2024-05-12 19:19:01<br>Lat: 51.087<br>Lon: 1.726",
          "ID: 61e9f415b937134a3c4c0063<br>Time: 2024-05-12 19:37:24<br>Lat: 51.171<br>Lon: 1.801",
          "ID: 61e9f415b937134a3c4c0063<br>Time: 2024-05-12 20:14:58<br>Lat: 51.337<br>Lon: 1.976",
          "ID: 61e9f415b937134a3c4c0063<br>Time: 2024-05-12 20:15:18<br>Lat: 51.358<br>Lon: 2.014",
          "ID: 61e9f415b937134a3c4c0063<br>Time: 2024-05-12 21:36:39<br>Lat: 51.408<br>Lon: 2.643",
          "ID: 61e9f415b937134a3c4c0063<br>Time: 2024-05-12 21:56:59<br>Lat: 51.424<br>Lon: 2.721",
          "ID: 61e9f415b937134a3c4c0063<br>Time: 2024-05-12 22:17:19<br>Lat: 51.417<br>Lon: 2.811",
          "ID: 61e9f415b937134a3c4c0063<br>Time: 2024-05-12 22:37:29<br>Lat: 51.403<br>Lon: 2.918",
          "ID: 61e9f415b937134a3c4c0063<br>Time: 2024-05-12 22:57:59<br>Lat: 51.387<br>Lon: 3.006",
          "ID: 61e9f415b937134a3c4c0063<br>Time: 2024-05-12 23:17:59<br>Lat: 51.378<br>Lon: 3.137",
          "ID: 61e9f415b937134a3c4c0063<br>Time: 2024-05-12 23:39:10<br>Lat: 51.380<br>Lon: 3.227",
          "ID: 61e9f415b937134a3c4c0063<br>Time: 2024-05-12 23:59:52<br>Lat: 51.365<br>Lon: 3.343"
         ],
         "type": "scattergeo"
        }
       ],
       "layout": {
        "autosize": true,
        "coloraxis": {
         "colorbar": {
          "title": {
           "text": "Vessel ID"
          }
         }
        },
        "geo": {
         "center": {},
         "countrycolor": "RebeccaPurple",
         "domain": {
          "x": [
           0,
           1
          ],
          "y": [
           0,
           1
          ]
         },
         "fitbounds": "locations",
         "projection": {
          "type": "natural earth"
         },
         "showcountries": true
        },
        "legend": {
         "title": {
          "text": "vesselId"
         },
         "tracegroupgap": 0
        },
        "margin": {
         "b": 0,
         "l": 0,
         "r": 0,
         "t": 30
        },
        "template": {
         "data": {
          "bar": [
           {
            "error_x": {
             "color": "#2a3f5f"
            },
            "error_y": {
             "color": "#2a3f5f"
            },
            "marker": {
             "line": {
              "color": "#E5ECF6",
              "width": 0.5
             },
             "pattern": {
              "fillmode": "overlay",
              "size": 10,
              "solidity": 0.2
             }
            },
            "type": "bar"
           }
          ],
          "barpolar": [
           {
            "marker": {
             "line": {
              "color": "#E5ECF6",
              "width": 0.5
             },
             "pattern": {
              "fillmode": "overlay",
              "size": 10,
              "solidity": 0.2
             }
            },
            "type": "barpolar"
           }
          ],
          "carpet": [
           {
            "aaxis": {
             "endlinecolor": "#2a3f5f",
             "gridcolor": "white",
             "linecolor": "white",
             "minorgridcolor": "white",
             "startlinecolor": "#2a3f5f"
            },
            "baxis": {
             "endlinecolor": "#2a3f5f",
             "gridcolor": "white",
             "linecolor": "white",
             "minorgridcolor": "white",
             "startlinecolor": "#2a3f5f"
            },
            "type": "carpet"
           }
          ],
          "choropleth": [
           {
            "colorbar": {
             "outlinewidth": 0,
             "ticks": ""
            },
            "type": "choropleth"
           }
          ],
          "contour": [
           {
            "colorbar": {
             "outlinewidth": 0,
             "ticks": ""
            },
            "colorscale": [
             [
              0,
              "#0d0887"
             ],
             [
              0.1111111111111111,
              "#46039f"
             ],
             [
              0.2222222222222222,
              "#7201a8"
             ],
             [
              0.3333333333333333,
              "#9c179e"
             ],
             [
              0.4444444444444444,
              "#bd3786"
             ],
             [
              0.5555555555555556,
              "#d8576b"
             ],
             [
              0.6666666666666666,
              "#ed7953"
             ],
             [
              0.7777777777777778,
              "#fb9f3a"
             ],
             [
              0.8888888888888888,
              "#fdca26"
             ],
             [
              1,
              "#f0f921"
             ]
            ],
            "type": "contour"
           }
          ],
          "contourcarpet": [
           {
            "colorbar": {
             "outlinewidth": 0,
             "ticks": ""
            },
            "type": "contourcarpet"
           }
          ],
          "heatmap": [
           {
            "colorbar": {
             "outlinewidth": 0,
             "ticks": ""
            },
            "colorscale": [
             [
              0,
              "#0d0887"
             ],
             [
              0.1111111111111111,
              "#46039f"
             ],
             [
              0.2222222222222222,
              "#7201a8"
             ],
             [
              0.3333333333333333,
              "#9c179e"
             ],
             [
              0.4444444444444444,
              "#bd3786"
             ],
             [
              0.5555555555555556,
              "#d8576b"
             ],
             [
              0.6666666666666666,
              "#ed7953"
             ],
             [
              0.7777777777777778,
              "#fb9f3a"
             ],
             [
              0.8888888888888888,
              "#fdca26"
             ],
             [
              1,
              "#f0f921"
             ]
            ],
            "type": "heatmap"
           }
          ],
          "heatmapgl": [
           {
            "colorbar": {
             "outlinewidth": 0,
             "ticks": ""
            },
            "colorscale": [
             [
              0,
              "#0d0887"
             ],
             [
              0.1111111111111111,
              "#46039f"
             ],
             [
              0.2222222222222222,
              "#7201a8"
             ],
             [
              0.3333333333333333,
              "#9c179e"
             ],
             [
              0.4444444444444444,
              "#bd3786"
             ],
             [
              0.5555555555555556,
              "#d8576b"
             ],
             [
              0.6666666666666666,
              "#ed7953"
             ],
             [
              0.7777777777777778,
              "#fb9f3a"
             ],
             [
              0.8888888888888888,
              "#fdca26"
             ],
             [
              1,
              "#f0f921"
             ]
            ],
            "type": "heatmapgl"
           }
          ],
          "histogram": [
           {
            "marker": {
             "pattern": {
              "fillmode": "overlay",
              "size": 10,
              "solidity": 0.2
             }
            },
            "type": "histogram"
           }
          ],
          "histogram2d": [
           {
            "colorbar": {
             "outlinewidth": 0,
             "ticks": ""
            },
            "colorscale": [
             [
              0,
              "#0d0887"
             ],
             [
              0.1111111111111111,
              "#46039f"
             ],
             [
              0.2222222222222222,
              "#7201a8"
             ],
             [
              0.3333333333333333,
              "#9c179e"
             ],
             [
              0.4444444444444444,
              "#bd3786"
             ],
             [
              0.5555555555555556,
              "#d8576b"
             ],
             [
              0.6666666666666666,
              "#ed7953"
             ],
             [
              0.7777777777777778,
              "#fb9f3a"
             ],
             [
              0.8888888888888888,
              "#fdca26"
             ],
             [
              1,
              "#f0f921"
             ]
            ],
            "type": "histogram2d"
           }
          ],
          "histogram2dcontour": [
           {
            "colorbar": {
             "outlinewidth": 0,
             "ticks": ""
            },
            "colorscale": [
             [
              0,
              "#0d0887"
             ],
             [
              0.1111111111111111,
              "#46039f"
             ],
             [
              0.2222222222222222,
              "#7201a8"
             ],
             [
              0.3333333333333333,
              "#9c179e"
             ],
             [
              0.4444444444444444,
              "#bd3786"
             ],
             [
              0.5555555555555556,
              "#d8576b"
             ],
             [
              0.6666666666666666,
              "#ed7953"
             ],
             [
              0.7777777777777778,
              "#fb9f3a"
             ],
             [
              0.8888888888888888,
              "#fdca26"
             ],
             [
              1,
              "#f0f921"
             ]
            ],
            "type": "histogram2dcontour"
           }
          ],
          "mesh3d": [
           {
            "colorbar": {
             "outlinewidth": 0,
             "ticks": ""
            },
            "type": "mesh3d"
           }
          ],
          "parcoords": [
           {
            "line": {
             "colorbar": {
              "outlinewidth": 0,
              "ticks": ""
             }
            },
            "type": "parcoords"
           }
          ],
          "pie": [
           {
            "automargin": true,
            "type": "pie"
           }
          ],
          "scatter": [
           {
            "fillpattern": {
             "fillmode": "overlay",
             "size": 10,
             "solidity": 0.2
            },
            "type": "scatter"
           }
          ],
          "scatter3d": [
           {
            "line": {
             "colorbar": {
              "outlinewidth": 0,
              "ticks": ""
             }
            },
            "marker": {
             "colorbar": {
              "outlinewidth": 0,
              "ticks": ""
             }
            },
            "type": "scatter3d"
           }
          ],
          "scattercarpet": [
           {
            "marker": {
             "colorbar": {
              "outlinewidth": 0,
              "ticks": ""
             }
            },
            "type": "scattercarpet"
           }
          ],
          "scattergeo": [
           {
            "marker": {
             "colorbar": {
              "outlinewidth": 0,
              "ticks": ""
             }
            },
            "type": "scattergeo"
           }
          ],
          "scattergl": [
           {
            "marker": {
             "colorbar": {
              "outlinewidth": 0,
              "ticks": ""
             }
            },
            "type": "scattergl"
           }
          ],
          "scattermapbox": [
           {
            "marker": {
             "colorbar": {
              "outlinewidth": 0,
              "ticks": ""
             }
            },
            "type": "scattermapbox"
           }
          ],
          "scatterpolar": [
           {
            "marker": {
             "colorbar": {
              "outlinewidth": 0,
              "ticks": ""
             }
            },
            "type": "scatterpolar"
           }
          ],
          "scatterpolargl": [
           {
            "marker": {
             "colorbar": {
              "outlinewidth": 0,
              "ticks": ""
             }
            },
            "type": "scatterpolargl"
           }
          ],
          "scatterternary": [
           {
            "marker": {
             "colorbar": {
              "outlinewidth": 0,
              "ticks": ""
             }
            },
            "type": "scatterternary"
           }
          ],
          "surface": [
           {
            "colorbar": {
             "outlinewidth": 0,
             "ticks": ""
            },
            "colorscale": [
             [
              0,
              "#0d0887"
             ],
             [
              0.1111111111111111,
              "#46039f"
             ],
             [
              0.2222222222222222,
              "#7201a8"
             ],
             [
              0.3333333333333333,
              "#9c179e"
             ],
             [
              0.4444444444444444,
              "#bd3786"
             ],
             [
              0.5555555555555556,
              "#d8576b"
             ],
             [
              0.6666666666666666,
              "#ed7953"
             ],
             [
              0.7777777777777778,
              "#fb9f3a"
             ],
             [
              0.8888888888888888,
              "#fdca26"
             ],
             [
              1,
              "#f0f921"
             ]
            ],
            "type": "surface"
           }
          ],
          "table": [
           {
            "cells": {
             "fill": {
              "color": "#EBF0F8"
             },
             "line": {
              "color": "white"
             }
            },
            "header": {
             "fill": {
              "color": "#C8D4E3"
             },
             "line": {
              "color": "white"
             }
            },
            "type": "table"
           }
          ]
         },
         "layout": {
          "annotationdefaults": {
           "arrowcolor": "#2a3f5f",
           "arrowhead": 0,
           "arrowwidth": 1
          },
          "autotypenumbers": "strict",
          "coloraxis": {
           "colorbar": {
            "outlinewidth": 0,
            "ticks": ""
           }
          },
          "colorscale": {
           "diverging": [
            [
             0,
             "#8e0152"
            ],
            [
             0.1,
             "#c51b7d"
            ],
            [
             0.2,
             "#de77ae"
            ],
            [
             0.3,
             "#f1b6da"
            ],
            [
             0.4,
             "#fde0ef"
            ],
            [
             0.5,
             "#f7f7f7"
            ],
            [
             0.6,
             "#e6f5d0"
            ],
            [
             0.7,
             "#b8e186"
            ],
            [
             0.8,
             "#7fbc41"
            ],
            [
             0.9,
             "#4d9221"
            ],
            [
             1,
             "#276419"
            ]
           ],
           "sequential": [
            [
             0,
             "#0d0887"
            ],
            [
             0.1111111111111111,
             "#46039f"
            ],
            [
             0.2222222222222222,
             "#7201a8"
            ],
            [
             0.3333333333333333,
             "#9c179e"
            ],
            [
             0.4444444444444444,
             "#bd3786"
            ],
            [
             0.5555555555555556,
             "#d8576b"
            ],
            [
             0.6666666666666666,
             "#ed7953"
            ],
            [
             0.7777777777777778,
             "#fb9f3a"
            ],
            [
             0.8888888888888888,
             "#fdca26"
            ],
            [
             1,
             "#f0f921"
            ]
           ],
           "sequentialminus": [
            [
             0,
             "#0d0887"
            ],
            [
             0.1111111111111111,
             "#46039f"
            ],
            [
             0.2222222222222222,
             "#7201a8"
            ],
            [
             0.3333333333333333,
             "#9c179e"
            ],
            [
             0.4444444444444444,
             "#bd3786"
            ],
            [
             0.5555555555555556,
             "#d8576b"
            ],
            [
             0.6666666666666666,
             "#ed7953"
            ],
            [
             0.7777777777777778,
             "#fb9f3a"
            ],
            [
             0.8888888888888888,
             "#fdca26"
            ],
            [
             1,
             "#f0f921"
            ]
           ]
          },
          "colorway": [
           "#636efa",
           "#EF553B",
           "#00cc96",
           "#ab63fa",
           "#FFA15A",
           "#19d3f3",
           "#FF6692",
           "#B6E880",
           "#FF97FF",
           "#FECB52"
          ],
          "font": {
           "color": "#2a3f5f"
          },
          "geo": {
           "bgcolor": "white",
           "lakecolor": "white",
           "landcolor": "#E5ECF6",
           "showlakes": true,
           "showland": true,
           "subunitcolor": "white"
          },
          "hoverlabel": {
           "align": "left"
          },
          "hovermode": "closest",
          "mapbox": {
           "style": "light"
          },
          "paper_bgcolor": "white",
          "plot_bgcolor": "#E5ECF6",
          "polar": {
           "angularaxis": {
            "gridcolor": "white",
            "linecolor": "white",
            "ticks": ""
           },
           "bgcolor": "#E5ECF6",
           "radialaxis": {
            "gridcolor": "white",
            "linecolor": "white",
            "ticks": ""
           }
          },
          "scene": {
           "xaxis": {
            "backgroundcolor": "#E5ECF6",
            "gridcolor": "white",
            "gridwidth": 2,
            "linecolor": "white",
            "showbackground": true,
            "ticks": "",
            "zerolinecolor": "white"
           },
           "yaxis": {
            "backgroundcolor": "#E5ECF6",
            "gridcolor": "white",
            "gridwidth": 2,
            "linecolor": "white",
            "showbackground": true,
            "ticks": "",
            "zerolinecolor": "white"
           },
           "zaxis": {
            "backgroundcolor": "#E5ECF6",
            "gridcolor": "white",
            "gridwidth": 2,
            "linecolor": "white",
            "showbackground": true,
            "ticks": "",
            "zerolinecolor": "white"
           }
          },
          "shapedefaults": {
           "line": {
            "color": "#2a3f5f"
           }
          },
          "ternary": {
           "aaxis": {
            "gridcolor": "white",
            "linecolor": "white",
            "ticks": ""
           },
           "baxis": {
            "gridcolor": "white",
            "linecolor": "white",
            "ticks": ""
           },
           "bgcolor": "#E5ECF6",
           "caxis": {
            "gridcolor": "white",
            "linecolor": "white",
            "ticks": ""
           }
          },
          "title": {
           "x": 0.05
          },
          "xaxis": {
           "automargin": true,
           "gridcolor": "white",
           "linecolor": "white",
           "ticks": "",
           "title": {
            "standoff": 15
           },
           "zerolinecolor": "white",
           "zerolinewidth": 2
          },
          "yaxis": {
           "automargin": true,
           "gridcolor": "white",
           "linecolor": "white",
           "ticks": "",
           "title": {
            "standoff": 15
           },
           "zerolinecolor": "white",
           "zerolinewidth": 2
          }
         }
        },
        "title": {
         "font": {
          "size": 20
         },
         "text": "Vessel Movements Over Time"
        }
       }
      },
      "image/png": "[encoded data removed]",
      "text/html": [
       "<div>                            <div id=\"c5875e06-f4f5-459e-b8a4-69264769e66e\" class=\"plotly-graph-div\" style=\"height:525px; width:100%;\"></div>            <script type=\"text/javascript\">                require([\"plotly\"], function(Plotly) {                    window.PLOTLYENV=window.PLOTLYENV || {};                                    if (document.getElementById(\"c5875e06-f4f5-459e-b8a4-69264769e66e\")) {                    Plotly.newPlot(                        \"c5875e06-f4f5-459e-b8a4-69264769e66e\",                        [{\"customdata\":[[\"2024-05-08T00:19:18\",50.022789001464844,-2.359675168991089],[\"2024-05-08T00:21:48\",50.02365493774414,-2.3609089851379395],[\"2024-05-08T01:14:19\",50.07394027709961,-2.575458526611328],[\"2024-05-08T01:33:00\",50.113433837890625,-2.6301510334014893],[\"2024-05-08T01:46:06\",50.132713317871094,-2.6889047622680664],[\"2024-05-08T02:16:18\",50.13289260864258,-2.832087993621826],[\"2024-05-08T02:37:06\",50.09311294555664,-2.9225547313690186],[\"2024-05-08T02:57:19\",50.06367492675781,-2.9725615978240967],[\"2024-05-08T03:18:14\",50.06989288330078,-3.026416063308716],[\"2024-05-08T03:38:44\",50.120975494384766,-3.083540916442871],[\"2024-05-08T03:59:15\",50.13275146484375,-3.172898292541504],[\"2024-05-08T04:19:15\",50.11650466918945,-3.269788980484009],[\"2024-05-08T04:39:34\",50.07615661621094,-3.351243019104004],[\"2024-05-08T04:59:54\",50.05870819091797,-3.3850741386413574],[\"2024-05-08T05:14:54\",50.080291748046875,-3.4621241092681885],[\"2024-05-08T05:35:14\",50.13270950317383,-3.5638809204101562],[\"2024-05-08T05:47:34\",50.147281646728516,-3.63980770111084],[\"2024-05-08T06:17:14\",50.13283920288086,-3.8293228149414062],[\"2024-05-08T06:37:45\",50.08932113647461,-3.910161018371582],[\"2024-05-08T06:58:15\",50.04292678833008,-4.001106262207031],[\"2024-05-08T07:19:13\",49.97211837768555,-4.078855514526367],[\"2024-05-08T07:39:54\",49.91377258300781,-4.16901969909668],[\"2024-05-08T07:55:00\",49.870155334472656,-4.211450099945068],[\"2024-05-08T08:15:00\",49.79817581176758,-4.310742378234863],[\"2024-05-08T08:35:12\",49.74677276611328,-4.3765106201171875],[\"2024-05-08T08:56:13\",49.658546447753906,-4.489902973175049],[\"2024-05-08T09:16:36\",49.563961029052734,-4.553340911865234],[\"2024-05-08T09:37:18\",49.40448760986328,-4.635128498077393],[\"2024-05-08T09:54:41\",49.392940521240234,-4.747687816619873],[\"2024-05-08T10:14:08\",49.45682907104492,-4.884558200836182],[\"2024-05-08T10:39:06\",49.48496627807617,-4.984841346740723],[\"2024-05-08T11:10:20\",49.47470474243164,-5.144734859466553],[\"2024-05-08T12:09:07\",49.46718978881836,-5.538301467895508],[\"2024-05-08T17:26:31\",49.85476303100586,-7.276738166809082],[\"2024-05-08T17:52:12\",49.88142013549805,-7.367016792297363],[\"2024-05-08T18:15:00\",49.92781448364258,-7.486347198486328],[\"2024-05-08T18:33:01\",49.935813903808594,-7.493014335632324],[\"2024-05-08T18:55:36\",49.98872375488281,-7.4182963371276855],[\"2024-05-08T19:16:37\",50.06726837158203,-7.410689830780029],[\"2024-05-08T19:36:48\",50.176788330078125,-7.43655252456665],[\"2024-05-08T19:56:06\",50.28256607055664,-7.437900543212891],[\"2024-05-08T20:14:43\",50.35551452636719,-7.436712265014648],[\"2024-05-09T07:10:36\",51.53091049194336,-6.843469619750977],[\"2024-05-09T07:38:19\",51.65495300292969,-6.749985218048096],[\"2024-05-09T07:43:55\",51.743370056152344,-6.798699378967285],[\"2024-05-09T08:19:37\",52.03789520263672,-6.919175624847412],[\"2024-05-09T08:34:48\",52.08494567871094,-6.805897235870361],[\"2024-05-09T08:55:00\",52.169734954833984,-6.6956682205200195],[\"2024-05-09T09:15:18\",52.20582962036133,-6.470582962036133],[\"2024-05-09T09:35:36\",52.23823165893555,-6.441659927368164],[\"2024-05-09T09:55:00\",52.32725524902344,-6.506247043609619],[\"2024-05-09T10:15:55\",52.36176681518555,-6.624222278594971],[\"2024-05-09T10:36:55\",52.32319259643555,-6.680017471313477],[\"2024-05-09T10:57:26\",52.20353698730469,-6.671855449676514],[\"2024-05-09T11:17:56\",52.184940338134766,-6.529538631439209],[\"2024-05-09T11:38:37\",52.10251235961914,-6.453937530517578],[\"2024-05-09T11:58:45\",52.049041748046875,-6.4864373207092285],[\"2024-05-09T12:19:16\",51.95705795288086,-6.603789329528809],[\"2024-05-09T12:39:35\",51.9493522644043,-6.655844211578369],[\"2024-05-09T12:54:56\",51.90874481201172,-6.674363613128662],[\"2024-05-09T13:14:57\",51.85437774658203,-6.553196430206299],[\"2024-05-09T13:23:37\",51.89469528198242,-6.504105567932129],[\"2024-05-09T13:55:37\",51.970706939697266,-6.406008243560791],[\"2024-05-09T14:14:24\",52.00767135620117,-6.3918561935424805],[\"2024-05-09T14:32:23\",52.049407958984375,-6.3972344398498535],[\"2024-05-09T14:56:23\",52.134124755859375,-6.434095859527588],[\"2024-05-09T15:14:23\",52.147884368896484,-6.520049095153809],[\"2024-05-09T15:32:23\",52.08544921875,-6.653334617614746],[\"2024-05-09T15:56:24\",52.05562210083008,-6.713696479797363],[\"2024-05-09T16:14:25\",52.06726837158203,-6.666687488555908],[\"2024-05-09T16:38:22\",52.09872055053711,-6.516261577606201],[\"2024-05-09T16:50:23\",52.06373977661133,-6.522684574127197],[\"2024-05-09T17:14:23\",52.03858184814453,-6.558903694152832],[\"2024-05-09T17:32:21\",51.987709045410156,-6.649258613586426],[\"2024-05-09T17:44:23\",51.979583740234375,-6.6550188064575195],[\"2024-05-09T18:14:21\",51.97162628173828,-6.645124435424805],[\"2024-05-09T18:26:25\",52.004478454589844,-6.559272289276123],[\"2024-05-09T18:56:22\",52.06541061401367,-6.478236675262451],[\"2024-05-09T19:08:21\",52.107791900634766,-6.515710353851318],[\"2024-05-09T19:32:27\",52.15355682373047,-6.6511640548706055],[\"2024-05-09T19:50:28\",52.146324157714844,-6.661264896392822],[\"2024-05-09T20:08:22\",52.087677001953125,-6.635000228881836],[\"2024-05-09T20:44:27\",52.007572174072266,-6.501779556274414],[\"2024-05-09T21:15:03\",51.95571517944336,-6.479637622833252],[\"2024-05-09T21:24:03\",51.99027633666992,-6.519460678100586],[\"2024-05-09T21:56:05\",52.07609176635742,-6.638659954071045],[\"2024-05-09T22:14:44\",52.14491271972656,-6.643581867218018],[\"2024-05-09T22:36:23\",52.1661491394043,-6.522826671600342],[\"2024-05-09T22:58:34\",52.09413146972656,-6.465147495269775],[\"2024-05-09T23:18:43\",52.0528450012207,-6.4994330406188965],[\"2024-05-09T23:39:13\",52.05860900878906,-6.6296844482421875],[\"2024-05-09T23:59:43\",52.0902099609375,-6.7121171951293945],[\"2024-05-10T00:19:55\",52.16183090209961,-6.688059329986572],[\"2024-05-10T00:34:43\",52.15778732299805,-6.509586334228516],[\"2024-05-10T00:55:13\",52.09475326538086,-6.413507461547852],[\"2024-05-10T00:58:34\",52.07781219482422,-6.467955112457275],[\"2024-05-10T18:26:18\",50.81570816040039,-6.674137592315674],[\"2024-05-10T23:31:23\",49.868770599365234,-6.118067264556885],[\"2024-05-10T23:57:23\",49.80249786376953,-5.985398769378662],[\"2024-05-11T00:17:54\",49.73664474487305,-5.866572380065918],[\"2024-05-11T00:38:24\",49.66730880737305,-5.756796836853027],[\"2024-05-11T00:58:44\",49.54222869873047,-5.567047119140625],[\"2024-05-11T01:11:03\",49.43408966064453,-5.4051079750061035],[\"2024-05-11T04:37:43\",49.24821090698242,-3.9544599056243896],[\"2024-05-11T04:59:35\",49.31655502319336,-3.7728636264801025],[\"2024-05-11T05:13:34\",49.31989669799805,-3.6748905181884766],[\"2024-05-11T05:19:44\",49.290218353271484,-3.6329543590545654],[\"2024-05-11T05:44:34\",49.185420989990234,-3.4953012466430664],[\"2024-05-11T06:16:14\",49.20566177368164,-3.2551016807556152],[\"2024-05-11T06:36:53\",49.31621170043945,-3.14782452583313],[\"2024-05-11T06:57:15\",49.34343719482422,-3.1108179092407227],[\"2024-05-11T07:17:53\",49.33897018432617,-3.016629695892334],[\"2024-05-11T07:38:13\",49.258399963378906,-2.9144203662872314],[\"2024-05-11T07:58:33\",49.24032974243164,-2.8293917179107666],[\"2024-05-11T08:19:24\",49.266483306884766,-2.716125011444092],[\"2024-05-11T08:39:53\",49.32196807861328,-2.665476083755493],[\"2024-05-11T08:59:54\",49.32509231567383,-2.564845561981201],[\"2024-05-11T09:15:04\",49.27299880981445,-2.469296932220459],[\"2024-05-11T09:35:54\",49.286834716796875,-2.4058384895324707],[\"2024-05-11T09:47:34\",49.353153228759766,-2.3236238956451416],[\"2024-05-11T10:17:04\",49.40598678588867,-2.1198768615722656],[\"2024-05-11T10:37:13\",49.536041259765625,-1.9430785179138184],[\"2024-05-11T10:57:33\",49.59020233154297,-1.8550045490264893],[\"2024-05-11T11:18:03\",49.67063522338867,-1.7420408725738525],[\"2024-05-11T11:38:13\",49.77838134765625,-1.6276006698608398],[\"2024-05-11T11:58:54\",49.87285614013672,-1.485634446144104],[\"2024-05-11T12:19:33\",49.91732406616211,-1.360832929611206],[\"2024-05-11T12:39:53\",49.94108200073242,-1.2157249450683594],[\"2024-05-11T12:55:03\",49.973228454589844,-1.1916974782943726],[\"2024-05-11T13:15:13\",50.01917266845703,-1.1249269247055054],[\"2024-05-11T13:36:14\",50.059654235839844,-1.1012767553329468],[\"2024-05-11T13:56:54\",50.1457405090332,-1.0994406938552856],[\"2024-05-11T14:17:23\",50.17756652832031,-1.094528317451477],[\"2024-05-11T14:38:15\",50.22959518432617,-1.0770201683044434],[\"2024-05-11T14:58:33\",50.228878021240234,-1.0758646726608276],[\"2024-05-11T15:19:13\",50.19309997558594,-1.0679315328598022],[\"2024-05-11T15:39:13\",50.15867233276367,-1.1176220178604126],[\"2024-05-11T15:59:14\",50.18027877807617,-1.1143296957015991],[\"2024-05-11T16:19:53\",50.21449279785156,-1.0847804546356201],[\"2024-05-11T16:34:54\",50.20885467529297,-1.0547479391098022],[\"2024-05-11T16:55:03\",50.17841339111328,-0.9830309748649597],[\"2024-05-11T17:15:04\",50.174232482910156,-0.960472583770752],[\"2024-05-11T17:35:23\",50.18363571166992,-0.9562169313430786],[\"2024-05-11T17:51:53\",50.206939697265625,-0.9781179428100586],[\"2024-05-11T18:17:03\",50.210060119628906,-0.9908217787742615],[\"2024-05-11T18:36:53\",50.215091705322266,-0.9775651097297668],[\"2024-05-11T18:58:23\",50.208518981933594,-0.9622625112533569],[\"2024-05-11T19:09:34\",50.19001388549805,-0.9834046959877014],[\"2024-05-11T20:11:24\",50.13859939575195,-1.0730385780334473],[\"2024-05-11T20:35:24\",50.113704681396484,-1.0755202770233154],[\"2024-05-11T20:56:14\",50.061180114746094,-1.082979679107666],[\"2024-05-11T21:17:16\",50.06140899658203,-1.1529161930084229],[\"2024-05-11T21:37:38\",50.09589385986328,-1.201286792755127],[\"2024-05-11T21:58:10\",50.12569046020508,-1.2145593166351318],[\"2024-05-11T22:18:40\",50.117122650146484,-1.2530080080032349],[\"2024-05-11T22:39:19\",50.070945739746094,-1.2335284948349],[\"2024-05-11T22:59:50\",50.07299041748047,-1.1892544031143188],[\"2024-05-11T23:14:59\",50.124855041503906,-1.1174752712249756],[\"2024-05-11T23:35:20\",50.149261474609375,-1.0425633192062378],[\"2024-05-11T23:55:50\",50.125606536865234,-0.9654960632324219],[\"2024-05-12T00:16:19\",50.078277587890625,-0.9403473138809204],[\"2024-05-12T00:37:19\",50.07444763183594,-0.9075692296028137],[\"2024-05-12T00:58:16\",50.0711669921875,-0.8403612375259399],[\"2024-05-12T01:18:39\",50.08930969238281,-0.7898826003074646],[\"2024-05-12T01:39:22\",50.12662887573242,-0.738922119140625],[\"2024-05-12T01:59:47\",50.1346321105957,-0.6748467087745667],[\"2024-05-12T02:19:57\",50.12525939941406,-0.6252472400665283],[\"2024-05-12T02:34:57\",50.08526611328125,-0.5964239835739136],[\"2024-05-12T02:55:18\",50.0775032043457,-0.5750259160995483],[\"2024-05-12T03:15:27\",50.089969635009766,-0.5269591808319092],[\"2024-05-12T03:34:50\",50.1255989074707,-0.4783957600593567],[\"2024-05-12T03:55:47\",50.1315803527832,-0.47081851959228516],[\"2024-05-12T04:13:48\",50.1231689453125,-0.452875554561615],[\"2024-05-12T04:34:50\",50.101871490478516,-0.4309290647506714],[\"2024-05-12T04:55:47\",50.09942626953125,-0.4229556918144226],[\"2024-05-12T05:16:46\",50.08070755004883,-0.4248465895652771],[\"2024-05-12T05:37:48\",50.068660736083984,-0.43098610639572144],[\"2024-05-12T05:58:49\",50.082950592041016,-0.4634994864463806],[\"2024-05-12T06:13:45\",50.1246452331543,-0.464972585439682],[\"2024-05-12T06:34:50\",50.134674072265625,-0.40074673295021057],[\"2024-05-12T06:52:49\",50.12648391723633,-0.39797118306159973],[\"2024-05-12T07:13:51\",50.07804489135742,-0.3386112153530121],[\"2024-05-12T07:34:49\",50.0706901550293,-0.31218263506889343],[\"2024-05-12T07:52:46\",50.07588577270508,-0.27185097336769104],[\"2024-05-12T08:16:47\",50.120479583740234,-0.22606393694877625],[\"2024-05-12T08:37:46\",50.12969970703125,-0.18465742468833923],[\"2024-05-12T08:58:49\",50.12131118774414,-0.15841402113437653],[\"2024-05-12T09:13:44\",50.072662353515625,-0.07753196358680725],[\"2024-05-12T09:34:47\",50.04123306274414,-0.029119456186890602],[\"2024-05-12T09:52:47\",49.98125457763672,0.041818033903837204],[\"2024-05-12T10:14:33\",49.97309875488281,0.05516239255666733],[\"2024-05-12T10:34:50\",49.929378509521484,0.13308611512184143],[\"2024-05-12T10:56:32\",49.925941467285156,0.20263585448265076],[\"2024-05-12T11:17:42\",49.90892028808594,0.28312841057777405],[\"2024-05-12T11:38:02\",49.86812210083008,0.35132157802581787],[\"2024-05-12T11:58:12\",49.819419860839844,0.4515250027179718],[\"2024-05-12T12:19:16\",49.75975799560547,0.5109202861785889],[\"2024-05-12T12:39:32\",49.748111724853516,0.5870609283447266],[\"2024-05-12T12:54:59\",49.71773910522461,0.6947996616363525],[\"2024-05-12T13:14:57\",49.69822311401367,0.8164535164833069],[\"2024-05-12T13:35:07\",49.72080612182617,0.9560261368751526],[\"2024-05-12T13:55:25\",49.76569747924805,1.1150425672531128],[\"2024-05-12T14:13:55\",49.831844329833984,1.1869690418243408],[\"2024-05-12T14:22:12\",49.911251068115234,1.2216087579727173],[\"2024-05-12T18:12:54\",50.815345764160156,1.5376015901565552],[\"2024-05-12T18:37:55\",50.90495300292969,1.5744456052780151],[\"2024-05-12T18:53:25\",50.9788703918457,1.6363918781280518],[\"2024-05-12T19:19:01\",51.08702850341797,1.725953459739685],[\"2024-05-12T19:37:24\",51.17066192626953,1.80078125],[\"2024-05-12T20:14:58\",51.336997985839844,1.9757155179977417],[\"2024-05-12T20:15:18\",51.358314514160156,2.014012336730957],[\"2024-05-12T21:36:39\",51.40771484375,2.642827272415161],[\"2024-05-12T21:56:59\",51.42356491088867,2.721409797668457],[\"2024-05-12T22:17:19\",51.4171142578125,2.811415672302246],[\"2024-05-12T22:37:29\",51.40314483642578,2.918250560760498],[\"2024-05-12T22:57:59\",51.38685989379883,3.0060462951660156],[\"2024-05-12T23:17:59\",51.37814712524414,3.136733293533325],[\"2024-05-12T23:39:10\",51.380096435546875,3.227125883102417],[\"2024-05-12T23:59:52\",51.36497116088867,3.3427891731262207]],\"geo\":\"geo\",\"hovertemplate\":\"\\u003cb\\u003e%{hovertext}\\u003c\\u002fb\\u003e\\u003cbr\\u003e\\u003cbr\\u003evesselId=61e9f415b937134a3c4c0063\\u003cbr\\u003elatitude_predicted=%{customdata[1]:.3f}\\u003cbr\\u003elongitude_predicted=%{customdata[2]:.3f}\\u003cbr\\u003etime=%{customdata[0]}\\u003cextra\\u003e\\u003c\\u002fextra\\u003e\",\"hovertext\":[\"61e9f415b937134a3c4c0063\",\"61e9f415b937134a3c4c0063\",\"61e9f415b937134a3c4c0063\",\"61e9f415b937134a3c4c0063\",\"61e9f415b937134a3c4c0063\",\"61e9f415b937134a3c4c0063\",\"61e9f415b937134a3c4c0063\",\"61e9f415b937134a3c4c0063\",\"61e9f415b937134a3c4c0063\",\"61e9f415b937134a3c4c0063\",\"61e9f415b937134a3c4c0063\",\"61e9f415b937134a3c4c0063\",\"61e9f415b937134a3c4c0063\",\"61e9f415b937134a3c4c0063\",\"61e9f415b937134a3c4c0063\",\"61e9f415b937134a3c4c0063\",\"61e9f415b937134a3c4c0063\",\"61e9f415b937134a3c4c0063\",\"61e9f415b937134a3c4c0063\",\"61e9f415b937134a3c4c0063\",\"61e9f415b937134a3c4c0063\",\"61e9f415b937134a3c4c0063\",\"61e9f415b937134a3c4c0063\",\"61e9f415b937134a3c4c0063\",\"61e9f415b937134a3c4c0063\",\"61e9f415b937134a3c4c0063\",\"61e9f415b937134a3c4c0063\",\"61e9f415b937134a3c4c0063\",\"61e9f415b937134a3c4c0063\",\"61e9f415b937134a3c4c0063\",\"61e9f415b937134a3c4c0063\",\"61e9f415b937134a3c4c0063\",\"61e9f415b937134a3c4c0063\",\"61e9f415b937134a3c4c0063\",\"61e9f415b937134a3c4c0063\",\"61e9f415b937134a3c4c0063\",\"61e9f415b937134a3c4c0063\",\"61e9f415b937134a3c4c0063\",\"61e9f415b937134a3c4c0063\",\"61e9f415b937134a3c4c0063\",\"61e9f415b937134a3c4c0063\",\"61e9f415b937134a3c4c0063\",\"61e9f415b937134a3c4c0063\",\"61e9f415b937134a3c4c0063\",\"61e9f415b937134a3c4c0063\",\"61e9f415b937134a3c4c0063\",\"61e9f415b937134a3c4c0063\",\"61e9f415b937134a3c4c0063\",\"61e9f415b937134a3c4c0063\",\"61e9f415b937134a3c4c0063\",\"61e9f415b937134a3c4c0063\",\"61e9f415b937134a3c4c0063\",\"61e9f415b937134a3c4c0063\",\"61e9f415b937134a3c4c0063\",\"61e9f415b937134a3c4c0063\",\"61e9f415b937134a3c4c0063\",\"61e9f415b937134a3c4c0063\",\"61e9f415b937134a3c4c0063\",\"61e9f415b937134a3c4c0063\",\"61e9f415b937134a3c4c0063\",\"61e9f415b937134a3c4c0063\",\"61e9f415b937134a3c4c0063\",\"61e9f415b937134a3c4c0063\",\"61e9f415b937134a3c4c0063\",\"61e9f415b937134a3c4c0063\",\"61e9f415b937134a3c4c0063\",\"61e9f415b937134a3c4c0063\",\"61e9f415b937134a3c4c0063\",\"61e9f415b937134a3c4c0063\",\"61e9f415b937134a3c4c0063\",\"61e9f415b937134a3c4c0063\",\"61e9f415b937134a3c4c0063\",\"61e9f415b937134a3c4c0063\",\"61e9f415b937134a3c4c0063\",\"61e9f415b937134a3c4c0063\",\"61e9f415b937134a3c4c0063\",\"61e9f415b937134a3c4c0063\",\"61e9f415b937134a3c4c0063\",\"61e9f415b937134a3c4c0063\",\"61e9f415b937134a3c4c0063\",\"61e9f415b937134a3c4c0063\",\"61e9f415b937134a3c4c0063\",\"61e9f415b937134a3c4c0063\",\"61e9f415b937134a3c4c0063\",\"61e9f415b937134a3c4c0063\",\"61e9f415b937134a3c4c0063\",\"61e9f415b937134a3c4c0063\",\"61e9f415b937134a3c4c0063\",\"61e9f415b937134a3c4c0063\",\"61e9f415b937134a3c4c0063\",\"61e9f415b937134a3c4c0063\",\"61e9f415b937134a3c4c0063\",\"61e9f415b937134a3c4c0063\",\"61e9f415b937134a3c4c0063\",\"61e9f415b937134a3c4c0063\",\"61e9f415b937134a3c4c0063\",\"61e9f415b937134a3c4c0063\",\"61e9f415b937134a3c4c0063\",\"61e9f415b937134a3c4c0063\",\"61e9f415b937134a3c4c0063\",\"61e9f415b937134a3c4c0063\",\"61e9f415b937134a3c4c0063\",\"61e9f415b937134a3c4c0063\",\"61e9f415b937134a3c4c0063\",\"61e9f415b937134a3c4c0063\",\"61e9f415b937134a3c4c0063\",\"61e9f415b937134a3c4c0063\",\"61e9f415b937134a3c4c0063\",\"61e9f415b937134a3c4c0063\",\"61e9f415b937134a3c4c0063\",\"61e9f415b937134a3c4c0063\",\"61e9f415b937134a3c4c0063\",\"61e9f415b937134a3c4c0063\",\"61e9f415b937134a3c4c0063\",\"61e9f415b937134a3c4c0063\",\"61e9f415b937134a3c4c0063\",\"61e9f415b937134a3c4c0063\",\"61e9f415b937134a3c4c0063\",\"61e9f415b937134a3c4c0063\",\"61e9f415b937134a3c4c0063\",\"61e9f415b937134a3c4c0063\",\"61e9f415b937134a3c4c0063\",\"61e9f415b937134a3c4c0063\",\"61e9f415b937134a3c4c0063\",\"61e9f415b937134a3c4c0063\",\"61e9f415b937134a3c4c0063\",\"61e9f415b937134a3c4c0063\",\"61e9f415b937134a3c4c0063\",\"61e9f415b937134a3c4c0063\",\"61e9f415b937134a3c4c0063\",\"61e9f415b937134a3c4c0063\",\"61e9f415b937134a3c4c0063\",\"61e9f415b937134a3c4c0063\",\"61e9f415b937134a3c4c0063\",\"61e9f415b937134a3c4c0063\",\"61e9f415b937134a3c4c0063\",\"61e9f415b937134a3c4c0063\",\"61e9f415b937134a3c4c0063\",\"61e9f415b937134a3c4c0063\",\"61e9f415b937134a3c4c0063\",\"61e9f415b937134a3c4c0063\",\"61e9f415b937134a3c4c0063\",\"61e9f415b937134a3c4c0063\",\"61e9f415b937134a3c4c0063\",\"61e9f415b937134a3c4c0063\",\"61e9f415b937134a3c4c0063\",\"61e9f415b937134a3c4c0063\",\"61e9f415b937134a3c4c0063\",\"61e9f415b937134a3c4c0063\",\"61e9f415b937134a3c4c0063\",\"61e9f415b937134a3c4c0063\",\"61e9f415b937134a3c4c0063\",\"61e9f415b937134a3c4c0063\",\"61e9f415b937134a3c4c0063\",\"61e9f415b937134a3c4c0063\",\"61e9f415b937134a3c4c0063\",\"61e9f415b937134a3c4c0063\",\"61e9f415b937134a3c4c0063\",\"61e9f415b937134a3c4c0063\",\"61e9f415b937134a3c4c0063\",\"61e9f415b937134a3c4c0063\",\"61e9f415b937134a3c4c0063\",\"61e9f415b937134a3c4c0063\",\"61e9f415b937134a3c4c0063\",\"61e9f415b937134a3c4c0063\",\"61e9f415b937134a3c4c0063\",\"61e9f415b937134a3c4c0063\",\"61e9f415b937134a3c4c0063\",\"61e9f415b937134a3c4c0063\",\"61e9f415b937134a3c4c0063\",\"61e9f415b937134a3c4c0063\",\"61e9f415b937134a3c4c0063\",\"61e9f415b937134a3c4c0063\",\"61e9f415b937134a3c4c0063\",\"61e9f415b937134a3c4c0063\",\"61e9f415b937134a3c4c0063\",\"61e9f415b937134a3c4c0063\",\"61e9f415b937134a3c4c0063\",\"61e9f415b937134a3c4c0063\",\"61e9f415b937134a3c4c0063\",\"61e9f415b937134a3c4c0063\",\"61e9f415b937134a3c4c0063\",\"61e9f415b937134a3c4c0063\",\"61e9f415b937134a3c4c0063\",\"61e9f415b937134a3c4c0063\",\"61e9f415b937134a3c4c0063\",\"61e9f415b937134a3c4c0063\",\"61e9f415b937134a3c4c0063\",\"61e9f415b937134a3c4c0063\",\"61e9f415b937134a3c4c0063\",\"61e9f415b937134a3c4c0063\",\"61e9f415b937134a3c4c0063\",\"61e9f415b937134a3c4c0063\",\"61e9f415b937134a3c4c0063\",\"61e9f415b937134a3c4c0063\",\"61e9f415b937134a3c4c0063\",\"61e9f415b937134a3c4c0063\",\"61e9f415b937134a3c4c0063\",\"61e9f415b937134a3c4c0063\",\"61e9f415b937134a3c4c0063\",\"61e9f415b937134a3c4c0063\",\"61e9f415b937134a3c4c0063\",\"61e9f415b937134a3c4c0063\",\"61e9f415b937134a3c4c0063\",\"61e9f415b937134a3c4c0063\",\"61e9f415b937134a3c4c0063\",\"61e9f415b937134a3c4c0063\",\"61e9f415b937134a3c4c0063\",\"61e9f415b937134a3c4c0063\",\"61e9f415b937134a3c4c0063\",\"61e9f415b937134a3c4c0063\",\"61e9f415b937134a3c4c0063\",\"61e9f415b937134a3c4c0063\",\"61e9f415b937134a3c4c0063\",\"61e9f415b937134a3c4c0063\",\"61e9f415b937134a3c4c0063\",\"61e9f415b937134a3c4c0063\",\"61e9f415b937134a3c4c0063\",\"61e9f415b937134a3c4c0063\"],\"lat\":[50.022789001464844,50.02365493774414,50.07394027709961,50.113433837890625,50.132713317871094,50.13289260864258,50.09311294555664,50.06367492675781,50.06989288330078,50.120975494384766,50.13275146484375,50.11650466918945,50.07615661621094,50.05870819091797,50.080291748046875,50.13270950317383,50.147281646728516,50.13283920288086,50.08932113647461,50.04292678833008,49.97211837768555,49.91377258300781,49.870155334472656,49.79817581176758,49.74677276611328,49.658546447753906,49.563961029052734,49.40448760986328,49.392940521240234,49.45682907104492,49.48496627807617,49.47470474243164,49.46718978881836,49.85476303100586,49.88142013549805,49.92781448364258,49.935813903808594,49.98872375488281,50.06726837158203,50.176788330078125,50.28256607055664,50.35551452636719,51.53091049194336,51.65495300292969,51.743370056152344,52.03789520263672,52.08494567871094,52.169734954833984,52.20582962036133,52.23823165893555,52.32725524902344,52.36176681518555,52.32319259643555,52.20353698730469,52.184940338134766,52.10251235961914,52.049041748046875,51.95705795288086,51.9493522644043,51.90874481201172,51.85437774658203,51.89469528198242,51.970706939697266,52.00767135620117,52.049407958984375,52.134124755859375,52.147884368896484,52.08544921875,52.05562210083008,52.06726837158203,52.09872055053711,52.06373977661133,52.03858184814453,51.987709045410156,51.979583740234375,51.97162628173828,52.004478454589844,52.06541061401367,52.107791900634766,52.15355682373047,52.146324157714844,52.087677001953125,52.007572174072266,51.95571517944336,51.99027633666992,52.07609176635742,52.14491271972656,52.1661491394043,52.09413146972656,52.0528450012207,52.05860900878906,52.0902099609375,52.16183090209961,52.15778732299805,52.09475326538086,52.07781219482422,50.81570816040039,49.868770599365234,49.80249786376953,49.73664474487305,49.66730880737305,49.54222869873047,49.43408966064453,49.24821090698242,49.31655502319336,49.31989669799805,49.290218353271484,49.185420989990234,49.20566177368164,49.31621170043945,49.34343719482422,49.33897018432617,49.258399963378906,49.24032974243164,49.266483306884766,49.32196807861328,49.32509231567383,49.27299880981445,49.286834716796875,49.353153228759766,49.40598678588867,49.536041259765625,49.59020233154297,49.67063522338867,49.77838134765625,49.87285614013672,49.91732406616211,49.94108200073242,49.973228454589844,50.01917266845703,50.059654235839844,50.1457405090332,50.17756652832031,50.22959518432617,50.228878021240234,50.19309997558594,50.15867233276367,50.18027877807617,50.21449279785156,50.20885467529297,50.17841339111328,50.174232482910156,50.18363571166992,50.206939697265625,50.210060119628906,50.215091705322266,50.208518981933594,50.19001388549805,50.13859939575195,50.113704681396484,50.061180114746094,50.06140899658203,50.09589385986328,50.12569046020508,50.117122650146484,50.070945739746094,50.07299041748047,50.124855041503906,50.149261474609375,50.125606536865234,50.078277587890625,50.07444763183594,50.0711669921875,50.08930969238281,50.12662887573242,50.1346321105957,50.12525939941406,50.08526611328125,50.0775032043457,50.089969635009766,50.1255989074707,50.1315803527832,50.1231689453125,50.101871490478516,50.09942626953125,50.08070755004883,50.068660736083984,50.082950592041016,50.1246452331543,50.134674072265625,50.12648391723633,50.07804489135742,50.0706901550293,50.07588577270508,50.120479583740234,50.12969970703125,50.12131118774414,50.072662353515625,50.04123306274414,49.98125457763672,49.97309875488281,49.929378509521484,49.925941467285156,49.90892028808594,49.86812210083008,49.819419860839844,49.75975799560547,49.748111724853516,49.71773910522461,49.69822311401367,49.72080612182617,49.76569747924805,49.831844329833984,49.911251068115234,50.815345764160156,50.90495300292969,50.9788703918457,51.08702850341797,51.17066192626953,51.336997985839844,51.358314514160156,51.40771484375,51.42356491088867,51.4171142578125,51.40314483642578,51.38685989379883,51.37814712524414,51.380096435546875,51.36497116088867],\"legendgroup\":\"61e9f415b937134a3c4c0063\",\"line\":{\"color\":\"#636EFA\",\"dash\":\"solid\"},\"lon\":[-2.359675168991089,-2.3609089851379395,-2.575458526611328,-2.6301510334014893,-2.6889047622680664,-2.832087993621826,-2.9225547313690186,-2.9725615978240967,-3.026416063308716,-3.083540916442871,-3.172898292541504,-3.269788980484009,-3.351243019104004,-3.3850741386413574,-3.4621241092681885,-3.5638809204101562,-3.63980770111084,-3.8293228149414062,-3.910161018371582,-4.001106262207031,-4.078855514526367,-4.16901969909668,-4.211450099945068,-4.310742378234863,-4.3765106201171875,-4.489902973175049,-4.553340911865234,-4.635128498077393,-4.747687816619873,-4.884558200836182,-4.984841346740723,-5.144734859466553,-5.538301467895508,-7.276738166809082,-7.367016792297363,-7.486347198486328,-7.493014335632324,-7.4182963371276855,-7.410689830780029,-7.43655252456665,-7.437900543212891,-7.436712265014648,-6.843469619750977,-6.749985218048096,-6.798699378967285,-6.919175624847412,-6.805897235870361,-6.6956682205200195,-6.470582962036133,-6.441659927368164,-6.506247043609619,-6.624222278594971,-6.680017471313477,-6.671855449676514,-6.529538631439209,-6.453937530517578,-6.4864373207092285,-6.603789329528809,-6.655844211578369,-6.674363613128662,-6.553196430206299,-6.504105567932129,-6.406008243560791,-6.3918561935424805,-6.3972344398498535,-6.434095859527588,-6.520049095153809,-6.653334617614746,-6.713696479797363,-6.666687488555908,-6.516261577606201,-6.522684574127197,-6.558903694152832,-6.649258613586426,-6.6550188064575195,-6.645124435424805,-6.559272289276123,-6.478236675262451,-6.515710353851318,-6.6511640548706055,-6.661264896392822,-6.635000228881836,-6.501779556274414,-6.479637622833252,-6.519460678100586,-6.638659954071045,-6.643581867218018,-6.522826671600342,-6.465147495269775,-6.4994330406188965,-6.6296844482421875,-6.7121171951293945,-6.688059329986572,-6.509586334228516,-6.413507461547852,-6.467955112457275,-6.674137592315674,-6.118067264556885,-5.985398769378662,-5.866572380065918,-5.756796836853027,-5.567047119140625,-5.4051079750061035,-3.9544599056243896,-3.7728636264801025,-3.6748905181884766,-3.6329543590545654,-3.4953012466430664,-3.2551016807556152,-3.14782452583313,-3.1108179092407227,-3.016629695892334,-2.9144203662872314,-2.8293917179107666,-2.716125011444092,-2.665476083755493,-2.564845561981201,-2.469296932220459,-2.4058384895324707,-2.3236238956451416,-2.1198768615722656,-1.9430785179138184,-1.8550045490264893,-1.7420408725738525,-1.6276006698608398,-1.485634446144104,-1.360832929611206,-1.2157249450683594,-1.1916974782943726,-1.1249269247055054,-1.1012767553329468,-1.0994406938552856,-1.094528317451477,-1.0770201683044434,-1.0758646726608276,-1.0679315328598022,-1.1176220178604126,-1.1143296957015991,-1.0847804546356201,-1.0547479391098022,-0.9830309748649597,-0.960472583770752,-0.9562169313430786,-0.9781179428100586,-0.9908217787742615,-0.9775651097297668,-0.9622625112533569,-0.9834046959877014,-1.0730385780334473,-1.0755202770233154,-1.082979679107666,-1.1529161930084229,-1.201286792755127,-1.2145593166351318,-1.2530080080032349,-1.2335284948349,-1.1892544031143188,-1.1174752712249756,-1.0425633192062378,-0.9654960632324219,-0.9403473138809204,-0.9075692296028137,-0.8403612375259399,-0.7898826003074646,-0.738922119140625,-0.6748467087745667,-0.6252472400665283,-0.5964239835739136,-0.5750259160995483,-0.5269591808319092,-0.4783957600593567,-0.47081851959228516,-0.452875554561615,-0.4309290647506714,-0.4229556918144226,-0.4248465895652771,-0.43098610639572144,-0.4634994864463806,-0.464972585439682,-0.40074673295021057,-0.39797118306159973,-0.3386112153530121,-0.31218263506889343,-0.27185097336769104,-0.22606393694877625,-0.18465742468833923,-0.15841402113437653,-0.07753196358680725,-0.029119456186890602,0.041818033903837204,0.05516239255666733,0.13308611512184143,0.20263585448265076,0.28312841057777405,0.35132157802581787,0.4515250027179718,0.5109202861785889,0.5870609283447266,0.6947996616363525,0.8164535164833069,0.9560261368751526,1.1150425672531128,1.1869690418243408,1.2216087579727173,1.5376015901565552,1.5744456052780151,1.6363918781280518,1.725953459739685,1.80078125,1.9757155179977417,2.014012336730957,2.642827272415161,2.721409797668457,2.811415672302246,2.918250560760498,3.0060462951660156,3.136733293533325,3.227125883102417,3.3427891731262207],\"marker\":{\"symbol\":\"circle\"},\"mode\":\"lines\",\"name\":\"61e9f415b937134a3c4c0063\",\"showlegend\":true,\"type\":\"scattergeo\"},{\"hoverinfo\":\"text\",\"lat\":[50.022789001464844,50.02365493774414,50.07394027709961,50.113433837890625,50.132713317871094,50.13289260864258,50.09311294555664,50.06367492675781,50.06989288330078,50.120975494384766,50.13275146484375,50.11650466918945,50.07615661621094,50.05870819091797,50.080291748046875,50.13270950317383,50.147281646728516,50.13283920288086,50.08932113647461,50.04292678833008,49.97211837768555,49.91377258300781,49.870155334472656,49.79817581176758,49.74677276611328,49.658546447753906,49.563961029052734,49.40448760986328,49.392940521240234,49.45682907104492,49.48496627807617,49.47470474243164,49.46718978881836,49.85476303100586,49.88142013549805,49.92781448364258,49.935813903808594,49.98872375488281,50.06726837158203,50.176788330078125,50.28256607055664,50.35551452636719,51.53091049194336,51.65495300292969,51.743370056152344,52.03789520263672,52.08494567871094,52.169734954833984,52.20582962036133,52.23823165893555,52.32725524902344,52.36176681518555,52.32319259643555,52.20353698730469,52.184940338134766,52.10251235961914,52.049041748046875,51.95705795288086,51.9493522644043,51.90874481201172,51.85437774658203,51.89469528198242,51.970706939697266,52.00767135620117,52.049407958984375,52.134124755859375,52.147884368896484,52.08544921875,52.05562210083008,52.06726837158203,52.09872055053711,52.06373977661133,52.03858184814453,51.987709045410156,51.979583740234375,51.97162628173828,52.004478454589844,52.06541061401367,52.107791900634766,52.15355682373047,52.146324157714844,52.087677001953125,52.007572174072266,51.95571517944336,51.99027633666992,52.07609176635742,52.14491271972656,52.1661491394043,52.09413146972656,52.0528450012207,52.05860900878906,52.0902099609375,52.16183090209961,52.15778732299805,52.09475326538086,52.07781219482422,50.81570816040039,49.868770599365234,49.80249786376953,49.73664474487305,49.66730880737305,49.54222869873047,49.43408966064453,49.24821090698242,49.31655502319336,49.31989669799805,49.290218353271484,49.185420989990234,49.20566177368164,49.31621170043945,49.34343719482422,49.33897018432617,49.258399963378906,49.24032974243164,49.266483306884766,49.32196807861328,49.32509231567383,49.27299880981445,49.286834716796875,49.353153228759766,49.40598678588867,49.536041259765625,49.59020233154297,49.67063522338867,49.77838134765625,49.87285614013672,49.91732406616211,49.94108200073242,49.973228454589844,50.01917266845703,50.059654235839844,50.1457405090332,50.17756652832031,50.22959518432617,50.228878021240234,50.19309997558594,50.15867233276367,50.18027877807617,50.21449279785156,50.20885467529297,50.17841339111328,50.174232482910156,50.18363571166992,50.206939697265625,50.210060119628906,50.215091705322266,50.208518981933594,50.19001388549805,50.13859939575195,50.113704681396484,50.061180114746094,50.06140899658203,50.09589385986328,50.12569046020508,50.117122650146484,50.070945739746094,50.07299041748047,50.124855041503906,50.149261474609375,50.125606536865234,50.078277587890625,50.07444763183594,50.0711669921875,50.08930969238281,50.12662887573242,50.1346321105957,50.12525939941406,50.08526611328125,50.0775032043457,50.089969635009766,50.1255989074707,50.1315803527832,50.1231689453125,50.101871490478516,50.09942626953125,50.08070755004883,50.068660736083984,50.082950592041016,50.1246452331543,50.134674072265625,50.12648391723633,50.07804489135742,50.0706901550293,50.07588577270508,50.120479583740234,50.12969970703125,50.12131118774414,50.072662353515625,50.04123306274414,49.98125457763672,49.97309875488281,49.929378509521484,49.925941467285156,49.90892028808594,49.86812210083008,49.819419860839844,49.75975799560547,49.748111724853516,49.71773910522461,49.69822311401367,49.72080612182617,49.76569747924805,49.831844329833984,49.911251068115234,50.815345764160156,50.90495300292969,50.9788703918457,51.08702850341797,51.17066192626953,51.336997985839844,51.358314514160156,51.40771484375,51.42356491088867,51.4171142578125,51.40314483642578,51.38685989379883,51.37814712524414,51.380096435546875,51.36497116088867],\"lon\":[-2.359675168991089,-2.3609089851379395,-2.575458526611328,-2.6301510334014893,-2.6889047622680664,-2.832087993621826,-2.9225547313690186,-2.9725615978240967,-3.026416063308716,-3.083540916442871,-3.172898292541504,-3.269788980484009,-3.351243019104004,-3.3850741386413574,-3.4621241092681885,-3.5638809204101562,-3.63980770111084,-3.8293228149414062,-3.910161018371582,-4.001106262207031,-4.078855514526367,-4.16901969909668,-4.211450099945068,-4.310742378234863,-4.3765106201171875,-4.489902973175049,-4.553340911865234,-4.635128498077393,-4.747687816619873,-4.884558200836182,-4.984841346740723,-5.144734859466553,-5.538301467895508,-7.276738166809082,-7.367016792297363,-7.486347198486328,-7.493014335632324,-7.4182963371276855,-7.410689830780029,-7.43655252456665,-7.437900543212891,-7.436712265014648,-6.843469619750977,-6.749985218048096,-6.798699378967285,-6.919175624847412,-6.805897235870361,-6.6956682205200195,-6.470582962036133,-6.441659927368164,-6.506247043609619,-6.624222278594971,-6.680017471313477,-6.671855449676514,-6.529538631439209,-6.453937530517578,-6.4864373207092285,-6.603789329528809,-6.655844211578369,-6.674363613128662,-6.553196430206299,-6.504105567932129,-6.406008243560791,-6.3918561935424805,-6.3972344398498535,-6.434095859527588,-6.520049095153809,-6.653334617614746,-6.713696479797363,-6.666687488555908,-6.516261577606201,-6.522684574127197,-6.558903694152832,-6.649258613586426,-6.6550188064575195,-6.645124435424805,-6.559272289276123,-6.478236675262451,-6.515710353851318,-6.6511640548706055,-6.661264896392822,-6.635000228881836,-6.501779556274414,-6.479637622833252,-6.519460678100586,-6.638659954071045,-6.643581867218018,-6.522826671600342,-6.465147495269775,-6.4994330406188965,-6.6296844482421875,-6.7121171951293945,-6.688059329986572,-6.509586334228516,-6.413507461547852,-6.467955112457275,-6.674137592315674,-6.118067264556885,-5.985398769378662,-5.866572380065918,-5.756796836853027,-5.567047119140625,-5.4051079750061035,-3.9544599056243896,-3.7728636264801025,-3.6748905181884766,-3.6329543590545654,-3.4953012466430664,-3.2551016807556152,-3.14782452583313,-3.1108179092407227,-3.016629695892334,-2.9144203662872314,-2.8293917179107666,-2.716125011444092,-2.665476083755493,-2.564845561981201,-2.469296932220459,-2.4058384895324707,-2.3236238956451416,-2.1198768615722656,-1.9430785179138184,-1.8550045490264893,-1.7420408725738525,-1.6276006698608398,-1.485634446144104,-1.360832929611206,-1.2157249450683594,-1.1916974782943726,-1.1249269247055054,-1.1012767553329468,-1.0994406938552856,-1.094528317451477,-1.0770201683044434,-1.0758646726608276,-1.0679315328598022,-1.1176220178604126,-1.1143296957015991,-1.0847804546356201,-1.0547479391098022,-0.9830309748649597,-0.960472583770752,-0.9562169313430786,-0.9781179428100586,-0.9908217787742615,-0.9775651097297668,-0.9622625112533569,-0.9834046959877014,-1.0730385780334473,-1.0755202770233154,-1.082979679107666,-1.1529161930084229,-1.201286792755127,-1.2145593166351318,-1.2530080080032349,-1.2335284948349,-1.1892544031143188,-1.1174752712249756,-1.0425633192062378,-0.9654960632324219,-0.9403473138809204,-0.9075692296028137,-0.8403612375259399,-0.7898826003074646,-0.738922119140625,-0.6748467087745667,-0.6252472400665283,-0.5964239835739136,-0.5750259160995483,-0.5269591808319092,-0.4783957600593567,-0.47081851959228516,-0.452875554561615,-0.4309290647506714,-0.4229556918144226,-0.4248465895652771,-0.43098610639572144,-0.4634994864463806,-0.464972585439682,-0.40074673295021057,-0.39797118306159973,-0.3386112153530121,-0.31218263506889343,-0.27185097336769104,-0.22606393694877625,-0.18465742468833923,-0.15841402113437653,-0.07753196358680725,-0.029119456186890602,0.041818033903837204,0.05516239255666733,0.13308611512184143,0.20263585448265076,0.28312841057777405,0.35132157802581787,0.4515250027179718,0.5109202861785889,0.5870609283447266,0.6947996616363525,0.8164535164833069,0.9560261368751526,1.1150425672531128,1.1869690418243408,1.2216087579727173,1.5376015901565552,1.5744456052780151,1.6363918781280518,1.725953459739685,1.80078125,1.9757155179977417,2.014012336730957,2.642827272415161,2.721409797668457,2.811415672302246,2.918250560760498,3.0060462951660156,3.136733293533325,3.227125883102417,3.3427891731262207],\"marker\":{\"color\":\"#636EFA\",\"line\":{\"color\":\"DarkSlateGrey\",\"width\":1},\"opacity\":0.8,\"size\":8},\"mode\":\"markers\",\"name\":\"Markers for 61e9f415b937134a3c4c0063\",\"text\":[\"ID: 61e9f415b937134a3c4c0063\\u003cbr\\u003eTime: 2024-05-08 00:19:18\\u003cbr\\u003eLat: 50.023\\u003cbr\\u003eLon: -2.360\",\"ID: 61e9f415b937134a3c4c0063\\u003cbr\\u003eTime: 2024-05-08 00:21:48\\u003cbr\\u003eLat: 50.024\\u003cbr\\u003eLon: -2.361\",\"ID: 61e9f415b937134a3c4c0063\\u003cbr\\u003eTime: 2024-05-08 01:14:19\\u003cbr\\u003eLat: 50.074\\u003cbr\\u003eLon: -2.575\",\"ID: 61e9f415b937134a3c4c0063\\u003cbr\\u003eTime: 2024-05-08 01:33:00\\u003cbr\\u003eLat: 50.113\\u003cbr\\u003eLon: -2.630\",\"ID: 61e9f415b937134a3c4c0063\\u003cbr\\u003eTime: 2024-05-08 01:46:06\\u003cbr\\u003eLat: 50.133\\u003cbr\\u003eLon: -2.689\",\"ID: 61e9f415b937134a3c4c0063\\u003cbr\\u003eTime: 2024-05-08 02:16:18\\u003cbr\\u003eLat: 50.133\\u003cbr\\u003eLon: -2.832\",\"ID: 61e9f415b937134a3c4c0063\\u003cbr\\u003eTime: 2024-05-08 02:37:06\\u003cbr\\u003eLat: 50.093\\u003cbr\\u003eLon: -2.923\",\"ID: 61e9f415b937134a3c4c0063\\u003cbr\\u003eTime: 2024-05-08 02:57:19\\u003cbr\\u003eLat: 50.064\\u003cbr\\u003eLon: -2.973\",\"ID: 61e9f415b937134a3c4c0063\\u003cbr\\u003eTime: 2024-05-08 03:18:14\\u003cbr\\u003eLat: 50.070\\u003cbr\\u003eLon: -3.026\",\"ID: 61e9f415b937134a3c4c0063\\u003cbr\\u003eTime: 2024-05-08 03:38:44\\u003cbr\\u003eLat: 50.121\\u003cbr\\u003eLon: -3.084\",\"ID: 61e9f415b937134a3c4c0063\\u003cbr\\u003eTime: 2024-05-08 03:59:15\\u003cbr\\u003eLat: 50.133\\u003cbr\\u003eLon: -3.173\",\"ID: 61e9f415b937134a3c4c0063\\u003cbr\\u003eTime: 2024-05-08 04:19:15\\u003cbr\\u003eLat: 50.117\\u003cbr\\u003eLon: -3.270\",\"ID: 61e9f415b937134a3c4c0063\\u003cbr\\u003eTime: 2024-05-08 04:39:34\\u003cbr\\u003eLat: 50.076\\u003cbr\\u003eLon: -3.351\",\"ID: 61e9f415b937134a3c4c0063\\u003cbr\\u003eTime: 2024-05-08 04:59:54\\u003cbr\\u003eLat: 50.059\\u003cbr\\u003eLon: -3.385\",\"ID: 61e9f415b937134a3c4c0063\\u003cbr\\u003eTime: 2024-05-08 05:14:54\\u003cbr\\u003eLat: 50.080\\u003cbr\\u003eLon: -3.462\",\"ID: 61e9f415b937134a3c4c0063\\u003cbr\\u003eTime: 2024-05-08 05:35:14\\u003cbr\\u003eLat: 50.133\\u003cbr\\u003eLon: -3.564\",\"ID: 61e9f415b937134a3c4c0063\\u003cbr\\u003eTime: 2024-05-08 05:47:34\\u003cbr\\u003eLat: 50.147\\u003cbr\\u003eLon: -3.640\",\"ID: 61e9f415b937134a3c4c0063\\u003cbr\\u003eTime: 2024-05-08 06:17:14\\u003cbr\\u003eLat: 50.133\\u003cbr\\u003eLon: -3.829\",\"ID: 61e9f415b937134a3c4c0063\\u003cbr\\u003eTime: 2024-05-08 06:37:45\\u003cbr\\u003eLat: 50.089\\u003cbr\\u003eLon: -3.910\",\"ID: 61e9f415b937134a3c4c0063\\u003cbr\\u003eTime: 2024-05-08 06:58:15\\u003cbr\\u003eLat: 50.043\\u003cbr\\u003eLon: -4.001\",\"ID: 61e9f415b937134a3c4c0063\\u003cbr\\u003eTime: 2024-05-08 07:19:13\\u003cbr\\u003eLat: 49.972\\u003cbr\\u003eLon: -4.079\",\"ID: 61e9f415b937134a3c4c0063\\u003cbr\\u003eTime: 2024-05-08 07:39:54\\u003cbr\\u003eLat: 49.914\\u003cbr\\u003eLon: -4.169\",\"ID: 61e9f415b937134a3c4c0063\\u003cbr\\u003eTime: 2024-05-08 07:55:00\\u003cbr\\u003eLat: 49.870\\u003cbr\\u003eLon: -4.211\",\"ID: 61e9f415b937134a3c4c0063\\u003cbr\\u003eTime: 2024-05-08 08:15:00\\u003cbr\\u003eLat: 49.798\\u003cbr\\u003eLon: -4.311\",\"ID: 61e9f415b937134a3c4c0063\\u003cbr\\u003eTime: 2024-05-08 08:35:12\\u003cbr\\u003eLat: 49.747\\u003cbr\\u003eLon: -4.377\",\"ID: 61e9f415b937134a3c4c0063\\u003cbr\\u003eTime: 2024-05-08 08:56:13\\u003cbr\\u003eLat: 49.659\\u003cbr\\u003eLon: -4.490\",\"ID: 61e9f415b937134a3c4c0063\\u003cbr\\u003eTime: 2024-05-08 09:16:36\\u003cbr\\u003eLat: 49.564\\u003cbr\\u003eLon: -4.553\",\"ID: 61e9f415b937134a3c4c0063\\u003cbr\\u003eTime: 2024-05-08 09:37:18\\u003cbr\\u003eLat: 49.404\\u003cbr\\u003eLon: -4.635\",\"ID: 61e9f415b937134a3c4c0063\\u003cbr\\u003eTime: 2024-05-08 09:54:41\\u003cbr\\u003eLat: 49.393\\u003cbr\\u003eLon: -4.748\",\"ID: 61e9f415b937134a3c4c0063\\u003cbr\\u003eTime: 2024-05-08 10:14:08\\u003cbr\\u003eLat: 49.457\\u003cbr\\u003eLon: -4.885\",\"ID: 61e9f415b937134a3c4c0063\\u003cbr\\u003eTime: 2024-05-08 10:39:06\\u003cbr\\u003eLat: 49.485\\u003cbr\\u003eLon: -4.985\",\"ID: 61e9f415b937134a3c4c0063\\u003cbr\\u003eTime: 2024-05-08 11:10:20\\u003cbr\\u003eLat: 49.475\\u003cbr\\u003eLon: -5.145\",\"ID: 61e9f415b937134a3c4c0063\\u003cbr\\u003eTime: 2024-05-08 12:09:07\\u003cbr\\u003eLat: 49.467\\u003cbr\\u003eLon: -5.538\",\"ID: 61e9f415b937134a3c4c0063\\u003cbr\\u003eTime: 2024-05-08 17:26:31\\u003cbr\\u003eLat: 49.855\\u003cbr\\u003eLon: -7.277\",\"ID: 61e9f415b937134a3c4c0063\\u003cbr\\u003eTime: 2024-05-08 17:52:12\\u003cbr\\u003eLat: 49.881\\u003cbr\\u003eLon: -7.367\",\"ID: 61e9f415b937134a3c4c0063\\u003cbr\\u003eTime: 2024-05-08 18:15:00\\u003cbr\\u003eLat: 49.928\\u003cbr\\u003eLon: -7.486\",\"ID: 61e9f415b937134a3c4c0063\\u003cbr\\u003eTime: 2024-05-08 18:33:01\\u003cbr\\u003eLat: 49.936\\u003cbr\\u003eLon: -7.493\",\"ID: 61e9f415b937134a3c4c0063\\u003cbr\\u003eTime: 2024-05-08 18:55:36\\u003cbr\\u003eLat: 49.989\\u003cbr\\u003eLon: -7.418\",\"ID: 61e9f415b937134a3c4c0063\\u003cbr\\u003eTime: 2024-05-08 19:16:37\\u003cbr\\u003eLat: 50.067\\u003cbr\\u003eLon: -7.411\",\"ID: 61e9f415b937134a3c4c0063\\u003cbr\\u003eTime: 2024-05-08 19:36:48\\u003cbr\\u003eLat: 50.177\\u003cbr\\u003eLon: -7.437\",\"ID: 61e9f415b937134a3c4c0063\\u003cbr\\u003eTime: 2024-05-08 19:56:06\\u003cbr\\u003eLat: 50.283\\u003cbr\\u003eLon: -7.438\",\"ID: 61e9f415b937134a3c4c0063\\u003cbr\\u003eTime: 2024-05-08 20:14:43\\u003cbr\\u003eLat: 50.356\\u003cbr\\u003eLon: -7.437\",\"ID: 61e9f415b937134a3c4c0063\\u003cbr\\u003eTime: 2024-05-09 07:10:36\\u003cbr\\u003eLat: 51.531\\u003cbr\\u003eLon: -6.843\",\"ID: 61e9f415b937134a3c4c0063\\u003cbr\\u003eTime: 2024-05-09 07:38:19\\u003cbr\\u003eLat: 51.655\\u003cbr\\u003eLon: -6.750\",\"ID: 61e9f415b937134a3c4c0063\\u003cbr\\u003eTime: 2024-05-09 07:43:55\\u003cbr\\u003eLat: 51.743\\u003cbr\\u003eLon: -6.799\",\"ID: 61e9f415b937134a3c4c0063\\u003cbr\\u003eTime: 2024-05-09 08:19:37\\u003cbr\\u003eLat: 52.038\\u003cbr\\u003eLon: -6.919\",\"ID: 61e9f415b937134a3c4c0063\\u003cbr\\u003eTime: 2024-05-09 08:34:48\\u003cbr\\u003eLat: 52.085\\u003cbr\\u003eLon: -6.806\",\"ID: 61e9f415b937134a3c4c0063\\u003cbr\\u003eTime: 2024-05-09 08:55:00\\u003cbr\\u003eLat: 52.170\\u003cbr\\u003eLon: -6.696\",\"ID: 61e9f415b937134a3c4c0063\\u003cbr\\u003eTime: 2024-05-09 09:15:18\\u003cbr\\u003eLat: 52.206\\u003cbr\\u003eLon: -6.471\",\"ID: 61e9f415b937134a3c4c0063\\u003cbr\\u003eTime: 2024-05-09 09:35:36\\u003cbr\\u003eLat: 52.238\\u003cbr\\u003eLon: -6.442\",\"ID: 61e9f415b937134a3c4c0063\\u003cbr\\u003eTime: 2024-05-09 09:55:00\\u003cbr\\u003eLat: 52.327\\u003cbr\\u003eLon: -6.506\",\"ID: 61e9f415b937134a3c4c0063\\u003cbr\\u003eTime: 2024-05-09 10:15:55\\u003cbr\\u003eLat: 52.362\\u003cbr\\u003eLon: -6.624\",\"ID: 61e9f415b937134a3c4c0063\\u003cbr\\u003eTime: 2024-05-09 10:36:55\\u003cbr\\u003eLat: 52.323\\u003cbr\\u003eLon: -6.680\",\"ID: 61e9f415b937134a3c4c0063\\u003cbr\\u003eTime: 2024-05-09 10:57:26\\u003cbr\\u003eLat: 52.204\\u003cbr\\u003eLon: -6.672\",\"ID: 61e9f415b937134a3c4c0063\\u003cbr\\u003eTime: 2024-05-09 11:17:56\\u003cbr\\u003eLat: 52.185\\u003cbr\\u003eLon: -6.530\",\"ID: 61e9f415b937134a3c4c0063\\u003cbr\\u003eTime: 2024-05-09 11:38:37\\u003cbr\\u003eLat: 52.103\\u003cbr\\u003eLon: -6.454\",\"ID: 61e9f415b937134a3c4c0063\\u003cbr\\u003eTime: 2024-05-09 11:58:45\\u003cbr\\u003eLat: 52.049\\u003cbr\\u003eLon: -6.486\",\"ID: 61e9f415b937134a3c4c0063\\u003cbr\\u003eTime: 2024-05-09 12:19:16\\u003cbr\\u003eLat: 51.957\\u003cbr\\u003eLon: -6.604\",\"ID: 61e9f415b937134a3c4c0063\\u003cbr\\u003eTime: 2024-05-09 12:39:35\\u003cbr\\u003eLat: 51.949\\u003cbr\\u003eLon: -6.656\",\"ID: 61e9f415b937134a3c4c0063\\u003cbr\\u003eTime: 2024-05-09 12:54:56\\u003cbr\\u003eLat: 51.909\\u003cbr\\u003eLon: -6.674\",\"ID: 61e9f415b937134a3c4c0063\\u003cbr\\u003eTime: 2024-05-09 13:14:57\\u003cbr\\u003eLat: 51.854\\u003cbr\\u003eLon: -6.553\",\"ID: 61e9f415b937134a3c4c0063\\u003cbr\\u003eTime: 2024-05-09 13:23:37\\u003cbr\\u003eLat: 51.895\\u003cbr\\u003eLon: -6.504\",\"ID: 61e9f415b937134a3c4c0063\\u003cbr\\u003eTime: 2024-05-09 13:55:37\\u003cbr\\u003eLat: 51.971\\u003cbr\\u003eLon: -6.406\",\"ID: 61e9f415b937134a3c4c0063\\u003cbr\\u003eTime: 2024-05-09 14:14:24\\u003cbr\\u003eLat: 52.008\\u003cbr\\u003eLon: -6.392\",\"ID: 61e9f415b937134a3c4c0063\\u003cbr\\u003eTime: 2024-05-09 14:32:23\\u003cbr\\u003eLat: 52.049\\u003cbr\\u003eLon: -6.397\",\"ID: 61e9f415b937134a3c4c0063\\u003cbr\\u003eTime: 2024-05-09 14:56:23\\u003cbr\\u003eLat: 52.134\\u003cbr\\u003eLon: -6.434\",\"ID: 61e9f415b937134a3c4c0063\\u003cbr\\u003eTime: 2024-05-09 15:14:23\\u003cbr\\u003eLat: 52.148\\u003cbr\\u003eLon: -6.520\",\"ID: 61e9f415b937134a3c4c0063\\u003cbr\\u003eTime: 2024-05-09 15:32:23\\u003cbr\\u003eLat: 52.085\\u003cbr\\u003eLon: -6.653\",\"ID: 61e9f415b937134a3c4c0063\\u003cbr\\u003eTime: 2024-05-09 15:56:24\\u003cbr\\u003eLat: 52.056\\u003cbr\\u003eLon: -6.714\",\"ID: 61e9f415b937134a3c4c0063\\u003cbr\\u003eTime: 2024-05-09 16:14:25\\u003cbr\\u003eLat: 52.067\\u003cbr\\u003eLon: -6.667\",\"ID: 61e9f415b937134a3c4c0063\\u003cbr\\u003eTime: 2024-05-09 16:38:22\\u003cbr\\u003eLat: 52.099\\u003cbr\\u003eLon: -6.516\",\"ID: 61e9f415b937134a3c4c0063\\u003cbr\\u003eTime: 2024-05-09 16:50:23\\u003cbr\\u003eLat: 52.064\\u003cbr\\u003eLon: -6.523\",\"ID: 61e9f415b937134a3c4c0063\\u003cbr\\u003eTime: 2024-05-09 17:14:23\\u003cbr\\u003eLat: 52.039\\u003cbr\\u003eLon: -6.559\",\"ID: 61e9f415b937134a3c4c0063\\u003cbr\\u003eTime: 2024-05-09 17:32:21\\u003cbr\\u003eLat: 51.988\\u003cbr\\u003eLon: -6.649\",\"ID: 61e9f415b937134a3c4c0063\\u003cbr\\u003eTime: 2024-05-09 17:44:23\\u003cbr\\u003eLat: 51.980\\u003cbr\\u003eLon: -6.655\",\"ID: 61e9f415b937134a3c4c0063\\u003cbr\\u003eTime: 2024-05-09 18:14:21\\u003cbr\\u003eLat: 51.972\\u003cbr\\u003eLon: -6.645\",\"ID: 61e9f415b937134a3c4c0063\\u003cbr\\u003eTime: 2024-05-09 18:26:25\\u003cbr\\u003eLat: 52.004\\u003cbr\\u003eLon: -6.559\",\"ID: 61e9f415b937134a3c4c0063\\u003cbr\\u003eTime: 2024-05-09 18:56:22\\u003cbr\\u003eLat: 52.065\\u003cbr\\u003eLon: -6.478\",\"ID: 61e9f415b937134a3c4c0063\\u003cbr\\u003eTime: 2024-05-09 19:08:21\\u003cbr\\u003eLat: 52.108\\u003cbr\\u003eLon: -6.516\",\"ID: 61e9f415b937134a3c4c0063\\u003cbr\\u003eTime: 2024-05-09 19:32:27\\u003cbr\\u003eLat: 52.154\\u003cbr\\u003eLon: -6.651\",\"ID: 61e9f415b937134a3c4c0063\\u003cbr\\u003eTime: 2024-05-09 19:50:28\\u003cbr\\u003eLat: 52.146\\u003cbr\\u003eLon: -6.661\",\"ID: 61e9f415b937134a3c4c0063\\u003cbr\\u003eTime: 2024-05-09 20:08:22\\u003cbr\\u003eLat: 52.088\\u003cbr\\u003eLon: -6.635\",\"ID: 61e9f415b937134a3c4c0063\\u003cbr\\u003eTime: 2024-05-09 20:44:27\\u003cbr\\u003eLat: 52.008\\u003cbr\\u003eLon: -6.502\",\"ID: 61e9f415b937134a3c4c0063\\u003cbr\\u003eTime: 2024-05-09 21:15:03\\u003cbr\\u003eLat: 51.956\\u003cbr\\u003eLon: -6.480\",\"ID: 61e9f415b937134a3c4c0063\\u003cbr\\u003eTime: 2024-05-09 21:24:03\\u003cbr\\u003eLat: 51.990\\u003cbr\\u003eLon: -6.519\",\"ID: 61e9f415b937134a3c4c0063\\u003cbr\\u003eTime: 2024-05-09 21:56:05\\u003cbr\\u003eLat: 52.076\\u003cbr\\u003eLon: -6.639\",\"ID: 61e9f415b937134a3c4c0063\\u003cbr\\u003eTime: 2024-05-09 22:14:44\\u003cbr\\u003eLat: 52.145\\u003cbr\\u003eLon: -6.644\",\"ID: 61e9f415b937134a3c4c0063\\u003cbr\\u003eTime: 2024-05-09 22:36:23\\u003cbr\\u003eLat: 52.166\\u003cbr\\u003eLon: -6.523\",\"ID: 61e9f415b937134a3c4c0063\\u003cbr\\u003eTime: 2024-05-09 22:58:34\\u003cbr\\u003eLat: 52.094\\u003cbr\\u003eLon: -6.465\",\"ID: 61e9f415b937134a3c4c0063\\u003cbr\\u003eTime: 2024-05-09 23:18:43\\u003cbr\\u003eLat: 52.053\\u003cbr\\u003eLon: -6.499\",\"ID: 61e9f415b937134a3c4c0063\\u003cbr\\u003eTime: 2024-05-09 23:39:13\\u003cbr\\u003eLat: 52.059\\u003cbr\\u003eLon: -6.630\",\"ID: 61e9f415b937134a3c4c0063\\u003cbr\\u003eTime: 2024-05-09 23:59:43\\u003cbr\\u003eLat: 52.090\\u003cbr\\u003eLon: -6.712\",\"ID: 61e9f415b937134a3c4c0063\\u003cbr\\u003eTime: 2024-05-10 00:19:55\\u003cbr\\u003eLat: 52.162\\u003cbr\\u003eLon: -6.688\",\"ID: 61e9f415b937134a3c4c0063\\u003cbr\\u003eTime: 2024-05-10 00:34:43\\u003cbr\\u003eLat: 52.158\\u003cbr\\u003eLon: -6.510\",\"ID: 61e9f415b937134a3c4c0063\\u003cbr\\u003eTime: 2024-05-10 00:55:13\\u003cbr\\u003eLat: 52.095\\u003cbr\\u003eLon: -6.414\",\"ID: 61e9f415b937134a3c4c0063\\u003cbr\\u003eTime: 2024-05-10 00:58:34\\u003cbr\\u003eLat: 52.078\\u003cbr\\u003eLon: -6.468\",\"ID: 61e9f415b937134a3c4c0063\\u003cbr\\u003eTime: 2024-05-10 18:26:18\\u003cbr\\u003eLat: 50.816\\u003cbr\\u003eLon: -6.674\",\"ID: 61e9f415b937134a3c4c0063\\u003cbr\\u003eTime: 2024-05-10 23:31:23\\u003cbr\\u003eLat: 49.869\\u003cbr\\u003eLon: -6.118\",\"ID: 61e9f415b937134a3c4c0063\\u003cbr\\u003eTime: 2024-05-10 23:57:23\\u003cbr\\u003eLat: 49.802\\u003cbr\\u003eLon: -5.985\",\"ID: 61e9f415b937134a3c4c0063\\u003cbr\\u003eTime: 2024-05-11 00:17:54\\u003cbr\\u003eLat: 49.737\\u003cbr\\u003eLon: -5.867\",\"ID: 61e9f415b937134a3c4c0063\\u003cbr\\u003eTime: 2024-05-11 00:38:24\\u003cbr\\u003eLat: 49.667\\u003cbr\\u003eLon: -5.757\",\"ID: 61e9f415b937134a3c4c0063\\u003cbr\\u003eTime: 2024-05-11 00:58:44\\u003cbr\\u003eLat: 49.542\\u003cbr\\u003eLon: -5.567\",\"ID: 61e9f415b937134a3c4c0063\\u003cbr\\u003eTime: 2024-05-11 01:11:03\\u003cbr\\u003eLat: 49.434\\u003cbr\\u003eLon: -5.405\",\"ID: 61e9f415b937134a3c4c0063\\u003cbr\\u003eTime: 2024-05-11 04:37:43\\u003cbr\\u003eLat: 49.248\\u003cbr\\u003eLon: -3.954\",\"ID: 61e9f415b937134a3c4c0063\\u003cbr\\u003eTime: 2024-05-11 04:59:35\\u003cbr\\u003eLat: 49.317\\u003cbr\\u003eLon: -3.773\",\"ID: 61e9f415b937134a3c4c0063\\u003cbr\\u003eTime: 2024-05-11 05:13:34\\u003cbr\\u003eLat: 49.320\\u003cbr\\u003eLon: -3.675\",\"ID: 61e9f415b937134a3c4c0063\\u003cbr\\u003eTime: 2024-05-11 05:19:44\\u003cbr\\u003eLat: 49.290\\u003cbr\\u003eLon: -3.633\",\"ID: 61e9f415b937134a3c4c0063\\u003cbr\\u003eTime: 2024-05-11 05:44:34\\u003cbr\\u003eLat: 49.185\\u003cbr\\u003eLon: -3.495\",\"ID: 61e9f415b937134a3c4c0063\\u003cbr\\u003eTime: 2024-05-11 06:16:14\\u003cbr\\u003eLat: 49.206\\u003cbr\\u003eLon: -3.255\",\"ID: 61e9f415b937134a3c4c0063\\u003cbr\\u003eTime: 2024-05-11 06:36:53\\u003cbr\\u003eLat: 49.316\\u003cbr\\u003eLon: -3.148\",\"ID: 61e9f415b937134a3c4c0063\\u003cbr\\u003eTime: 2024-05-11 06:57:15\\u003cbr\\u003eLat: 49.343\\u003cbr\\u003eLon: -3.111\",\"ID: 61e9f415b937134a3c4c0063\\u003cbr\\u003eTime: 2024-05-11 07:17:53\\u003cbr\\u003eLat: 49.339\\u003cbr\\u003eLon: -3.017\",\"ID: 61e9f415b937134a3c4c0063\\u003cbr\\u003eTime: 2024-05-11 07:38:13\\u003cbr\\u003eLat: 49.258\\u003cbr\\u003eLon: -2.914\",\"ID: 61e9f415b937134a3c4c0063\\u003cbr\\u003eTime: 2024-05-11 07:58:33\\u003cbr\\u003eLat: 49.240\\u003cbr\\u003eLon: -2.829\",\"ID: 61e9f415b937134a3c4c0063\\u003cbr\\u003eTime: 2024-05-11 08:19:24\\u003cbr\\u003eLat: 49.266\\u003cbr\\u003eLon: -2.716\",\"ID: 61e9f415b937134a3c4c0063\\u003cbr\\u003eTime: 2024-05-11 08:39:53\\u003cbr\\u003eLat: 49.322\\u003cbr\\u003eLon: -2.665\",\"ID: 61e9f415b937134a3c4c0063\\u003cbr\\u003eTime: 2024-05-11 08:59:54\\u003cbr\\u003eLat: 49.325\\u003cbr\\u003eLon: -2.565\",\"ID: 61e9f415b937134a3c4c0063\\u003cbr\\u003eTime: 2024-05-11 09:15:04\\u003cbr\\u003eLat: 49.273\\u003cbr\\u003eLon: -2.469\",\"ID: 61e9f415b937134a3c4c0063\\u003cbr\\u003eTime: 2024-05-11 09:35:54\\u003cbr\\u003eLat: 49.287\\u003cbr\\u003eLon: -2.406\",\"ID: 61e9f415b937134a3c4c0063\\u003cbr\\u003eTime: 2024-05-11 09:47:34\\u003cbr\\u003eLat: 49.353\\u003cbr\\u003eLon: -2.324\",\"ID: 61e9f415b937134a3c4c0063\\u003cbr\\u003eTime: 2024-05-11 10:17:04\\u003cbr\\u003eLat: 49.406\\u003cbr\\u003eLon: -2.120\",\"ID: 61e9f415b937134a3c4c0063\\u003cbr\\u003eTime: 2024-05-11 10:37:13\\u003cbr\\u003eLat: 49.536\\u003cbr\\u003eLon: -1.943\",\"ID: 61e9f415b937134a3c4c0063\\u003cbr\\u003eTime: 2024-05-11 10:57:33\\u003cbr\\u003eLat: 49.590\\u003cbr\\u003eLon: -1.855\",\"ID: 61e9f415b937134a3c4c0063\\u003cbr\\u003eTime: 2024-05-11 11:18:03\\u003cbr\\u003eLat: 49.671\\u003cbr\\u003eLon: -1.742\",\"ID: 61e9f415b937134a3c4c0063\\u003cbr\\u003eTime: 2024-05-11 11:38:13\\u003cbr\\u003eLat: 49.778\\u003cbr\\u003eLon: -1.628\",\"ID: 61e9f415b937134a3c4c0063\\u003cbr\\u003eTime: 2024-05-11 11:58:54\\u003cbr\\u003eLat: 49.873\\u003cbr\\u003eLon: -1.486\",\"ID: 61e9f415b937134a3c4c0063\\u003cbr\\u003eTime: 2024-05-11 12:19:33\\u003cbr\\u003eLat: 49.917\\u003cbr\\u003eLon: -1.361\",\"ID: 61e9f415b937134a3c4c0063\\u003cbr\\u003eTime: 2024-05-11 12:39:53\\u003cbr\\u003eLat: 49.941\\u003cbr\\u003eLon: -1.216\",\"ID: 61e9f415b937134a3c4c0063\\u003cbr\\u003eTime: 2024-05-11 12:55:03\\u003cbr\\u003eLat: 49.973\\u003cbr\\u003eLon: -1.192\",\"ID: 61e9f415b937134a3c4c0063\\u003cbr\\u003eTime: 2024-05-11 13:15:13\\u003cbr\\u003eLat: 50.019\\u003cbr\\u003eLon: -1.125\",\"ID: 61e9f415b937134a3c4c0063\\u003cbr\\u003eTime: 2024-05-11 13:36:14\\u003cbr\\u003eLat: 50.060\\u003cbr\\u003eLon: -1.101\",\"ID: 61e9f415b937134a3c4c0063\\u003cbr\\u003eTime: 2024-05-11 13:56:54\\u003cbr\\u003eLat: 50.146\\u003cbr\\u003eLon: -1.099\",\"ID: 61e9f415b937134a3c4c0063\\u003cbr\\u003eTime: 2024-05-11 14:17:23\\u003cbr\\u003eLat: 50.178\\u003cbr\\u003eLon: -1.095\",\"ID: 61e9f415b937134a3c4c0063\\u003cbr\\u003eTime: 2024-05-11 14:38:15\\u003cbr\\u003eLat: 50.230\\u003cbr\\u003eLon: -1.077\",\"ID: 61e9f415b937134a3c4c0063\\u003cbr\\u003eTime: 2024-05-11 14:58:33\\u003cbr\\u003eLat: 50.229\\u003cbr\\u003eLon: -1.076\",\"ID: 61e9f415b937134a3c4c0063\\u003cbr\\u003eTime: 2024-05-11 15:19:13\\u003cbr\\u003eLat: 50.193\\u003cbr\\u003eLon: -1.068\",\"ID: 61e9f415b937134a3c4c0063\\u003cbr\\u003eTime: 2024-05-11 15:39:13\\u003cbr\\u003eLat: 50.159\\u003cbr\\u003eLon: -1.118\",\"ID: 61e9f415b937134a3c4c0063\\u003cbr\\u003eTime: 2024-05-11 15:59:14\\u003cbr\\u003eLat: 50.180\\u003cbr\\u003eLon: -1.114\",\"ID: 61e9f415b937134a3c4c0063\\u003cbr\\u003eTime: 2024-05-11 16:19:53\\u003cbr\\u003eLat: 50.214\\u003cbr\\u003eLon: -1.085\",\"ID: 61e9f415b937134a3c4c0063\\u003cbr\\u003eTime: 2024-05-11 16:34:54\\u003cbr\\u003eLat: 50.209\\u003cbr\\u003eLon: -1.055\",\"ID: 61e9f415b937134a3c4c0063\\u003cbr\\u003eTime: 2024-05-11 16:55:03\\u003cbr\\u003eLat: 50.178\\u003cbr\\u003eLon: -0.983\",\"ID: 61e9f415b937134a3c4c0063\\u003cbr\\u003eTime: 2024-05-11 17:15:04\\u003cbr\\u003eLat: 50.174\\u003cbr\\u003eLon: -0.960\",\"ID: 61e9f415b937134a3c4c0063\\u003cbr\\u003eTime: 2024-05-11 17:35:23\\u003cbr\\u003eLat: 50.184\\u003cbr\\u003eLon: -0.956\",\"ID: 61e9f415b937134a3c4c0063\\u003cbr\\u003eTime: 2024-05-11 17:51:53\\u003cbr\\u003eLat: 50.207\\u003cbr\\u003eLon: -0.978\",\"ID: 61e9f415b937134a3c4c0063\\u003cbr\\u003eTime: 2024-05-11 18:17:03\\u003cbr\\u003eLat: 50.210\\u003cbr\\u003eLon: -0.991\",\"ID: 61e9f415b937134a3c4c0063\\u003cbr\\u003eTime: 2024-05-11 18:36:53\\u003cbr\\u003eLat: 50.215\\u003cbr\\u003eLon: -0.978\",\"ID: 61e9f415b937134a3c4c0063\\u003cbr\\u003eTime: 2024-05-11 18:58:23\\u003cbr\\u003eLat: 50.209\\u003cbr\\u003eLon: -0.962\",\"ID: 61e9f415b937134a3c4c0063\\u003cbr\\u003eTime: 2024-05-11 19:09:34\\u003cbr\\u003eLat: 50.190\\u003cbr\\u003eLon: -0.983\",\"ID: 61e9f415b937134a3c4c0063\\u003cbr\\u003eTime: 2024-05-11 20:11:24\\u003cbr\\u003eLat: 50.139\\u003cbr\\u003eLon: -1.073\",\"ID: 61e9f415b937134a3c4c0063\\u003cbr\\u003eTime: 2024-05-11 20:35:24\\u003cbr\\u003eLat: 50.114\\u003cbr\\u003eLon: -1.076\",\"ID: 61e9f415b937134a3c4c0063\\u003cbr\\u003eTime: 2024-05-11 20:56:14\\u003cbr\\u003eLat: 50.061\\u003cbr\\u003eLon: -1.083\",\"ID: 61e9f415b937134a3c4c0063\\u003cbr\\u003eTime: 2024-05-11 21:17:16\\u003cbr\\u003eLat: 50.061\\u003cbr\\u003eLon: -1.153\",\"ID: 61e9f415b937134a3c4c0063\\u003cbr\\u003eTime: 2024-05-11 21:37:38\\u003cbr\\u003eLat: 50.096\\u003cbr\\u003eLon: -1.201\",\"ID: 61e9f415b937134a3c4c0063\\u003cbr\\u003eTime: 2024-05-11 21:58:10\\u003cbr\\u003eLat: 50.126\\u003cbr\\u003eLon: -1.215\",\"ID: 61e9f415b937134a3c4c0063\\u003cbr\\u003eTime: 2024-05-11 22:18:40\\u003cbr\\u003eLat: 50.117\\u003cbr\\u003eLon: -1.253\",\"ID: 61e9f415b937134a3c4c0063\\u003cbr\\u003eTime: 2024-05-11 22:39:19\\u003cbr\\u003eLat: 50.071\\u003cbr\\u003eLon: -1.234\",\"ID: 61e9f415b937134a3c4c0063\\u003cbr\\u003eTime: 2024-05-11 22:59:50\\u003cbr\\u003eLat: 50.073\\u003cbr\\u003eLon: -1.189\",\"ID: 61e9f415b937134a3c4c0063\\u003cbr\\u003eTime: 2024-05-11 23:14:59\\u003cbr\\u003eLat: 50.125\\u003cbr\\u003eLon: -1.117\",\"ID: 61e9f415b937134a3c4c0063\\u003cbr\\u003eTime: 2024-05-11 23:35:20\\u003cbr\\u003eLat: 50.149\\u003cbr\\u003eLon: -1.043\",\"ID: 61e9f415b937134a3c4c0063\\u003cbr\\u003eTime: 2024-05-11 23:55:50\\u003cbr\\u003eLat: 50.126\\u003cbr\\u003eLon: -0.965\",\"ID: 61e9f415b937134a3c4c0063\\u003cbr\\u003eTime: 2024-05-12 00:16:19\\u003cbr\\u003eLat: 50.078\\u003cbr\\u003eLon: -0.940\",\"ID: 61e9f415b937134a3c4c0063\\u003cbr\\u003eTime: 2024-05-12 00:37:19\\u003cbr\\u003eLat: 50.074\\u003cbr\\u003eLon: -0.908\",\"ID: 61e9f415b937134a3c4c0063\\u003cbr\\u003eTime: 2024-05-12 00:58:16\\u003cbr\\u003eLat: 50.071\\u003cbr\\u003eLon: -0.840\",\"ID: 61e9f415b937134a3c4c0063\\u003cbr\\u003eTime: 2024-05-12 01:18:39\\u003cbr\\u003eLat: 50.089\\u003cbr\\u003eLon: -0.790\",\"ID: 61e9f415b937134a3c4c0063\\u003cbr\\u003eTime: 2024-05-12 01:39:22\\u003cbr\\u003eLat: 50.127\\u003cbr\\u003eLon: -0.739\",\"ID: 61e9f415b937134a3c4c0063\\u003cbr\\u003eTime: 2024-05-12 01:59:47\\u003cbr\\u003eLat: 50.135\\u003cbr\\u003eLon: -0.675\",\"ID: 61e9f415b937134a3c4c0063\\u003cbr\\u003eTime: 2024-05-12 02:19:57\\u003cbr\\u003eLat: 50.125\\u003cbr\\u003eLon: -0.625\",\"ID: 61e9f415b937134a3c4c0063\\u003cbr\\u003eTime: 2024-05-12 02:34:57\\u003cbr\\u003eLat: 50.085\\u003cbr\\u003eLon: -0.596\",\"ID: 61e9f415b937134a3c4c0063\\u003cbr\\u003eTime: 2024-05-12 02:55:18\\u003cbr\\u003eLat: 50.078\\u003cbr\\u003eLon: -0.575\",\"ID: 61e9f415b937134a3c4c0063\\u003cbr\\u003eTime: 2024-05-12 03:15:27\\u003cbr\\u003eLat: 50.090\\u003cbr\\u003eLon: -0.527\",\"ID: 61e9f415b937134a3c4c0063\\u003cbr\\u003eTime: 2024-05-12 03:34:50\\u003cbr\\u003eLat: 50.126\\u003cbr\\u003eLon: -0.478\",\"ID: 61e9f415b937134a3c4c0063\\u003cbr\\u003eTime: 2024-05-12 03:55:47\\u003cbr\\u003eLat: 50.132\\u003cbr\\u003eLon: -0.471\",\"ID: 61e9f415b937134a3c4c0063\\u003cbr\\u003eTime: 2024-05-12 04:13:48\\u003cbr\\u003eLat: 50.123\\u003cbr\\u003eLon: -0.453\",\"ID: 61e9f415b937134a3c4c0063\\u003cbr\\u003eTime: 2024-05-12 04:34:50\\u003cbr\\u003eLat: 50.102\\u003cbr\\u003eLon: -0.431\",\"ID: 61e9f415b937134a3c4c0063\\u003cbr\\u003eTime: 2024-05-12 04:55:47\\u003cbr\\u003eLat: 50.099\\u003cbr\\u003eLon: -0.423\",\"ID: 61e9f415b937134a3c4c0063\\u003cbr\\u003eTime: 2024-05-12 05:16:46\\u003cbr\\u003eLat: 50.081\\u003cbr\\u003eLon: -0.425\",\"ID: 61e9f415b937134a3c4c0063\\u003cbr\\u003eTime: 2024-05-12 05:37:48\\u003cbr\\u003eLat: 50.069\\u003cbr\\u003eLon: -0.431\",\"ID: 61e9f415b937134a3c4c0063\\u003cbr\\u003eTime: 2024-05-12 05:58:49\\u003cbr\\u003eLat: 50.083\\u003cbr\\u003eLon: -0.463\",\"ID: 61e9f415b937134a3c4c0063\\u003cbr\\u003eTime: 2024-05-12 06:13:45\\u003cbr\\u003eLat: 50.125\\u003cbr\\u003eLon: -0.465\",\"ID: 61e9f415b937134a3c4c0063\\u003cbr\\u003eTime: 2024-05-12 06:34:50\\u003cbr\\u003eLat: 50.135\\u003cbr\\u003eLon: -0.401\",\"ID: 61e9f415b937134a3c4c0063\\u003cbr\\u003eTime: 2024-05-12 06:52:49\\u003cbr\\u003eLat: 50.126\\u003cbr\\u003eLon: -0.398\",\"ID: 61e9f415b937134a3c4c0063\\u003cbr\\u003eTime: 2024-05-12 07:13:51\\u003cbr\\u003eLat: 50.078\\u003cbr\\u003eLon: -0.339\",\"ID: 61e9f415b937134a3c4c0063\\u003cbr\\u003eTime: 2024-05-12 07:34:49\\u003cbr\\u003eLat: 50.071\\u003cbr\\u003eLon: -0.312\",\"ID: 61e9f415b937134a3c4c0063\\u003cbr\\u003eTime: 2024-05-12 07:52:46\\u003cbr\\u003eLat: 50.076\\u003cbr\\u003eLon: -0.272\",\"ID: 61e9f415b937134a3c4c0063\\u003cbr\\u003eTime: 2024-05-12 08:16:47\\u003cbr\\u003eLat: 50.120\\u003cbr\\u003eLon: -0.226\",\"ID: 61e9f415b937134a3c4c0063\\u003cbr\\u003eTime: 2024-05-12 08:37:46\\u003cbr\\u003eLat: 50.130\\u003cbr\\u003eLon: -0.185\",\"ID: 61e9f415b937134a3c4c0063\\u003cbr\\u003eTime: 2024-05-12 08:58:49\\u003cbr\\u003eLat: 50.121\\u003cbr\\u003eLon: -0.158\",\"ID: 61e9f415b937134a3c4c0063\\u003cbr\\u003eTime: 2024-05-12 09:13:44\\u003cbr\\u003eLat: 50.073\\u003cbr\\u003eLon: -0.078\",\"ID: 61e9f415b937134a3c4c0063\\u003cbr\\u003eTime: 2024-05-12 09:34:47\\u003cbr\\u003eLat: 50.041\\u003cbr\\u003eLon: -0.029\",\"ID: 61e9f415b937134a3c4c0063\\u003cbr\\u003eTime: 2024-05-12 09:52:47\\u003cbr\\u003eLat: 49.981\\u003cbr\\u003eLon: 0.042\",\"ID: 61e9f415b937134a3c4c0063\\u003cbr\\u003eTime: 2024-05-12 10:14:33\\u003cbr\\u003eLat: 49.973\\u003cbr\\u003eLon: 0.055\",\"ID: 61e9f415b937134a3c4c0063\\u003cbr\\u003eTime: 2024-05-12 10:34:50\\u003cbr\\u003eLat: 49.929\\u003cbr\\u003eLon: 0.133\",\"ID: 61e9f415b937134a3c4c0063\\u003cbr\\u003eTime: 2024-05-12 10:56:32\\u003cbr\\u003eLat: 49.926\\u003cbr\\u003eLon: 0.203\",\"ID: 61e9f415b937134a3c4c0063\\u003cbr\\u003eTime: 2024-05-12 11:17:42\\u003cbr\\u003eLat: 49.909\\u003cbr\\u003eLon: 0.283\",\"ID: 61e9f415b937134a3c4c0063\\u003cbr\\u003eTime: 2024-05-12 11:38:02\\u003cbr\\u003eLat: 49.868\\u003cbr\\u003eLon: 0.351\",\"ID: 61e9f415b937134a3c4c0063\\u003cbr\\u003eTime: 2024-05-12 11:58:12\\u003cbr\\u003eLat: 49.819\\u003cbr\\u003eLon: 0.452\",\"ID: 61e9f415b937134a3c4c0063\\u003cbr\\u003eTime: 2024-05-12 12:19:16\\u003cbr\\u003eLat: 49.760\\u003cbr\\u003eLon: 0.511\",\"ID: 61e9f415b937134a3c4c0063\\u003cbr\\u003eTime: 2024-05-12 12:39:32\\u003cbr\\u003eLat: 49.748\\u003cbr\\u003eLon: 0.587\",\"ID: 61e9f415b937134a3c4c0063\\u003cbr\\u003eTime: 2024-05-12 12:54:59\\u003cbr\\u003eLat: 49.718\\u003cbr\\u003eLon: 0.695\",\"ID: 61e9f415b937134a3c4c0063\\u003cbr\\u003eTime: 2024-05-12 13:14:57\\u003cbr\\u003eLat: 49.698\\u003cbr\\u003eLon: 0.816\",\"ID: 61e9f415b937134a3c4c0063\\u003cbr\\u003eTime: 2024-05-12 13:35:07\\u003cbr\\u003eLat: 49.721\\u003cbr\\u003eLon: 0.956\",\"ID: 61e9f415b937134a3c4c0063\\u003cbr\\u003eTime: 2024-05-12 13:55:25\\u003cbr\\u003eLat: 49.766\\u003cbr\\u003eLon: 1.115\",\"ID: 61e9f415b937134a3c4c0063\\u003cbr\\u003eTime: 2024-05-12 14:13:55\\u003cbr\\u003eLat: 49.832\\u003cbr\\u003eLon: 1.187\",\"ID: 61e9f415b937134a3c4c0063\\u003cbr\\u003eTime: 2024-05-12 14:22:12\\u003cbr\\u003eLat: 49.911\\u003cbr\\u003eLon: 1.222\",\"ID: 61e9f415b937134a3c4c0063\\u003cbr\\u003eTime: 2024-05-12 18:12:54\\u003cbr\\u003eLat: 50.815\\u003cbr\\u003eLon: 1.538\",\"ID: 61e9f415b937134a3c4c0063\\u003cbr\\u003eTime: 2024-05-12 18:37:55\\u003cbr\\u003eLat: 50.905\\u003cbr\\u003eLon: 1.574\",\"ID: 61e9f415b937134a3c4c0063\\u003cbr\\u003eTime: 2024-05-12 18:53:25\\u003cbr\\u003eLat: 50.979\\u003cbr\\u003eLon: 1.636\",\"ID: 61e9f415b937134a3c4c0063\\u003cbr\\u003eTime: 2024-05-12 19:19:01\\u003cbr\\u003eLat: 51.087\\u003cbr\\u003eLon: 1.726\",\"ID: 61e9f415b937134a3c4c0063\\u003cbr\\u003eTime: 2024-05-12 19:37:24\\u003cbr\\u003eLat: 51.171\\u003cbr\\u003eLon: 1.801\",\"ID: 61e9f415b937134a3c4c0063\\u003cbr\\u003eTime: 2024-05-12 20:14:58\\u003cbr\\u003eLat: 51.337\\u003cbr\\u003eLon: 1.976\",\"ID: 61e9f415b937134a3c4c0063\\u003cbr\\u003eTime: 2024-05-12 20:15:18\\u003cbr\\u003eLat: 51.358\\u003cbr\\u003eLon: 2.014\",\"ID: 61e9f415b937134a3c4c0063\\u003cbr\\u003eTime: 2024-05-12 21:36:39\\u003cbr\\u003eLat: 51.408\\u003cbr\\u003eLon: 2.643\",\"ID: 61e9f415b937134a3c4c0063\\u003cbr\\u003eTime: 2024-05-12 21:56:59\\u003cbr\\u003eLat: 51.424\\u003cbr\\u003eLon: 2.721\",\"ID: 61e9f415b937134a3c4c0063\\u003cbr\\u003eTime: 2024-05-12 22:17:19\\u003cbr\\u003eLat: 51.417\\u003cbr\\u003eLon: 2.811\",\"ID: 61e9f415b937134a3c4c0063\\u003cbr\\u003eTime: 2024-05-12 22:37:29\\u003cbr\\u003eLat: 51.403\\u003cbr\\u003eLon: 2.918\",\"ID: 61e9f415b937134a3c4c0063\\u003cbr\\u003eTime: 2024-05-12 22:57:59\\u003cbr\\u003eLat: 51.387\\u003cbr\\u003eLon: 3.006\",\"ID: 61e9f415b937134a3c4c0063\\u003cbr\\u003eTime: 2024-05-12 23:17:59\\u003cbr\\u003eLat: 51.378\\u003cbr\\u003eLon: 3.137\",\"ID: 61e9f415b937134a3c4c0063\\u003cbr\\u003eTime: 2024-05-12 23:39:10\\u003cbr\\u003eLat: 51.380\\u003cbr\\u003eLon: 3.227\",\"ID: 61e9f415b937134a3c4c0063\\u003cbr\\u003eTime: 2024-05-12 23:59:52\\u003cbr\\u003eLat: 51.365\\u003cbr\\u003eLon: 3.343\"],\"type\":\"scattergeo\"}],                        {\"template\":{\"data\":{\"histogram2dcontour\":[{\"type\":\"histogram2dcontour\",\"colorbar\":{\"outlinewidth\":0,\"ticks\":\"\"},\"colorscale\":[[0.0,\"#0d0887\"],[0.1111111111111111,\"#46039f\"],[0.2222222222222222,\"#7201a8\"],[0.3333333333333333,\"#9c179e\"],[0.4444444444444444,\"#bd3786\"],[0.5555555555555556,\"#d8576b\"],[0.6666666666666666,\"#ed7953\"],[0.7777777777777778,\"#fb9f3a\"],[0.8888888888888888,\"#fdca26\"],[1.0,\"#f0f921\"]]}],\"choropleth\":[{\"type\":\"choropleth\",\"colorbar\":{\"outlinewidth\":0,\"ticks\":\"\"}}],\"histogram2d\":[{\"type\":\"histogram2d\",\"colorbar\":{\"outlinewidth\":0,\"ticks\":\"\"},\"colorscale\":[[0.0,\"#0d0887\"],[0.1111111111111111,\"#46039f\"],[0.2222222222222222,\"#7201a8\"],[0.3333333333333333,\"#9c179e\"],[0.4444444444444444,\"#bd3786\"],[0.5555555555555556,\"#d8576b\"],[0.6666666666666666,\"#ed7953\"],[0.7777777777777778,\"#fb9f3a\"],[0.8888888888888888,\"#fdca26\"],[1.0,\"#f0f921\"]]}],\"heatmap\":[{\"type\":\"heatmap\",\"colorbar\":{\"outlinewidth\":0,\"ticks\":\"\"},\"colorscale\":[[0.0,\"#0d0887\"],[0.1111111111111111,\"#46039f\"],[0.2222222222222222,\"#7201a8\"],[0.3333333333333333,\"#9c179e\"],[0.4444444444444444,\"#bd3786\"],[0.5555555555555556,\"#d8576b\"],[0.6666666666666666,\"#ed7953\"],[0.7777777777777778,\"#fb9f3a\"],[0.8888888888888888,\"#fdca26\"],[1.0,\"#f0f921\"]]}],\"heatmapgl\":[{\"type\":\"heatmapgl\",\"colorbar\":{\"outlinewidth\":0,\"ticks\":\"\"},\"colorscale\":[[0.0,\"#0d0887\"],[0.1111111111111111,\"#46039f\"],[0.2222222222222222,\"#7201a8\"],[0.3333333333333333,\"#9c179e\"],[0.4444444444444444,\"#bd3786\"],[0.5555555555555556,\"#d8576b\"],[0.6666666666666666,\"#ed7953\"],[0.7777777777777778,\"#fb9f3a\"],[0.8888888888888888,\"#fdca26\"],[1.0,\"#f0f921\"]]}],\"contourcarpet\":[{\"type\":\"contourcarpet\",\"colorbar\":{\"outlinewidth\":0,\"ticks\":\"\"}}],\"contour\":[{\"type\":\"contour\",\"colorbar\":{\"outlinewidth\":0,\"ticks\":\"\"},\"colorscale\":[[0.0,\"#0d0887\"],[0.1111111111111111,\"#46039f\"],[0.2222222222222222,\"#7201a8\"],[0.3333333333333333,\"#9c179e\"],[0.4444444444444444,\"#bd3786\"],[0.5555555555555556,\"#d8576b\"],[0.6666666666666666,\"#ed7953\"],[0.7777777777777778,\"#fb9f3a\"],[0.8888888888888888,\"#fdca26\"],[1.0,\"#f0f921\"]]}],\"surface\":[{\"type\":\"surface\",\"colorbar\":{\"outlinewidth\":0,\"ticks\":\"\"},\"colorscale\":[[0.0,\"#0d0887\"],[0.1111111111111111,\"#46039f\"],[0.2222222222222222,\"#7201a8\"],[0.3333333333333333,\"#9c179e\"],[0.4444444444444444,\"#bd3786\"],[0.5555555555555556,\"#d8576b\"],[0.6666666666666666,\"#ed7953\"],[0.7777777777777778,\"#fb9f3a\"],[0.8888888888888888,\"#fdca26\"],[1.0,\"#f0f921\"]]}],\"mesh3d\":[{\"type\":\"mesh3d\",\"colorbar\":{\"outlinewidth\":0,\"ticks\":\"\"}}],\"scatter\":[{\"fillpattern\":{\"fillmode\":\"overlay\",\"size\":10,\"solidity\":0.2},\"type\":\"scatter\"}],\"parcoords\":[{\"type\":\"parcoords\",\"line\":{\"colorbar\":{\"outlinewidth\":0,\"ticks\":\"\"}}}],\"scatterpolargl\":[{\"type\":\"scatterpolargl\",\"marker\":{\"colorbar\":{\"outlinewidth\":0,\"ticks\":\"\"}}}],\"bar\":[{\"error_x\":{\"color\":\"#2a3f5f\"},\"error_y\":{\"color\":\"#2a3f5f\"},\"marker\":{\"line\":{\"color\":\"#E5ECF6\",\"width\":0.5},\"pattern\":{\"fillmode\":\"overlay\",\"size\":10,\"solidity\":0.2}},\"type\":\"bar\"}],\"scattergeo\":[{\"type\":\"scattergeo\",\"marker\":{\"colorbar\":{\"outlinewidth\":0,\"ticks\":\"\"}}}],\"scatterpolar\":[{\"type\":\"scatterpolar\",\"marker\":{\"colorbar\":{\"outlinewidth\":0,\"ticks\":\"\"}}}],\"histogram\":[{\"marker\":{\"pattern\":{\"fillmode\":\"overlay\",\"size\":10,\"solidity\":0.2}},\"type\":\"histogram\"}],\"scattergl\":[{\"type\":\"scattergl\",\"marker\":{\"colorbar\":{\"outlinewidth\":0,\"ticks\":\"\"}}}],\"scatter3d\":[{\"type\":\"scatter3d\",\"line\":{\"colorbar\":{\"outlinewidth\":0,\"ticks\":\"\"}},\"marker\":{\"colorbar\":{\"outlinewidth\":0,\"ticks\":\"\"}}}],\"scattermapbox\":[{\"type\":\"scattermapbox\",\"marker\":{\"colorbar\":{\"outlinewidth\":0,\"ticks\":\"\"}}}],\"scatterternary\":[{\"type\":\"scatterternary\",\"marker\":{\"colorbar\":{\"outlinewidth\":0,\"ticks\":\"\"}}}],\"scattercarpet\":[{\"type\":\"scattercarpet\",\"marker\":{\"colorbar\":{\"outlinewidth\":0,\"ticks\":\"\"}}}],\"carpet\":[{\"aaxis\":{\"endlinecolor\":\"#2a3f5f\",\"gridcolor\":\"white\",\"linecolor\":\"white\",\"minorgridcolor\":\"white\",\"startlinecolor\":\"#2a3f5f\"},\"baxis\":{\"endlinecolor\":\"#2a3f5f\",\"gridcolor\":\"white\",\"linecolor\":\"white\",\"minorgridcolor\":\"white\",\"startlinecolor\":\"#2a3f5f\"},\"type\":\"carpet\"}],\"table\":[{\"cells\":{\"fill\":{\"color\":\"#EBF0F8\"},\"line\":{\"color\":\"white\"}},\"header\":{\"fill\":{\"color\":\"#C8D4E3\"},\"line\":{\"color\":\"white\"}},\"type\":\"table\"}],\"barpolar\":[{\"marker\":{\"line\":{\"color\":\"#E5ECF6\",\"width\":0.5},\"pattern\":{\"fillmode\":\"overlay\",\"size\":10,\"solidity\":0.2}},\"type\":\"barpolar\"}],\"pie\":[{\"automargin\":true,\"type\":\"pie\"}]},\"layout\":{\"autotypenumbers\":\"strict\",\"colorway\":[\"#636efa\",\"#EF553B\",\"#00cc96\",\"#ab63fa\",\"#FFA15A\",\"#19d3f3\",\"#FF6692\",\"#B6E880\",\"#FF97FF\",\"#FECB52\"],\"font\":{\"color\":\"#2a3f5f\"},\"hovermode\":\"closest\",\"hoverlabel\":{\"align\":\"left\"},\"paper_bgcolor\":\"white\",\"plot_bgcolor\":\"#E5ECF6\",\"polar\":{\"bgcolor\":\"#E5ECF6\",\"angularaxis\":{\"gridcolor\":\"white\",\"linecolor\":\"white\",\"ticks\":\"\"},\"radialaxis\":{\"gridcolor\":\"white\",\"linecolor\":\"white\",\"ticks\":\"\"}},\"ternary\":{\"bgcolor\":\"#E5ECF6\",\"aaxis\":{\"gridcolor\":\"white\",\"linecolor\":\"white\",\"ticks\":\"\"},\"baxis\":{\"gridcolor\":\"white\",\"linecolor\":\"white\",\"ticks\":\"\"},\"caxis\":{\"gridcolor\":\"white\",\"linecolor\":\"white\",\"ticks\":\"\"}},\"coloraxis\":{\"colorbar\":{\"outlinewidth\":0,\"ticks\":\"\"}},\"colorscale\":{\"sequential\":[[0.0,\"#0d0887\"],[0.1111111111111111,\"#46039f\"],[0.2222222222222222,\"#7201a8\"],[0.3333333333333333,\"#9c179e\"],[0.4444444444444444,\"#bd3786\"],[0.5555555555555556,\"#d8576b\"],[0.6666666666666666,\"#ed7953\"],[0.7777777777777778,\"#fb9f3a\"],[0.8888888888888888,\"#fdca26\"],[1.0,\"#f0f921\"]],\"sequentialminus\":[[0.0,\"#0d0887\"],[0.1111111111111111,\"#46039f\"],[0.2222222222222222,\"#7201a8\"],[0.3333333333333333,\"#9c179e\"],[0.4444444444444444,\"#bd3786\"],[0.5555555555555556,\"#d8576b\"],[0.6666666666666666,\"#ed7953\"],[0.7777777777777778,\"#fb9f3a\"],[0.8888888888888888,\"#fdca26\"],[1.0,\"#f0f921\"]],\"diverging\":[[0,\"#8e0152\"],[0.1,\"#c51b7d\"],[0.2,\"#de77ae\"],[0.3,\"#f1b6da\"],[0.4,\"#fde0ef\"],[0.5,\"#f7f7f7\"],[0.6,\"#e6f5d0\"],[0.7,\"#b8e186\"],[0.8,\"#7fbc41\"],[0.9,\"#4d9221\"],[1,\"#276419\"]]},\"xaxis\":{\"gridcolor\":\"white\",\"linecolor\":\"white\",\"ticks\":\"\",\"title\":{\"standoff\":15},\"zerolinecolor\":\"white\",\"automargin\":true,\"zerolinewidth\":2},\"yaxis\":{\"gridcolor\":\"white\",\"linecolor\":\"white\",\"ticks\":\"\",\"title\":{\"standoff\":15},\"zerolinecolor\":\"white\",\"automargin\":true,\"zerolinewidth\":2},\"scene\":{\"xaxis\":{\"backgroundcolor\":\"#E5ECF6\",\"gridcolor\":\"white\",\"linecolor\":\"white\",\"showbackground\":true,\"ticks\":\"\",\"zerolinecolor\":\"white\",\"gridwidth\":2},\"yaxis\":{\"backgroundcolor\":\"#E5ECF6\",\"gridcolor\":\"white\",\"linecolor\":\"white\",\"showbackground\":true,\"ticks\":\"\",\"zerolinecolor\":\"white\",\"gridwidth\":2},\"zaxis\":{\"backgroundcolor\":\"#E5ECF6\",\"gridcolor\":\"white\",\"linecolor\":\"white\",\"showbackground\":true,\"ticks\":\"\",\"zerolinecolor\":\"white\",\"gridwidth\":2}},\"shapedefaults\":{\"line\":{\"color\":\"#2a3f5f\"}},\"annotationdefaults\":{\"arrowcolor\":\"#2a3f5f\",\"arrowhead\":0,\"arrowwidth\":1},\"geo\":{\"bgcolor\":\"white\",\"landcolor\":\"#E5ECF6\",\"subunitcolor\":\"white\",\"showland\":true,\"showlakes\":true,\"lakecolor\":\"white\"},\"title\":{\"x\":0.05},\"mapbox\":{\"style\":\"light\"}}},\"geo\":{\"domain\":{\"x\":[0.0,1.0],\"y\":[0.0,1.0]},\"projection\":{\"type\":\"natural earth\"},\"center\":{},\"fitbounds\":\"locations\",\"showcountries\":true,\"countrycolor\":\"RebeccaPurple\"},\"legend\":{\"title\":{\"text\":\"vesselId\"},\"tracegroupgap\":0},\"title\":{\"text\":\"Vessel Movements Over Time\",\"font\":{\"size\":20}},\"margin\":{\"r\":0,\"t\":30,\"l\":0,\"b\":0},\"coloraxis\":{\"colorbar\":{\"title\":{\"text\":\"Vessel ID\"}}}},                        {\"responsive\": true}                    ).then(function(){\n",
       "                            \n",
       "var gd = document.getElementById('c5875e06-f4f5-459e-b8a4-69264769e66e');\n",
       "var x = new MutationObserver(function (mutations, observer) {{\n",
       "        var display = window.getComputedStyle(gd).display;\n",
       "        if (!display || display === 'none') {{\n",
       "            console.log([gd, 'removed!']);\n",
       "            Plotly.purge(gd);\n",
       "            observer.disconnect();\n",
       "        }}\n",
       "}});\n",
       "\n",
       "// Listen for the removal of the full notebook cells\n",
       "var notebookContainer = gd.closest('#notebook-container');\n",
       "if (notebookContainer) {{\n",
       "    x.observe(notebookContainer, {childList: true});\n",
       "}}\n",
       "\n",
       "// Listen for the clearing of the current output cell\n",
       "var outputEl = gd.closest('.output');\n",
       "if (outputEl) {{\n",
       "    x.observe(outputEl, {childList: true});\n",
       "}}\n",
       "\n",
       "                        })                };                });            </script>        </div>"
      ]
     },
     "metadata": {},
     "output_type": "display_data"
    }
   ],
   "source": [
    "fig = visualize_vessel_movements(test_df[test_df[\"vesselId\"] == vessel])\n",
    "fig.show()"
   ]
  },
  {
   "cell_type": "code",
   "execution_count": null,
   "metadata": {},
   "outputs": [],
   "source": []
  }
 ],
 "metadata": {
  "environment": {
   "kernel": "conda-base-py",
   "name": "workbench-notebooks.m125",
   "type": "gcloud",
   "uri": "us-docker.pkg.dev/deeplearning-platform-release/gcr.io/workbench-notebooks:m125"
  },
  "kernelspec": {
   "display_name": "base",
   "language": "python",
   "name": "python3"
  },
  "language_info": {
   "codemirror_mode": {
    "name": "ipython",
    "version": 3
   },
   "file_extension": ".py",
   "mimetype": "text/x-python",
   "name": "python",
   "nbconvert_exporter": "python",
   "pygments_lexer": "ipython3",
   "version": "3.11.2"
  }
 },
 "nbformat": 4,
 "nbformat_minor": 4
}
